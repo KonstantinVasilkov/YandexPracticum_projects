{
 "cells": [
  {
   "cell_type": "code",
   "execution_count": 1,
   "metadata": {},
   "outputs": [],
   "source": [
    "%matplotlib inline\n",
    "\n",
    "import pandas as pd\n",
    "\n",
    "import os\n",
    "\n",
    "import numpy as np\n",
    "\n",
    "import seaborn as sns\n",
    "\n",
    "import matplotlib.pyplot as plt\n",
    "\n",
    "import math\n",
    "\n",
    "from sklearn.linear_model import LinearRegression\n",
    "\n",
    "from sklearn.preprocessing import StandardScaler\n",
    "\n",
    "from sklearn.utils import shuffle\n",
    "\n",
    "from sklearn.metrics import mean_absolute_error\n",
    "\n",
    "import xgboost\n",
    "\n",
    "from catboost import CatBoostRegressor\n",
    "\n",
    "from sklearn.model_selection import GridSearchCV\n",
    "\n",
    "from sklearn.linear_model import LinearRegression\n",
    "\n",
    "from sklearn.ensemble import RandomForestRegressor\n",
    "\n",
    "PATH = os.path.abspath(os.getcwd())\n",
    "\n",
    "SEED = 42\n",
    "\n",
    "sns.set(rc={'figure.figsize':(16,6)})\n",
    "\n",
    "import warnings\n",
    "\n",
    "warnings.filterwarnings('ignore')"
   ]
  },
  {
   "cell_type": "markdown",
   "metadata": {},
   "source": [
    "# Финальный проект"
   ]
  },
  {
   "cell_type": "markdown",
   "metadata": {
    "toc": true
   },
   "source": [
    "<h1>Содержание<span class=\"tocSkip\"></span></h1>\n",
    "<div class=\"toc\"><ul class=\"toc-item\"><li><span><a href=\"#Описание-проекта\" data-toc-modified-id=\"Описание-проекта-1\"><span class=\"toc-item-num\">1&nbsp;&nbsp;</span>Описание проекта</a></span><ul class=\"toc-item\"><li><span><a href=\"#Задача\" data-toc-modified-id=\"Задача-1.1\"><span class=\"toc-item-num\">1.1&nbsp;&nbsp;</span>Задача</a></span></li><li><span><a href=\"#Описание-этапа-обработки\" data-toc-modified-id=\"Описание-этапа-обработки-1.2\"><span class=\"toc-item-num\">1.2&nbsp;&nbsp;</span>Описание этапа обработки</a></span></li><li><span><a href=\"#Описание-данных\" data-toc-modified-id=\"Описание-данных-1.3\"><span class=\"toc-item-num\">1.3&nbsp;&nbsp;</span>Описание данных</a></span></li></ul></li><li><span><a href=\"#Загрузка-и-осмотр-данных\" data-toc-modified-id=\"Загрузка-и-осмотр-данных-2\"><span class=\"toc-item-num\">2&nbsp;&nbsp;</span>Загрузка и осмотр данных</a></span><ul class=\"toc-item\"><li><span><a href=\"#Загрузка-данных\" data-toc-modified-id=\"Загрузка-данных-2.1\"><span class=\"toc-item-num\">2.1&nbsp;&nbsp;</span>Загрузка данных</a></span></li><li><span><a href=\"#Осмотр-данных\" data-toc-modified-id=\"Осмотр-данных-2.2\"><span class=\"toc-item-num\">2.2&nbsp;&nbsp;</span>Осмотр данных</a></span><ul class=\"toc-item\"><li><span><a href=\"#data_arc---данные-об-электродах\" data-toc-modified-id=\"data_arc---данные-об-электродах-2.2.1\"><span class=\"toc-item-num\">2.2.1&nbsp;&nbsp;</span>data_arc - данные об электродах</a></span></li><li><span><a href=\"#data_bulk-—-данные-о-подаче-сыпучих-материалов-(объём)\" data-toc-modified-id=\"data_bulk-—-данные-о-подаче-сыпучих-материалов-(объём)-2.2.2\"><span class=\"toc-item-num\">2.2.2&nbsp;&nbsp;</span>data_bulk — данные о подаче сыпучих материалов (объём)</a></span></li><li><span><a href=\"#data_bulk_time-—-данные-о-подаче-сыпучих-материалов-(время)\" data-toc-modified-id=\"data_bulk_time-—-данные-о-подаче-сыпучих-материалов-(время)-2.2.3\"><span class=\"toc-item-num\">2.2.3&nbsp;&nbsp;</span>data_bulk_time — данные о подаче сыпучих материалов (время)</a></span></li><li><span><a href=\"#data_gas-—-данные-о-продувке-сплава-газом\" data-toc-modified-id=\"data_gas-—-данные-о-продувке-сплава-газом-2.2.4\"><span class=\"toc-item-num\">2.2.4&nbsp;&nbsp;</span>data_gas — данные о продувке сплава газом</a></span></li><li><span><a href=\"#data_temp-—-результаты-измерения-температуры\" data-toc-modified-id=\"data_temp-—-результаты-измерения-температуры-2.2.5\"><span class=\"toc-item-num\">2.2.5&nbsp;&nbsp;</span>data_temp — результаты измерения температуры</a></span></li><li><span><a href=\"#data_wire-—-данные-о-проволочных-материалах-(объём)\" data-toc-modified-id=\"data_wire-—-данные-о-проволочных-материалах-(объём)-2.2.6\"><span class=\"toc-item-num\">2.2.6&nbsp;&nbsp;</span>data_wire — данные о проволочных материалах (объём)</a></span></li><li><span><a href=\"#data_wire_time-—-данные-о-проволочных-материалах-(время)\" data-toc-modified-id=\"data_wire_time-—-данные-о-проволочных-материалах-(время)-2.2.7\"><span class=\"toc-item-num\">2.2.7&nbsp;&nbsp;</span>data_wire_time — данные о проволочных материалах (время)</a></span></li></ul></li><li><span><a href=\"#Вывод-после-осмотра-данных\" data-toc-modified-id=\"Вывод-после-осмотра-данных-2.3\"><span class=\"toc-item-num\">2.3&nbsp;&nbsp;</span>Вывод после осмотра данных</a></span></li><li><span><a href=\"#План-дальнейшей-работы\" data-toc-modified-id=\"План-дальнейшей-работы-2.4\"><span class=\"toc-item-num\">2.4&nbsp;&nbsp;</span>План дальнейшей работы</a></span></li></ul></li><li><span><a href=\"#Построение-общей-таблицы-признаков-для-обучения-модели\" data-toc-modified-id=\"Построение-общей-таблицы-признаков-для-обучения-модели-3\"><span class=\"toc-item-num\">3&nbsp;&nbsp;</span>Построение общей таблицы признаков для обучения модели</a></span></li><li><span><a href=\"#Проверка-корреляции-признаков\" data-toc-modified-id=\"Проверка-корреляции-признаков-4\"><span class=\"toc-item-num\">4&nbsp;&nbsp;</span>Проверка корреляции признаков</a></span></li><li><span><a href=\"#Разбиение-данных-и-масштабирование-признаков\" data-toc-modified-id=\"Разбиение-данных-и-масштабирование-признаков-5\"><span class=\"toc-item-num\">5&nbsp;&nbsp;</span>Разбиение данных и масштабирование признаков</a></span></li><li><span><a href=\"#Обучение-моделей\" data-toc-modified-id=\"Обучение-моделей-6\"><span class=\"toc-item-num\">6&nbsp;&nbsp;</span>Обучение моделей</a></span></li><li><span><a href=\"#Вывод\" data-toc-modified-id=\"Вывод-7\"><span class=\"toc-item-num\">7&nbsp;&nbsp;</span>Вывод</a></span></li><li><span><a href=\"#Отчет\" data-toc-modified-id=\"Отчет-8\"><span class=\"toc-item-num\">8&nbsp;&nbsp;</span>Отчет</a></span></li></ul></div>"
   ]
  },
  {
   "cell_type": "markdown",
   "metadata": {},
   "source": [
    "## Описание проекта"
   ]
  },
  {
   "cell_type": "markdown",
   "metadata": {},
   "source": [
    "### Задача\n",
    "\n",
    "Чтобы оптимизировать производственные расходы, металлургический комбинат ООО «Так закаляем сталь» решил уменьшить потребление электроэнергии на этапе обработки стали. Нам предстоит построить модель, которая предскажет температуру стали."
   ]
  },
  {
   "cell_type": "markdown",
   "metadata": {},
   "source": [
    "### Описание этапа обработки"
   ]
  },
  {
   "cell_type": "markdown",
   "metadata": {},
   "source": [
    "Сталь обрабатывают в металлическом ковше вместимостью около 100 тонн. Чтобы ковш выдерживал высокие температуры, изнутри его облицовывают огнеупорным кирпичом. Расплавленную сталь заливают в ковш и подогревают до нужной температуры графитовыми электродами. Они установлены в крышке ковша. \n",
    "\n",
    "Из сплава выводится сера (десульфурация), добавлением примесей корректируется химический состав и отбираются пробы. Сталь легируют — изменяют её состав — подавая куски сплава из бункера для сыпучих материалов или проволоку через специальный трайб-аппарат (англ. tribe, «масса»).\n",
    "\n",
    "Перед тем как первый раз ввести легирующие добавки, измеряют температуру стали и производят её химический анализ. Потом температуру на несколько минут повышают, добавляют легирующие материалы и продувают сплав инертным газом. Затем его перемешивают и снова проводят измерения. Такой цикл повторяется до достижения целевого химического состава и оптимальной температуры плавки.\n",
    "\n",
    "Тогда расплавленная сталь отправляется на доводку металла или поступает в машину непрерывной разливки. Оттуда готовый продукт выходит в виде заготовок-слябов (англ. *slab*, «плита»)."
   ]
  },
  {
   "cell_type": "markdown",
   "metadata": {},
   "source": [
    "### Описание данных"
   ]
  },
  {
   "cell_type": "markdown",
   "metadata": {},
   "source": [
    "Данные состоят из файлов, полученных из разных источников:\n",
    "\n",
    "- `data_arc.csv` — данные об электродах;\n",
    "- `data_bulk.csv` — данные о подаче сыпучих материалов (объём);\n",
    "- `data_bulk_time.csv` *—* данные о подаче сыпучих материалов (время);\n",
    "- `data_gas.csv` — данные о продувке сплава газом;\n",
    "- `data_temp.csv` — результаты измерения температуры;\n",
    "- `data_wire.csv` — данные о проволочных материалах (объём);\n",
    "- `data_wire_time.csv` — данные о проволочных материалах (время).\n",
    "\n",
    "Во всех файлах столбец `key` содержит номер партии. В файлах может быть несколько строк с одинаковым значением `key`: они соответствуют разным итерациям обработки."
   ]
  },
  {
   "cell_type": "markdown",
   "metadata": {},
   "source": [
    "## Загрузка и осмотр данных"
   ]
  },
  {
   "cell_type": "markdown",
   "metadata": {},
   "source": [
    "### Загрузка данных\n",
    "\n",
    "Загрузим наши данные и взглянем на пару строк из каждого датасета."
   ]
  },
  {
   "cell_type": "code",
   "execution_count": 2,
   "metadata": {},
   "outputs": [],
   "source": [
    "data_arc = pd.read_csv(PATH + '\\\\final_steel\\\\data_arc.csv')\n",
    "data_bulk = pd.read_csv(PATH + '\\\\final_steel\\\\data_bulk.csv')\n",
    "data_bulk_time = pd.read_csv(PATH + '\\\\final_steel\\\\data_bulk_time.csv')\n",
    "data_gas = pd.read_csv(PATH + '\\\\final_steel\\\\data_gas.csv')\n",
    "data_temp = pd.read_csv(PATH + '\\\\final_steel\\\\data_temp.csv')\n",
    "data_wire = pd.read_csv(PATH + '\\\\final_steel\\\\data_wire.csv')\n",
    "data_wire_time = pd.read_csv(PATH + '\\\\final_steel\\\\data_wire_time.csv')"
   ]
  },
  {
   "cell_type": "raw",
   "metadata": {},
   "source": [
    "data_arc = pd.read_csv('/datasets/final_steel/data_arc.csv')\n",
    "data_bulk = pd.read_csv('/datasets/final_steel/data_bulk.csv')\n",
    "data_bulk_time = pd.read_csv('/datasets/final_steel/data_bulk_time.csv')\n",
    "data_gas = pd.read_csv('/datasets/final_steel/data_gas.csv')\n",
    "data_temp = pd.read_csv('/datasets/final_steel/data_temp.csv')\n",
    "data_wire = pd.read_csv('/datasets/final_steel/data_wire.csv')\n",
    "data_wire_time = pd.read_csv('/datasets/final_steel/data_wire_time.csv')"
   ]
  },
  {
   "cell_type": "code",
   "execution_count": 3,
   "metadata": {},
   "outputs": [],
   "source": [
    "dfs = [data_arc, data_bulk, data_bulk_time, data_gas, data_temp, data_wire, data_wire_time]"
   ]
  },
  {
   "cell_type": "code",
   "execution_count": 4,
   "metadata": {},
   "outputs": [
    {
     "data": {
      "text/html": [
       "<div>\n",
       "<style scoped>\n",
       "    .dataframe tbody tr th:only-of-type {\n",
       "        vertical-align: middle;\n",
       "    }\n",
       "\n",
       "    .dataframe tbody tr th {\n",
       "        vertical-align: top;\n",
       "    }\n",
       "\n",
       "    .dataframe thead th {\n",
       "        text-align: right;\n",
       "    }\n",
       "</style>\n",
       "<table border=\"1\" class=\"dataframe\">\n",
       "  <thead>\n",
       "    <tr style=\"text-align: right;\">\n",
       "      <th></th>\n",
       "      <th>key</th>\n",
       "      <th>Начало нагрева дугой</th>\n",
       "      <th>Конец нагрева дугой</th>\n",
       "      <th>Активная мощность</th>\n",
       "      <th>Реактивная мощность</th>\n",
       "    </tr>\n",
       "  </thead>\n",
       "  <tbody>\n",
       "    <tr>\n",
       "      <th>0</th>\n",
       "      <td>1</td>\n",
       "      <td>2019-05-03 11:02:14</td>\n",
       "      <td>2019-05-03 11:06:02</td>\n",
       "      <td>0.976059</td>\n",
       "      <td>0.687084</td>\n",
       "    </tr>\n",
       "    <tr>\n",
       "      <th>1</th>\n",
       "      <td>1</td>\n",
       "      <td>2019-05-03 11:07:28</td>\n",
       "      <td>2019-05-03 11:10:33</td>\n",
       "      <td>0.805607</td>\n",
       "      <td>0.520285</td>\n",
       "    </tr>\n",
       "  </tbody>\n",
       "</table>\n",
       "</div>"
      ],
      "text/plain": [
       "   key Начало нагрева дугой  Конец нагрева дугой  Активная мощность  \\\n",
       "0    1  2019-05-03 11:02:14  2019-05-03 11:06:02           0.976059   \n",
       "1    1  2019-05-03 11:07:28  2019-05-03 11:10:33           0.805607   \n",
       "\n",
       "   Реактивная мощность  \n",
       "0             0.687084  \n",
       "1             0.520285  "
      ]
     },
     "metadata": {},
     "output_type": "display_data"
    },
    {
     "data": {
      "text/html": [
       "<div>\n",
       "<style scoped>\n",
       "    .dataframe tbody tr th:only-of-type {\n",
       "        vertical-align: middle;\n",
       "    }\n",
       "\n",
       "    .dataframe tbody tr th {\n",
       "        vertical-align: top;\n",
       "    }\n",
       "\n",
       "    .dataframe thead th {\n",
       "        text-align: right;\n",
       "    }\n",
       "</style>\n",
       "<table border=\"1\" class=\"dataframe\">\n",
       "  <thead>\n",
       "    <tr style=\"text-align: right;\">\n",
       "      <th></th>\n",
       "      <th>key</th>\n",
       "      <th>Bulk 1</th>\n",
       "      <th>Bulk 2</th>\n",
       "      <th>Bulk 3</th>\n",
       "      <th>Bulk 4</th>\n",
       "      <th>Bulk 5</th>\n",
       "      <th>Bulk 6</th>\n",
       "      <th>Bulk 7</th>\n",
       "      <th>Bulk 8</th>\n",
       "      <th>Bulk 9</th>\n",
       "      <th>Bulk 10</th>\n",
       "      <th>Bulk 11</th>\n",
       "      <th>Bulk 12</th>\n",
       "      <th>Bulk 13</th>\n",
       "      <th>Bulk 14</th>\n",
       "      <th>Bulk 15</th>\n",
       "    </tr>\n",
       "  </thead>\n",
       "  <tbody>\n",
       "    <tr>\n",
       "      <th>0</th>\n",
       "      <td>1</td>\n",
       "      <td>NaN</td>\n",
       "      <td>NaN</td>\n",
       "      <td>NaN</td>\n",
       "      <td>43.0</td>\n",
       "      <td>NaN</td>\n",
       "      <td>NaN</td>\n",
       "      <td>NaN</td>\n",
       "      <td>NaN</td>\n",
       "      <td>NaN</td>\n",
       "      <td>NaN</td>\n",
       "      <td>NaN</td>\n",
       "      <td>206.0</td>\n",
       "      <td>NaN</td>\n",
       "      <td>150.0</td>\n",
       "      <td>154.0</td>\n",
       "    </tr>\n",
       "    <tr>\n",
       "      <th>1</th>\n",
       "      <td>2</td>\n",
       "      <td>NaN</td>\n",
       "      <td>NaN</td>\n",
       "      <td>NaN</td>\n",
       "      <td>73.0</td>\n",
       "      <td>NaN</td>\n",
       "      <td>NaN</td>\n",
       "      <td>NaN</td>\n",
       "      <td>NaN</td>\n",
       "      <td>NaN</td>\n",
       "      <td>NaN</td>\n",
       "      <td>NaN</td>\n",
       "      <td>206.0</td>\n",
       "      <td>NaN</td>\n",
       "      <td>149.0</td>\n",
       "      <td>154.0</td>\n",
       "    </tr>\n",
       "  </tbody>\n",
       "</table>\n",
       "</div>"
      ],
      "text/plain": [
       "   key  Bulk 1  Bulk 2  Bulk 3  Bulk 4  Bulk 5  Bulk 6  Bulk 7  Bulk 8  \\\n",
       "0    1     NaN     NaN     NaN    43.0     NaN     NaN     NaN     NaN   \n",
       "1    2     NaN     NaN     NaN    73.0     NaN     NaN     NaN     NaN   \n",
       "\n",
       "   Bulk 9  Bulk 10  Bulk 11  Bulk 12  Bulk 13  Bulk 14  Bulk 15  \n",
       "0     NaN      NaN      NaN    206.0      NaN    150.0    154.0  \n",
       "1     NaN      NaN      NaN    206.0      NaN    149.0    154.0  "
      ]
     },
     "metadata": {},
     "output_type": "display_data"
    },
    {
     "data": {
      "text/html": [
       "<div>\n",
       "<style scoped>\n",
       "    .dataframe tbody tr th:only-of-type {\n",
       "        vertical-align: middle;\n",
       "    }\n",
       "\n",
       "    .dataframe tbody tr th {\n",
       "        vertical-align: top;\n",
       "    }\n",
       "\n",
       "    .dataframe thead th {\n",
       "        text-align: right;\n",
       "    }\n",
       "</style>\n",
       "<table border=\"1\" class=\"dataframe\">\n",
       "  <thead>\n",
       "    <tr style=\"text-align: right;\">\n",
       "      <th></th>\n",
       "      <th>key</th>\n",
       "      <th>Bulk 1</th>\n",
       "      <th>Bulk 2</th>\n",
       "      <th>Bulk 3</th>\n",
       "      <th>Bulk 4</th>\n",
       "      <th>Bulk 5</th>\n",
       "      <th>Bulk 6</th>\n",
       "      <th>Bulk 7</th>\n",
       "      <th>Bulk 8</th>\n",
       "      <th>Bulk 9</th>\n",
       "      <th>Bulk 10</th>\n",
       "      <th>Bulk 11</th>\n",
       "      <th>Bulk 12</th>\n",
       "      <th>Bulk 13</th>\n",
       "      <th>Bulk 14</th>\n",
       "      <th>Bulk 15</th>\n",
       "    </tr>\n",
       "  </thead>\n",
       "  <tbody>\n",
       "    <tr>\n",
       "      <th>0</th>\n",
       "      <td>1</td>\n",
       "      <td>NaN</td>\n",
       "      <td>NaN</td>\n",
       "      <td>NaN</td>\n",
       "      <td>2019-05-03 11:21:30</td>\n",
       "      <td>NaN</td>\n",
       "      <td>NaN</td>\n",
       "      <td>NaN</td>\n",
       "      <td>NaN</td>\n",
       "      <td>NaN</td>\n",
       "      <td>NaN</td>\n",
       "      <td>NaN</td>\n",
       "      <td>2019-05-03 11:03:52</td>\n",
       "      <td>NaN</td>\n",
       "      <td>2019-05-03 11:03:52</td>\n",
       "      <td>2019-05-03 11:03:52</td>\n",
       "    </tr>\n",
       "    <tr>\n",
       "      <th>1</th>\n",
       "      <td>2</td>\n",
       "      <td>NaN</td>\n",
       "      <td>NaN</td>\n",
       "      <td>NaN</td>\n",
       "      <td>2019-05-03 11:46:38</td>\n",
       "      <td>NaN</td>\n",
       "      <td>NaN</td>\n",
       "      <td>NaN</td>\n",
       "      <td>NaN</td>\n",
       "      <td>NaN</td>\n",
       "      <td>NaN</td>\n",
       "      <td>NaN</td>\n",
       "      <td>2019-05-03 11:40:20</td>\n",
       "      <td>NaN</td>\n",
       "      <td>2019-05-03 11:40:20</td>\n",
       "      <td>2019-05-03 11:40:20</td>\n",
       "    </tr>\n",
       "  </tbody>\n",
       "</table>\n",
       "</div>"
      ],
      "text/plain": [
       "   key Bulk 1 Bulk 2 Bulk 3               Bulk 4 Bulk 5 Bulk 6 Bulk 7 Bulk 8  \\\n",
       "0    1    NaN    NaN    NaN  2019-05-03 11:21:30    NaN    NaN    NaN    NaN   \n",
       "1    2    NaN    NaN    NaN  2019-05-03 11:46:38    NaN    NaN    NaN    NaN   \n",
       "\n",
       "  Bulk 9 Bulk 10 Bulk 11              Bulk 12 Bulk 13              Bulk 14  \\\n",
       "0    NaN     NaN     NaN  2019-05-03 11:03:52     NaN  2019-05-03 11:03:52   \n",
       "1    NaN     NaN     NaN  2019-05-03 11:40:20     NaN  2019-05-03 11:40:20   \n",
       "\n",
       "               Bulk 15  \n",
       "0  2019-05-03 11:03:52  \n",
       "1  2019-05-03 11:40:20  "
      ]
     },
     "metadata": {},
     "output_type": "display_data"
    },
    {
     "data": {
      "text/html": [
       "<div>\n",
       "<style scoped>\n",
       "    .dataframe tbody tr th:only-of-type {\n",
       "        vertical-align: middle;\n",
       "    }\n",
       "\n",
       "    .dataframe tbody tr th {\n",
       "        vertical-align: top;\n",
       "    }\n",
       "\n",
       "    .dataframe thead th {\n",
       "        text-align: right;\n",
       "    }\n",
       "</style>\n",
       "<table border=\"1\" class=\"dataframe\">\n",
       "  <thead>\n",
       "    <tr style=\"text-align: right;\">\n",
       "      <th></th>\n",
       "      <th>key</th>\n",
       "      <th>Газ 1</th>\n",
       "    </tr>\n",
       "  </thead>\n",
       "  <tbody>\n",
       "    <tr>\n",
       "      <th>0</th>\n",
       "      <td>1</td>\n",
       "      <td>29.749986</td>\n",
       "    </tr>\n",
       "    <tr>\n",
       "      <th>1</th>\n",
       "      <td>2</td>\n",
       "      <td>12.555561</td>\n",
       "    </tr>\n",
       "  </tbody>\n",
       "</table>\n",
       "</div>"
      ],
      "text/plain": [
       "   key      Газ 1\n",
       "0    1  29.749986\n",
       "1    2  12.555561"
      ]
     },
     "metadata": {},
     "output_type": "display_data"
    },
    {
     "data": {
      "text/html": [
       "<div>\n",
       "<style scoped>\n",
       "    .dataframe tbody tr th:only-of-type {\n",
       "        vertical-align: middle;\n",
       "    }\n",
       "\n",
       "    .dataframe tbody tr th {\n",
       "        vertical-align: top;\n",
       "    }\n",
       "\n",
       "    .dataframe thead th {\n",
       "        text-align: right;\n",
       "    }\n",
       "</style>\n",
       "<table border=\"1\" class=\"dataframe\">\n",
       "  <thead>\n",
       "    <tr style=\"text-align: right;\">\n",
       "      <th></th>\n",
       "      <th>key</th>\n",
       "      <th>Время замера</th>\n",
       "      <th>Температура</th>\n",
       "    </tr>\n",
       "  </thead>\n",
       "  <tbody>\n",
       "    <tr>\n",
       "      <th>0</th>\n",
       "      <td>1</td>\n",
       "      <td>2019-05-03 11:16:18</td>\n",
       "      <td>1571.0</td>\n",
       "    </tr>\n",
       "    <tr>\n",
       "      <th>1</th>\n",
       "      <td>1</td>\n",
       "      <td>2019-05-03 11:25:53</td>\n",
       "      <td>1604.0</td>\n",
       "    </tr>\n",
       "  </tbody>\n",
       "</table>\n",
       "</div>"
      ],
      "text/plain": [
       "   key         Время замера  Температура\n",
       "0    1  2019-05-03 11:16:18       1571.0\n",
       "1    1  2019-05-03 11:25:53       1604.0"
      ]
     },
     "metadata": {},
     "output_type": "display_data"
    },
    {
     "data": {
      "text/html": [
       "<div>\n",
       "<style scoped>\n",
       "    .dataframe tbody tr th:only-of-type {\n",
       "        vertical-align: middle;\n",
       "    }\n",
       "\n",
       "    .dataframe tbody tr th {\n",
       "        vertical-align: top;\n",
       "    }\n",
       "\n",
       "    .dataframe thead th {\n",
       "        text-align: right;\n",
       "    }\n",
       "</style>\n",
       "<table border=\"1\" class=\"dataframe\">\n",
       "  <thead>\n",
       "    <tr style=\"text-align: right;\">\n",
       "      <th></th>\n",
       "      <th>key</th>\n",
       "      <th>Wire 1</th>\n",
       "      <th>Wire 2</th>\n",
       "      <th>Wire 3</th>\n",
       "      <th>Wire 4</th>\n",
       "      <th>Wire 5</th>\n",
       "      <th>Wire 6</th>\n",
       "      <th>Wire 7</th>\n",
       "      <th>Wire 8</th>\n",
       "      <th>Wire 9</th>\n",
       "    </tr>\n",
       "  </thead>\n",
       "  <tbody>\n",
       "    <tr>\n",
       "      <th>0</th>\n",
       "      <td>1</td>\n",
       "      <td>60.059998</td>\n",
       "      <td>NaN</td>\n",
       "      <td>NaN</td>\n",
       "      <td>NaN</td>\n",
       "      <td>NaN</td>\n",
       "      <td>NaN</td>\n",
       "      <td>NaN</td>\n",
       "      <td>NaN</td>\n",
       "      <td>NaN</td>\n",
       "    </tr>\n",
       "    <tr>\n",
       "      <th>1</th>\n",
       "      <td>2</td>\n",
       "      <td>96.052315</td>\n",
       "      <td>NaN</td>\n",
       "      <td>NaN</td>\n",
       "      <td>NaN</td>\n",
       "      <td>NaN</td>\n",
       "      <td>NaN</td>\n",
       "      <td>NaN</td>\n",
       "      <td>NaN</td>\n",
       "      <td>NaN</td>\n",
       "    </tr>\n",
       "  </tbody>\n",
       "</table>\n",
       "</div>"
      ],
      "text/plain": [
       "   key     Wire 1  Wire 2  Wire 3  Wire 4  Wire 5  Wire 6  Wire 7  Wire 8  \\\n",
       "0    1  60.059998     NaN     NaN     NaN     NaN     NaN     NaN     NaN   \n",
       "1    2  96.052315     NaN     NaN     NaN     NaN     NaN     NaN     NaN   \n",
       "\n",
       "   Wire 9  \n",
       "0     NaN  \n",
       "1     NaN  "
      ]
     },
     "metadata": {},
     "output_type": "display_data"
    },
    {
     "data": {
      "text/html": [
       "<div>\n",
       "<style scoped>\n",
       "    .dataframe tbody tr th:only-of-type {\n",
       "        vertical-align: middle;\n",
       "    }\n",
       "\n",
       "    .dataframe tbody tr th {\n",
       "        vertical-align: top;\n",
       "    }\n",
       "\n",
       "    .dataframe thead th {\n",
       "        text-align: right;\n",
       "    }\n",
       "</style>\n",
       "<table border=\"1\" class=\"dataframe\">\n",
       "  <thead>\n",
       "    <tr style=\"text-align: right;\">\n",
       "      <th></th>\n",
       "      <th>key</th>\n",
       "      <th>Wire 1</th>\n",
       "      <th>Wire 2</th>\n",
       "      <th>Wire 3</th>\n",
       "      <th>Wire 4</th>\n",
       "      <th>Wire 5</th>\n",
       "      <th>Wire 6</th>\n",
       "      <th>Wire 7</th>\n",
       "      <th>Wire 8</th>\n",
       "      <th>Wire 9</th>\n",
       "    </tr>\n",
       "  </thead>\n",
       "  <tbody>\n",
       "    <tr>\n",
       "      <th>0</th>\n",
       "      <td>1</td>\n",
       "      <td>2019-05-03 11:11:41</td>\n",
       "      <td>NaN</td>\n",
       "      <td>NaN</td>\n",
       "      <td>NaN</td>\n",
       "      <td>NaN</td>\n",
       "      <td>NaN</td>\n",
       "      <td>NaN</td>\n",
       "      <td>NaN</td>\n",
       "      <td>NaN</td>\n",
       "    </tr>\n",
       "    <tr>\n",
       "      <th>1</th>\n",
       "      <td>2</td>\n",
       "      <td>2019-05-03 11:46:10</td>\n",
       "      <td>NaN</td>\n",
       "      <td>NaN</td>\n",
       "      <td>NaN</td>\n",
       "      <td>NaN</td>\n",
       "      <td>NaN</td>\n",
       "      <td>NaN</td>\n",
       "      <td>NaN</td>\n",
       "      <td>NaN</td>\n",
       "    </tr>\n",
       "  </tbody>\n",
       "</table>\n",
       "</div>"
      ],
      "text/plain": [
       "   key               Wire 1 Wire 2 Wire 3 Wire 4 Wire 5 Wire 6 Wire 7 Wire 8  \\\n",
       "0    1  2019-05-03 11:11:41    NaN    NaN    NaN    NaN    NaN    NaN    NaN   \n",
       "1    2  2019-05-03 11:46:10    NaN    NaN    NaN    NaN    NaN    NaN    NaN   \n",
       "\n",
       "  Wire 9  \n",
       "0    NaN  \n",
       "1    NaN  "
      ]
     },
     "metadata": {},
     "output_type": "display_data"
    }
   ],
   "source": [
    "for df in dfs:\n",
    "    display(df.head(2))"
   ]
  },
  {
   "cell_type": "markdown",
   "metadata": {},
   "source": [
    "Итак у нас есть 7 датафреймов несущих информацию о технологическом процессе. \n",
    "\n",
    "Для начала немного изменим названия колонок в наших данных для дальнейшего удобства работы с ними. Исправим русские названия на английские, и заменим все пробелы на нижнее подчеркивание."
   ]
  },
  {
   "cell_type": "code",
   "execution_count": 5,
   "metadata": {},
   "outputs": [
    {
     "data": {
      "text/plain": [
       "Index(['key', 'heating_start', 'heating_end', 'real_power', 'reactive_power'], dtype='object')"
      ]
     },
     "execution_count": 5,
     "metadata": {},
     "output_type": "execute_result"
    }
   ],
   "source": [
    "data_arc.columns = [\n",
    "    'key', 'heating_start', 'heating_end', 'real_power', 'reactive_power'\n",
    "]\n",
    "data_arc.columns"
   ]
  },
  {
   "cell_type": "code",
   "execution_count": 6,
   "metadata": {},
   "outputs": [
    {
     "data": {
      "text/plain": [
       "Index(['key', 'measurement_time', 'temperature'], dtype='object')"
      ]
     },
     "execution_count": 6,
     "metadata": {},
     "output_type": "execute_result"
    }
   ],
   "source": [
    "data_temp.columns = ['key', 'measurement_time', 'temperature']\n",
    "data_temp.columns"
   ]
  },
  {
   "cell_type": "code",
   "execution_count": 7,
   "metadata": {},
   "outputs": [
    {
     "data": {
      "text/plain": [
       "Index(['key', 'gas_1'], dtype='object')"
      ]
     },
     "execution_count": 7,
     "metadata": {},
     "output_type": "execute_result"
    }
   ],
   "source": [
    "data_gas.columns = ['key', 'gas_1']\n",
    "data_gas.columns"
   ]
  },
  {
   "cell_type": "markdown",
   "metadata": {},
   "source": [
    "В остальных датасетах руских обозначений не замечено. Напишем функцию и уберем пробелы из названий столбцов."
   ]
  },
  {
   "cell_type": "code",
   "execution_count": 8,
   "metadata": {},
   "outputs": [],
   "source": [
    "def change_name(name):\n",
    "    name = \"_\".join(name.split())\n",
    "    return name"
   ]
  },
  {
   "cell_type": "code",
   "execution_count": 9,
   "metadata": {},
   "outputs": [],
   "source": [
    "for df in dfs:\n",
    "    df.columns = map(str.lower, df.columns)\n",
    "    df.columns = map(change_name, df.columns)"
   ]
  },
  {
   "cell_type": "markdown",
   "metadata": {},
   "source": [
    "### Осмотр данных"
   ]
  },
  {
   "cell_type": "markdown",
   "metadata": {},
   "source": [
    "Напишем функции для вывода основной инормации о данных и построения графиков."
   ]
  },
  {
   "cell_type": "code",
   "execution_count": 10,
   "metadata": {},
   "outputs": [],
   "source": [
    "def df_info(df):\n",
    "    '''Эта функция будет выводить основную информацию о датасете'''\n",
    "    df.info()\n",
    "    display(df.head(10))\n",
    "    display(df.describe())\n",
    "    print('Количество дубликатов:', df.duplicated().sum())"
   ]
  },
  {
   "cell_type": "code",
   "execution_count": 11,
   "metadata": {},
   "outputs": [],
   "source": [
    "def histogram_boxplot(data,\n",
    "                      xlabel=None,\n",
    "                      title=None,\n",
    "                      font_scale=1,\n",
    "                      figsize=(16, 8),\n",
    "                      bins=None):\n",
    "    \"\"\" Boxplot and histogram combined together with mean and median lines.\n",
    "    data: 1-d data array\n",
    "    xlabel: xlabel \n",
    "    title: title\n",
    "    font_scale: the scale of the font (default 1)\n",
    "    figsize: size of fig (default (16, 8))\n",
    "    bins: number of bins (default None / auto)\n",
    "    \"\"\"\n",
    "    \n",
    "    sns.set(font_scale=font_scale)\n",
    "    f2, (ax_box2,\n",
    "         ax_hist2) = plt.subplots(2,\n",
    "                                  sharex=True,\n",
    "                                  gridspec_kw={\"height_ratios\": (.15, .85)},\n",
    "                                  figsize=figsize)\n",
    "    sns.boxplot(data, ax=ax_box2)\n",
    "    sns.distplot(data, ax=ax_hist2, bins=bins) if bins else sns.distplot(\n",
    "        data, ax=ax_hist2)\n",
    "\n",
    "    plt.axvline(x=data.mean(), linewidth=2, color='r', label=\"mean\", alpha=0.8)\n",
    "    plt.axvline(x=data.median(),\n",
    "                linewidth=2,\n",
    "                color='y',\n",
    "                label=\"median\",\n",
    "                alpha=0.8)\n",
    "    ax_hist2.legend()\n",
    "\n",
    "    if xlabel:\n",
    "        ax_hist2.set(xlabel=xlabel)\n",
    "    if title:\n",
    "        ax_box2.set(title=title)\n",
    "    plt.show()"
   ]
  },
  {
   "cell_type": "markdown",
   "metadata": {},
   "source": [
    "#### data_arc - данные об электродах"
   ]
  },
  {
   "cell_type": "markdown",
   "metadata": {},
   "source": [
    "Начнем осмотр данных с датасета содержащего данные о работе электродов. "
   ]
  },
  {
   "cell_type": "code",
   "execution_count": 12,
   "metadata": {},
   "outputs": [
    {
     "name": "stdout",
     "output_type": "stream",
     "text": [
      "<class 'pandas.core.frame.DataFrame'>\n",
      "RangeIndex: 14876 entries, 0 to 14875\n",
      "Data columns (total 5 columns):\n",
      " #   Column          Non-Null Count  Dtype  \n",
      "---  ------          --------------  -----  \n",
      " 0   key             14876 non-null  int64  \n",
      " 1   heating_start   14876 non-null  object \n",
      " 2   heating_end     14876 non-null  object \n",
      " 3   real_power      14876 non-null  float64\n",
      " 4   reactive_power  14876 non-null  float64\n",
      "dtypes: float64(2), int64(1), object(2)\n",
      "memory usage: 581.2+ KB\n"
     ]
    },
    {
     "data": {
      "text/html": [
       "<div>\n",
       "<style scoped>\n",
       "    .dataframe tbody tr th:only-of-type {\n",
       "        vertical-align: middle;\n",
       "    }\n",
       "\n",
       "    .dataframe tbody tr th {\n",
       "        vertical-align: top;\n",
       "    }\n",
       "\n",
       "    .dataframe thead th {\n",
       "        text-align: right;\n",
       "    }\n",
       "</style>\n",
       "<table border=\"1\" class=\"dataframe\">\n",
       "  <thead>\n",
       "    <tr style=\"text-align: right;\">\n",
       "      <th></th>\n",
       "      <th>key</th>\n",
       "      <th>heating_start</th>\n",
       "      <th>heating_end</th>\n",
       "      <th>real_power</th>\n",
       "      <th>reactive_power</th>\n",
       "    </tr>\n",
       "  </thead>\n",
       "  <tbody>\n",
       "    <tr>\n",
       "      <th>0</th>\n",
       "      <td>1</td>\n",
       "      <td>2019-05-03 11:02:14</td>\n",
       "      <td>2019-05-03 11:06:02</td>\n",
       "      <td>0.976059</td>\n",
       "      <td>0.687084</td>\n",
       "    </tr>\n",
       "    <tr>\n",
       "      <th>1</th>\n",
       "      <td>1</td>\n",
       "      <td>2019-05-03 11:07:28</td>\n",
       "      <td>2019-05-03 11:10:33</td>\n",
       "      <td>0.805607</td>\n",
       "      <td>0.520285</td>\n",
       "    </tr>\n",
       "    <tr>\n",
       "      <th>2</th>\n",
       "      <td>1</td>\n",
       "      <td>2019-05-03 11:11:44</td>\n",
       "      <td>2019-05-03 11:14:36</td>\n",
       "      <td>0.744363</td>\n",
       "      <td>0.498805</td>\n",
       "    </tr>\n",
       "    <tr>\n",
       "      <th>3</th>\n",
       "      <td>1</td>\n",
       "      <td>2019-05-03 11:18:14</td>\n",
       "      <td>2019-05-03 11:24:19</td>\n",
       "      <td>1.659363</td>\n",
       "      <td>1.062669</td>\n",
       "    </tr>\n",
       "    <tr>\n",
       "      <th>4</th>\n",
       "      <td>1</td>\n",
       "      <td>2019-05-03 11:26:09</td>\n",
       "      <td>2019-05-03 11:28:37</td>\n",
       "      <td>0.692755</td>\n",
       "      <td>0.414397</td>\n",
       "    </tr>\n",
       "    <tr>\n",
       "      <th>5</th>\n",
       "      <td>2</td>\n",
       "      <td>2019-05-03 11:34:14</td>\n",
       "      <td>2019-05-03 11:36:31</td>\n",
       "      <td>0.438063</td>\n",
       "      <td>0.283043</td>\n",
       "    </tr>\n",
       "    <tr>\n",
       "      <th>6</th>\n",
       "      <td>2</td>\n",
       "      <td>2019-05-03 11:38:50</td>\n",
       "      <td>2019-05-03 11:44:28</td>\n",
       "      <td>1.296415</td>\n",
       "      <td>0.892914</td>\n",
       "    </tr>\n",
       "    <tr>\n",
       "      <th>7</th>\n",
       "      <td>2</td>\n",
       "      <td>2019-05-03 11:46:19</td>\n",
       "      <td>2019-05-03 11:48:25</td>\n",
       "      <td>0.490377</td>\n",
       "      <td>0.305281</td>\n",
       "    </tr>\n",
       "    <tr>\n",
       "      <th>8</th>\n",
       "      <td>2</td>\n",
       "      <td>2019-05-03 11:49:48</td>\n",
       "      <td>2019-05-03 11:53:18</td>\n",
       "      <td>0.827743</td>\n",
       "      <td>0.516874</td>\n",
       "    </tr>\n",
       "    <tr>\n",
       "      <th>9</th>\n",
       "      <td>3</td>\n",
       "      <td>2019-05-03 12:06:54</td>\n",
       "      <td>2019-05-03 12:11:34</td>\n",
       "      <td>1.062053</td>\n",
       "      <td>0.671494</td>\n",
       "    </tr>\n",
       "  </tbody>\n",
       "</table>\n",
       "</div>"
      ],
      "text/plain": [
       "   key        heating_start          heating_end  real_power  reactive_power\n",
       "0    1  2019-05-03 11:02:14  2019-05-03 11:06:02    0.976059        0.687084\n",
       "1    1  2019-05-03 11:07:28  2019-05-03 11:10:33    0.805607        0.520285\n",
       "2    1  2019-05-03 11:11:44  2019-05-03 11:14:36    0.744363        0.498805\n",
       "3    1  2019-05-03 11:18:14  2019-05-03 11:24:19    1.659363        1.062669\n",
       "4    1  2019-05-03 11:26:09  2019-05-03 11:28:37    0.692755        0.414397\n",
       "5    2  2019-05-03 11:34:14  2019-05-03 11:36:31    0.438063        0.283043\n",
       "6    2  2019-05-03 11:38:50  2019-05-03 11:44:28    1.296415        0.892914\n",
       "7    2  2019-05-03 11:46:19  2019-05-03 11:48:25    0.490377        0.305281\n",
       "8    2  2019-05-03 11:49:48  2019-05-03 11:53:18    0.827743        0.516874\n",
       "9    3  2019-05-03 12:06:54  2019-05-03 12:11:34    1.062053        0.671494"
      ]
     },
     "metadata": {},
     "output_type": "display_data"
    },
    {
     "data": {
      "text/html": [
       "<div>\n",
       "<style scoped>\n",
       "    .dataframe tbody tr th:only-of-type {\n",
       "        vertical-align: middle;\n",
       "    }\n",
       "\n",
       "    .dataframe tbody tr th {\n",
       "        vertical-align: top;\n",
       "    }\n",
       "\n",
       "    .dataframe thead th {\n",
       "        text-align: right;\n",
       "    }\n",
       "</style>\n",
       "<table border=\"1\" class=\"dataframe\">\n",
       "  <thead>\n",
       "    <tr style=\"text-align: right;\">\n",
       "      <th></th>\n",
       "      <th>key</th>\n",
       "      <th>real_power</th>\n",
       "      <th>reactive_power</th>\n",
       "    </tr>\n",
       "  </thead>\n",
       "  <tbody>\n",
       "    <tr>\n",
       "      <th>count</th>\n",
       "      <td>14876.000000</td>\n",
       "      <td>14876.000000</td>\n",
       "      <td>14876.000000</td>\n",
       "    </tr>\n",
       "    <tr>\n",
       "      <th>mean</th>\n",
       "      <td>1615.220422</td>\n",
       "      <td>0.670441</td>\n",
       "      <td>0.452592</td>\n",
       "    </tr>\n",
       "    <tr>\n",
       "      <th>std</th>\n",
       "      <td>934.571502</td>\n",
       "      <td>0.408159</td>\n",
       "      <td>5.878702</td>\n",
       "    </tr>\n",
       "    <tr>\n",
       "      <th>min</th>\n",
       "      <td>1.000000</td>\n",
       "      <td>0.030002</td>\n",
       "      <td>-715.504924</td>\n",
       "    </tr>\n",
       "    <tr>\n",
       "      <th>25%</th>\n",
       "      <td>806.000000</td>\n",
       "      <td>0.395297</td>\n",
       "      <td>0.290991</td>\n",
       "    </tr>\n",
       "    <tr>\n",
       "      <th>50%</th>\n",
       "      <td>1617.000000</td>\n",
       "      <td>0.555517</td>\n",
       "      <td>0.415962</td>\n",
       "    </tr>\n",
       "    <tr>\n",
       "      <th>75%</th>\n",
       "      <td>2429.000000</td>\n",
       "      <td>0.857034</td>\n",
       "      <td>0.637371</td>\n",
       "    </tr>\n",
       "    <tr>\n",
       "      <th>max</th>\n",
       "      <td>3241.000000</td>\n",
       "      <td>3.731596</td>\n",
       "      <td>2.676388</td>\n",
       "    </tr>\n",
       "  </tbody>\n",
       "</table>\n",
       "</div>"
      ],
      "text/plain": [
       "                key    real_power  reactive_power\n",
       "count  14876.000000  14876.000000    14876.000000\n",
       "mean    1615.220422      0.670441        0.452592\n",
       "std      934.571502      0.408159        5.878702\n",
       "min        1.000000      0.030002     -715.504924\n",
       "25%      806.000000      0.395297        0.290991\n",
       "50%     1617.000000      0.555517        0.415962\n",
       "75%     2429.000000      0.857034        0.637371\n",
       "max     3241.000000      3.731596        2.676388"
      ]
     },
     "metadata": {},
     "output_type": "display_data"
    },
    {
     "name": "stdout",
     "output_type": "stream",
     "text": [
      "Количество дубликатов: 0\n"
     ]
    }
   ],
   "source": [
    "df_info(data_arc)"
   ]
  },
  {
   "cell_type": "markdown",
   "metadata": {},
   "source": [
    "В датасете 5 колонок:\n",
    "- Номер партии - `key`\n",
    "- Время начала нагрева\n",
    "- Время окончания нагрева\n",
    "- Активная мощность\n",
    "- Реактивная мощность\n",
    "\n",
    "Для начала преведем тип данных времени начала и конца нагрева к формату `datetime`."
   ]
  },
  {
   "cell_type": "code",
   "execution_count": 13,
   "metadata": {},
   "outputs": [],
   "source": [
    "data_arc['heating_start'] = pd.to_datetime(data_arc['heating_start'],\n",
    "                                           format='%Y-%m-%d %H:%M:%S')\n",
    "data_arc['heating_end'] = pd.to_datetime(data_arc['heating_end'],\n",
    "                                         format='%Y-%m-%d %H:%M:%S')"
   ]
  },
  {
   "cell_type": "markdown",
   "metadata": {},
   "source": [
    "Теперь займемся теорией и разберемся что такое активная и реактивная мощности.\n",
    "\n",
    "**Активная мощность (Real Power)** \n",
    "Единица измерения — ватт (русское обозначение: Вт, киловатт - кВт; международное: ватт -W, киловатт - kW). Среднее за период Τ  значение мгновенной мощности называется активной  мощностью, и выражается формулой:\n",
    "$$P= \\frac{1}{T} \\int_0^T p(t)dt$$\n",
    "\n",
    "\n",
    "**Реактивная мощность (Reactive Power)**\n",
    "Единица измерения — вольт-ампер реактивный (русское обозначение: вар, кВАР; международное: var).\n",
    "Реактивная мощность — величина, характеризующая нагрузки, создаваемые в электротехнических устройствах колебаниями энергии электромагнитного поля в цепи синусоидального переменного тока, равна произведению среднеквадратичных значений напряжения U и тока I, умноженному на синус угла сдвига фаз φ между ними:\n",
    "$$Q=U*I*sin  \\varphi $$\n",
    "Физический смысл реактивной мощности — это энергия, перекачиваемая от источника на реактивные элементы приёмника (индуктивности, конденсаторы, обмотки двигателей), а затем возвращаемая этими элементами обратно в источник в течение одного периода колебаний, отнесённая к этому периоду.\n",
    "\n",
    "**Полная мощность (Apparent Power)**\n",
    "Единица полной электрической мощности — вольт-ампер (русское обозначение: В·А, ВА, кВА-кило-вольт-ампер; международное: V·A, kVA).\n",
    "Полная мощность — величина, равная произведению действующих значений периодического электрического тока I в цепи и напряжения U на её зажимах: $$S=U*I$$\n",
    "соотношение полной мощности с активной и реактивной мощностями выражается в следующем виде: $$S= \\sqrt{ P^{2}*Q^{2} } $$  где P — активная мощность, Q — реактивная мощность (при индуктивной нагрузке Q›0, а при ёмкостной Q‹0). \n",
    "\n",
    "Полная мощность имеет практическое значение, как величина, описывающая нагрузки, фактически налагаемые потребителем на элементы подводящей электросети (провода, кабели, распределительные щиты, трансформаторы, линии электропередачи), так как эти нагрузки зависят от потребляемого тока, а не от фактически использованной потребителем энергии. Именно поэтому полная мощность трансформаторов и распределительных щитов измеряется в вольт-амперах, а не в ваттах.\n",
    "\n",
    "\n",
    "\n",
    "\n",
    "\n"
   ]
  },
  {
   "cell_type": "markdown",
   "metadata": {},
   "source": [
    "Теперь, когда у нас некое понимание физических процессов, посмотрим на графики распределения наших данных. Начнем с активной мощности."
   ]
  },
  {
   "cell_type": "code",
   "execution_count": 14,
   "metadata": {},
   "outputs": [
    {
     "data": {
      "image/png": "[encoded data removed]",
      "text/plain": [
       "<Figure size 1152x576 with 2 Axes>"
      ]
     },
     "metadata": {},
     "output_type": "display_data"
    }
   ],
   "source": [
    "histogram_boxplot(data_arc['real_power'], 'Активная мощность')"
   ]
  },
  {
   "cell_type": "markdown",
   "metadata": {},
   "source": [
    "Распределение похоже на нормальное, с длиным правым хвостом. Явных аномалий не видно. Построим такой же график для реактивной мощности."
   ]
  },
  {
   "cell_type": "code",
   "execution_count": 15,
   "metadata": {},
   "outputs": [
    {
     "data": {
      "image/png": "[encoded data removed]",
      "text/plain": [
       "<Figure size 1152x576 with 2 Axes>"
      ]
     },
     "metadata": {},
     "output_type": "display_data"
    }
   ],
   "source": [
    "histogram_boxplot(data_arc['reactive_power'], 'Реактивная мощность')"
   ]
  },
  {
   "cell_type": "markdown",
   "metadata": {},
   "source": [
    "Что-то это не похоже на нормальный график. Судя по всему у нас в данных есть аномалия - очень большое отрицательное значение. Проверим."
   ]
  },
  {
   "cell_type": "code",
   "execution_count": 16,
   "metadata": {},
   "outputs": [
    {
     "data": {
      "text/html": [
       "<div>\n",
       "<style scoped>\n",
       "    .dataframe tbody tr th:only-of-type {\n",
       "        vertical-align: middle;\n",
       "    }\n",
       "\n",
       "    .dataframe tbody tr th {\n",
       "        vertical-align: top;\n",
       "    }\n",
       "\n",
       "    .dataframe thead th {\n",
       "        text-align: right;\n",
       "    }\n",
       "</style>\n",
       "<table border=\"1\" class=\"dataframe\">\n",
       "  <thead>\n",
       "    <tr style=\"text-align: right;\">\n",
       "      <th></th>\n",
       "      <th>key</th>\n",
       "      <th>heating_start</th>\n",
       "      <th>heating_end</th>\n",
       "      <th>real_power</th>\n",
       "      <th>reactive_power</th>\n",
       "    </tr>\n",
       "  </thead>\n",
       "  <tbody>\n",
       "    <tr>\n",
       "      <th>9780</th>\n",
       "      <td>2116</td>\n",
       "      <td>2019-07-24 00:44:48</td>\n",
       "      <td>2019-07-24 00:46:37</td>\n",
       "      <td>0.495782</td>\n",
       "      <td>-715.504924</td>\n",
       "    </tr>\n",
       "  </tbody>\n",
       "</table>\n",
       "</div>"
      ],
      "text/plain": [
       "       key       heating_start         heating_end  real_power  reactive_power\n",
       "9780  2116 2019-07-24 00:44:48 2019-07-24 00:46:37    0.495782     -715.504924"
      ]
     },
     "execution_count": 16,
     "metadata": {},
     "output_type": "execute_result"
    }
   ],
   "source": [
    "data_arc.loc[data_arc['reactive_power'] < 0]"
   ]
  },
  {
   "cell_type": "markdown",
   "metadata": {},
   "source": [
    "Попался. Всего одна строка, а так сильно поломала график. Выкинем эту строку из нашего датасета."
   ]
  },
  {
   "cell_type": "code",
   "execution_count": 17,
   "metadata": {},
   "outputs": [],
   "source": [
    "data_arc = data_arc.loc[data_arc['reactive_power'] > 0]"
   ]
  },
  {
   "cell_type": "code",
   "execution_count": 18,
   "metadata": {},
   "outputs": [
    {
     "data": {
      "image/png": "[encoded data removed]",
      "text/plain": [
       "<Figure size 1152x576 with 2 Axes>"
      ]
     },
     "metadata": {},
     "output_type": "display_data"
    }
   ],
   "source": [
    "histogram_boxplot(data_arc['reactive_power'], 'Реактивная мощность')"
   ]
  },
  {
   "cell_type": "markdown",
   "metadata": {},
   "source": [
    "Теперь мы видим картину схожую с активной мощностью. Предобработка данных этого датасета закончена."
   ]
  },
  {
   "cell_type": "markdown",
   "metadata": {},
   "source": [
    "#### data_bulk — данные о подаче сыпучих материалов (объём)"
   ]
  },
  {
   "cell_type": "code",
   "execution_count": 19,
   "metadata": {},
   "outputs": [
    {
     "name": "stdout",
     "output_type": "stream",
     "text": [
      "<class 'pandas.core.frame.DataFrame'>\n",
      "RangeIndex: 3129 entries, 0 to 3128\n",
      "Data columns (total 16 columns):\n",
      " #   Column   Non-Null Count  Dtype  \n",
      "---  ------   --------------  -----  \n",
      " 0   key      3129 non-null   int64  \n",
      " 1   bulk_1   252 non-null    float64\n",
      " 2   bulk_2   22 non-null     float64\n",
      " 3   bulk_3   1298 non-null   float64\n",
      " 4   bulk_4   1014 non-null   float64\n",
      " 5   bulk_5   77 non-null     float64\n",
      " 6   bulk_6   576 non-null    float64\n",
      " 7   bulk_7   25 non-null     float64\n",
      " 8   bulk_8   1 non-null      float64\n",
      " 9   bulk_9   19 non-null     float64\n",
      " 10  bulk_10  176 non-null    float64\n",
      " 11  bulk_11  177 non-null    float64\n",
      " 12  bulk_12  2450 non-null   float64\n",
      " 13  bulk_13  18 non-null     float64\n",
      " 14  bulk_14  2806 non-null   float64\n",
      " 15  bulk_15  2248 non-null   float64\n",
      "dtypes: float64(15), int64(1)\n",
      "memory usage: 391.2 KB\n"
     ]
    },
    {
     "data": {
      "text/html": [
       "<div>\n",
       "<style scoped>\n",
       "    .dataframe tbody tr th:only-of-type {\n",
       "        vertical-align: middle;\n",
       "    }\n",
       "\n",
       "    .dataframe tbody tr th {\n",
       "        vertical-align: top;\n",
       "    }\n",
       "\n",
       "    .dataframe thead th {\n",
       "        text-align: right;\n",
       "    }\n",
       "</style>\n",
       "<table border=\"1\" class=\"dataframe\">\n",
       "  <thead>\n",
       "    <tr style=\"text-align: right;\">\n",
       "      <th></th>\n",
       "      <th>key</th>\n",
       "      <th>bulk_1</th>\n",
       "      <th>bulk_2</th>\n",
       "      <th>bulk_3</th>\n",
       "      <th>bulk_4</th>\n",
       "      <th>bulk_5</th>\n",
       "      <th>bulk_6</th>\n",
       "      <th>bulk_7</th>\n",
       "      <th>bulk_8</th>\n",
       "      <th>bulk_9</th>\n",
       "      <th>bulk_10</th>\n",
       "      <th>bulk_11</th>\n",
       "      <th>bulk_12</th>\n",
       "      <th>bulk_13</th>\n",
       "      <th>bulk_14</th>\n",
       "      <th>bulk_15</th>\n",
       "    </tr>\n",
       "  </thead>\n",
       "  <tbody>\n",
       "    <tr>\n",
       "      <th>0</th>\n",
       "      <td>1</td>\n",
       "      <td>NaN</td>\n",
       "      <td>NaN</td>\n",
       "      <td>NaN</td>\n",
       "      <td>43.0</td>\n",
       "      <td>NaN</td>\n",
       "      <td>NaN</td>\n",
       "      <td>NaN</td>\n",
       "      <td>NaN</td>\n",
       "      <td>NaN</td>\n",
       "      <td>NaN</td>\n",
       "      <td>NaN</td>\n",
       "      <td>206.0</td>\n",
       "      <td>NaN</td>\n",
       "      <td>150.0</td>\n",
       "      <td>154.0</td>\n",
       "    </tr>\n",
       "    <tr>\n",
       "      <th>1</th>\n",
       "      <td>2</td>\n",
       "      <td>NaN</td>\n",
       "      <td>NaN</td>\n",
       "      <td>NaN</td>\n",
       "      <td>73.0</td>\n",
       "      <td>NaN</td>\n",
       "      <td>NaN</td>\n",
       "      <td>NaN</td>\n",
       "      <td>NaN</td>\n",
       "      <td>NaN</td>\n",
       "      <td>NaN</td>\n",
       "      <td>NaN</td>\n",
       "      <td>206.0</td>\n",
       "      <td>NaN</td>\n",
       "      <td>149.0</td>\n",
       "      <td>154.0</td>\n",
       "    </tr>\n",
       "    <tr>\n",
       "      <th>2</th>\n",
       "      <td>3</td>\n",
       "      <td>NaN</td>\n",
       "      <td>NaN</td>\n",
       "      <td>NaN</td>\n",
       "      <td>34.0</td>\n",
       "      <td>NaN</td>\n",
       "      <td>NaN</td>\n",
       "      <td>NaN</td>\n",
       "      <td>NaN</td>\n",
       "      <td>NaN</td>\n",
       "      <td>NaN</td>\n",
       "      <td>NaN</td>\n",
       "      <td>205.0</td>\n",
       "      <td>NaN</td>\n",
       "      <td>152.0</td>\n",
       "      <td>153.0</td>\n",
       "    </tr>\n",
       "    <tr>\n",
       "      <th>3</th>\n",
       "      <td>4</td>\n",
       "      <td>NaN</td>\n",
       "      <td>NaN</td>\n",
       "      <td>NaN</td>\n",
       "      <td>81.0</td>\n",
       "      <td>NaN</td>\n",
       "      <td>NaN</td>\n",
       "      <td>NaN</td>\n",
       "      <td>NaN</td>\n",
       "      <td>NaN</td>\n",
       "      <td>NaN</td>\n",
       "      <td>NaN</td>\n",
       "      <td>207.0</td>\n",
       "      <td>NaN</td>\n",
       "      <td>153.0</td>\n",
       "      <td>154.0</td>\n",
       "    </tr>\n",
       "    <tr>\n",
       "      <th>4</th>\n",
       "      <td>5</td>\n",
       "      <td>NaN</td>\n",
       "      <td>NaN</td>\n",
       "      <td>NaN</td>\n",
       "      <td>78.0</td>\n",
       "      <td>NaN</td>\n",
       "      <td>NaN</td>\n",
       "      <td>NaN</td>\n",
       "      <td>NaN</td>\n",
       "      <td>NaN</td>\n",
       "      <td>NaN</td>\n",
       "      <td>NaN</td>\n",
       "      <td>203.0</td>\n",
       "      <td>NaN</td>\n",
       "      <td>151.0</td>\n",
       "      <td>152.0</td>\n",
       "    </tr>\n",
       "    <tr>\n",
       "      <th>5</th>\n",
       "      <td>6</td>\n",
       "      <td>NaN</td>\n",
       "      <td>NaN</td>\n",
       "      <td>NaN</td>\n",
       "      <td>117.0</td>\n",
       "      <td>NaN</td>\n",
       "      <td>NaN</td>\n",
       "      <td>NaN</td>\n",
       "      <td>NaN</td>\n",
       "      <td>NaN</td>\n",
       "      <td>NaN</td>\n",
       "      <td>NaN</td>\n",
       "      <td>204.0</td>\n",
       "      <td>NaN</td>\n",
       "      <td>201.0</td>\n",
       "      <td>154.0</td>\n",
       "    </tr>\n",
       "    <tr>\n",
       "      <th>6</th>\n",
       "      <td>7</td>\n",
       "      <td>NaN</td>\n",
       "      <td>NaN</td>\n",
       "      <td>NaN</td>\n",
       "      <td>117.0</td>\n",
       "      <td>NaN</td>\n",
       "      <td>NaN</td>\n",
       "      <td>NaN</td>\n",
       "      <td>NaN</td>\n",
       "      <td>NaN</td>\n",
       "      <td>NaN</td>\n",
       "      <td>NaN</td>\n",
       "      <td>204.0</td>\n",
       "      <td>NaN</td>\n",
       "      <td>152.0</td>\n",
       "      <td>154.0</td>\n",
       "    </tr>\n",
       "    <tr>\n",
       "      <th>7</th>\n",
       "      <td>8</td>\n",
       "      <td>NaN</td>\n",
       "      <td>NaN</td>\n",
       "      <td>NaN</td>\n",
       "      <td>99.0</td>\n",
       "      <td>NaN</td>\n",
       "      <td>NaN</td>\n",
       "      <td>NaN</td>\n",
       "      <td>NaN</td>\n",
       "      <td>NaN</td>\n",
       "      <td>NaN</td>\n",
       "      <td>NaN</td>\n",
       "      <td>410.0</td>\n",
       "      <td>NaN</td>\n",
       "      <td>252.0</td>\n",
       "      <td>153.0</td>\n",
       "    </tr>\n",
       "    <tr>\n",
       "      <th>8</th>\n",
       "      <td>9</td>\n",
       "      <td>NaN</td>\n",
       "      <td>NaN</td>\n",
       "      <td>NaN</td>\n",
       "      <td>117.0</td>\n",
       "      <td>NaN</td>\n",
       "      <td>NaN</td>\n",
       "      <td>NaN</td>\n",
       "      <td>NaN</td>\n",
       "      <td>NaN</td>\n",
       "      <td>NaN</td>\n",
       "      <td>NaN</td>\n",
       "      <td>107.0</td>\n",
       "      <td>NaN</td>\n",
       "      <td>99.0</td>\n",
       "      <td>203.0</td>\n",
       "    </tr>\n",
       "    <tr>\n",
       "      <th>9</th>\n",
       "      <td>10</td>\n",
       "      <td>NaN</td>\n",
       "      <td>NaN</td>\n",
       "      <td>NaN</td>\n",
       "      <td>NaN</td>\n",
       "      <td>NaN</td>\n",
       "      <td>NaN</td>\n",
       "      <td>NaN</td>\n",
       "      <td>NaN</td>\n",
       "      <td>NaN</td>\n",
       "      <td>NaN</td>\n",
       "      <td>NaN</td>\n",
       "      <td>203.0</td>\n",
       "      <td>NaN</td>\n",
       "      <td>102.0</td>\n",
       "      <td>204.0</td>\n",
       "    </tr>\n",
       "  </tbody>\n",
       "</table>\n",
       "</div>"
      ],
      "text/plain": [
       "   key  bulk_1  bulk_2  bulk_3  bulk_4  bulk_5  bulk_6  bulk_7  bulk_8  \\\n",
       "0    1     NaN     NaN     NaN    43.0     NaN     NaN     NaN     NaN   \n",
       "1    2     NaN     NaN     NaN    73.0     NaN     NaN     NaN     NaN   \n",
       "2    3     NaN     NaN     NaN    34.0     NaN     NaN     NaN     NaN   \n",
       "3    4     NaN     NaN     NaN    81.0     NaN     NaN     NaN     NaN   \n",
       "4    5     NaN     NaN     NaN    78.0     NaN     NaN     NaN     NaN   \n",
       "5    6     NaN     NaN     NaN   117.0     NaN     NaN     NaN     NaN   \n",
       "6    7     NaN     NaN     NaN   117.0     NaN     NaN     NaN     NaN   \n",
       "7    8     NaN     NaN     NaN    99.0     NaN     NaN     NaN     NaN   \n",
       "8    9     NaN     NaN     NaN   117.0     NaN     NaN     NaN     NaN   \n",
       "9   10     NaN     NaN     NaN     NaN     NaN     NaN     NaN     NaN   \n",
       "\n",
       "   bulk_9  bulk_10  bulk_11  bulk_12  bulk_13  bulk_14  bulk_15  \n",
       "0     NaN      NaN      NaN    206.0      NaN    150.0    154.0  \n",
       "1     NaN      NaN      NaN    206.0      NaN    149.0    154.0  \n",
       "2     NaN      NaN      NaN    205.0      NaN    152.0    153.0  \n",
       "3     NaN      NaN      NaN    207.0      NaN    153.0    154.0  \n",
       "4     NaN      NaN      NaN    203.0      NaN    151.0    152.0  \n",
       "5     NaN      NaN      NaN    204.0      NaN    201.0    154.0  \n",
       "6     NaN      NaN      NaN    204.0      NaN    152.0    154.0  \n",
       "7     NaN      NaN      NaN    410.0      NaN    252.0    153.0  \n",
       "8     NaN      NaN      NaN    107.0      NaN     99.0    203.0  \n",
       "9     NaN      NaN      NaN    203.0      NaN    102.0    204.0  "
      ]
     },
     "metadata": {},
     "output_type": "display_data"
    },
    {
     "data": {
      "text/html": [
       "<div>\n",
       "<style scoped>\n",
       "    .dataframe tbody tr th:only-of-type {\n",
       "        vertical-align: middle;\n",
       "    }\n",
       "\n",
       "    .dataframe tbody tr th {\n",
       "        vertical-align: top;\n",
       "    }\n",
       "\n",
       "    .dataframe thead th {\n",
       "        text-align: right;\n",
       "    }\n",
       "</style>\n",
       "<table border=\"1\" class=\"dataframe\">\n",
       "  <thead>\n",
       "    <tr style=\"text-align: right;\">\n",
       "      <th></th>\n",
       "      <th>key</th>\n",
       "      <th>bulk_1</th>\n",
       "      <th>bulk_2</th>\n",
       "      <th>bulk_3</th>\n",
       "      <th>bulk_4</th>\n",
       "      <th>bulk_5</th>\n",
       "      <th>bulk_6</th>\n",
       "      <th>bulk_7</th>\n",
       "      <th>bulk_8</th>\n",
       "      <th>bulk_9</th>\n",
       "      <th>bulk_10</th>\n",
       "      <th>bulk_11</th>\n",
       "      <th>bulk_12</th>\n",
       "      <th>bulk_13</th>\n",
       "      <th>bulk_14</th>\n",
       "      <th>bulk_15</th>\n",
       "    </tr>\n",
       "  </thead>\n",
       "  <tbody>\n",
       "    <tr>\n",
       "      <th>count</th>\n",
       "      <td>3129.000000</td>\n",
       "      <td>252.000000</td>\n",
       "      <td>22.000000</td>\n",
       "      <td>1298.000000</td>\n",
       "      <td>1014.000000</td>\n",
       "      <td>77.000000</td>\n",
       "      <td>576.000000</td>\n",
       "      <td>25.000000</td>\n",
       "      <td>1.0</td>\n",
       "      <td>19.000000</td>\n",
       "      <td>176.000000</td>\n",
       "      <td>177.000000</td>\n",
       "      <td>2450.000000</td>\n",
       "      <td>18.000000</td>\n",
       "      <td>2806.000000</td>\n",
       "      <td>2248.000000</td>\n",
       "    </tr>\n",
       "    <tr>\n",
       "      <th>mean</th>\n",
       "      <td>1624.383509</td>\n",
       "      <td>39.242063</td>\n",
       "      <td>253.045455</td>\n",
       "      <td>113.879045</td>\n",
       "      <td>104.394477</td>\n",
       "      <td>107.025974</td>\n",
       "      <td>118.925347</td>\n",
       "      <td>305.600000</td>\n",
       "      <td>49.0</td>\n",
       "      <td>76.315789</td>\n",
       "      <td>83.284091</td>\n",
       "      <td>76.819209</td>\n",
       "      <td>260.471020</td>\n",
       "      <td>181.111111</td>\n",
       "      <td>170.284747</td>\n",
       "      <td>160.513345</td>\n",
       "    </tr>\n",
       "    <tr>\n",
       "      <th>std</th>\n",
       "      <td>933.337642</td>\n",
       "      <td>18.277654</td>\n",
       "      <td>21.180578</td>\n",
       "      <td>75.483494</td>\n",
       "      <td>48.184126</td>\n",
       "      <td>81.790646</td>\n",
       "      <td>72.057776</td>\n",
       "      <td>191.022904</td>\n",
       "      <td>NaN</td>\n",
       "      <td>21.720581</td>\n",
       "      <td>26.060347</td>\n",
       "      <td>59.655365</td>\n",
       "      <td>120.649269</td>\n",
       "      <td>46.088009</td>\n",
       "      <td>65.868652</td>\n",
       "      <td>51.765319</td>\n",
       "    </tr>\n",
       "    <tr>\n",
       "      <th>min</th>\n",
       "      <td>1.000000</td>\n",
       "      <td>10.000000</td>\n",
       "      <td>228.000000</td>\n",
       "      <td>6.000000</td>\n",
       "      <td>12.000000</td>\n",
       "      <td>11.000000</td>\n",
       "      <td>17.000000</td>\n",
       "      <td>47.000000</td>\n",
       "      <td>49.0</td>\n",
       "      <td>63.000000</td>\n",
       "      <td>24.000000</td>\n",
       "      <td>8.000000</td>\n",
       "      <td>53.000000</td>\n",
       "      <td>151.000000</td>\n",
       "      <td>16.000000</td>\n",
       "      <td>1.000000</td>\n",
       "    </tr>\n",
       "    <tr>\n",
       "      <th>25%</th>\n",
       "      <td>816.000000</td>\n",
       "      <td>27.000000</td>\n",
       "      <td>242.000000</td>\n",
       "      <td>58.000000</td>\n",
       "      <td>72.000000</td>\n",
       "      <td>70.000000</td>\n",
       "      <td>69.750000</td>\n",
       "      <td>155.000000</td>\n",
       "      <td>49.0</td>\n",
       "      <td>66.000000</td>\n",
       "      <td>64.000000</td>\n",
       "      <td>25.000000</td>\n",
       "      <td>204.000000</td>\n",
       "      <td>153.250000</td>\n",
       "      <td>119.000000</td>\n",
       "      <td>105.000000</td>\n",
       "    </tr>\n",
       "    <tr>\n",
       "      <th>50%</th>\n",
       "      <td>1622.000000</td>\n",
       "      <td>31.000000</td>\n",
       "      <td>251.500000</td>\n",
       "      <td>97.500000</td>\n",
       "      <td>102.000000</td>\n",
       "      <td>86.000000</td>\n",
       "      <td>100.000000</td>\n",
       "      <td>298.000000</td>\n",
       "      <td>49.0</td>\n",
       "      <td>68.000000</td>\n",
       "      <td>86.500000</td>\n",
       "      <td>64.000000</td>\n",
       "      <td>208.000000</td>\n",
       "      <td>155.500000</td>\n",
       "      <td>151.000000</td>\n",
       "      <td>160.000000</td>\n",
       "    </tr>\n",
       "    <tr>\n",
       "      <th>75%</th>\n",
       "      <td>2431.000000</td>\n",
       "      <td>46.000000</td>\n",
       "      <td>257.750000</td>\n",
       "      <td>152.000000</td>\n",
       "      <td>133.000000</td>\n",
       "      <td>132.000000</td>\n",
       "      <td>157.000000</td>\n",
       "      <td>406.000000</td>\n",
       "      <td>49.0</td>\n",
       "      <td>70.500000</td>\n",
       "      <td>102.000000</td>\n",
       "      <td>106.000000</td>\n",
       "      <td>316.000000</td>\n",
       "      <td>203.500000</td>\n",
       "      <td>205.750000</td>\n",
       "      <td>205.000000</td>\n",
       "    </tr>\n",
       "    <tr>\n",
       "      <th>max</th>\n",
       "      <td>3241.000000</td>\n",
       "      <td>185.000000</td>\n",
       "      <td>325.000000</td>\n",
       "      <td>454.000000</td>\n",
       "      <td>281.000000</td>\n",
       "      <td>603.000000</td>\n",
       "      <td>503.000000</td>\n",
       "      <td>772.000000</td>\n",
       "      <td>49.0</td>\n",
       "      <td>147.000000</td>\n",
       "      <td>159.000000</td>\n",
       "      <td>313.000000</td>\n",
       "      <td>1849.000000</td>\n",
       "      <td>305.000000</td>\n",
       "      <td>636.000000</td>\n",
       "      <td>405.000000</td>\n",
       "    </tr>\n",
       "  </tbody>\n",
       "</table>\n",
       "</div>"
      ],
      "text/plain": [
       "               key      bulk_1      bulk_2       bulk_3       bulk_4  \\\n",
       "count  3129.000000  252.000000   22.000000  1298.000000  1014.000000   \n",
       "mean   1624.383509   39.242063  253.045455   113.879045   104.394477   \n",
       "std     933.337642   18.277654   21.180578    75.483494    48.184126   \n",
       "min       1.000000   10.000000  228.000000     6.000000    12.000000   \n",
       "25%     816.000000   27.000000  242.000000    58.000000    72.000000   \n",
       "50%    1622.000000   31.000000  251.500000    97.500000   102.000000   \n",
       "75%    2431.000000   46.000000  257.750000   152.000000   133.000000   \n",
       "max    3241.000000  185.000000  325.000000   454.000000   281.000000   \n",
       "\n",
       "           bulk_5      bulk_6      bulk_7  bulk_8      bulk_9     bulk_10  \\\n",
       "count   77.000000  576.000000   25.000000     1.0   19.000000  176.000000   \n",
       "mean   107.025974  118.925347  305.600000    49.0   76.315789   83.284091   \n",
       "std     81.790646   72.057776  191.022904     NaN   21.720581   26.060347   \n",
       "min     11.000000   17.000000   47.000000    49.0   63.000000   24.000000   \n",
       "25%     70.000000   69.750000  155.000000    49.0   66.000000   64.000000   \n",
       "50%     86.000000  100.000000  298.000000    49.0   68.000000   86.500000   \n",
       "75%    132.000000  157.000000  406.000000    49.0   70.500000  102.000000   \n",
       "max    603.000000  503.000000  772.000000    49.0  147.000000  159.000000   \n",
       "\n",
       "          bulk_11      bulk_12     bulk_13      bulk_14      bulk_15  \n",
       "count  177.000000  2450.000000   18.000000  2806.000000  2248.000000  \n",
       "mean    76.819209   260.471020  181.111111   170.284747   160.513345  \n",
       "std     59.655365   120.649269   46.088009    65.868652    51.765319  \n",
       "min      8.000000    53.000000  151.000000    16.000000     1.000000  \n",
       "25%     25.000000   204.000000  153.250000   119.000000   105.000000  \n",
       "50%     64.000000   208.000000  155.500000   151.000000   160.000000  \n",
       "75%    106.000000   316.000000  203.500000   205.750000   205.000000  \n",
       "max    313.000000  1849.000000  305.000000   636.000000   405.000000  "
      ]
     },
     "metadata": {},
     "output_type": "display_data"
    },
    {
     "name": "stdout",
     "output_type": "stream",
     "text": [
      "Количество дубликатов: 0\n"
     ]
    }
   ],
   "source": [
    "df_info(data_bulk)"
   ]
  },
  {
   "cell_type": "markdown",
   "metadata": {},
   "source": [
    "В данном датасете содержится информация о кусках сплава из бункера для сыпучих материалов, которые подают в ковш с расплавленным материалом для изменения химических свойств стали. В данной таблице нет явных аномалий."
   ]
  },
  {
   "cell_type": "markdown",
   "metadata": {},
   "source": [
    "Но в ней много пропусков, которые говорят о том, что для конкретной партии именно такие сыпучие материалы не добавлялись. Заполним пропуски нулями."
   ]
  },
  {
   "cell_type": "code",
   "execution_count": 20,
   "metadata": {},
   "outputs": [],
   "source": [
    "data_bulk.fillna(0, inplace=True)"
   ]
  },
  {
   "cell_type": "code",
   "execution_count": 21,
   "metadata": {},
   "outputs": [
    {
     "data": {
      "text/html": [
       "<div>\n",
       "<style scoped>\n",
       "    .dataframe tbody tr th:only-of-type {\n",
       "        vertical-align: middle;\n",
       "    }\n",
       "\n",
       "    .dataframe tbody tr th {\n",
       "        vertical-align: top;\n",
       "    }\n",
       "\n",
       "    .dataframe thead th {\n",
       "        text-align: right;\n",
       "    }\n",
       "</style>\n",
       "<table border=\"1\" class=\"dataframe\">\n",
       "  <thead>\n",
       "    <tr style=\"text-align: right;\">\n",
       "      <th></th>\n",
       "      <th>key</th>\n",
       "      <th>bulk_1</th>\n",
       "      <th>bulk_2</th>\n",
       "      <th>bulk_3</th>\n",
       "      <th>bulk_4</th>\n",
       "      <th>bulk_5</th>\n",
       "      <th>bulk_6</th>\n",
       "      <th>bulk_7</th>\n",
       "      <th>bulk_8</th>\n",
       "      <th>bulk_9</th>\n",
       "      <th>bulk_10</th>\n",
       "      <th>bulk_11</th>\n",
       "      <th>bulk_12</th>\n",
       "      <th>bulk_13</th>\n",
       "      <th>bulk_14</th>\n",
       "      <th>bulk_15</th>\n",
       "    </tr>\n",
       "  </thead>\n",
       "  <tbody>\n",
       "    <tr>\n",
       "      <th>0</th>\n",
       "      <td>1</td>\n",
       "      <td>0.0</td>\n",
       "      <td>0.0</td>\n",
       "      <td>0.0</td>\n",
       "      <td>43.0</td>\n",
       "      <td>0.0</td>\n",
       "      <td>0.0</td>\n",
       "      <td>0.0</td>\n",
       "      <td>0.0</td>\n",
       "      <td>0.0</td>\n",
       "      <td>0.0</td>\n",
       "      <td>0.0</td>\n",
       "      <td>206.0</td>\n",
       "      <td>0.0</td>\n",
       "      <td>150.0</td>\n",
       "      <td>154.0</td>\n",
       "    </tr>\n",
       "    <tr>\n",
       "      <th>1</th>\n",
       "      <td>2</td>\n",
       "      <td>0.0</td>\n",
       "      <td>0.0</td>\n",
       "      <td>0.0</td>\n",
       "      <td>73.0</td>\n",
       "      <td>0.0</td>\n",
       "      <td>0.0</td>\n",
       "      <td>0.0</td>\n",
       "      <td>0.0</td>\n",
       "      <td>0.0</td>\n",
       "      <td>0.0</td>\n",
       "      <td>0.0</td>\n",
       "      <td>206.0</td>\n",
       "      <td>0.0</td>\n",
       "      <td>149.0</td>\n",
       "      <td>154.0</td>\n",
       "    </tr>\n",
       "    <tr>\n",
       "      <th>2</th>\n",
       "      <td>3</td>\n",
       "      <td>0.0</td>\n",
       "      <td>0.0</td>\n",
       "      <td>0.0</td>\n",
       "      <td>34.0</td>\n",
       "      <td>0.0</td>\n",
       "      <td>0.0</td>\n",
       "      <td>0.0</td>\n",
       "      <td>0.0</td>\n",
       "      <td>0.0</td>\n",
       "      <td>0.0</td>\n",
       "      <td>0.0</td>\n",
       "      <td>205.0</td>\n",
       "      <td>0.0</td>\n",
       "      <td>152.0</td>\n",
       "      <td>153.0</td>\n",
       "    </tr>\n",
       "    <tr>\n",
       "      <th>3</th>\n",
       "      <td>4</td>\n",
       "      <td>0.0</td>\n",
       "      <td>0.0</td>\n",
       "      <td>0.0</td>\n",
       "      <td>81.0</td>\n",
       "      <td>0.0</td>\n",
       "      <td>0.0</td>\n",
       "      <td>0.0</td>\n",
       "      <td>0.0</td>\n",
       "      <td>0.0</td>\n",
       "      <td>0.0</td>\n",
       "      <td>0.0</td>\n",
       "      <td>207.0</td>\n",
       "      <td>0.0</td>\n",
       "      <td>153.0</td>\n",
       "      <td>154.0</td>\n",
       "    </tr>\n",
       "    <tr>\n",
       "      <th>4</th>\n",
       "      <td>5</td>\n",
       "      <td>0.0</td>\n",
       "      <td>0.0</td>\n",
       "      <td>0.0</td>\n",
       "      <td>78.0</td>\n",
       "      <td>0.0</td>\n",
       "      <td>0.0</td>\n",
       "      <td>0.0</td>\n",
       "      <td>0.0</td>\n",
       "      <td>0.0</td>\n",
       "      <td>0.0</td>\n",
       "      <td>0.0</td>\n",
       "      <td>203.0</td>\n",
       "      <td>0.0</td>\n",
       "      <td>151.0</td>\n",
       "      <td>152.0</td>\n",
       "    </tr>\n",
       "    <tr>\n",
       "      <th>...</th>\n",
       "      <td>...</td>\n",
       "      <td>...</td>\n",
       "      <td>...</td>\n",
       "      <td>...</td>\n",
       "      <td>...</td>\n",
       "      <td>...</td>\n",
       "      <td>...</td>\n",
       "      <td>...</td>\n",
       "      <td>...</td>\n",
       "      <td>...</td>\n",
       "      <td>...</td>\n",
       "      <td>...</td>\n",
       "      <td>...</td>\n",
       "      <td>...</td>\n",
       "      <td>...</td>\n",
       "      <td>...</td>\n",
       "    </tr>\n",
       "    <tr>\n",
       "      <th>3124</th>\n",
       "      <td>3237</td>\n",
       "      <td>0.0</td>\n",
       "      <td>0.0</td>\n",
       "      <td>170.0</td>\n",
       "      <td>0.0</td>\n",
       "      <td>0.0</td>\n",
       "      <td>0.0</td>\n",
       "      <td>0.0</td>\n",
       "      <td>0.0</td>\n",
       "      <td>0.0</td>\n",
       "      <td>0.0</td>\n",
       "      <td>0.0</td>\n",
       "      <td>252.0</td>\n",
       "      <td>0.0</td>\n",
       "      <td>130.0</td>\n",
       "      <td>206.0</td>\n",
       "    </tr>\n",
       "    <tr>\n",
       "      <th>3125</th>\n",
       "      <td>3238</td>\n",
       "      <td>0.0</td>\n",
       "      <td>0.0</td>\n",
       "      <td>126.0</td>\n",
       "      <td>0.0</td>\n",
       "      <td>0.0</td>\n",
       "      <td>0.0</td>\n",
       "      <td>0.0</td>\n",
       "      <td>0.0</td>\n",
       "      <td>0.0</td>\n",
       "      <td>0.0</td>\n",
       "      <td>0.0</td>\n",
       "      <td>254.0</td>\n",
       "      <td>0.0</td>\n",
       "      <td>108.0</td>\n",
       "      <td>106.0</td>\n",
       "    </tr>\n",
       "    <tr>\n",
       "      <th>3126</th>\n",
       "      <td>3239</td>\n",
       "      <td>0.0</td>\n",
       "      <td>0.0</td>\n",
       "      <td>0.0</td>\n",
       "      <td>0.0</td>\n",
       "      <td>0.0</td>\n",
       "      <td>114.0</td>\n",
       "      <td>0.0</td>\n",
       "      <td>0.0</td>\n",
       "      <td>0.0</td>\n",
       "      <td>0.0</td>\n",
       "      <td>0.0</td>\n",
       "      <td>158.0</td>\n",
       "      <td>0.0</td>\n",
       "      <td>270.0</td>\n",
       "      <td>88.0</td>\n",
       "    </tr>\n",
       "    <tr>\n",
       "      <th>3127</th>\n",
       "      <td>3240</td>\n",
       "      <td>0.0</td>\n",
       "      <td>0.0</td>\n",
       "      <td>0.0</td>\n",
       "      <td>0.0</td>\n",
       "      <td>0.0</td>\n",
       "      <td>26.0</td>\n",
       "      <td>0.0</td>\n",
       "      <td>0.0</td>\n",
       "      <td>0.0</td>\n",
       "      <td>0.0</td>\n",
       "      <td>0.0</td>\n",
       "      <td>0.0</td>\n",
       "      <td>0.0</td>\n",
       "      <td>192.0</td>\n",
       "      <td>54.0</td>\n",
       "    </tr>\n",
       "    <tr>\n",
       "      <th>3128</th>\n",
       "      <td>3241</td>\n",
       "      <td>0.0</td>\n",
       "      <td>0.0</td>\n",
       "      <td>0.0</td>\n",
       "      <td>0.0</td>\n",
       "      <td>0.0</td>\n",
       "      <td>0.0</td>\n",
       "      <td>0.0</td>\n",
       "      <td>0.0</td>\n",
       "      <td>0.0</td>\n",
       "      <td>0.0</td>\n",
       "      <td>0.0</td>\n",
       "      <td>0.0</td>\n",
       "      <td>0.0</td>\n",
       "      <td>180.0</td>\n",
       "      <td>52.0</td>\n",
       "    </tr>\n",
       "  </tbody>\n",
       "</table>\n",
       "<p>3129 rows × 16 columns</p>\n",
       "</div>"
      ],
      "text/plain": [
       "       key  bulk_1  bulk_2  bulk_3  bulk_4  bulk_5  bulk_6  bulk_7  bulk_8  \\\n",
       "0        1     0.0     0.0     0.0    43.0     0.0     0.0     0.0     0.0   \n",
       "1        2     0.0     0.0     0.0    73.0     0.0     0.0     0.0     0.0   \n",
       "2        3     0.0     0.0     0.0    34.0     0.0     0.0     0.0     0.0   \n",
       "3        4     0.0     0.0     0.0    81.0     0.0     0.0     0.0     0.0   \n",
       "4        5     0.0     0.0     0.0    78.0     0.0     0.0     0.0     0.0   \n",
       "...    ...     ...     ...     ...     ...     ...     ...     ...     ...   \n",
       "3124  3237     0.0     0.0   170.0     0.0     0.0     0.0     0.0     0.0   \n",
       "3125  3238     0.0     0.0   126.0     0.0     0.0     0.0     0.0     0.0   \n",
       "3126  3239     0.0     0.0     0.0     0.0     0.0   114.0     0.0     0.0   \n",
       "3127  3240     0.0     0.0     0.0     0.0     0.0    26.0     0.0     0.0   \n",
       "3128  3241     0.0     0.0     0.0     0.0     0.0     0.0     0.0     0.0   \n",
       "\n",
       "      bulk_9  bulk_10  bulk_11  bulk_12  bulk_13  bulk_14  bulk_15  \n",
       "0        0.0      0.0      0.0    206.0      0.0    150.0    154.0  \n",
       "1        0.0      0.0      0.0    206.0      0.0    149.0    154.0  \n",
       "2        0.0      0.0      0.0    205.0      0.0    152.0    153.0  \n",
       "3        0.0      0.0      0.0    207.0      0.0    153.0    154.0  \n",
       "4        0.0      0.0      0.0    203.0      0.0    151.0    152.0  \n",
       "...      ...      ...      ...      ...      ...      ...      ...  \n",
       "3124     0.0      0.0      0.0    252.0      0.0    130.0    206.0  \n",
       "3125     0.0      0.0      0.0    254.0      0.0    108.0    106.0  \n",
       "3126     0.0      0.0      0.0    158.0      0.0    270.0     88.0  \n",
       "3127     0.0      0.0      0.0      0.0      0.0    192.0     54.0  \n",
       "3128     0.0      0.0      0.0      0.0      0.0    180.0     52.0  \n",
       "\n",
       "[3129 rows x 16 columns]"
      ]
     },
     "execution_count": 21,
     "metadata": {},
     "output_type": "execute_result"
    }
   ],
   "source": [
    "data_bulk"
   ]
  },
  {
   "cell_type": "markdown",
   "metadata": {},
   "source": [
    "#### data_bulk_time — данные о подаче сыпучих материалов (время)"
   ]
  },
  {
   "cell_type": "code",
   "execution_count": 22,
   "metadata": {},
   "outputs": [
    {
     "name": "stdout",
     "output_type": "stream",
     "text": [
      "<class 'pandas.core.frame.DataFrame'>\n",
      "RangeIndex: 3129 entries, 0 to 3128\n",
      "Data columns (total 16 columns):\n",
      " #   Column   Non-Null Count  Dtype \n",
      "---  ------   --------------  ----- \n",
      " 0   key      3129 non-null   int64 \n",
      " 1   bulk_1   252 non-null    object\n",
      " 2   bulk_2   22 non-null     object\n",
      " 3   bulk_3   1298 non-null   object\n",
      " 4   bulk_4   1014 non-null   object\n",
      " 5   bulk_5   77 non-null     object\n",
      " 6   bulk_6   576 non-null    object\n",
      " 7   bulk_7   25 non-null     object\n",
      " 8   bulk_8   1 non-null      object\n",
      " 9   bulk_9   19 non-null     object\n",
      " 10  bulk_10  176 non-null    object\n",
      " 11  bulk_11  177 non-null    object\n",
      " 12  bulk_12  2450 non-null   object\n",
      " 13  bulk_13  18 non-null     object\n",
      " 14  bulk_14  2806 non-null   object\n",
      " 15  bulk_15  2248 non-null   object\n",
      "dtypes: int64(1), object(15)\n",
      "memory usage: 391.2+ KB\n"
     ]
    },
    {
     "data": {
      "text/html": [
       "<div>\n",
       "<style scoped>\n",
       "    .dataframe tbody tr th:only-of-type {\n",
       "        vertical-align: middle;\n",
       "    }\n",
       "\n",
       "    .dataframe tbody tr th {\n",
       "        vertical-align: top;\n",
       "    }\n",
       "\n",
       "    .dataframe thead th {\n",
       "        text-align: right;\n",
       "    }\n",
       "</style>\n",
       "<table border=\"1\" class=\"dataframe\">\n",
       "  <thead>\n",
       "    <tr style=\"text-align: right;\">\n",
       "      <th></th>\n",
       "      <th>key</th>\n",
       "      <th>bulk_1</th>\n",
       "      <th>bulk_2</th>\n",
       "      <th>bulk_3</th>\n",
       "      <th>bulk_4</th>\n",
       "      <th>bulk_5</th>\n",
       "      <th>bulk_6</th>\n",
       "      <th>bulk_7</th>\n",
       "      <th>bulk_8</th>\n",
       "      <th>bulk_9</th>\n",
       "      <th>bulk_10</th>\n",
       "      <th>bulk_11</th>\n",
       "      <th>bulk_12</th>\n",
       "      <th>bulk_13</th>\n",
       "      <th>bulk_14</th>\n",
       "      <th>bulk_15</th>\n",
       "    </tr>\n",
       "  </thead>\n",
       "  <tbody>\n",
       "    <tr>\n",
       "      <th>0</th>\n",
       "      <td>1</td>\n",
       "      <td>NaN</td>\n",
       "      <td>NaN</td>\n",
       "      <td>NaN</td>\n",
       "      <td>2019-05-03 11:21:30</td>\n",
       "      <td>NaN</td>\n",
       "      <td>NaN</td>\n",
       "      <td>NaN</td>\n",
       "      <td>NaN</td>\n",
       "      <td>NaN</td>\n",
       "      <td>NaN</td>\n",
       "      <td>NaN</td>\n",
       "      <td>2019-05-03 11:03:52</td>\n",
       "      <td>NaN</td>\n",
       "      <td>2019-05-03 11:03:52</td>\n",
       "      <td>2019-05-03 11:03:52</td>\n",
       "    </tr>\n",
       "    <tr>\n",
       "      <th>1</th>\n",
       "      <td>2</td>\n",
       "      <td>NaN</td>\n",
       "      <td>NaN</td>\n",
       "      <td>NaN</td>\n",
       "      <td>2019-05-03 11:46:38</td>\n",
       "      <td>NaN</td>\n",
       "      <td>NaN</td>\n",
       "      <td>NaN</td>\n",
       "      <td>NaN</td>\n",
       "      <td>NaN</td>\n",
       "      <td>NaN</td>\n",
       "      <td>NaN</td>\n",
       "      <td>2019-05-03 11:40:20</td>\n",
       "      <td>NaN</td>\n",
       "      <td>2019-05-03 11:40:20</td>\n",
       "      <td>2019-05-03 11:40:20</td>\n",
       "    </tr>\n",
       "    <tr>\n",
       "      <th>2</th>\n",
       "      <td>3</td>\n",
       "      <td>NaN</td>\n",
       "      <td>NaN</td>\n",
       "      <td>NaN</td>\n",
       "      <td>2019-05-03 12:31:06</td>\n",
       "      <td>NaN</td>\n",
       "      <td>NaN</td>\n",
       "      <td>NaN</td>\n",
       "      <td>NaN</td>\n",
       "      <td>NaN</td>\n",
       "      <td>NaN</td>\n",
       "      <td>NaN</td>\n",
       "      <td>2019-05-03 12:09:40</td>\n",
       "      <td>NaN</td>\n",
       "      <td>2019-05-03 12:09:40</td>\n",
       "      <td>2019-05-03 12:09:40</td>\n",
       "    </tr>\n",
       "    <tr>\n",
       "      <th>3</th>\n",
       "      <td>4</td>\n",
       "      <td>NaN</td>\n",
       "      <td>NaN</td>\n",
       "      <td>NaN</td>\n",
       "      <td>2019-05-03 12:48:43</td>\n",
       "      <td>NaN</td>\n",
       "      <td>NaN</td>\n",
       "      <td>NaN</td>\n",
       "      <td>NaN</td>\n",
       "      <td>NaN</td>\n",
       "      <td>NaN</td>\n",
       "      <td>NaN</td>\n",
       "      <td>2019-05-03 12:41:24</td>\n",
       "      <td>NaN</td>\n",
       "      <td>2019-05-03 12:41:24</td>\n",
       "      <td>2019-05-03 12:41:24</td>\n",
       "    </tr>\n",
       "    <tr>\n",
       "      <th>4</th>\n",
       "      <td>5</td>\n",
       "      <td>NaN</td>\n",
       "      <td>NaN</td>\n",
       "      <td>NaN</td>\n",
       "      <td>2019-05-03 13:18:50</td>\n",
       "      <td>NaN</td>\n",
       "      <td>NaN</td>\n",
       "      <td>NaN</td>\n",
       "      <td>NaN</td>\n",
       "      <td>NaN</td>\n",
       "      <td>NaN</td>\n",
       "      <td>NaN</td>\n",
       "      <td>2019-05-03 13:12:56</td>\n",
       "      <td>NaN</td>\n",
       "      <td>2019-05-03 13:12:56</td>\n",
       "      <td>2019-05-03 13:12:56</td>\n",
       "    </tr>\n",
       "    <tr>\n",
       "      <th>5</th>\n",
       "      <td>6</td>\n",
       "      <td>NaN</td>\n",
       "      <td>NaN</td>\n",
       "      <td>NaN</td>\n",
       "      <td>2019-05-03 13:59:24</td>\n",
       "      <td>NaN</td>\n",
       "      <td>NaN</td>\n",
       "      <td>NaN</td>\n",
       "      <td>NaN</td>\n",
       "      <td>NaN</td>\n",
       "      <td>NaN</td>\n",
       "      <td>NaN</td>\n",
       "      <td>2019-05-03 13:53:27</td>\n",
       "      <td>NaN</td>\n",
       "      <td>2019-05-03 13:53:27</td>\n",
       "      <td>2019-05-03 13:53:27</td>\n",
       "    </tr>\n",
       "    <tr>\n",
       "      <th>6</th>\n",
       "      <td>7</td>\n",
       "      <td>NaN</td>\n",
       "      <td>NaN</td>\n",
       "      <td>NaN</td>\n",
       "      <td>2019-05-03 14:29:14</td>\n",
       "      <td>NaN</td>\n",
       "      <td>NaN</td>\n",
       "      <td>NaN</td>\n",
       "      <td>NaN</td>\n",
       "      <td>NaN</td>\n",
       "      <td>NaN</td>\n",
       "      <td>NaN</td>\n",
       "      <td>2019-05-03 14:22:19</td>\n",
       "      <td>NaN</td>\n",
       "      <td>2019-05-03 14:22:19</td>\n",
       "      <td>2019-05-03 14:22:19</td>\n",
       "    </tr>\n",
       "    <tr>\n",
       "      <th>7</th>\n",
       "      <td>8</td>\n",
       "      <td>NaN</td>\n",
       "      <td>NaN</td>\n",
       "      <td>NaN</td>\n",
       "      <td>2019-05-03 15:04:05</td>\n",
       "      <td>NaN</td>\n",
       "      <td>NaN</td>\n",
       "      <td>NaN</td>\n",
       "      <td>NaN</td>\n",
       "      <td>NaN</td>\n",
       "      <td>NaN</td>\n",
       "      <td>NaN</td>\n",
       "      <td>2019-05-03 14:55:46</td>\n",
       "      <td>NaN</td>\n",
       "      <td>2019-05-03 14:55:46</td>\n",
       "      <td>2019-05-03 14:55:46</td>\n",
       "    </tr>\n",
       "    <tr>\n",
       "      <th>8</th>\n",
       "      <td>9</td>\n",
       "      <td>NaN</td>\n",
       "      <td>NaN</td>\n",
       "      <td>NaN</td>\n",
       "      <td>2019-05-03 15:47:34</td>\n",
       "      <td>NaN</td>\n",
       "      <td>NaN</td>\n",
       "      <td>NaN</td>\n",
       "      <td>NaN</td>\n",
       "      <td>NaN</td>\n",
       "      <td>NaN</td>\n",
       "      <td>NaN</td>\n",
       "      <td>2019-05-03 15:41:00</td>\n",
       "      <td>NaN</td>\n",
       "      <td>2019-05-03 15:41:00</td>\n",
       "      <td>2019-05-03 15:41:00</td>\n",
       "    </tr>\n",
       "    <tr>\n",
       "      <th>9</th>\n",
       "      <td>10</td>\n",
       "      <td>NaN</td>\n",
       "      <td>NaN</td>\n",
       "      <td>NaN</td>\n",
       "      <td>NaN</td>\n",
       "      <td>NaN</td>\n",
       "      <td>NaN</td>\n",
       "      <td>NaN</td>\n",
       "      <td>NaN</td>\n",
       "      <td>NaN</td>\n",
       "      <td>NaN</td>\n",
       "      <td>NaN</td>\n",
       "      <td>2019-05-03 16:18:52</td>\n",
       "      <td>NaN</td>\n",
       "      <td>2019-05-03 16:18:52</td>\n",
       "      <td>2019-05-03 16:18:52</td>\n",
       "    </tr>\n",
       "  </tbody>\n",
       "</table>\n",
       "</div>"
      ],
      "text/plain": [
       "   key bulk_1 bulk_2 bulk_3               bulk_4 bulk_5 bulk_6 bulk_7 bulk_8  \\\n",
       "0    1    NaN    NaN    NaN  2019-05-03 11:21:30    NaN    NaN    NaN    NaN   \n",
       "1    2    NaN    NaN    NaN  2019-05-03 11:46:38    NaN    NaN    NaN    NaN   \n",
       "2    3    NaN    NaN    NaN  2019-05-03 12:31:06    NaN    NaN    NaN    NaN   \n",
       "3    4    NaN    NaN    NaN  2019-05-03 12:48:43    NaN    NaN    NaN    NaN   \n",
       "4    5    NaN    NaN    NaN  2019-05-03 13:18:50    NaN    NaN    NaN    NaN   \n",
       "5    6    NaN    NaN    NaN  2019-05-03 13:59:24    NaN    NaN    NaN    NaN   \n",
       "6    7    NaN    NaN    NaN  2019-05-03 14:29:14    NaN    NaN    NaN    NaN   \n",
       "7    8    NaN    NaN    NaN  2019-05-03 15:04:05    NaN    NaN    NaN    NaN   \n",
       "8    9    NaN    NaN    NaN  2019-05-03 15:47:34    NaN    NaN    NaN    NaN   \n",
       "9   10    NaN    NaN    NaN                  NaN    NaN    NaN    NaN    NaN   \n",
       "\n",
       "  bulk_9 bulk_10 bulk_11              bulk_12 bulk_13              bulk_14  \\\n",
       "0    NaN     NaN     NaN  2019-05-03 11:03:52     NaN  2019-05-03 11:03:52   \n",
       "1    NaN     NaN     NaN  2019-05-03 11:40:20     NaN  2019-05-03 11:40:20   \n",
       "2    NaN     NaN     NaN  2019-05-03 12:09:40     NaN  2019-05-03 12:09:40   \n",
       "3    NaN     NaN     NaN  2019-05-03 12:41:24     NaN  2019-05-03 12:41:24   \n",
       "4    NaN     NaN     NaN  2019-05-03 13:12:56     NaN  2019-05-03 13:12:56   \n",
       "5    NaN     NaN     NaN  2019-05-03 13:53:27     NaN  2019-05-03 13:53:27   \n",
       "6    NaN     NaN     NaN  2019-05-03 14:22:19     NaN  2019-05-03 14:22:19   \n",
       "7    NaN     NaN     NaN  2019-05-03 14:55:46     NaN  2019-05-03 14:55:46   \n",
       "8    NaN     NaN     NaN  2019-05-03 15:41:00     NaN  2019-05-03 15:41:00   \n",
       "9    NaN     NaN     NaN  2019-05-03 16:18:52     NaN  2019-05-03 16:18:52   \n",
       "\n",
       "               bulk_15  \n",
       "0  2019-05-03 11:03:52  \n",
       "1  2019-05-03 11:40:20  \n",
       "2  2019-05-03 12:09:40  \n",
       "3  2019-05-03 12:41:24  \n",
       "4  2019-05-03 13:12:56  \n",
       "5  2019-05-03 13:53:27  \n",
       "6  2019-05-03 14:22:19  \n",
       "7  2019-05-03 14:55:46  \n",
       "8  2019-05-03 15:41:00  \n",
       "9  2019-05-03 16:18:52  "
      ]
     },
     "metadata": {},
     "output_type": "display_data"
    },
    {
     "data": {
      "text/html": [
       "<div>\n",
       "<style scoped>\n",
       "    .dataframe tbody tr th:only-of-type {\n",
       "        vertical-align: middle;\n",
       "    }\n",
       "\n",
       "    .dataframe tbody tr th {\n",
       "        vertical-align: top;\n",
       "    }\n",
       "\n",
       "    .dataframe thead th {\n",
       "        text-align: right;\n",
       "    }\n",
       "</style>\n",
       "<table border=\"1\" class=\"dataframe\">\n",
       "  <thead>\n",
       "    <tr style=\"text-align: right;\">\n",
       "      <th></th>\n",
       "      <th>key</th>\n",
       "    </tr>\n",
       "  </thead>\n",
       "  <tbody>\n",
       "    <tr>\n",
       "      <th>count</th>\n",
       "      <td>3129.000000</td>\n",
       "    </tr>\n",
       "    <tr>\n",
       "      <th>mean</th>\n",
       "      <td>1624.383509</td>\n",
       "    </tr>\n",
       "    <tr>\n",
       "      <th>std</th>\n",
       "      <td>933.337642</td>\n",
       "    </tr>\n",
       "    <tr>\n",
       "      <th>min</th>\n",
       "      <td>1.000000</td>\n",
       "    </tr>\n",
       "    <tr>\n",
       "      <th>25%</th>\n",
       "      <td>816.000000</td>\n",
       "    </tr>\n",
       "    <tr>\n",
       "      <th>50%</th>\n",
       "      <td>1622.000000</td>\n",
       "    </tr>\n",
       "    <tr>\n",
       "      <th>75%</th>\n",
       "      <td>2431.000000</td>\n",
       "    </tr>\n",
       "    <tr>\n",
       "      <th>max</th>\n",
       "      <td>3241.000000</td>\n",
       "    </tr>\n",
       "  </tbody>\n",
       "</table>\n",
       "</div>"
      ],
      "text/plain": [
       "               key\n",
       "count  3129.000000\n",
       "mean   1624.383509\n",
       "std     933.337642\n",
       "min       1.000000\n",
       "25%     816.000000\n",
       "50%    1622.000000\n",
       "75%    2431.000000\n",
       "max    3241.000000"
      ]
     },
     "metadata": {},
     "output_type": "display_data"
    },
    {
     "name": "stdout",
     "output_type": "stream",
     "text": [
      "Количество дубликатов: 0\n"
     ]
    }
   ],
   "source": [
    "df_info(data_bulk_time)"
   ]
  },
  {
   "cell_type": "markdown",
   "metadata": {},
   "source": [
    "Изменим тип данных в таблице на `datetime`."
   ]
  },
  {
   "cell_type": "code",
   "execution_count": 23,
   "metadata": {},
   "outputs": [],
   "source": [
    "for column in list(data_bulk_time.columns):\n",
    "    if column != 'key':\n",
    "        data_bulk_time[column] = pd.to_datetime(data_bulk_time[column],\n",
    "                                                format='%Y-%m-%d %H:%M:%S')"
   ]
  },
  {
   "cell_type": "code",
   "execution_count": 24,
   "metadata": {},
   "outputs": [
    {
     "name": "stdout",
     "output_type": "stream",
     "text": [
      "<class 'pandas.core.frame.DataFrame'>\n",
      "RangeIndex: 3129 entries, 0 to 3128\n",
      "Data columns (total 16 columns):\n",
      " #   Column   Non-Null Count  Dtype         \n",
      "---  ------   --------------  -----         \n",
      " 0   key      3129 non-null   int64         \n",
      " 1   bulk_1   252 non-null    datetime64[ns]\n",
      " 2   bulk_2   22 non-null     datetime64[ns]\n",
      " 3   bulk_3   1298 non-null   datetime64[ns]\n",
      " 4   bulk_4   1014 non-null   datetime64[ns]\n",
      " 5   bulk_5   77 non-null     datetime64[ns]\n",
      " 6   bulk_6   576 non-null    datetime64[ns]\n",
      " 7   bulk_7   25 non-null     datetime64[ns]\n",
      " 8   bulk_8   1 non-null      datetime64[ns]\n",
      " 9   bulk_9   19 non-null     datetime64[ns]\n",
      " 10  bulk_10  176 non-null    datetime64[ns]\n",
      " 11  bulk_11  177 non-null    datetime64[ns]\n",
      " 12  bulk_12  2450 non-null   datetime64[ns]\n",
      " 13  bulk_13  18 non-null     datetime64[ns]\n",
      " 14  bulk_14  2806 non-null   datetime64[ns]\n",
      " 15  bulk_15  2248 non-null   datetime64[ns]\n",
      "dtypes: datetime64[ns](15), int64(1)\n",
      "memory usage: 391.2 KB\n"
     ]
    },
    {
     "data": {
      "text/html": [
       "<div>\n",
       "<style scoped>\n",
       "    .dataframe tbody tr th:only-of-type {\n",
       "        vertical-align: middle;\n",
       "    }\n",
       "\n",
       "    .dataframe tbody tr th {\n",
       "        vertical-align: top;\n",
       "    }\n",
       "\n",
       "    .dataframe thead th {\n",
       "        text-align: right;\n",
       "    }\n",
       "</style>\n",
       "<table border=\"1\" class=\"dataframe\">\n",
       "  <thead>\n",
       "    <tr style=\"text-align: right;\">\n",
       "      <th></th>\n",
       "      <th>key</th>\n",
       "      <th>bulk_1</th>\n",
       "      <th>bulk_2</th>\n",
       "      <th>bulk_3</th>\n",
       "      <th>bulk_4</th>\n",
       "      <th>bulk_5</th>\n",
       "      <th>bulk_6</th>\n",
       "      <th>bulk_7</th>\n",
       "      <th>bulk_8</th>\n",
       "      <th>bulk_9</th>\n",
       "      <th>bulk_10</th>\n",
       "      <th>bulk_11</th>\n",
       "      <th>bulk_12</th>\n",
       "      <th>bulk_13</th>\n",
       "      <th>bulk_14</th>\n",
       "      <th>bulk_15</th>\n",
       "    </tr>\n",
       "  </thead>\n",
       "  <tbody>\n",
       "    <tr>\n",
       "      <th>0</th>\n",
       "      <td>1</td>\n",
       "      <td>NaT</td>\n",
       "      <td>NaT</td>\n",
       "      <td>NaT</td>\n",
       "      <td>2019-05-03 11:21:30</td>\n",
       "      <td>NaT</td>\n",
       "      <td>NaT</td>\n",
       "      <td>NaT</td>\n",
       "      <td>NaT</td>\n",
       "      <td>NaT</td>\n",
       "      <td>NaT</td>\n",
       "      <td>NaT</td>\n",
       "      <td>2019-05-03 11:03:52</td>\n",
       "      <td>NaT</td>\n",
       "      <td>2019-05-03 11:03:52</td>\n",
       "      <td>2019-05-03 11:03:52</td>\n",
       "    </tr>\n",
       "    <tr>\n",
       "      <th>1</th>\n",
       "      <td>2</td>\n",
       "      <td>NaT</td>\n",
       "      <td>NaT</td>\n",
       "      <td>NaT</td>\n",
       "      <td>2019-05-03 11:46:38</td>\n",
       "      <td>NaT</td>\n",
       "      <td>NaT</td>\n",
       "      <td>NaT</td>\n",
       "      <td>NaT</td>\n",
       "      <td>NaT</td>\n",
       "      <td>NaT</td>\n",
       "      <td>NaT</td>\n",
       "      <td>2019-05-03 11:40:20</td>\n",
       "      <td>NaT</td>\n",
       "      <td>2019-05-03 11:40:20</td>\n",
       "      <td>2019-05-03 11:40:20</td>\n",
       "    </tr>\n",
       "    <tr>\n",
       "      <th>2</th>\n",
       "      <td>3</td>\n",
       "      <td>NaT</td>\n",
       "      <td>NaT</td>\n",
       "      <td>NaT</td>\n",
       "      <td>2019-05-03 12:31:06</td>\n",
       "      <td>NaT</td>\n",
       "      <td>NaT</td>\n",
       "      <td>NaT</td>\n",
       "      <td>NaT</td>\n",
       "      <td>NaT</td>\n",
       "      <td>NaT</td>\n",
       "      <td>NaT</td>\n",
       "      <td>2019-05-03 12:09:40</td>\n",
       "      <td>NaT</td>\n",
       "      <td>2019-05-03 12:09:40</td>\n",
       "      <td>2019-05-03 12:09:40</td>\n",
       "    </tr>\n",
       "    <tr>\n",
       "      <th>3</th>\n",
       "      <td>4</td>\n",
       "      <td>NaT</td>\n",
       "      <td>NaT</td>\n",
       "      <td>NaT</td>\n",
       "      <td>2019-05-03 12:48:43</td>\n",
       "      <td>NaT</td>\n",
       "      <td>NaT</td>\n",
       "      <td>NaT</td>\n",
       "      <td>NaT</td>\n",
       "      <td>NaT</td>\n",
       "      <td>NaT</td>\n",
       "      <td>NaT</td>\n",
       "      <td>2019-05-03 12:41:24</td>\n",
       "      <td>NaT</td>\n",
       "      <td>2019-05-03 12:41:24</td>\n",
       "      <td>2019-05-03 12:41:24</td>\n",
       "    </tr>\n",
       "    <tr>\n",
       "      <th>4</th>\n",
       "      <td>5</td>\n",
       "      <td>NaT</td>\n",
       "      <td>NaT</td>\n",
       "      <td>NaT</td>\n",
       "      <td>2019-05-03 13:18:50</td>\n",
       "      <td>NaT</td>\n",
       "      <td>NaT</td>\n",
       "      <td>NaT</td>\n",
       "      <td>NaT</td>\n",
       "      <td>NaT</td>\n",
       "      <td>NaT</td>\n",
       "      <td>NaT</td>\n",
       "      <td>2019-05-03 13:12:56</td>\n",
       "      <td>NaT</td>\n",
       "      <td>2019-05-03 13:12:56</td>\n",
       "      <td>2019-05-03 13:12:56</td>\n",
       "    </tr>\n",
       "    <tr>\n",
       "      <th>5</th>\n",
       "      <td>6</td>\n",
       "      <td>NaT</td>\n",
       "      <td>NaT</td>\n",
       "      <td>NaT</td>\n",
       "      <td>2019-05-03 13:59:24</td>\n",
       "      <td>NaT</td>\n",
       "      <td>NaT</td>\n",
       "      <td>NaT</td>\n",
       "      <td>NaT</td>\n",
       "      <td>NaT</td>\n",
       "      <td>NaT</td>\n",
       "      <td>NaT</td>\n",
       "      <td>2019-05-03 13:53:27</td>\n",
       "      <td>NaT</td>\n",
       "      <td>2019-05-03 13:53:27</td>\n",
       "      <td>2019-05-03 13:53:27</td>\n",
       "    </tr>\n",
       "    <tr>\n",
       "      <th>6</th>\n",
       "      <td>7</td>\n",
       "      <td>NaT</td>\n",
       "      <td>NaT</td>\n",
       "      <td>NaT</td>\n",
       "      <td>2019-05-03 14:29:14</td>\n",
       "      <td>NaT</td>\n",
       "      <td>NaT</td>\n",
       "      <td>NaT</td>\n",
       "      <td>NaT</td>\n",
       "      <td>NaT</td>\n",
       "      <td>NaT</td>\n",
       "      <td>NaT</td>\n",
       "      <td>2019-05-03 14:22:19</td>\n",
       "      <td>NaT</td>\n",
       "      <td>2019-05-03 14:22:19</td>\n",
       "      <td>2019-05-03 14:22:19</td>\n",
       "    </tr>\n",
       "    <tr>\n",
       "      <th>7</th>\n",
       "      <td>8</td>\n",
       "      <td>NaT</td>\n",
       "      <td>NaT</td>\n",
       "      <td>NaT</td>\n",
       "      <td>2019-05-03 15:04:05</td>\n",
       "      <td>NaT</td>\n",
       "      <td>NaT</td>\n",
       "      <td>NaT</td>\n",
       "      <td>NaT</td>\n",
       "      <td>NaT</td>\n",
       "      <td>NaT</td>\n",
       "      <td>NaT</td>\n",
       "      <td>2019-05-03 14:55:46</td>\n",
       "      <td>NaT</td>\n",
       "      <td>2019-05-03 14:55:46</td>\n",
       "      <td>2019-05-03 14:55:46</td>\n",
       "    </tr>\n",
       "    <tr>\n",
       "      <th>8</th>\n",
       "      <td>9</td>\n",
       "      <td>NaT</td>\n",
       "      <td>NaT</td>\n",
       "      <td>NaT</td>\n",
       "      <td>2019-05-03 15:47:34</td>\n",
       "      <td>NaT</td>\n",
       "      <td>NaT</td>\n",
       "      <td>NaT</td>\n",
       "      <td>NaT</td>\n",
       "      <td>NaT</td>\n",
       "      <td>NaT</td>\n",
       "      <td>NaT</td>\n",
       "      <td>2019-05-03 15:41:00</td>\n",
       "      <td>NaT</td>\n",
       "      <td>2019-05-03 15:41:00</td>\n",
       "      <td>2019-05-03 15:41:00</td>\n",
       "    </tr>\n",
       "    <tr>\n",
       "      <th>9</th>\n",
       "      <td>10</td>\n",
       "      <td>NaT</td>\n",
       "      <td>NaT</td>\n",
       "      <td>NaT</td>\n",
       "      <td>NaT</td>\n",
       "      <td>NaT</td>\n",
       "      <td>NaT</td>\n",
       "      <td>NaT</td>\n",
       "      <td>NaT</td>\n",
       "      <td>NaT</td>\n",
       "      <td>NaT</td>\n",
       "      <td>NaT</td>\n",
       "      <td>2019-05-03 16:18:52</td>\n",
       "      <td>NaT</td>\n",
       "      <td>2019-05-03 16:18:52</td>\n",
       "      <td>2019-05-03 16:18:52</td>\n",
       "    </tr>\n",
       "  </tbody>\n",
       "</table>\n",
       "</div>"
      ],
      "text/plain": [
       "   key bulk_1 bulk_2 bulk_3              bulk_4 bulk_5 bulk_6 bulk_7 bulk_8  \\\n",
       "0    1    NaT    NaT    NaT 2019-05-03 11:21:30    NaT    NaT    NaT    NaT   \n",
       "1    2    NaT    NaT    NaT 2019-05-03 11:46:38    NaT    NaT    NaT    NaT   \n",
       "2    3    NaT    NaT    NaT 2019-05-03 12:31:06    NaT    NaT    NaT    NaT   \n",
       "3    4    NaT    NaT    NaT 2019-05-03 12:48:43    NaT    NaT    NaT    NaT   \n",
       "4    5    NaT    NaT    NaT 2019-05-03 13:18:50    NaT    NaT    NaT    NaT   \n",
       "5    6    NaT    NaT    NaT 2019-05-03 13:59:24    NaT    NaT    NaT    NaT   \n",
       "6    7    NaT    NaT    NaT 2019-05-03 14:29:14    NaT    NaT    NaT    NaT   \n",
       "7    8    NaT    NaT    NaT 2019-05-03 15:04:05    NaT    NaT    NaT    NaT   \n",
       "8    9    NaT    NaT    NaT 2019-05-03 15:47:34    NaT    NaT    NaT    NaT   \n",
       "9   10    NaT    NaT    NaT                 NaT    NaT    NaT    NaT    NaT   \n",
       "\n",
       "  bulk_9 bulk_10 bulk_11             bulk_12 bulk_13             bulk_14  \\\n",
       "0    NaT     NaT     NaT 2019-05-03 11:03:52     NaT 2019-05-03 11:03:52   \n",
       "1    NaT     NaT     NaT 2019-05-03 11:40:20     NaT 2019-05-03 11:40:20   \n",
       "2    NaT     NaT     NaT 2019-05-03 12:09:40     NaT 2019-05-03 12:09:40   \n",
       "3    NaT     NaT     NaT 2019-05-03 12:41:24     NaT 2019-05-03 12:41:24   \n",
       "4    NaT     NaT     NaT 2019-05-03 13:12:56     NaT 2019-05-03 13:12:56   \n",
       "5    NaT     NaT     NaT 2019-05-03 13:53:27     NaT 2019-05-03 13:53:27   \n",
       "6    NaT     NaT     NaT 2019-05-03 14:22:19     NaT 2019-05-03 14:22:19   \n",
       "7    NaT     NaT     NaT 2019-05-03 14:55:46     NaT 2019-05-03 14:55:46   \n",
       "8    NaT     NaT     NaT 2019-05-03 15:41:00     NaT 2019-05-03 15:41:00   \n",
       "9    NaT     NaT     NaT 2019-05-03 16:18:52     NaT 2019-05-03 16:18:52   \n",
       "\n",
       "              bulk_15  \n",
       "0 2019-05-03 11:03:52  \n",
       "1 2019-05-03 11:40:20  \n",
       "2 2019-05-03 12:09:40  \n",
       "3 2019-05-03 12:41:24  \n",
       "4 2019-05-03 13:12:56  \n",
       "5 2019-05-03 13:53:27  \n",
       "6 2019-05-03 14:22:19  \n",
       "7 2019-05-03 14:55:46  \n",
       "8 2019-05-03 15:41:00  \n",
       "9 2019-05-03 16:18:52  "
      ]
     },
     "metadata": {},
     "output_type": "display_data"
    },
    {
     "data": {
      "text/html": [
       "<div>\n",
       "<style scoped>\n",
       "    .dataframe tbody tr th:only-of-type {\n",
       "        vertical-align: middle;\n",
       "    }\n",
       "\n",
       "    .dataframe tbody tr th {\n",
       "        vertical-align: top;\n",
       "    }\n",
       "\n",
       "    .dataframe thead th {\n",
       "        text-align: right;\n",
       "    }\n",
       "</style>\n",
       "<table border=\"1\" class=\"dataframe\">\n",
       "  <thead>\n",
       "    <tr style=\"text-align: right;\">\n",
       "      <th></th>\n",
       "      <th>key</th>\n",
       "    </tr>\n",
       "  </thead>\n",
       "  <tbody>\n",
       "    <tr>\n",
       "      <th>count</th>\n",
       "      <td>3129.000000</td>\n",
       "    </tr>\n",
       "    <tr>\n",
       "      <th>mean</th>\n",
       "      <td>1624.383509</td>\n",
       "    </tr>\n",
       "    <tr>\n",
       "      <th>std</th>\n",
       "      <td>933.337642</td>\n",
       "    </tr>\n",
       "    <tr>\n",
       "      <th>min</th>\n",
       "      <td>1.000000</td>\n",
       "    </tr>\n",
       "    <tr>\n",
       "      <th>25%</th>\n",
       "      <td>816.000000</td>\n",
       "    </tr>\n",
       "    <tr>\n",
       "      <th>50%</th>\n",
       "      <td>1622.000000</td>\n",
       "    </tr>\n",
       "    <tr>\n",
       "      <th>75%</th>\n",
       "      <td>2431.000000</td>\n",
       "    </tr>\n",
       "    <tr>\n",
       "      <th>max</th>\n",
       "      <td>3241.000000</td>\n",
       "    </tr>\n",
       "  </tbody>\n",
       "</table>\n",
       "</div>"
      ],
      "text/plain": [
       "               key\n",
       "count  3129.000000\n",
       "mean   1624.383509\n",
       "std     933.337642\n",
       "min       1.000000\n",
       "25%     816.000000\n",
       "50%    1622.000000\n",
       "75%    2431.000000\n",
       "max    3241.000000"
      ]
     },
     "metadata": {},
     "output_type": "display_data"
    },
    {
     "name": "stdout",
     "output_type": "stream",
     "text": [
      "Количество дубликатов: 0\n"
     ]
    }
   ],
   "source": [
    "df_info(data_bulk_time)"
   ]
  },
  {
   "cell_type": "markdown",
   "metadata": {},
   "source": [
    "В этой таблице содержатся данные о времени, когда подавались те или иные сыпучие материалы из предыдущей таблицы. "
   ]
  },
  {
   "cell_type": "markdown",
   "metadata": {},
   "source": [
    "#### data_gas — данные о продувке сплава газом"
   ]
  },
  {
   "cell_type": "code",
   "execution_count": 25,
   "metadata": {},
   "outputs": [
    {
     "name": "stdout",
     "output_type": "stream",
     "text": [
      "<class 'pandas.core.frame.DataFrame'>\n",
      "RangeIndex: 3239 entries, 0 to 3238\n",
      "Data columns (total 2 columns):\n",
      " #   Column  Non-Null Count  Dtype  \n",
      "---  ------  --------------  -----  \n",
      " 0   key     3239 non-null   int64  \n",
      " 1   gas_1   3239 non-null   float64\n",
      "dtypes: float64(1), int64(1)\n",
      "memory usage: 50.7 KB\n"
     ]
    },
    {
     "data": {
      "text/html": [
       "<div>\n",
       "<style scoped>\n",
       "    .dataframe tbody tr th:only-of-type {\n",
       "        vertical-align: middle;\n",
       "    }\n",
       "\n",
       "    .dataframe tbody tr th {\n",
       "        vertical-align: top;\n",
       "    }\n",
       "\n",
       "    .dataframe thead th {\n",
       "        text-align: right;\n",
       "    }\n",
       "</style>\n",
       "<table border=\"1\" class=\"dataframe\">\n",
       "  <thead>\n",
       "    <tr style=\"text-align: right;\">\n",
       "      <th></th>\n",
       "      <th>key</th>\n",
       "      <th>gas_1</th>\n",
       "    </tr>\n",
       "  </thead>\n",
       "  <tbody>\n",
       "    <tr>\n",
       "      <th>0</th>\n",
       "      <td>1</td>\n",
       "      <td>29.749986</td>\n",
       "    </tr>\n",
       "    <tr>\n",
       "      <th>1</th>\n",
       "      <td>2</td>\n",
       "      <td>12.555561</td>\n",
       "    </tr>\n",
       "    <tr>\n",
       "      <th>2</th>\n",
       "      <td>3</td>\n",
       "      <td>28.554793</td>\n",
       "    </tr>\n",
       "    <tr>\n",
       "      <th>3</th>\n",
       "      <td>4</td>\n",
       "      <td>18.841219</td>\n",
       "    </tr>\n",
       "    <tr>\n",
       "      <th>4</th>\n",
       "      <td>5</td>\n",
       "      <td>5.413692</td>\n",
       "    </tr>\n",
       "    <tr>\n",
       "      <th>5</th>\n",
       "      <td>6</td>\n",
       "      <td>11.273392</td>\n",
       "    </tr>\n",
       "    <tr>\n",
       "      <th>6</th>\n",
       "      <td>7</td>\n",
       "      <td>9.836267</td>\n",
       "    </tr>\n",
       "    <tr>\n",
       "      <th>7</th>\n",
       "      <td>8</td>\n",
       "      <td>15.171553</td>\n",
       "    </tr>\n",
       "    <tr>\n",
       "      <th>8</th>\n",
       "      <td>9</td>\n",
       "      <td>8.216623</td>\n",
       "    </tr>\n",
       "    <tr>\n",
       "      <th>9</th>\n",
       "      <td>10</td>\n",
       "      <td>6.529891</td>\n",
       "    </tr>\n",
       "  </tbody>\n",
       "</table>\n",
       "</div>"
      ],
      "text/plain": [
       "   key      gas_1\n",
       "0    1  29.749986\n",
       "1    2  12.555561\n",
       "2    3  28.554793\n",
       "3    4  18.841219\n",
       "4    5   5.413692\n",
       "5    6  11.273392\n",
       "6    7   9.836267\n",
       "7    8  15.171553\n",
       "8    9   8.216623\n",
       "9   10   6.529891"
      ]
     },
     "metadata": {},
     "output_type": "display_data"
    },
    {
     "data": {
      "text/html": [
       "<div>\n",
       "<style scoped>\n",
       "    .dataframe tbody tr th:only-of-type {\n",
       "        vertical-align: middle;\n",
       "    }\n",
       "\n",
       "    .dataframe tbody tr th {\n",
       "        vertical-align: top;\n",
       "    }\n",
       "\n",
       "    .dataframe thead th {\n",
       "        text-align: right;\n",
       "    }\n",
       "</style>\n",
       "<table border=\"1\" class=\"dataframe\">\n",
       "  <thead>\n",
       "    <tr style=\"text-align: right;\">\n",
       "      <th></th>\n",
       "      <th>key</th>\n",
       "      <th>gas_1</th>\n",
       "    </tr>\n",
       "  </thead>\n",
       "  <tbody>\n",
       "    <tr>\n",
       "      <th>count</th>\n",
       "      <td>3239.000000</td>\n",
       "      <td>3239.000000</td>\n",
       "    </tr>\n",
       "    <tr>\n",
       "      <th>mean</th>\n",
       "      <td>1621.861377</td>\n",
       "      <td>11.002062</td>\n",
       "    </tr>\n",
       "    <tr>\n",
       "      <th>std</th>\n",
       "      <td>935.386334</td>\n",
       "      <td>6.220327</td>\n",
       "    </tr>\n",
       "    <tr>\n",
       "      <th>min</th>\n",
       "      <td>1.000000</td>\n",
       "      <td>0.008399</td>\n",
       "    </tr>\n",
       "    <tr>\n",
       "      <th>25%</th>\n",
       "      <td>812.500000</td>\n",
       "      <td>7.043089</td>\n",
       "    </tr>\n",
       "    <tr>\n",
       "      <th>50%</th>\n",
       "      <td>1622.000000</td>\n",
       "      <td>9.836267</td>\n",
       "    </tr>\n",
       "    <tr>\n",
       "      <th>75%</th>\n",
       "      <td>2431.500000</td>\n",
       "      <td>13.769915</td>\n",
       "    </tr>\n",
       "    <tr>\n",
       "      <th>max</th>\n",
       "      <td>3241.000000</td>\n",
       "      <td>77.995040</td>\n",
       "    </tr>\n",
       "  </tbody>\n",
       "</table>\n",
       "</div>"
      ],
      "text/plain": [
       "               key        gas_1\n",
       "count  3239.000000  3239.000000\n",
       "mean   1621.861377    11.002062\n",
       "std     935.386334     6.220327\n",
       "min       1.000000     0.008399\n",
       "25%     812.500000     7.043089\n",
       "50%    1622.000000     9.836267\n",
       "75%    2431.500000    13.769915\n",
       "max    3241.000000    77.995040"
      ]
     },
     "metadata": {},
     "output_type": "display_data"
    },
    {
     "name": "stdout",
     "output_type": "stream",
     "text": [
      "Количество дубликатов: 0\n"
     ]
    }
   ],
   "source": [
    "df_info(data_gas)"
   ]
  },
  {
   "cell_type": "code",
   "execution_count": 26,
   "metadata": {},
   "outputs": [
    {
     "data": {
      "image/png": "[encoded data removed]",
      "text/plain": [
       "<Figure size 1152x576 with 2 Axes>"
      ]
     },
     "metadata": {},
     "output_type": "display_data"
    }
   ],
   "source": [
    "histogram_boxplot(data_gas['gas_1'], 'Данные о продувке газом')"
   ]
  },
  {
   "cell_type": "markdown",
   "metadata": {},
   "source": [
    "Данные о продувке сплава инертным газом выглядят вполне правдоподобно. Есть длинный правый хвост, но значения не похожи на явные аномалии."
   ]
  },
  {
   "cell_type": "markdown",
   "metadata": {},
   "source": [
    "#### data_temp — результаты измерения температуры"
   ]
  },
  {
   "cell_type": "code",
   "execution_count": 27,
   "metadata": {},
   "outputs": [
    {
     "name": "stdout",
     "output_type": "stream",
     "text": [
      "<class 'pandas.core.frame.DataFrame'>\n",
      "RangeIndex: 15907 entries, 0 to 15906\n",
      "Data columns (total 3 columns):\n",
      " #   Column            Non-Null Count  Dtype  \n",
      "---  ------            --------------  -----  \n",
      " 0   key               15907 non-null  int64  \n",
      " 1   measurement_time  15907 non-null  object \n",
      " 2   temperature       13006 non-null  float64\n",
      "dtypes: float64(1), int64(1), object(1)\n",
      "memory usage: 372.9+ KB\n"
     ]
    },
    {
     "data": {
      "text/html": [
       "<div>\n",
       "<style scoped>\n",
       "    .dataframe tbody tr th:only-of-type {\n",
       "        vertical-align: middle;\n",
       "    }\n",
       "\n",
       "    .dataframe tbody tr th {\n",
       "        vertical-align: top;\n",
       "    }\n",
       "\n",
       "    .dataframe thead th {\n",
       "        text-align: right;\n",
       "    }\n",
       "</style>\n",
       "<table border=\"1\" class=\"dataframe\">\n",
       "  <thead>\n",
       "    <tr style=\"text-align: right;\">\n",
       "      <th></th>\n",
       "      <th>key</th>\n",
       "      <th>measurement_time</th>\n",
       "      <th>temperature</th>\n",
       "    </tr>\n",
       "  </thead>\n",
       "  <tbody>\n",
       "    <tr>\n",
       "      <th>0</th>\n",
       "      <td>1</td>\n",
       "      <td>2019-05-03 11:16:18</td>\n",
       "      <td>1571.0</td>\n",
       "    </tr>\n",
       "    <tr>\n",
       "      <th>1</th>\n",
       "      <td>1</td>\n",
       "      <td>2019-05-03 11:25:53</td>\n",
       "      <td>1604.0</td>\n",
       "    </tr>\n",
       "    <tr>\n",
       "      <th>2</th>\n",
       "      <td>1</td>\n",
       "      <td>2019-05-03 11:29:11</td>\n",
       "      <td>1618.0</td>\n",
       "    </tr>\n",
       "    <tr>\n",
       "      <th>3</th>\n",
       "      <td>1</td>\n",
       "      <td>2019-05-03 11:30:01</td>\n",
       "      <td>1601.0</td>\n",
       "    </tr>\n",
       "    <tr>\n",
       "      <th>4</th>\n",
       "      <td>1</td>\n",
       "      <td>2019-05-03 11:30:39</td>\n",
       "      <td>1613.0</td>\n",
       "    </tr>\n",
       "    <tr>\n",
       "      <th>5</th>\n",
       "      <td>2</td>\n",
       "      <td>2019-05-03 11:37:27</td>\n",
       "      <td>1581.0</td>\n",
       "    </tr>\n",
       "    <tr>\n",
       "      <th>6</th>\n",
       "      <td>2</td>\n",
       "      <td>2019-05-03 11:38:00</td>\n",
       "      <td>1577.0</td>\n",
       "    </tr>\n",
       "    <tr>\n",
       "      <th>7</th>\n",
       "      <td>2</td>\n",
       "      <td>2019-05-03 11:49:38</td>\n",
       "      <td>1589.0</td>\n",
       "    </tr>\n",
       "    <tr>\n",
       "      <th>8</th>\n",
       "      <td>2</td>\n",
       "      <td>2019-05-03 11:55:50</td>\n",
       "      <td>1604.0</td>\n",
       "    </tr>\n",
       "    <tr>\n",
       "      <th>9</th>\n",
       "      <td>2</td>\n",
       "      <td>2019-05-03 11:58:24</td>\n",
       "      <td>1608.0</td>\n",
       "    </tr>\n",
       "  </tbody>\n",
       "</table>\n",
       "</div>"
      ],
      "text/plain": [
       "   key     measurement_time  temperature\n",
       "0    1  2019-05-03 11:16:18       1571.0\n",
       "1    1  2019-05-03 11:25:53       1604.0\n",
       "2    1  2019-05-03 11:29:11       1618.0\n",
       "3    1  2019-05-03 11:30:01       1601.0\n",
       "4    1  2019-05-03 11:30:39       1613.0\n",
       "5    2  2019-05-03 11:37:27       1581.0\n",
       "6    2  2019-05-03 11:38:00       1577.0\n",
       "7    2  2019-05-03 11:49:38       1589.0\n",
       "8    2  2019-05-03 11:55:50       1604.0\n",
       "9    2  2019-05-03 11:58:24       1608.0"
      ]
     },
     "metadata": {},
     "output_type": "display_data"
    },
    {
     "data": {
      "text/html": [
       "<div>\n",
       "<style scoped>\n",
       "    .dataframe tbody tr th:only-of-type {\n",
       "        vertical-align: middle;\n",
       "    }\n",
       "\n",
       "    .dataframe tbody tr th {\n",
       "        vertical-align: top;\n",
       "    }\n",
       "\n",
       "    .dataframe thead th {\n",
       "        text-align: right;\n",
       "    }\n",
       "</style>\n",
       "<table border=\"1\" class=\"dataframe\">\n",
       "  <thead>\n",
       "    <tr style=\"text-align: right;\">\n",
       "      <th></th>\n",
       "      <th>key</th>\n",
       "      <th>temperature</th>\n",
       "    </tr>\n",
       "  </thead>\n",
       "  <tbody>\n",
       "    <tr>\n",
       "      <th>count</th>\n",
       "      <td>15907.000000</td>\n",
       "      <td>13006.000000</td>\n",
       "    </tr>\n",
       "    <tr>\n",
       "      <th>mean</th>\n",
       "      <td>1607.880870</td>\n",
       "      <td>1591.840920</td>\n",
       "    </tr>\n",
       "    <tr>\n",
       "      <th>std</th>\n",
       "      <td>942.212073</td>\n",
       "      <td>21.375851</td>\n",
       "    </tr>\n",
       "    <tr>\n",
       "      <th>min</th>\n",
       "      <td>1.000000</td>\n",
       "      <td>1191.000000</td>\n",
       "    </tr>\n",
       "    <tr>\n",
       "      <th>25%</th>\n",
       "      <td>790.000000</td>\n",
       "      <td>1581.000000</td>\n",
       "    </tr>\n",
       "    <tr>\n",
       "      <th>50%</th>\n",
       "      <td>1618.000000</td>\n",
       "      <td>1591.000000</td>\n",
       "    </tr>\n",
       "    <tr>\n",
       "      <th>75%</th>\n",
       "      <td>2427.000000</td>\n",
       "      <td>1601.000000</td>\n",
       "    </tr>\n",
       "    <tr>\n",
       "      <th>max</th>\n",
       "      <td>3241.000000</td>\n",
       "      <td>1705.000000</td>\n",
       "    </tr>\n",
       "  </tbody>\n",
       "</table>\n",
       "</div>"
      ],
      "text/plain": [
       "                key   temperature\n",
       "count  15907.000000  13006.000000\n",
       "mean    1607.880870   1591.840920\n",
       "std      942.212073     21.375851\n",
       "min        1.000000   1191.000000\n",
       "25%      790.000000   1581.000000\n",
       "50%     1618.000000   1591.000000\n",
       "75%     2427.000000   1601.000000\n",
       "max     3241.000000   1705.000000"
      ]
     },
     "metadata": {},
     "output_type": "display_data"
    },
    {
     "name": "stdout",
     "output_type": "stream",
     "text": [
      "Количество дубликатов: 0\n"
     ]
    }
   ],
   "source": [
    "df_info(data_temp)"
   ]
  },
  {
   "cell_type": "code",
   "execution_count": 28,
   "metadata": {},
   "outputs": [],
   "source": [
    "data_temp['measurement_time'] = pd.to_datetime(data_temp['measurement_time'],\n",
    "                                               format='%Y-%m-%d %H:%M:%S')"
   ]
  },
  {
   "cell_type": "code",
   "execution_count": 29,
   "metadata": {},
   "outputs": [
    {
     "data": {
      "image/png": "[encoded data removed]",
      "text/plain": [
       "<Figure size 1152x576 with 2 Axes>"
      ]
     },
     "metadata": {},
     "output_type": "display_data"
    }
   ],
   "source": [
    "histogram_boxplot(data_temp['temperature'], 'Данные о измерении температуры')"
   ]
  },
  {
   "cell_type": "markdown",
   "metadata": {},
   "source": [
    "Распределение нормальное. Есть выбросы ниже 1500 градусов. Взгялнем на них."
   ]
  },
  {
   "cell_type": "code",
   "execution_count": 30,
   "metadata": {},
   "outputs": [
    {
     "data": {
      "text/html": [
       "<div>\n",
       "<style scoped>\n",
       "    .dataframe tbody tr th:only-of-type {\n",
       "        vertical-align: middle;\n",
       "    }\n",
       "\n",
       "    .dataframe tbody tr th {\n",
       "        vertical-align: top;\n",
       "    }\n",
       "\n",
       "    .dataframe thead th {\n",
       "        text-align: right;\n",
       "    }\n",
       "</style>\n",
       "<table border=\"1\" class=\"dataframe\">\n",
       "  <thead>\n",
       "    <tr style=\"text-align: right;\">\n",
       "      <th></th>\n",
       "      <th>key</th>\n",
       "      <th>measurement_time</th>\n",
       "      <th>temperature</th>\n",
       "    </tr>\n",
       "  </thead>\n",
       "  <tbody>\n",
       "    <tr>\n",
       "      <th>4350</th>\n",
       "      <td>867</td>\n",
       "      <td>2019-06-04 14:21:00</td>\n",
       "      <td>1191.0</td>\n",
       "    </tr>\n",
       "    <tr>\n",
       "      <th>5978</th>\n",
       "      <td>1214</td>\n",
       "      <td>2019-06-16 05:32:00</td>\n",
       "      <td>1208.0</td>\n",
       "    </tr>\n",
       "    <tr>\n",
       "      <th>7958</th>\n",
       "      <td>1619</td>\n",
       "      <td>2019-06-30 11:03:54</td>\n",
       "      <td>1218.0</td>\n",
       "    </tr>\n",
       "    <tr>\n",
       "      <th>8913</th>\n",
       "      <td>1818</td>\n",
       "      <td>2019-07-07 00:30:49</td>\n",
       "      <td>1383.0</td>\n",
       "    </tr>\n",
       "    <tr>\n",
       "      <th>8914</th>\n",
       "      <td>1818</td>\n",
       "      <td>2019-07-07 00:31:40</td>\n",
       "      <td>1383.0</td>\n",
       "    </tr>\n",
       "    <tr>\n",
       "      <th>10127</th>\n",
       "      <td>2052</td>\n",
       "      <td>2019-07-21 14:51:40</td>\n",
       "      <td>1227.0</td>\n",
       "    </tr>\n",
       "    <tr>\n",
       "      <th>12564</th>\n",
       "      <td>2561</td>\n",
       "      <td>2019-08-08 07:34:15</td>\n",
       "      <td>1204.0</td>\n",
       "    </tr>\n",
       "  </tbody>\n",
       "</table>\n",
       "</div>"
      ],
      "text/plain": [
       "        key    measurement_time  temperature\n",
       "4350    867 2019-06-04 14:21:00       1191.0\n",
       "5978   1214 2019-06-16 05:32:00       1208.0\n",
       "7958   1619 2019-06-30 11:03:54       1218.0\n",
       "8913   1818 2019-07-07 00:30:49       1383.0\n",
       "8914   1818 2019-07-07 00:31:40       1383.0\n",
       "10127  2052 2019-07-21 14:51:40       1227.0\n",
       "12564  2561 2019-08-08 07:34:15       1204.0"
      ]
     },
     "execution_count": 30,
     "metadata": {},
     "output_type": "execute_result"
    }
   ],
   "source": [
    "data_temp.loc[data_temp['temperature'] < 1500]"
   ]
  },
  {
   "cell_type": "markdown",
   "metadata": {},
   "source": [
    "Из более чем 15000 замеров у нас есть 7 замеров, которые сильно отличаются от всей выборки. Можно предположить, что эти замеры были сделаны слишком рано во время технологического процесса. Согласно [источнику](https://www.google.com/search?q=%D1%82%D0%B5%D0%BC%D0%BF%D0%B5%D1%80%D0%B0%D1%82%D1%83%D1%80%D0%B0+%D0%BF%D0%BB%D0%B0%D0%B2%D0%BB%D0%B5%D0%BD%D0%B8%D1%8F+%D1%81%D1%82%D0%B0%D0%BB%D0%B8&rlz=1C1GCEA_enRU867RU867&oq=%D1%82%D0%B5%D0%BC%D0%BF%D0%B5%D1%80%D0%B0%D1%82%D1%83%D1%80%D0%B0+%D0%BF%D0%BB%D0%B0%D0%B2%D0%BB%D0%B5%D0%BD%D0%B8%D1%8F+%D1%81%D1%82%D0%B0%D0%BB%D0%B8&aqs=chrome..69i57j0i433l2j0l3j0i433j0l3.5896j1j7&sourceid=chrome&ie=UTF-8) температура плавления стали находится в диапазоне 1450-1520 градусов цельсия. Поэтому такие значения являются явными аномалиями и нам стоит от них избавиться. "
   ]
  },
  {
   "cell_type": "code",
   "execution_count": 31,
   "metadata": {},
   "outputs": [],
   "source": [
    "data_temp = data_temp.loc[data_temp['temperature'] > 1500]"
   ]
  },
  {
   "cell_type": "code",
   "execution_count": 32,
   "metadata": {},
   "outputs": [
    {
     "data": {
      "image/png": "[encoded data removed]",
      "text/plain": [
       "<Figure size 1152x576 with 2 Axes>"
      ]
     },
     "metadata": {},
     "output_type": "display_data"
    }
   ],
   "source": [
    "histogram_boxplot(data_temp['temperature'], 'Температура')"
   ]
  },
  {
   "cell_type": "markdown",
   "metadata": {},
   "source": [
    "При более внимательном осмотре этого датасета нужно обратить внимание, что в нем отсутствуют данные о температуре для довольно большого количества строк.\n",
    "Посмотрим, сколько замеров температуры было сделанно для каждой партии стали."
   ]
  },
  {
   "cell_type": "code",
   "execution_count": 33,
   "metadata": {},
   "outputs": [],
   "source": [
    "#Аггрегируем данные по количеству замеров для каждой партии\n",
    "temp_probs_per_key = data_temp.pivot_table(values=['temperature'], index='key', aggfunc='count')\n",
    "#Сбросим индекс, чтобы еще раз произвести подсчет количества партий с каждым количеством замеров\n",
    "temp_probs_per_key.reset_index(inplace=True)\n",
    "#Аггрегируем данные, чтобы получить количество партий для каждого количества замеров\n",
    "temp_probs_per_key = temp_probs_per_key.pivot_table(values='key', index='temperature', aggfunc='count')"
   ]
  },
  {
   "cell_type": "code",
   "execution_count": 34,
   "metadata": {},
   "outputs": [
    {
     "data": {
      "image/png": "[encoded data removed]",
      "text/plain": [
       "<Figure size 1152x432 with 1 Axes>"
      ]
     },
     "metadata": {},
     "output_type": "display_data"
    }
   ],
   "source": [
    "ax = sns.barplot(x = temp_probs_per_key.index, y = temp_probs_per_key['key'], \n",
    "              data = temp_probs_per_key)\n",
    "ax.set(xlabel='Замеров в партии', ylabel='Количество партий')\n",
    "\n",
    "for index, row in temp_probs_per_key.iterrows():\n",
    "    ax.text(row.name - 1, row.key, round(row.key), color='black', ha=\"center\")\n",
    "\n",
    "plt.show()"
   ]
  },
  {
   "cell_type": "markdown",
   "metadata": {},
   "source": [
    "Для 740 партий у нас есть информация лишь по одному замеру. Мы не можем использовать данные этих замеров, потому что у нас нет уверенности, что именно этот один замер для этой партии был последним. Составим список хороших партий, для которых у нас более одного замера температуры."
   ]
  },
  {
   "cell_type": "code",
   "execution_count": 35,
   "metadata": {},
   "outputs": [],
   "source": [
    "#Еще раз сделаем аггрегацию данных по количеству замеров для каждой партии\n",
    "temp_probs_per_key = data_temp.pivot_table(values=['temperature'], index='key', aggfunc='count')\n",
    "#Создадим список с номерами партий в которых более одного замера температуры\n",
    "good_batches = list(temp_probs_per_key.loc[temp_probs_per_key['temperature'] > 1].index)"
   ]
  },
  {
   "cell_type": "markdown",
   "metadata": {},
   "source": [
    "#### data_wire — данные о проволочных материалах (объём)"
   ]
  },
  {
   "cell_type": "code",
   "execution_count": 36,
   "metadata": {},
   "outputs": [
    {
     "name": "stdout",
     "output_type": "stream",
     "text": [
      "<class 'pandas.core.frame.DataFrame'>\n",
      "RangeIndex: 3081 entries, 0 to 3080\n",
      "Data columns (total 10 columns):\n",
      " #   Column  Non-Null Count  Dtype  \n",
      "---  ------  --------------  -----  \n",
      " 0   key     3081 non-null   int64  \n",
      " 1   wire_1  3055 non-null   float64\n",
      " 2   wire_2  1079 non-null   float64\n",
      " 3   wire_3  63 non-null     float64\n",
      " 4   wire_4  14 non-null     float64\n",
      " 5   wire_5  1 non-null      float64\n",
      " 6   wire_6  73 non-null     float64\n",
      " 7   wire_7  11 non-null     float64\n",
      " 8   wire_8  19 non-null     float64\n",
      " 9   wire_9  29 non-null     float64\n",
      "dtypes: float64(9), int64(1)\n",
      "memory usage: 240.8 KB\n"
     ]
    },
    {
     "data": {
      "text/html": [
       "<div>\n",
       "<style scoped>\n",
       "    .dataframe tbody tr th:only-of-type {\n",
       "        vertical-align: middle;\n",
       "    }\n",
       "\n",
       "    .dataframe tbody tr th {\n",
       "        vertical-align: top;\n",
       "    }\n",
       "\n",
       "    .dataframe thead th {\n",
       "        text-align: right;\n",
       "    }\n",
       "</style>\n",
       "<table border=\"1\" class=\"dataframe\">\n",
       "  <thead>\n",
       "    <tr style=\"text-align: right;\">\n",
       "      <th></th>\n",
       "      <th>key</th>\n",
       "      <th>wire_1</th>\n",
       "      <th>wire_2</th>\n",
       "      <th>wire_3</th>\n",
       "      <th>wire_4</th>\n",
       "      <th>wire_5</th>\n",
       "      <th>wire_6</th>\n",
       "      <th>wire_7</th>\n",
       "      <th>wire_8</th>\n",
       "      <th>wire_9</th>\n",
       "    </tr>\n",
       "  </thead>\n",
       "  <tbody>\n",
       "    <tr>\n",
       "      <th>0</th>\n",
       "      <td>1</td>\n",
       "      <td>60.059998</td>\n",
       "      <td>NaN</td>\n",
       "      <td>NaN</td>\n",
       "      <td>NaN</td>\n",
       "      <td>NaN</td>\n",
       "      <td>NaN</td>\n",
       "      <td>NaN</td>\n",
       "      <td>NaN</td>\n",
       "      <td>NaN</td>\n",
       "    </tr>\n",
       "    <tr>\n",
       "      <th>1</th>\n",
       "      <td>2</td>\n",
       "      <td>96.052315</td>\n",
       "      <td>NaN</td>\n",
       "      <td>NaN</td>\n",
       "      <td>NaN</td>\n",
       "      <td>NaN</td>\n",
       "      <td>NaN</td>\n",
       "      <td>NaN</td>\n",
       "      <td>NaN</td>\n",
       "      <td>NaN</td>\n",
       "    </tr>\n",
       "    <tr>\n",
       "      <th>2</th>\n",
       "      <td>3</td>\n",
       "      <td>91.160157</td>\n",
       "      <td>NaN</td>\n",
       "      <td>NaN</td>\n",
       "      <td>NaN</td>\n",
       "      <td>NaN</td>\n",
       "      <td>NaN</td>\n",
       "      <td>NaN</td>\n",
       "      <td>NaN</td>\n",
       "      <td>NaN</td>\n",
       "    </tr>\n",
       "    <tr>\n",
       "      <th>3</th>\n",
       "      <td>4</td>\n",
       "      <td>89.063515</td>\n",
       "      <td>NaN</td>\n",
       "      <td>NaN</td>\n",
       "      <td>NaN</td>\n",
       "      <td>NaN</td>\n",
       "      <td>NaN</td>\n",
       "      <td>NaN</td>\n",
       "      <td>NaN</td>\n",
       "      <td>NaN</td>\n",
       "    </tr>\n",
       "    <tr>\n",
       "      <th>4</th>\n",
       "      <td>5</td>\n",
       "      <td>89.238236</td>\n",
       "      <td>9.114560</td>\n",
       "      <td>NaN</td>\n",
       "      <td>NaN</td>\n",
       "      <td>NaN</td>\n",
       "      <td>NaN</td>\n",
       "      <td>NaN</td>\n",
       "      <td>NaN</td>\n",
       "      <td>NaN</td>\n",
       "    </tr>\n",
       "    <tr>\n",
       "      <th>5</th>\n",
       "      <td>6</td>\n",
       "      <td>99.109917</td>\n",
       "      <td>9.114560</td>\n",
       "      <td>NaN</td>\n",
       "      <td>NaN</td>\n",
       "      <td>NaN</td>\n",
       "      <td>NaN</td>\n",
       "      <td>NaN</td>\n",
       "      <td>NaN</td>\n",
       "      <td>NaN</td>\n",
       "    </tr>\n",
       "    <tr>\n",
       "      <th>6</th>\n",
       "      <td>7</td>\n",
       "      <td>98.061600</td>\n",
       "      <td>NaN</td>\n",
       "      <td>NaN</td>\n",
       "      <td>NaN</td>\n",
       "      <td>NaN</td>\n",
       "      <td>NaN</td>\n",
       "      <td>NaN</td>\n",
       "      <td>NaN</td>\n",
       "      <td>NaN</td>\n",
       "    </tr>\n",
       "    <tr>\n",
       "      <th>7</th>\n",
       "      <td>8</td>\n",
       "      <td>155.282394</td>\n",
       "      <td>NaN</td>\n",
       "      <td>NaN</td>\n",
       "      <td>NaN</td>\n",
       "      <td>NaN</td>\n",
       "      <td>NaN</td>\n",
       "      <td>NaN</td>\n",
       "      <td>NaN</td>\n",
       "      <td>NaN</td>\n",
       "    </tr>\n",
       "    <tr>\n",
       "      <th>8</th>\n",
       "      <td>9</td>\n",
       "      <td>113.393279</td>\n",
       "      <td>9.143681</td>\n",
       "      <td>NaN</td>\n",
       "      <td>NaN</td>\n",
       "      <td>NaN</td>\n",
       "      <td>NaN</td>\n",
       "      <td>NaN</td>\n",
       "      <td>NaN</td>\n",
       "      <td>NaN</td>\n",
       "    </tr>\n",
       "    <tr>\n",
       "      <th>9</th>\n",
       "      <td>10</td>\n",
       "      <td>81.244796</td>\n",
       "      <td>12.376000</td>\n",
       "      <td>NaN</td>\n",
       "      <td>NaN</td>\n",
       "      <td>NaN</td>\n",
       "      <td>NaN</td>\n",
       "      <td>NaN</td>\n",
       "      <td>NaN</td>\n",
       "      <td>NaN</td>\n",
       "    </tr>\n",
       "  </tbody>\n",
       "</table>\n",
       "</div>"
      ],
      "text/plain": [
       "   key      wire_1     wire_2  wire_3  wire_4  wire_5  wire_6  wire_7  wire_8  \\\n",
       "0    1   60.059998        NaN     NaN     NaN     NaN     NaN     NaN     NaN   \n",
       "1    2   96.052315        NaN     NaN     NaN     NaN     NaN     NaN     NaN   \n",
       "2    3   91.160157        NaN     NaN     NaN     NaN     NaN     NaN     NaN   \n",
       "3    4   89.063515        NaN     NaN     NaN     NaN     NaN     NaN     NaN   \n",
       "4    5   89.238236   9.114560     NaN     NaN     NaN     NaN     NaN     NaN   \n",
       "5    6   99.109917   9.114560     NaN     NaN     NaN     NaN     NaN     NaN   \n",
       "6    7   98.061600        NaN     NaN     NaN     NaN     NaN     NaN     NaN   \n",
       "7    8  155.282394        NaN     NaN     NaN     NaN     NaN     NaN     NaN   \n",
       "8    9  113.393279   9.143681     NaN     NaN     NaN     NaN     NaN     NaN   \n",
       "9   10   81.244796  12.376000     NaN     NaN     NaN     NaN     NaN     NaN   \n",
       "\n",
       "   wire_9  \n",
       "0     NaN  \n",
       "1     NaN  \n",
       "2     NaN  \n",
       "3     NaN  \n",
       "4     NaN  \n",
       "5     NaN  \n",
       "6     NaN  \n",
       "7     NaN  \n",
       "8     NaN  \n",
       "9     NaN  "
      ]
     },
     "metadata": {},
     "output_type": "display_data"
    },
    {
     "data": {
      "text/html": [
       "<div>\n",
       "<style scoped>\n",
       "    .dataframe tbody tr th:only-of-type {\n",
       "        vertical-align: middle;\n",
       "    }\n",
       "\n",
       "    .dataframe tbody tr th {\n",
       "        vertical-align: top;\n",
       "    }\n",
       "\n",
       "    .dataframe thead th {\n",
       "        text-align: right;\n",
       "    }\n",
       "</style>\n",
       "<table border=\"1\" class=\"dataframe\">\n",
       "  <thead>\n",
       "    <tr style=\"text-align: right;\">\n",
       "      <th></th>\n",
       "      <th>key</th>\n",
       "      <th>wire_1</th>\n",
       "      <th>wire_2</th>\n",
       "      <th>wire_3</th>\n",
       "      <th>wire_4</th>\n",
       "      <th>wire_5</th>\n",
       "      <th>wire_6</th>\n",
       "      <th>wire_7</th>\n",
       "      <th>wire_8</th>\n",
       "      <th>wire_9</th>\n",
       "    </tr>\n",
       "  </thead>\n",
       "  <tbody>\n",
       "    <tr>\n",
       "      <th>count</th>\n",
       "      <td>3081.000000</td>\n",
       "      <td>3055.000000</td>\n",
       "      <td>1079.000000</td>\n",
       "      <td>63.000000</td>\n",
       "      <td>14.000000</td>\n",
       "      <td>1.000</td>\n",
       "      <td>73.000000</td>\n",
       "      <td>11.000000</td>\n",
       "      <td>19.000000</td>\n",
       "      <td>29.000000</td>\n",
       "    </tr>\n",
       "    <tr>\n",
       "      <th>mean</th>\n",
       "      <td>1623.426485</td>\n",
       "      <td>100.895853</td>\n",
       "      <td>50.577323</td>\n",
       "      <td>189.482681</td>\n",
       "      <td>57.442842</td>\n",
       "      <td>15.132</td>\n",
       "      <td>48.016974</td>\n",
       "      <td>10.039007</td>\n",
       "      <td>53.625193</td>\n",
       "      <td>34.155752</td>\n",
       "    </tr>\n",
       "    <tr>\n",
       "      <th>std</th>\n",
       "      <td>932.996726</td>\n",
       "      <td>42.012518</td>\n",
       "      <td>39.320216</td>\n",
       "      <td>99.513444</td>\n",
       "      <td>28.824667</td>\n",
       "      <td>NaN</td>\n",
       "      <td>33.919845</td>\n",
       "      <td>8.610584</td>\n",
       "      <td>16.881728</td>\n",
       "      <td>19.931616</td>\n",
       "    </tr>\n",
       "    <tr>\n",
       "      <th>min</th>\n",
       "      <td>1.000000</td>\n",
       "      <td>1.918800</td>\n",
       "      <td>0.030160</td>\n",
       "      <td>0.144144</td>\n",
       "      <td>24.148801</td>\n",
       "      <td>15.132</td>\n",
       "      <td>0.034320</td>\n",
       "      <td>0.234208</td>\n",
       "      <td>45.076721</td>\n",
       "      <td>4.622800</td>\n",
       "    </tr>\n",
       "    <tr>\n",
       "      <th>25%</th>\n",
       "      <td>823.000000</td>\n",
       "      <td>72.115684</td>\n",
       "      <td>20.193680</td>\n",
       "      <td>95.135044</td>\n",
       "      <td>40.807002</td>\n",
       "      <td>15.132</td>\n",
       "      <td>25.053600</td>\n",
       "      <td>6.762756</td>\n",
       "      <td>46.094879</td>\n",
       "      <td>22.058401</td>\n",
       "    </tr>\n",
       "    <tr>\n",
       "      <th>50%</th>\n",
       "      <td>1619.000000</td>\n",
       "      <td>100.158234</td>\n",
       "      <td>40.142956</td>\n",
       "      <td>235.194977</td>\n",
       "      <td>45.234282</td>\n",
       "      <td>15.132</td>\n",
       "      <td>42.076324</td>\n",
       "      <td>9.017009</td>\n",
       "      <td>46.279999</td>\n",
       "      <td>30.066399</td>\n",
       "    </tr>\n",
       "    <tr>\n",
       "      <th>75%</th>\n",
       "      <td>2434.000000</td>\n",
       "      <td>126.060483</td>\n",
       "      <td>70.227558</td>\n",
       "      <td>276.252014</td>\n",
       "      <td>76.124619</td>\n",
       "      <td>15.132</td>\n",
       "      <td>64.212723</td>\n",
       "      <td>11.886057</td>\n",
       "      <td>48.089603</td>\n",
       "      <td>43.862003</td>\n",
       "    </tr>\n",
       "    <tr>\n",
       "      <th>max</th>\n",
       "      <td>3241.000000</td>\n",
       "      <td>330.314424</td>\n",
       "      <td>282.780152</td>\n",
       "      <td>385.008668</td>\n",
       "      <td>113.231044</td>\n",
       "      <td>15.132</td>\n",
       "      <td>180.454575</td>\n",
       "      <td>32.847674</td>\n",
       "      <td>102.762401</td>\n",
       "      <td>90.053604</td>\n",
       "    </tr>\n",
       "  </tbody>\n",
       "</table>\n",
       "</div>"
      ],
      "text/plain": [
       "               key       wire_1       wire_2      wire_3      wire_4  wire_5  \\\n",
       "count  3081.000000  3055.000000  1079.000000   63.000000   14.000000   1.000   \n",
       "mean   1623.426485   100.895853    50.577323  189.482681   57.442842  15.132   \n",
       "std     932.996726    42.012518    39.320216   99.513444   28.824667     NaN   \n",
       "min       1.000000     1.918800     0.030160    0.144144   24.148801  15.132   \n",
       "25%     823.000000    72.115684    20.193680   95.135044   40.807002  15.132   \n",
       "50%    1619.000000   100.158234    40.142956  235.194977   45.234282  15.132   \n",
       "75%    2434.000000   126.060483    70.227558  276.252014   76.124619  15.132   \n",
       "max    3241.000000   330.314424   282.780152  385.008668  113.231044  15.132   \n",
       "\n",
       "           wire_6     wire_7      wire_8     wire_9  \n",
       "count   73.000000  11.000000   19.000000  29.000000  \n",
       "mean    48.016974  10.039007   53.625193  34.155752  \n",
       "std     33.919845   8.610584   16.881728  19.931616  \n",
       "min      0.034320   0.234208   45.076721   4.622800  \n",
       "25%     25.053600   6.762756   46.094879  22.058401  \n",
       "50%     42.076324   9.017009   46.279999  30.066399  \n",
       "75%     64.212723  11.886057   48.089603  43.862003  \n",
       "max    180.454575  32.847674  102.762401  90.053604  "
      ]
     },
     "metadata": {},
     "output_type": "display_data"
    },
    {
     "name": "stdout",
     "output_type": "stream",
     "text": [
      "Количество дубликатов: 0\n"
     ]
    }
   ],
   "source": [
    "df_info(data_wire)"
   ]
  },
  {
   "cell_type": "markdown",
   "metadata": {},
   "source": [
    "Данные по проволочным материалам, добавляемым во время технологического процесса не содержат явных аномалий. "
   ]
  },
  {
   "cell_type": "markdown",
   "metadata": {},
   "source": [
    "Но в них много пропусков, как и в таблице по сыпучим материалам. Заполним пропуски нулями."
   ]
  },
  {
   "cell_type": "code",
   "execution_count": 37,
   "metadata": {},
   "outputs": [],
   "source": [
    "data_wire.fillna(0, inplace=True)"
   ]
  },
  {
   "cell_type": "markdown",
   "metadata": {},
   "source": [
    "#### data_wire_time — данные о проволочных материалах (время)"
   ]
  },
  {
   "cell_type": "code",
   "execution_count": 38,
   "metadata": {},
   "outputs": [
    {
     "name": "stdout",
     "output_type": "stream",
     "text": [
      "<class 'pandas.core.frame.DataFrame'>\n",
      "RangeIndex: 3081 entries, 0 to 3080\n",
      "Data columns (total 10 columns):\n",
      " #   Column  Non-Null Count  Dtype \n",
      "---  ------  --------------  ----- \n",
      " 0   key     3081 non-null   int64 \n",
      " 1   wire_1  3055 non-null   object\n",
      " 2   wire_2  1079 non-null   object\n",
      " 3   wire_3  63 non-null     object\n",
      " 4   wire_4  14 non-null     object\n",
      " 5   wire_5  1 non-null      object\n",
      " 6   wire_6  73 non-null     object\n",
      " 7   wire_7  11 non-null     object\n",
      " 8   wire_8  19 non-null     object\n",
      " 9   wire_9  29 non-null     object\n",
      "dtypes: int64(1), object(9)\n",
      "memory usage: 240.8+ KB\n"
     ]
    },
    {
     "data": {
      "text/html": [
       "<div>\n",
       "<style scoped>\n",
       "    .dataframe tbody tr th:only-of-type {\n",
       "        vertical-align: middle;\n",
       "    }\n",
       "\n",
       "    .dataframe tbody tr th {\n",
       "        vertical-align: top;\n",
       "    }\n",
       "\n",
       "    .dataframe thead th {\n",
       "        text-align: right;\n",
       "    }\n",
       "</style>\n",
       "<table border=\"1\" class=\"dataframe\">\n",
       "  <thead>\n",
       "    <tr style=\"text-align: right;\">\n",
       "      <th></th>\n",
       "      <th>key</th>\n",
       "      <th>wire_1</th>\n",
       "      <th>wire_2</th>\n",
       "      <th>wire_3</th>\n",
       "      <th>wire_4</th>\n",
       "      <th>wire_5</th>\n",
       "      <th>wire_6</th>\n",
       "      <th>wire_7</th>\n",
       "      <th>wire_8</th>\n",
       "      <th>wire_9</th>\n",
       "    </tr>\n",
       "  </thead>\n",
       "  <tbody>\n",
       "    <tr>\n",
       "      <th>0</th>\n",
       "      <td>1</td>\n",
       "      <td>2019-05-03 11:11:41</td>\n",
       "      <td>NaN</td>\n",
       "      <td>NaN</td>\n",
       "      <td>NaN</td>\n",
       "      <td>NaN</td>\n",
       "      <td>NaN</td>\n",
       "      <td>NaN</td>\n",
       "      <td>NaN</td>\n",
       "      <td>NaN</td>\n",
       "    </tr>\n",
       "    <tr>\n",
       "      <th>1</th>\n",
       "      <td>2</td>\n",
       "      <td>2019-05-03 11:46:10</td>\n",
       "      <td>NaN</td>\n",
       "      <td>NaN</td>\n",
       "      <td>NaN</td>\n",
       "      <td>NaN</td>\n",
       "      <td>NaN</td>\n",
       "      <td>NaN</td>\n",
       "      <td>NaN</td>\n",
       "      <td>NaN</td>\n",
       "    </tr>\n",
       "    <tr>\n",
       "      <th>2</th>\n",
       "      <td>3</td>\n",
       "      <td>2019-05-03 12:13:47</td>\n",
       "      <td>NaN</td>\n",
       "      <td>NaN</td>\n",
       "      <td>NaN</td>\n",
       "      <td>NaN</td>\n",
       "      <td>NaN</td>\n",
       "      <td>NaN</td>\n",
       "      <td>NaN</td>\n",
       "      <td>NaN</td>\n",
       "    </tr>\n",
       "    <tr>\n",
       "      <th>3</th>\n",
       "      <td>4</td>\n",
       "      <td>2019-05-03 12:48:05</td>\n",
       "      <td>NaN</td>\n",
       "      <td>NaN</td>\n",
       "      <td>NaN</td>\n",
       "      <td>NaN</td>\n",
       "      <td>NaN</td>\n",
       "      <td>NaN</td>\n",
       "      <td>NaN</td>\n",
       "      <td>NaN</td>\n",
       "    </tr>\n",
       "    <tr>\n",
       "      <th>4</th>\n",
       "      <td>5</td>\n",
       "      <td>2019-05-03 13:18:15</td>\n",
       "      <td>2019-05-03 13:32:06</td>\n",
       "      <td>NaN</td>\n",
       "      <td>NaN</td>\n",
       "      <td>NaN</td>\n",
       "      <td>NaN</td>\n",
       "      <td>NaN</td>\n",
       "      <td>NaN</td>\n",
       "      <td>NaN</td>\n",
       "    </tr>\n",
       "    <tr>\n",
       "      <th>5</th>\n",
       "      <td>6</td>\n",
       "      <td>2019-05-03 13:59:02</td>\n",
       "      <td>2019-05-03 13:59:54</td>\n",
       "      <td>NaN</td>\n",
       "      <td>NaN</td>\n",
       "      <td>NaN</td>\n",
       "      <td>NaN</td>\n",
       "      <td>NaN</td>\n",
       "      <td>NaN</td>\n",
       "      <td>NaN</td>\n",
       "    </tr>\n",
       "    <tr>\n",
       "      <th>6</th>\n",
       "      <td>7</td>\n",
       "      <td>2019-05-03 14:28:46</td>\n",
       "      <td>NaN</td>\n",
       "      <td>NaN</td>\n",
       "      <td>NaN</td>\n",
       "      <td>NaN</td>\n",
       "      <td>NaN</td>\n",
       "      <td>NaN</td>\n",
       "      <td>NaN</td>\n",
       "      <td>NaN</td>\n",
       "    </tr>\n",
       "    <tr>\n",
       "      <th>7</th>\n",
       "      <td>8</td>\n",
       "      <td>2019-05-03 15:03:42</td>\n",
       "      <td>NaN</td>\n",
       "      <td>NaN</td>\n",
       "      <td>NaN</td>\n",
       "      <td>NaN</td>\n",
       "      <td>NaN</td>\n",
       "      <td>NaN</td>\n",
       "      <td>NaN</td>\n",
       "      <td>NaN</td>\n",
       "    </tr>\n",
       "    <tr>\n",
       "      <th>8</th>\n",
       "      <td>9</td>\n",
       "      <td>2019-05-03 15:42:43</td>\n",
       "      <td>2019-05-03 15:58:12</td>\n",
       "      <td>NaN</td>\n",
       "      <td>NaN</td>\n",
       "      <td>NaN</td>\n",
       "      <td>NaN</td>\n",
       "      <td>NaN</td>\n",
       "      <td>NaN</td>\n",
       "      <td>NaN</td>\n",
       "    </tr>\n",
       "    <tr>\n",
       "      <th>9</th>\n",
       "      <td>10</td>\n",
       "      <td>2019-05-03 16:20:25</td>\n",
       "      <td>2019-05-03 16:21:02</td>\n",
       "      <td>NaN</td>\n",
       "      <td>NaN</td>\n",
       "      <td>NaN</td>\n",
       "      <td>NaN</td>\n",
       "      <td>NaN</td>\n",
       "      <td>NaN</td>\n",
       "      <td>NaN</td>\n",
       "    </tr>\n",
       "  </tbody>\n",
       "</table>\n",
       "</div>"
      ],
      "text/plain": [
       "   key               wire_1               wire_2 wire_3 wire_4 wire_5 wire_6  \\\n",
       "0    1  2019-05-03 11:11:41                  NaN    NaN    NaN    NaN    NaN   \n",
       "1    2  2019-05-03 11:46:10                  NaN    NaN    NaN    NaN    NaN   \n",
       "2    3  2019-05-03 12:13:47                  NaN    NaN    NaN    NaN    NaN   \n",
       "3    4  2019-05-03 12:48:05                  NaN    NaN    NaN    NaN    NaN   \n",
       "4    5  2019-05-03 13:18:15  2019-05-03 13:32:06    NaN    NaN    NaN    NaN   \n",
       "5    6  2019-05-03 13:59:02  2019-05-03 13:59:54    NaN    NaN    NaN    NaN   \n",
       "6    7  2019-05-03 14:28:46                  NaN    NaN    NaN    NaN    NaN   \n",
       "7    8  2019-05-03 15:03:42                  NaN    NaN    NaN    NaN    NaN   \n",
       "8    9  2019-05-03 15:42:43  2019-05-03 15:58:12    NaN    NaN    NaN    NaN   \n",
       "9   10  2019-05-03 16:20:25  2019-05-03 16:21:02    NaN    NaN    NaN    NaN   \n",
       "\n",
       "  wire_7 wire_8 wire_9  \n",
       "0    NaN    NaN    NaN  \n",
       "1    NaN    NaN    NaN  \n",
       "2    NaN    NaN    NaN  \n",
       "3    NaN    NaN    NaN  \n",
       "4    NaN    NaN    NaN  \n",
       "5    NaN    NaN    NaN  \n",
       "6    NaN    NaN    NaN  \n",
       "7    NaN    NaN    NaN  \n",
       "8    NaN    NaN    NaN  \n",
       "9    NaN    NaN    NaN  "
      ]
     },
     "metadata": {},
     "output_type": "display_data"
    },
    {
     "data": {
      "text/html": [
       "<div>\n",
       "<style scoped>\n",
       "    .dataframe tbody tr th:only-of-type {\n",
       "        vertical-align: middle;\n",
       "    }\n",
       "\n",
       "    .dataframe tbody tr th {\n",
       "        vertical-align: top;\n",
       "    }\n",
       "\n",
       "    .dataframe thead th {\n",
       "        text-align: right;\n",
       "    }\n",
       "</style>\n",
       "<table border=\"1\" class=\"dataframe\">\n",
       "  <thead>\n",
       "    <tr style=\"text-align: right;\">\n",
       "      <th></th>\n",
       "      <th>key</th>\n",
       "    </tr>\n",
       "  </thead>\n",
       "  <tbody>\n",
       "    <tr>\n",
       "      <th>count</th>\n",
       "      <td>3081.000000</td>\n",
       "    </tr>\n",
       "    <tr>\n",
       "      <th>mean</th>\n",
       "      <td>1623.426485</td>\n",
       "    </tr>\n",
       "    <tr>\n",
       "      <th>std</th>\n",
       "      <td>932.996726</td>\n",
       "    </tr>\n",
       "    <tr>\n",
       "      <th>min</th>\n",
       "      <td>1.000000</td>\n",
       "    </tr>\n",
       "    <tr>\n",
       "      <th>25%</th>\n",
       "      <td>823.000000</td>\n",
       "    </tr>\n",
       "    <tr>\n",
       "      <th>50%</th>\n",
       "      <td>1619.000000</td>\n",
       "    </tr>\n",
       "    <tr>\n",
       "      <th>75%</th>\n",
       "      <td>2434.000000</td>\n",
       "    </tr>\n",
       "    <tr>\n",
       "      <th>max</th>\n",
       "      <td>3241.000000</td>\n",
       "    </tr>\n",
       "  </tbody>\n",
       "</table>\n",
       "</div>"
      ],
      "text/plain": [
       "               key\n",
       "count  3081.000000\n",
       "mean   1623.426485\n",
       "std     932.996726\n",
       "min       1.000000\n",
       "25%     823.000000\n",
       "50%    1619.000000\n",
       "75%    2434.000000\n",
       "max    3241.000000"
      ]
     },
     "metadata": {},
     "output_type": "display_data"
    },
    {
     "name": "stdout",
     "output_type": "stream",
     "text": [
      "Количество дубликатов: 0\n"
     ]
    }
   ],
   "source": [
    "df_info(data_wire_time)"
   ]
  },
  {
   "cell_type": "markdown",
   "metadata": {},
   "source": [
    "Аналогично таблице со временем добавления сыпучих материалов, для этой таблицы требуется приведение типа данных к `datetime`."
   ]
  },
  {
   "cell_type": "code",
   "execution_count": 39,
   "metadata": {},
   "outputs": [],
   "source": [
    "for column in list(data_wire_time.columns):\n",
    "    if column != 'key':\n",
    "        data_wire_time[column] = pd.to_datetime(data_wire_time[column],\n",
    "                                                format='%Y-%m-%d %H:%M:%S')"
   ]
  },
  {
   "cell_type": "markdown",
   "metadata": {},
   "source": [
    "### Вывод после осмотра данных"
   ]
  },
  {
   "cell_type": "markdown",
   "metadata": {},
   "source": [
    "Данные, которые нам предоставленны для построения модели оказались довольно чистыми. Потребовалась минимальная предобработка, чтобы получить датасеты пригодные для дальнейшей работы. Мы сделали:\n",
    "- Приведение типов данных\n",
    "- Очистку от явных аномалий\n",
    "- Предварительную оценку фронта работы"
   ]
  },
  {
   "cell_type": "markdown",
   "metadata": {},
   "source": [
    "### План дальнейшей работы "
   ]
  },
  {
   "cell_type": "markdown",
   "metadata": {},
   "source": [
    "После обсуждения задачи с тимлидом было уточненно, что нам требуется предсказывать финальную температуру для каждой партии. В связи с этим не имеет смысла рассматривать наши данные как временые ряды. Можно сделать предварительное предположение, что на конечную температуру сильнее всего будут влиять следующие факторы:\n",
    "- Время и мощность нагрева\n",
    "- Количество и тип добавленных в рассплав материалов\n",
    "- Интенсивность продувки газом\n",
    "\n",
    "План дальнейшей работы:\n",
    "1. Выделение из датасета температур последнего замера для каждой партии\n",
    "2. Объединение датасетов по ключу партии\n",
    "3. Создание дополнительных признаков:\n",
    "    - Суммарная мощность\n",
    "    - Время нагрева\n",
    "    - ...\n",
    "4. Проверка признаков на корреляцию, разбиение финального датасета на обучающую и тестовую выборки\n",
    "5. Выбор модели МЛ:\n",
    "    - линейная регрессия\n",
    "    - случайный лес\n",
    "    - XGBoost\n",
    "    - CatBoost\n",
    "6. Подборка гиперпараметров модели\n",
    "7. Проверка модели на тесовой выборке\n",
    "8. Написание отчета"
   ]
  },
  {
   "cell_type": "markdown",
   "metadata": {},
   "source": [
    "## Построение общей таблицы признаков для обучения модели"
   ]
  },
  {
   "cell_type": "markdown",
   "metadata": {},
   "source": [
    "Займемся созданием сводной таблицы, на основе которой будем обучать нашу модель. Признаки, которые будут включены в таблицу:\n",
    "- Температура последнего замера для партии - **целевой признак**\n",
    "- Температура первого замера партии\n",
    "- Время нагрева\n",
    "- Количество иттераций нагрева\n",
    "- Активная, реактивная и полная мощность\n",
    "- Количество добавленных сыпучих материалов\n",
    "- Количество добавленных проволочных материалов\n",
    "- Объем газа на продувку\n",
    "\n",
    "После составления таблицы проверим признаки на корреляцию и оставим те, которые будут наименее скоррелированы."
   ]
  },
  {
   "cell_type": "markdown",
   "metadata": {},
   "source": [
    "Начнем с таблицы с данными о нагреве. "
   ]
  },
  {
   "cell_type": "code",
   "execution_count": 40,
   "metadata": {},
   "outputs": [],
   "source": [
    "#Создадим новый признак \"heating_full_time\", представим его в секундах\n",
    "def full_time(row):\n",
    "    return row['heating_end'] - row['heating_start']\n",
    "\n",
    "data_arc['heating_full_time'] = data_arc.apply(full_time, axis=1)\n",
    "data_arc['heating_full_time'] = data_arc['heating_full_time'].dt.seconds"
   ]
  },
  {
   "cell_type": "code",
   "execution_count": 41,
   "metadata": {},
   "outputs": [],
   "source": [
    "#Добавим в нашу таблицу полную мощность\n",
    "def full_power(row):\n",
    "    return math.sqrt(row['real_power']**2 + row['reactive_power']**2)\n",
    "\n",
    "data_arc['full_power'] = data_arc.apply(full_power, axis=1)"
   ]
  },
  {
   "cell_type": "markdown",
   "metadata": {},
   "source": [
    "Определим количество итераций нагрева."
   ]
  },
  {
   "cell_type": "code",
   "execution_count": 42,
   "metadata": {},
   "outputs": [],
   "source": [
    "itterations_data_arc = data_arc.groupby(by='key', as_index=False).count()[['key', 'heating_start']]\n",
    "itterations_data_arc.columns = ['key', 'itter_number']"
   ]
  },
  {
   "cell_type": "markdown",
   "metadata": {},
   "source": [
    "Сгруппируем данные по партиям, но сначала уберем из таблицы ненужные нам в дальнейшем колонки с временем начала и окончания нагрева."
   ]
  },
  {
   "cell_type": "code",
   "execution_count": 43,
   "metadata": {},
   "outputs": [],
   "source": [
    "data_arc.drop(['heating_start', 'heating_end'], axis=1, inplace=True)"
   ]
  },
  {
   "cell_type": "code",
   "execution_count": 44,
   "metadata": {},
   "outputs": [],
   "source": [
    "data_arc = data_arc.groupby(by='key', as_index=False).sum()"
   ]
  },
  {
   "cell_type": "code",
   "execution_count": 45,
   "metadata": {
    "scrolled": false
   },
   "outputs": [
    {
     "data": {
      "text/html": [
       "<div>\n",
       "<style scoped>\n",
       "    .dataframe tbody tr th:only-of-type {\n",
       "        vertical-align: middle;\n",
       "    }\n",
       "\n",
       "    .dataframe tbody tr th {\n",
       "        vertical-align: top;\n",
       "    }\n",
       "\n",
       "    .dataframe thead th {\n",
       "        text-align: right;\n",
       "    }\n",
       "</style>\n",
       "<table border=\"1\" class=\"dataframe\">\n",
       "  <thead>\n",
       "    <tr style=\"text-align: right;\">\n",
       "      <th></th>\n",
       "      <th>key</th>\n",
       "      <th>real_power</th>\n",
       "      <th>reactive_power</th>\n",
       "      <th>heating_full_time</th>\n",
       "      <th>full_power</th>\n",
       "    </tr>\n",
       "  </thead>\n",
       "  <tbody>\n",
       "    <tr>\n",
       "      <th>0</th>\n",
       "      <td>1</td>\n",
       "      <td>4.878147</td>\n",
       "      <td>3.183241</td>\n",
       "      <td>1098</td>\n",
       "      <td>5.826395</td>\n",
       "    </tr>\n",
       "    <tr>\n",
       "      <th>1</th>\n",
       "      <td>2</td>\n",
       "      <td>3.052598</td>\n",
       "      <td>1.998112</td>\n",
       "      <td>811</td>\n",
       "      <td>3.649216</td>\n",
       "    </tr>\n",
       "    <tr>\n",
       "      <th>2</th>\n",
       "      <td>3</td>\n",
       "      <td>2.525882</td>\n",
       "      <td>1.599076</td>\n",
       "      <td>655</td>\n",
       "      <td>2.989534</td>\n",
       "    </tr>\n",
       "    <tr>\n",
       "      <th>3</th>\n",
       "      <td>4</td>\n",
       "      <td>3.209250</td>\n",
       "      <td>2.060298</td>\n",
       "      <td>741</td>\n",
       "      <td>3.814962</td>\n",
       "    </tr>\n",
       "    <tr>\n",
       "      <th>4</th>\n",
       "      <td>5</td>\n",
       "      <td>3.347173</td>\n",
       "      <td>2.252643</td>\n",
       "      <td>869</td>\n",
       "      <td>4.035758</td>\n",
       "    </tr>\n",
       "    <tr>\n",
       "      <th>...</th>\n",
       "      <td>...</td>\n",
       "      <td>...</td>\n",
       "      <td>...</td>\n",
       "      <td>...</td>\n",
       "      <td>...</td>\n",
       "    </tr>\n",
       "    <tr>\n",
       "      <th>3209</th>\n",
       "      <td>3237</td>\n",
       "      <td>3.932467</td>\n",
       "      <td>2.828459</td>\n",
       "      <td>909</td>\n",
       "      <td>4.844982</td>\n",
       "    </tr>\n",
       "    <tr>\n",
       "      <th>3210</th>\n",
       "      <td>3238</td>\n",
       "      <td>2.106529</td>\n",
       "      <td>1.681182</td>\n",
       "      <td>546</td>\n",
       "      <td>2.696542</td>\n",
       "    </tr>\n",
       "    <tr>\n",
       "      <th>3211</th>\n",
       "      <td>3239</td>\n",
       "      <td>4.666754</td>\n",
       "      <td>3.111617</td>\n",
       "      <td>1216</td>\n",
       "      <td>5.611883</td>\n",
       "    </tr>\n",
       "    <tr>\n",
       "      <th>3212</th>\n",
       "      <td>3240</td>\n",
       "      <td>2.984083</td>\n",
       "      <td>2.483267</td>\n",
       "      <td>839</td>\n",
       "      <td>3.891856</td>\n",
       "    </tr>\n",
       "    <tr>\n",
       "      <th>3213</th>\n",
       "      <td>3241</td>\n",
       "      <td>2.471447</td>\n",
       "      <td>1.696199</td>\n",
       "      <td>659</td>\n",
       "      <td>2.999516</td>\n",
       "    </tr>\n",
       "  </tbody>\n",
       "</table>\n",
       "<p>3214 rows × 5 columns</p>\n",
       "</div>"
      ],
      "text/plain": [
       "       key  real_power  reactive_power  heating_full_time  full_power\n",
       "0        1    4.878147        3.183241               1098    5.826395\n",
       "1        2    3.052598        1.998112                811    3.649216\n",
       "2        3    2.525882        1.599076                655    2.989534\n",
       "3        4    3.209250        2.060298                741    3.814962\n",
       "4        5    3.347173        2.252643                869    4.035758\n",
       "...    ...         ...             ...                ...         ...\n",
       "3209  3237    3.932467        2.828459                909    4.844982\n",
       "3210  3238    2.106529        1.681182                546    2.696542\n",
       "3211  3239    4.666754        3.111617               1216    5.611883\n",
       "3212  3240    2.984083        2.483267                839    3.891856\n",
       "3213  3241    2.471447        1.696199                659    2.999516\n",
       "\n",
       "[3214 rows x 5 columns]"
      ]
     },
     "execution_count": 45,
     "metadata": {},
     "output_type": "execute_result"
    }
   ],
   "source": [
    "data_arc"
   ]
  },
  {
   "cell_type": "markdown",
   "metadata": {},
   "source": [
    "Теперь соеденим две таблицы и оставим в получившейся только те партии, для которых у нас больше одного замера температуры."
   ]
  },
  {
   "cell_type": "code",
   "execution_count": 46,
   "metadata": {},
   "outputs": [],
   "source": [
    "data_arc = data_arc.merge(itterations_data_arc, how = 'left', on = 'key')"
   ]
  },
  {
   "cell_type": "markdown",
   "metadata": {},
   "source": [
    "Займемся таблицей с температурами. Сгрупируем данные по партиям и создадим две колонки - `first_temp` и `last_temp`. `last_temp` - наш целевой признак."
   ]
  },
  {
   "cell_type": "code",
   "execution_count": 47,
   "metadata": {},
   "outputs": [],
   "source": [
    "data_temp = data_temp.groupby(by = 'key').agg(['first', 'last']).reset_index()\n",
    "data_temp.columns = data_temp.columns.droplevel()\n",
    "data_temp.columns = ['key', 'time_first', 'time_last', 'first_temp', 'last_temp']\n",
    "data_temp.drop(['time_first', 'time_last'], axis=1, inplace=True)"
   ]
  },
  {
   "cell_type": "markdown",
   "metadata": {},
   "source": [
    "Теперь соеденим все в одну таблицу."
   ]
  },
  {
   "cell_type": "code",
   "execution_count": 48,
   "metadata": {},
   "outputs": [],
   "source": [
    "full_data = (data_arc.merge(data_temp, how='outer', on='key').\n",
    "             merge(data_bulk, how='outer', on='key').\n",
    "             merge(data_wire, how='outer', on='key').\n",
    "             merge(data_gas, how='outer', on='key')\n",
    "            )"
   ]
  },
  {
   "cell_type": "markdown",
   "metadata": {},
   "source": [
    "Оставим в таблицы данные только для тех партий, для которых у нас больше одного замера температуры."
   ]
  },
  {
   "cell_type": "code",
   "execution_count": 49,
   "metadata": {},
   "outputs": [],
   "source": [
    "full_data = full_data.query('key in @good_batches')"
   ]
  },
  {
   "cell_type": "markdown",
   "metadata": {},
   "source": [
    "Посмотрим что получилось."
   ]
  },
  {
   "cell_type": "code",
   "execution_count": 50,
   "metadata": {},
   "outputs": [
    {
     "name": "stdout",
     "output_type": "stream",
     "text": [
      "<class 'pandas.core.frame.DataFrame'>\n",
      "Int64Index: 2475 entries, 0 to 2474\n",
      "Data columns (total 33 columns):\n",
      " #   Column             Non-Null Count  Dtype  \n",
      "---  ------             --------------  -----  \n",
      " 0   key                2475 non-null   int64  \n",
      " 1   real_power         2475 non-null   float64\n",
      " 2   reactive_power     2475 non-null   float64\n",
      " 3   heating_full_time  2475 non-null   float64\n",
      " 4   full_power         2475 non-null   float64\n",
      " 5   itter_number       2475 non-null   float64\n",
      " 6   first_temp         2475 non-null   float64\n",
      " 7   last_temp          2475 non-null   float64\n",
      " 8   bulk_1             2407 non-null   float64\n",
      " 9   bulk_2             2407 non-null   float64\n",
      " 10  bulk_3             2407 non-null   float64\n",
      " 11  bulk_4             2407 non-null   float64\n",
      " 12  bulk_5             2407 non-null   float64\n",
      " 13  bulk_6             2407 non-null   float64\n",
      " 14  bulk_7             2407 non-null   float64\n",
      " 15  bulk_8             2407 non-null   float64\n",
      " 16  bulk_9             2407 non-null   float64\n",
      " 17  bulk_10            2407 non-null   float64\n",
      " 18  bulk_11            2407 non-null   float64\n",
      " 19  bulk_12            2407 non-null   float64\n",
      " 20  bulk_13            2407 non-null   float64\n",
      " 21  bulk_14            2407 non-null   float64\n",
      " 22  bulk_15            2407 non-null   float64\n",
      " 23  wire_1             2372 non-null   float64\n",
      " 24  wire_2             2372 non-null   float64\n",
      " 25  wire_3             2372 non-null   float64\n",
      " 26  wire_4             2372 non-null   float64\n",
      " 27  wire_5             2372 non-null   float64\n",
      " 28  wire_6             2372 non-null   float64\n",
      " 29  wire_7             2372 non-null   float64\n",
      " 30  wire_8             2372 non-null   float64\n",
      " 31  wire_9             2372 non-null   float64\n",
      " 32  gas_1              2473 non-null   float64\n",
      "dtypes: float64(32), int64(1)\n",
      "memory usage: 657.4 KB\n"
     ]
    },
    {
     "data": {
      "text/html": [
       "<div>\n",
       "<style scoped>\n",
       "    .dataframe tbody tr th:only-of-type {\n",
       "        vertical-align: middle;\n",
       "    }\n",
       "\n",
       "    .dataframe tbody tr th {\n",
       "        vertical-align: top;\n",
       "    }\n",
       "\n",
       "    .dataframe thead th {\n",
       "        text-align: right;\n",
       "    }\n",
       "</style>\n",
       "<table border=\"1\" class=\"dataframe\">\n",
       "  <thead>\n",
       "    <tr style=\"text-align: right;\">\n",
       "      <th></th>\n",
       "      <th>key</th>\n",
       "      <th>real_power</th>\n",
       "      <th>reactive_power</th>\n",
       "      <th>heating_full_time</th>\n",
       "      <th>full_power</th>\n",
       "      <th>itter_number</th>\n",
       "      <th>first_temp</th>\n",
       "      <th>last_temp</th>\n",
       "      <th>bulk_1</th>\n",
       "      <th>bulk_2</th>\n",
       "      <th>...</th>\n",
       "      <th>wire_1</th>\n",
       "      <th>wire_2</th>\n",
       "      <th>wire_3</th>\n",
       "      <th>wire_4</th>\n",
       "      <th>wire_5</th>\n",
       "      <th>wire_6</th>\n",
       "      <th>wire_7</th>\n",
       "      <th>wire_8</th>\n",
       "      <th>wire_9</th>\n",
       "      <th>gas_1</th>\n",
       "    </tr>\n",
       "  </thead>\n",
       "  <tbody>\n",
       "    <tr>\n",
       "      <th>0</th>\n",
       "      <td>1</td>\n",
       "      <td>4.878147</td>\n",
       "      <td>3.183241</td>\n",
       "      <td>1098.0</td>\n",
       "      <td>5.826395</td>\n",
       "      <td>5.0</td>\n",
       "      <td>1571.0</td>\n",
       "      <td>1613.0</td>\n",
       "      <td>0.0</td>\n",
       "      <td>0.0</td>\n",
       "      <td>...</td>\n",
       "      <td>60.059998</td>\n",
       "      <td>0.000000</td>\n",
       "      <td>0.0</td>\n",
       "      <td>0.0</td>\n",
       "      <td>0.0</td>\n",
       "      <td>0.0</td>\n",
       "      <td>0.0</td>\n",
       "      <td>0.0</td>\n",
       "      <td>0.0</td>\n",
       "      <td>29.749986</td>\n",
       "    </tr>\n",
       "    <tr>\n",
       "      <th>1</th>\n",
       "      <td>2</td>\n",
       "      <td>3.052598</td>\n",
       "      <td>1.998112</td>\n",
       "      <td>811.0</td>\n",
       "      <td>3.649216</td>\n",
       "      <td>4.0</td>\n",
       "      <td>1581.0</td>\n",
       "      <td>1602.0</td>\n",
       "      <td>0.0</td>\n",
       "      <td>0.0</td>\n",
       "      <td>...</td>\n",
       "      <td>96.052315</td>\n",
       "      <td>0.000000</td>\n",
       "      <td>0.0</td>\n",
       "      <td>0.0</td>\n",
       "      <td>0.0</td>\n",
       "      <td>0.0</td>\n",
       "      <td>0.0</td>\n",
       "      <td>0.0</td>\n",
       "      <td>0.0</td>\n",
       "      <td>12.555561</td>\n",
       "    </tr>\n",
       "    <tr>\n",
       "      <th>2</th>\n",
       "      <td>3</td>\n",
       "      <td>2.525882</td>\n",
       "      <td>1.599076</td>\n",
       "      <td>655.0</td>\n",
       "      <td>2.989534</td>\n",
       "      <td>5.0</td>\n",
       "      <td>1596.0</td>\n",
       "      <td>1599.0</td>\n",
       "      <td>0.0</td>\n",
       "      <td>0.0</td>\n",
       "      <td>...</td>\n",
       "      <td>91.160157</td>\n",
       "      <td>0.000000</td>\n",
       "      <td>0.0</td>\n",
       "      <td>0.0</td>\n",
       "      <td>0.0</td>\n",
       "      <td>0.0</td>\n",
       "      <td>0.0</td>\n",
       "      <td>0.0</td>\n",
       "      <td>0.0</td>\n",
       "      <td>28.554793</td>\n",
       "    </tr>\n",
       "    <tr>\n",
       "      <th>3</th>\n",
       "      <td>4</td>\n",
       "      <td>3.209250</td>\n",
       "      <td>2.060298</td>\n",
       "      <td>741.0</td>\n",
       "      <td>3.814962</td>\n",
       "      <td>4.0</td>\n",
       "      <td>1601.0</td>\n",
       "      <td>1625.0</td>\n",
       "      <td>0.0</td>\n",
       "      <td>0.0</td>\n",
       "      <td>...</td>\n",
       "      <td>89.063515</td>\n",
       "      <td>0.000000</td>\n",
       "      <td>0.0</td>\n",
       "      <td>0.0</td>\n",
       "      <td>0.0</td>\n",
       "      <td>0.0</td>\n",
       "      <td>0.0</td>\n",
       "      <td>0.0</td>\n",
       "      <td>0.0</td>\n",
       "      <td>18.841219</td>\n",
       "    </tr>\n",
       "    <tr>\n",
       "      <th>4</th>\n",
       "      <td>5</td>\n",
       "      <td>3.347173</td>\n",
       "      <td>2.252643</td>\n",
       "      <td>869.0</td>\n",
       "      <td>4.035758</td>\n",
       "      <td>4.0</td>\n",
       "      <td>1576.0</td>\n",
       "      <td>1602.0</td>\n",
       "      <td>0.0</td>\n",
       "      <td>0.0</td>\n",
       "      <td>...</td>\n",
       "      <td>89.238236</td>\n",
       "      <td>9.114560</td>\n",
       "      <td>0.0</td>\n",
       "      <td>0.0</td>\n",
       "      <td>0.0</td>\n",
       "      <td>0.0</td>\n",
       "      <td>0.0</td>\n",
       "      <td>0.0</td>\n",
       "      <td>0.0</td>\n",
       "      <td>5.413692</td>\n",
       "    </tr>\n",
       "    <tr>\n",
       "      <th>5</th>\n",
       "      <td>6</td>\n",
       "      <td>3.955108</td>\n",
       "      <td>2.689175</td>\n",
       "      <td>952.0</td>\n",
       "      <td>4.786837</td>\n",
       "      <td>4.0</td>\n",
       "      <td>1543.0</td>\n",
       "      <td>1596.0</td>\n",
       "      <td>0.0</td>\n",
       "      <td>0.0</td>\n",
       "      <td>...</td>\n",
       "      <td>99.109917</td>\n",
       "      <td>9.114560</td>\n",
       "      <td>0.0</td>\n",
       "      <td>0.0</td>\n",
       "      <td>0.0</td>\n",
       "      <td>0.0</td>\n",
       "      <td>0.0</td>\n",
       "      <td>0.0</td>\n",
       "      <td>0.0</td>\n",
       "      <td>11.273392</td>\n",
       "    </tr>\n",
       "    <tr>\n",
       "      <th>6</th>\n",
       "      <td>7</td>\n",
       "      <td>2.547375</td>\n",
       "      <td>1.561295</td>\n",
       "      <td>673.0</td>\n",
       "      <td>2.987777</td>\n",
       "      <td>4.0</td>\n",
       "      <td>1586.0</td>\n",
       "      <td>1599.0</td>\n",
       "      <td>0.0</td>\n",
       "      <td>0.0</td>\n",
       "      <td>...</td>\n",
       "      <td>98.061600</td>\n",
       "      <td>0.000000</td>\n",
       "      <td>0.0</td>\n",
       "      <td>0.0</td>\n",
       "      <td>0.0</td>\n",
       "      <td>0.0</td>\n",
       "      <td>0.0</td>\n",
       "      <td>0.0</td>\n",
       "      <td>0.0</td>\n",
       "      <td>9.836267</td>\n",
       "    </tr>\n",
       "    <tr>\n",
       "      <th>7</th>\n",
       "      <td>8</td>\n",
       "      <td>3.762755</td>\n",
       "      <td>2.680698</td>\n",
       "      <td>913.0</td>\n",
       "      <td>4.627389</td>\n",
       "      <td>4.0</td>\n",
       "      <td>1577.0</td>\n",
       "      <td>1598.0</td>\n",
       "      <td>0.0</td>\n",
       "      <td>0.0</td>\n",
       "      <td>...</td>\n",
       "      <td>155.282394</td>\n",
       "      <td>0.000000</td>\n",
       "      <td>0.0</td>\n",
       "      <td>0.0</td>\n",
       "      <td>0.0</td>\n",
       "      <td>0.0</td>\n",
       "      <td>0.0</td>\n",
       "      <td>0.0</td>\n",
       "      <td>0.0</td>\n",
       "      <td>15.171553</td>\n",
       "    </tr>\n",
       "    <tr>\n",
       "      <th>8</th>\n",
       "      <td>9</td>\n",
       "      <td>2.081951</td>\n",
       "      <td>1.478671</td>\n",
       "      <td>625.0</td>\n",
       "      <td>2.555348</td>\n",
       "      <td>5.0</td>\n",
       "      <td>1587.0</td>\n",
       "      <td>1592.0</td>\n",
       "      <td>0.0</td>\n",
       "      <td>0.0</td>\n",
       "      <td>...</td>\n",
       "      <td>113.393279</td>\n",
       "      <td>9.143681</td>\n",
       "      <td>0.0</td>\n",
       "      <td>0.0</td>\n",
       "      <td>0.0</td>\n",
       "      <td>0.0</td>\n",
       "      <td>0.0</td>\n",
       "      <td>0.0</td>\n",
       "      <td>0.0</td>\n",
       "      <td>8.216623</td>\n",
       "    </tr>\n",
       "    <tr>\n",
       "      <th>9</th>\n",
       "      <td>10</td>\n",
       "      <td>2.923622</td>\n",
       "      <td>2.496116</td>\n",
       "      <td>825.0</td>\n",
       "      <td>3.851739</td>\n",
       "      <td>6.0</td>\n",
       "      <td>1574.0</td>\n",
       "      <td>1593.0</td>\n",
       "      <td>0.0</td>\n",
       "      <td>0.0</td>\n",
       "      <td>...</td>\n",
       "      <td>81.244796</td>\n",
       "      <td>12.376000</td>\n",
       "      <td>0.0</td>\n",
       "      <td>0.0</td>\n",
       "      <td>0.0</td>\n",
       "      <td>0.0</td>\n",
       "      <td>0.0</td>\n",
       "      <td>0.0</td>\n",
       "      <td>0.0</td>\n",
       "      <td>6.529891</td>\n",
       "    </tr>\n",
       "  </tbody>\n",
       "</table>\n",
       "<p>10 rows × 33 columns</p>\n",
       "</div>"
      ],
      "text/plain": [
       "   key  real_power  reactive_power  heating_full_time  full_power  \\\n",
       "0    1    4.878147        3.183241             1098.0    5.826395   \n",
       "1    2    3.052598        1.998112              811.0    3.649216   \n",
       "2    3    2.525882        1.599076              655.0    2.989534   \n",
       "3    4    3.209250        2.060298              741.0    3.814962   \n",
       "4    5    3.347173        2.252643              869.0    4.035758   \n",
       "5    6    3.955108        2.689175              952.0    4.786837   \n",
       "6    7    2.547375        1.561295              673.0    2.987777   \n",
       "7    8    3.762755        2.680698              913.0    4.627389   \n",
       "8    9    2.081951        1.478671              625.0    2.555348   \n",
       "9   10    2.923622        2.496116              825.0    3.851739   \n",
       "\n",
       "   itter_number  first_temp  last_temp  bulk_1  bulk_2  ...      wire_1  \\\n",
       "0           5.0      1571.0     1613.0     0.0     0.0  ...   60.059998   \n",
       "1           4.0      1581.0     1602.0     0.0     0.0  ...   96.052315   \n",
       "2           5.0      1596.0     1599.0     0.0     0.0  ...   91.160157   \n",
       "3           4.0      1601.0     1625.0     0.0     0.0  ...   89.063515   \n",
       "4           4.0      1576.0     1602.0     0.0     0.0  ...   89.238236   \n",
       "5           4.0      1543.0     1596.0     0.0     0.0  ...   99.109917   \n",
       "6           4.0      1586.0     1599.0     0.0     0.0  ...   98.061600   \n",
       "7           4.0      1577.0     1598.0     0.0     0.0  ...  155.282394   \n",
       "8           5.0      1587.0     1592.0     0.0     0.0  ...  113.393279   \n",
       "9           6.0      1574.0     1593.0     0.0     0.0  ...   81.244796   \n",
       "\n",
       "      wire_2  wire_3  wire_4  wire_5  wire_6  wire_7  wire_8  wire_9  \\\n",
       "0   0.000000     0.0     0.0     0.0     0.0     0.0     0.0     0.0   \n",
       "1   0.000000     0.0     0.0     0.0     0.0     0.0     0.0     0.0   \n",
       "2   0.000000     0.0     0.0     0.0     0.0     0.0     0.0     0.0   \n",
       "3   0.000000     0.0     0.0     0.0     0.0     0.0     0.0     0.0   \n",
       "4   9.114560     0.0     0.0     0.0     0.0     0.0     0.0     0.0   \n",
       "5   9.114560     0.0     0.0     0.0     0.0     0.0     0.0     0.0   \n",
       "6   0.000000     0.0     0.0     0.0     0.0     0.0     0.0     0.0   \n",
       "7   0.000000     0.0     0.0     0.0     0.0     0.0     0.0     0.0   \n",
       "8   9.143681     0.0     0.0     0.0     0.0     0.0     0.0     0.0   \n",
       "9  12.376000     0.0     0.0     0.0     0.0     0.0     0.0     0.0   \n",
       "\n",
       "       gas_1  \n",
       "0  29.749986  \n",
       "1  12.555561  \n",
       "2  28.554793  \n",
       "3  18.841219  \n",
       "4   5.413692  \n",
       "5  11.273392  \n",
       "6   9.836267  \n",
       "7  15.171553  \n",
       "8   8.216623  \n",
       "9   6.529891  \n",
       "\n",
       "[10 rows x 33 columns]"
      ]
     },
     "metadata": {},
     "output_type": "display_data"
    },
    {
     "data": {
      "text/html": [
       "<div>\n",
       "<style scoped>\n",
       "    .dataframe tbody tr th:only-of-type {\n",
       "        vertical-align: middle;\n",
       "    }\n",
       "\n",
       "    .dataframe tbody tr th {\n",
       "        vertical-align: top;\n",
       "    }\n",
       "\n",
       "    .dataframe thead th {\n",
       "        text-align: right;\n",
       "    }\n",
       "</style>\n",
       "<table border=\"1\" class=\"dataframe\">\n",
       "  <thead>\n",
       "    <tr style=\"text-align: right;\">\n",
       "      <th></th>\n",
       "      <th>key</th>\n",
       "      <th>real_power</th>\n",
       "      <th>reactive_power</th>\n",
       "      <th>heating_full_time</th>\n",
       "      <th>full_power</th>\n",
       "      <th>itter_number</th>\n",
       "      <th>first_temp</th>\n",
       "      <th>last_temp</th>\n",
       "      <th>bulk_1</th>\n",
       "      <th>bulk_2</th>\n",
       "      <th>...</th>\n",
       "      <th>wire_1</th>\n",
       "      <th>wire_2</th>\n",
       "      <th>wire_3</th>\n",
       "      <th>wire_4</th>\n",
       "      <th>wire_5</th>\n",
       "      <th>wire_6</th>\n",
       "      <th>wire_7</th>\n",
       "      <th>wire_8</th>\n",
       "      <th>wire_9</th>\n",
       "      <th>gas_1</th>\n",
       "    </tr>\n",
       "  </thead>\n",
       "  <tbody>\n",
       "    <tr>\n",
       "      <th>count</th>\n",
       "      <td>2475.000000</td>\n",
       "      <td>2475.000000</td>\n",
       "      <td>2475.000000</td>\n",
       "      <td>2475.000000</td>\n",
       "      <td>2475.000000</td>\n",
       "      <td>2475.000000</td>\n",
       "      <td>2475.000000</td>\n",
       "      <td>2475.000000</td>\n",
       "      <td>2407.000000</td>\n",
       "      <td>2407.000000</td>\n",
       "      <td>...</td>\n",
       "      <td>2372.000000</td>\n",
       "      <td>2372.000000</td>\n",
       "      <td>2372.000000</td>\n",
       "      <td>2372.000000</td>\n",
       "      <td>2372.0</td>\n",
       "      <td>2372.000000</td>\n",
       "      <td>2372.000000</td>\n",
       "      <td>2372.000000</td>\n",
       "      <td>2372.000000</td>\n",
       "      <td>2473.000000</td>\n",
       "    </tr>\n",
       "    <tr>\n",
       "      <th>mean</th>\n",
       "      <td>1250.787071</td>\n",
       "      <td>3.127428</td>\n",
       "      <td>2.330686</td>\n",
       "      <td>799.907879</td>\n",
       "      <td>3.909335</td>\n",
       "      <td>4.625455</td>\n",
       "      <td>1589.029899</td>\n",
       "      <td>1595.336162</td>\n",
       "      <td>3.316577</td>\n",
       "      <td>1.376402</td>\n",
       "      <td>...</td>\n",
       "      <td>102.264474</td>\n",
       "      <td>17.856377</td>\n",
       "      <td>3.176273</td>\n",
       "      <td>0.300993</td>\n",
       "      <td>0.0</td>\n",
       "      <td>0.961076</td>\n",
       "      <td>0.006245</td>\n",
       "      <td>0.305667</td>\n",
       "      <td>0.414319</td>\n",
       "      <td>11.142960</td>\n",
       "    </tr>\n",
       "    <tr>\n",
       "      <th>std</th>\n",
       "      <td>719.787271</td>\n",
       "      <td>1.426047</td>\n",
       "      <td>1.078666</td>\n",
       "      <td>340.838756</td>\n",
       "      <td>1.778325</td>\n",
       "      <td>1.610369</td>\n",
       "      <td>24.998058</td>\n",
       "      <td>16.023153</td>\n",
       "      <td>12.224364</td>\n",
       "      <td>18.771950</td>\n",
       "      <td>...</td>\n",
       "      <td>43.641222</td>\n",
       "      <td>33.944219</td>\n",
       "      <td>27.691693</td>\n",
       "      <td>4.714583</td>\n",
       "      <td>0.0</td>\n",
       "      <td>8.615099</td>\n",
       "      <td>0.203833</td>\n",
       "      <td>4.362799</td>\n",
       "      <td>4.331678</td>\n",
       "      <td>6.323742</td>\n",
       "    </tr>\n",
       "    <tr>\n",
       "      <th>min</th>\n",
       "      <td>1.000000</td>\n",
       "      <td>0.186226</td>\n",
       "      <td>0.158247</td>\n",
       "      <td>57.000000</td>\n",
       "      <td>0.257637</td>\n",
       "      <td>1.000000</td>\n",
       "      <td>1519.000000</td>\n",
       "      <td>1541.000000</td>\n",
       "      <td>0.000000</td>\n",
       "      <td>0.000000</td>\n",
       "      <td>...</td>\n",
       "      <td>0.000000</td>\n",
       "      <td>0.000000</td>\n",
       "      <td>0.000000</td>\n",
       "      <td>0.000000</td>\n",
       "      <td>0.0</td>\n",
       "      <td>0.000000</td>\n",
       "      <td>0.000000</td>\n",
       "      <td>0.000000</td>\n",
       "      <td>0.000000</td>\n",
       "      <td>0.008399</td>\n",
       "    </tr>\n",
       "    <tr>\n",
       "      <th>25%</th>\n",
       "      <td>629.500000</td>\n",
       "      <td>2.148302</td>\n",
       "      <td>1.607333</td>\n",
       "      <td>573.000000</td>\n",
       "      <td>2.692521</td>\n",
       "      <td>4.000000</td>\n",
       "      <td>1572.000000</td>\n",
       "      <td>1587.000000</td>\n",
       "      <td>0.000000</td>\n",
       "      <td>0.000000</td>\n",
       "      <td>...</td>\n",
       "      <td>72.859018</td>\n",
       "      <td>0.000000</td>\n",
       "      <td>0.000000</td>\n",
       "      <td>0.000000</td>\n",
       "      <td>0.0</td>\n",
       "      <td>0.000000</td>\n",
       "      <td>0.000000</td>\n",
       "      <td>0.000000</td>\n",
       "      <td>0.000000</td>\n",
       "      <td>7.105241</td>\n",
       "    </tr>\n",
       "    <tr>\n",
       "      <th>50%</th>\n",
       "      <td>1252.000000</td>\n",
       "      <td>3.016373</td>\n",
       "      <td>2.229479</td>\n",
       "      <td>772.000000</td>\n",
       "      <td>3.755583</td>\n",
       "      <td>4.000000</td>\n",
       "      <td>1588.000000</td>\n",
       "      <td>1593.000000</td>\n",
       "      <td>0.000000</td>\n",
       "      <td>0.000000</td>\n",
       "      <td>...</td>\n",
       "      <td>101.087998</td>\n",
       "      <td>0.000000</td>\n",
       "      <td>0.000000</td>\n",
       "      <td>0.000000</td>\n",
       "      <td>0.0</td>\n",
       "      <td>0.000000</td>\n",
       "      <td>0.000000</td>\n",
       "      <td>0.000000</td>\n",
       "      <td>0.000000</td>\n",
       "      <td>9.926730</td>\n",
       "    </tr>\n",
       "    <tr>\n",
       "      <th>75%</th>\n",
       "      <td>1872.500000</td>\n",
       "      <td>3.908051</td>\n",
       "      <td>2.905603</td>\n",
       "      <td>986.500000</td>\n",
       "      <td>4.874185</td>\n",
       "      <td>6.000000</td>\n",
       "      <td>1605.000000</td>\n",
       "      <td>1599.000000</td>\n",
       "      <td>0.000000</td>\n",
       "      <td>0.000000</td>\n",
       "      <td>...</td>\n",
       "      <td>128.143076</td>\n",
       "      <td>23.162880</td>\n",
       "      <td>0.000000</td>\n",
       "      <td>0.000000</td>\n",
       "      <td>0.0</td>\n",
       "      <td>0.000000</td>\n",
       "      <td>0.000000</td>\n",
       "      <td>0.000000</td>\n",
       "      <td>0.000000</td>\n",
       "      <td>13.872219</td>\n",
       "    </tr>\n",
       "    <tr>\n",
       "      <th>max</th>\n",
       "      <td>2499.000000</td>\n",
       "      <td>17.496497</td>\n",
       "      <td>12.587990</td>\n",
       "      <td>4189.000000</td>\n",
       "      <td>21.564771</td>\n",
       "      <td>16.000000</td>\n",
       "      <td>1679.000000</td>\n",
       "      <td>1700.000000</td>\n",
       "      <td>185.000000</td>\n",
       "      <td>325.000000</td>\n",
       "      <td>...</td>\n",
       "      <td>330.314424</td>\n",
       "      <td>282.780152</td>\n",
       "      <td>385.008668</td>\n",
       "      <td>113.231044</td>\n",
       "      <td>0.0</td>\n",
       "      <td>180.454575</td>\n",
       "      <td>8.490040</td>\n",
       "      <td>102.762401</td>\n",
       "      <td>90.053604</td>\n",
       "      <td>77.995040</td>\n",
       "    </tr>\n",
       "  </tbody>\n",
       "</table>\n",
       "<p>8 rows × 33 columns</p>\n",
       "</div>"
      ],
      "text/plain": [
       "               key   real_power  reactive_power  heating_full_time  \\\n",
       "count  2475.000000  2475.000000     2475.000000        2475.000000   \n",
       "mean   1250.787071     3.127428        2.330686         799.907879   \n",
       "std     719.787271     1.426047        1.078666         340.838756   \n",
       "min       1.000000     0.186226        0.158247          57.000000   \n",
       "25%     629.500000     2.148302        1.607333         573.000000   \n",
       "50%    1252.000000     3.016373        2.229479         772.000000   \n",
       "75%    1872.500000     3.908051        2.905603         986.500000   \n",
       "max    2499.000000    17.496497       12.587990        4189.000000   \n",
       "\n",
       "        full_power  itter_number   first_temp    last_temp       bulk_1  \\\n",
       "count  2475.000000   2475.000000  2475.000000  2475.000000  2407.000000   \n",
       "mean      3.909335      4.625455  1589.029899  1595.336162     3.316577   \n",
       "std       1.778325      1.610369    24.998058    16.023153    12.224364   \n",
       "min       0.257637      1.000000  1519.000000  1541.000000     0.000000   \n",
       "25%       2.692521      4.000000  1572.000000  1587.000000     0.000000   \n",
       "50%       3.755583      4.000000  1588.000000  1593.000000     0.000000   \n",
       "75%       4.874185      6.000000  1605.000000  1599.000000     0.000000   \n",
       "max      21.564771     16.000000  1679.000000  1700.000000   185.000000   \n",
       "\n",
       "            bulk_2  ...       wire_1       wire_2       wire_3       wire_4  \\\n",
       "count  2407.000000  ...  2372.000000  2372.000000  2372.000000  2372.000000   \n",
       "mean      1.376402  ...   102.264474    17.856377     3.176273     0.300993   \n",
       "std      18.771950  ...    43.641222    33.944219    27.691693     4.714583   \n",
       "min       0.000000  ...     0.000000     0.000000     0.000000     0.000000   \n",
       "25%       0.000000  ...    72.859018     0.000000     0.000000     0.000000   \n",
       "50%       0.000000  ...   101.087998     0.000000     0.000000     0.000000   \n",
       "75%       0.000000  ...   128.143076    23.162880     0.000000     0.000000   \n",
       "max     325.000000  ...   330.314424   282.780152   385.008668   113.231044   \n",
       "\n",
       "       wire_5       wire_6       wire_7       wire_8       wire_9        gas_1  \n",
       "count  2372.0  2372.000000  2372.000000  2372.000000  2372.000000  2473.000000  \n",
       "mean      0.0     0.961076     0.006245     0.305667     0.414319    11.142960  \n",
       "std       0.0     8.615099     0.203833     4.362799     4.331678     6.323742  \n",
       "min       0.0     0.000000     0.000000     0.000000     0.000000     0.008399  \n",
       "25%       0.0     0.000000     0.000000     0.000000     0.000000     7.105241  \n",
       "50%       0.0     0.000000     0.000000     0.000000     0.000000     9.926730  \n",
       "75%       0.0     0.000000     0.000000     0.000000     0.000000    13.872219  \n",
       "max       0.0   180.454575     8.490040   102.762401    90.053604    77.995040  \n",
       "\n",
       "[8 rows x 33 columns]"
      ]
     },
     "metadata": {},
     "output_type": "display_data"
    },
    {
     "name": "stdout",
     "output_type": "stream",
     "text": [
      "Количество дубликатов: 0\n"
     ]
    }
   ],
   "source": [
    "df_info(full_data)"
   ]
  },
  {
   "cell_type": "markdown",
   "metadata": {},
   "source": [
    "Как видно из данных метода `info` у нас есть пропуски для данных по сыпучим материалам, проволке и объему газа на продувке. Больше всего пропусков по данным о подаче проволоки. Видимо не для всех партий из таблицы с температурой и мощностью есть данные из остальных таблиц. Заполним пропуски нулями. "
   ]
  },
  {
   "cell_type": "code",
   "execution_count": 51,
   "metadata": {},
   "outputs": [],
   "source": [
    "full_data.fillna(0, inplace=True)"
   ]
  },
  {
   "cell_type": "markdown",
   "metadata": {},
   "source": [
    "## Проверка корреляции признаков"
   ]
  },
  {
   "cell_type": "markdown",
   "metadata": {},
   "source": [
    "Нам необходимо промасштабировать данные и проверить их на мультиколениарность перед началом обучения моделей. Напишем функцию которая будет возвращать таблицу пар столбцов, корреляция которых выше заданого порога."
   ]
  },
  {
   "cell_type": "code",
   "execution_count": 52,
   "metadata": {},
   "outputs": [],
   "source": [
    "def correlations_table(df, threshold=0.8):\n",
    "    cor_matrix = df.corr()\n",
    "    threshold = threshold\n",
    "    important_corrs = (cor_matrix[abs(cor_matrix) > threshold][cor_matrix != 1]\n",
    "                       ).unstack().dropna().to_dict()\n",
    "\n",
    "    unique_important_corrs = pd.DataFrame(\n",
    "        list(\n",
    "            set([(tuple(sorted(key)), important_corrs[key])\n",
    "                 for key in important_corrs])),\n",
    "        columns=['attribute pair', 'correlation'])\n",
    "\n",
    "    unique_important_corrs = unique_important_corrs.iloc[abs(\n",
    "        unique_important_corrs['correlation']).argsort()[::-1]]\n",
    "    unique_important_corrs.reset_index(drop=True, inplace=True)\n",
    "\n",
    "    return unique_important_corrs"
   ]
  },
  {
   "cell_type": "code",
   "execution_count": 53,
   "metadata": {},
   "outputs": [
    {
     "data": {
      "text/html": [
       "<div>\n",
       "<style scoped>\n",
       "    .dataframe tbody tr th:only-of-type {\n",
       "        vertical-align: middle;\n",
       "    }\n",
       "\n",
       "    .dataframe tbody tr th {\n",
       "        vertical-align: top;\n",
       "    }\n",
       "\n",
       "    .dataframe thead th {\n",
       "        text-align: right;\n",
       "    }\n",
       "</style>\n",
       "<table border=\"1\" class=\"dataframe\">\n",
       "  <thead>\n",
       "    <tr style=\"text-align: right;\">\n",
       "      <th></th>\n",
       "      <th>attribute pair</th>\n",
       "      <th>correlation</th>\n",
       "    </tr>\n",
       "  </thead>\n",
       "  <tbody>\n",
       "    <tr>\n",
       "      <th>0</th>\n",
       "      <td>(full_power, real_power)</td>\n",
       "      <td>0.993677</td>\n",
       "    </tr>\n",
       "    <tr>\n",
       "      <th>1</th>\n",
       "      <td>(full_power, reactive_power)</td>\n",
       "      <td>0.985069</td>\n",
       "    </tr>\n",
       "    <tr>\n",
       "      <th>2</th>\n",
       "      <td>(full_power, heating_full_time)</td>\n",
       "      <td>0.982899</td>\n",
       "    </tr>\n",
       "    <tr>\n",
       "      <th>3</th>\n",
       "      <td>(heating_full_time, real_power)</td>\n",
       "      <td>0.978192</td>\n",
       "    </tr>\n",
       "    <tr>\n",
       "      <th>4</th>\n",
       "      <td>(bulk_9, wire_8)</td>\n",
       "      <td>0.974976</td>\n",
       "    </tr>\n",
       "    <tr>\n",
       "      <th>5</th>\n",
       "      <td>(heating_full_time, reactive_power)</td>\n",
       "      <td>0.966462</td>\n",
       "    </tr>\n",
       "    <tr>\n",
       "      <th>6</th>\n",
       "      <td>(reactive_power, real_power)</td>\n",
       "      <td>0.959727</td>\n",
       "    </tr>\n",
       "  </tbody>\n",
       "</table>\n",
       "</div>"
      ],
      "text/plain": [
       "                        attribute pair  correlation\n",
       "0             (full_power, real_power)     0.993677\n",
       "1         (full_power, reactive_power)     0.985069\n",
       "2      (full_power, heating_full_time)     0.982899\n",
       "3      (heating_full_time, real_power)     0.978192\n",
       "4                     (bulk_9, wire_8)     0.974976\n",
       "5  (heating_full_time, reactive_power)     0.966462\n",
       "6         (reactive_power, real_power)     0.959727"
      ]
     },
     "execution_count": 53,
     "metadata": {},
     "output_type": "execute_result"
    }
   ],
   "source": [
    "correlations_table(full_data)"
   ]
  },
  {
   "cell_type": "code",
   "execution_count": 54,
   "metadata": {},
   "outputs": [
    {
     "data": {
      "text/plain": [
       "<Figure size 1440x720 with 0 Axes>"
      ]
     },
     "metadata": {},
     "output_type": "display_data"
    },
    {
     "data": {
      "image/png": "[encoded data removed]",
      "text/plain": [
       "<Figure size 1080x1080 with 42 Axes>"
      ]
     },
     "metadata": {},
     "output_type": "display_data"
    }
   ],
   "source": [
    "plt.figure(figsize=(20, 10))\n",
    "sns.set(font_scale=0.8)\n",
    "sns.pairplot(full_data[[\n",
    "    'full_power', 'real_power', 'reactive_power', 'heating_full_time',\n",
    "    'bulk_9', 'wire_8'\n",
    "]],\n",
    "             kind=\"scatter\")\n",
    "plt.show();"
   ]
  },
  {
   "cell_type": "markdown",
   "metadata": {},
   "source": [
    "Как видно из полученной таблицы и из графиков у нас есть несколько очень сильно скоррелированных признаков. Это вполне логично, что все виды энергии потраченной на нагрев имеют практически прямую зависимость, а так же зависят от времени нагрева. Из этих четырех признаков оставим в датасете только полную мощность, потраченную на нагрев. Заодно избавимся от колонки `key` - она нашей модели абсолютно не нужна.\n",
    "\n",
    "А вот `bulk_9` и `wire_8` хоть и имеют сильную корреляцию по формуле, так же имеют очень маленькое количество точек, так что их мы пока оставим. "
   ]
  },
  {
   "cell_type": "code",
   "execution_count": 55,
   "metadata": {},
   "outputs": [],
   "source": [
    "full_data_wo_corr = full_data.drop(\n",
    "    ['real_power', 'reactive_power', 'heating_full_time', 'key'], axis=1)"
   ]
  },
  {
   "cell_type": "markdown",
   "metadata": {},
   "source": [
    "## Разбиение данных и масштабирование признаков"
   ]
  },
  {
   "cell_type": "markdown",
   "metadata": {},
   "source": [
    "Следующая функция поможет нам произвести разбиение нашего датасета на обучающую и тестовую выборки. Валидационную выделять не будем, так как планируем использовать кросс-валидацию при обучении моделей и подборке гиперпараметров."
   ]
  },
  {
   "cell_type": "code",
   "execution_count": 56,
   "metadata": {},
   "outputs": [],
   "source": [
    "def split_df_regression(df,\n",
    "                        target_column_name: str,\n",
    "                        valid_test_flag: bool,\n",
    "                        seed=SEED):\n",
    "    '''\n",
    "    This function takes dataframe, target column name and a flag, which means should it return train-valid-test df's \n",
    "    (features_train, features_valid, features_test and target_train, target_valid, target_test) or only train-test.\n",
    "    In case if flag = False, than the function will split the df in proportion 75/25, if True - 60/20/20.\n",
    "    '''\n",
    "\n",
    "    from sklearn.model_selection import train_test_split\n",
    "\n",
    "    if valid_test_flag:\n",
    "        df_train, df_valid = train_test_split(df,\n",
    "                                              test_size=0.2,\n",
    "                                              random_state=seed)\n",
    "        df_train, df_test = train_test_split(df_train,\n",
    "                                             test_size=0.25,\n",
    "                                             random_state=seed)\n",
    "\n",
    "        features_train = df_train.drop([target_column_name], axis=1)\n",
    "        target_train = df_train[target_column_name]\n",
    "\n",
    "        features_valid = df_valid.drop([target_column_name], axis=1)\n",
    "        target_valid = df_valid[target_column_name]\n",
    "\n",
    "        features_test = df_test.drop([target_column_name], axis=1)\n",
    "        target_test = df_test[target_column_name]\n",
    "\n",
    "        return features_train, features_valid, features_test, target_train, target_valid, target_test\n",
    "\n",
    "    df_train, df_test = train_test_split(df, test_size=0.25, random_state=seed)\n",
    "\n",
    "    features_train = df_train.drop([target_column_name], axis=1)\n",
    "    target_train = df_train[target_column_name]\n",
    "\n",
    "    features_test = df_test.drop([target_column_name], axis=1)\n",
    "    target_test = df_test[target_column_name]\n",
    "\n",
    "    return features_train, features_test, target_train, target_test"
   ]
  },
  {
   "cell_type": "code",
   "execution_count": 57,
   "metadata": {},
   "outputs": [],
   "source": [
    "X_train, X_test, y_train, y_test = split_df_regression(full_data_wo_corr,\n",
    "                                                       'last_temp', False,\n",
    "                                                       SEED)"
   ]
  },
  {
   "cell_type": "markdown",
   "metadata": {},
   "source": [
    "Для некоторых алгоритмов, которые мы собираемся использовать необходимо произвести масштабирование признаков. Для этого воспользуемся `StandartScaler`."
   ]
  },
  {
   "cell_type": "code",
   "execution_count": 58,
   "metadata": {},
   "outputs": [
    {
     "data": {
      "text/plain": [
       "Index(['full_power', 'itter_number', 'first_temp', 'last_temp', 'bulk_1',\n",
       "       'bulk_2', 'bulk_3', 'bulk_4', 'bulk_5', 'bulk_6', 'bulk_7', 'bulk_8',\n",
       "       'bulk_9', 'bulk_10', 'bulk_11', 'bulk_12', 'bulk_13', 'bulk_14',\n",
       "       'bulk_15', 'wire_1', 'wire_2', 'wire_3', 'wire_4', 'wire_5', 'wire_6',\n",
       "       'wire_7', 'wire_8', 'wire_9', 'gas_1'],\n",
       "      dtype='object')"
      ]
     },
     "execution_count": 58,
     "metadata": {},
     "output_type": "execute_result"
    }
   ],
   "source": [
    "full_data_wo_corr.columns"
   ]
  },
  {
   "cell_type": "code",
   "execution_count": 59,
   "metadata": {},
   "outputs": [],
   "source": [
    "scaler = StandardScaler()\n",
    "\n",
    "numeric_columns = [\n",
    "    'full_power', 'first_temp', 'bulk_1', 'bulk_2', 'bulk_3', 'bulk_4',\n",
    "    'bulk_5', 'bulk_6', 'bulk_7', 'bulk_8', 'bulk_9', 'bulk_10', 'bulk_11',\n",
    "    'bulk_12', 'bulk_13', 'bulk_14', 'bulk_15', 'wire_1', 'wire_2', 'wire_3',\n",
    "    'wire_4', 'wire_5', 'wire_6', 'wire_7', 'wire_8', 'wire_9', 'gas_1'\n",
    "]\n",
    "\n",
    "scaler.fit(X_train[numeric_columns])\n",
    "\n",
    "X_train[numeric_columns] = scaler.transform(X_train[numeric_columns])\n",
    "\n",
    "X_test[numeric_columns] = scaler.transform(X_test[numeric_columns])"
   ]
  },
  {
   "cell_type": "markdown",
   "metadata": {},
   "source": [
    "## Обучение моделей"
   ]
  },
  {
   "cell_type": "markdown",
   "metadata": {},
   "source": [
    "Для нашей задачи попробуем обучить несколько моделей:\n",
    "- Линейная регрессия\n",
    "- Случайный лес\n",
    "- XGBoost\n",
    "- CatBoost\n",
    "\n",
    "При обучении моделей будем использовать метод кроссвалидации. Чтобы все работало соберем модели и гиперпараметры, которые будем подбирать в отдельные словари."
   ]
  },
  {
   "cell_type": "code",
   "execution_count": 60,
   "metadata": {},
   "outputs": [],
   "source": [
    "models = {\n",
    "    'LinearRegression': LinearRegression(),\n",
    "    'RandomForest': RandomForestRegressor(),\n",
    "    'XGBRegressor': xgboost.XGBRegressor(),\n",
    "    'CatBoostRegressor': CatBoostRegressor()\n",
    "}"
   ]
  },
  {
   "cell_type": "code",
   "execution_count": 61,
   "metadata": {},
   "outputs": [],
   "source": [
    "params = {\n",
    "    'LinearRegression': {\n",
    "        'fit_intercept': [True, False],\n",
    "        'normalize': [True, False],\n",
    "        'n_jobs': [-1]\n",
    "    },\n",
    "    'RandomForest': {\n",
    "        'n_estimators': [10, 50, 100],\n",
    "        'criterion': ['mae'],\n",
    "        'max_depth': [2, 5, 10, 20, 40],\n",
    "        'min_samples_split': [2, 4, 6],\n",
    "        'random_state': [SEED],\n",
    "        'n_jobs': [-1]\n",
    "    },\n",
    "    'XGBRegressor': {\n",
    "        'min_child_weight': [5, 10, 20, 30],\n",
    "        'gamma': [5],\n",
    "        'subsample': [1.0],\n",
    "        'colsample_bytree': [1.0],\n",
    "        'max_depth': [5, 10, 20],\n",
    "        'eval_metric': ['mae'],\n",
    "        'verbosity': [0],\n",
    "        'n_jobs': [-1],\n",
    "        'random_state': [SEED]\n",
    "    },\n",
    "    'CatBoostRegressor': {\n",
    "        'loss_function': ['MAE'],\n",
    "        'n_estimators': np.arange(100, 300, 500),\n",
    "        'learning_rate': np.arange(0.03, 0.12, 0.02),\n",
    "        'random_state': [SEED],\n",
    "        'depth': range(2, 10, 2),\n",
    "        'verbose': [0]\n",
    "    }\n",
    "}"
   ]
  },
  {
   "cell_type": "markdown",
   "metadata": {},
   "source": [
    "Следущая функция получает на вход признаки для обучения и проверки моделей, сами модели и параметры, которые будут подбираться в процессе обучения."
   ]
  },
  {
   "cell_type": "code",
   "execution_count": 62,
   "metadata": {},
   "outputs": [],
   "source": [
    "def fit_all_models(X_train, y_train, X_test, y_test, models, params):\n",
    "    result_list = []\n",
    "    for name in models.keys():\n",
    "        est = models[name]\n",
    "        est_params = params[name]\n",
    "        gscv = GridSearchCV(estimator=est, param_grid=est_params, cv=5)\n",
    "        gscv.fit(X_train, y_train)\n",
    "        train_predictions = gscv.predict(X_train)\n",
    "        predictions = gscv.predict(X_test)\n",
    "        result_list.append({\n",
    "            'estimator':\n",
    "            name,\n",
    "            'train_MAE':\n",
    "            mean_absolute_error(y_train, train_predictions),\n",
    "            'test_MAE':\n",
    "            mean_absolute_error(y_test, predictions),\n",
    "            'best_parameters':\n",
    "            gscv.best_params_\n",
    "        })\n",
    "    results = pd.DataFrame(\n",
    "        result_list,\n",
    "        columns=['estimator', 'train_MAE', 'test_MAE', 'best_parameters'])\n",
    "    results.set_index(\"estimator\", inplace=True)\n",
    "    return results"
   ]
  },
  {
   "cell_type": "code",
   "execution_count": 63,
   "metadata": {
    "scrolled": true
   },
   "outputs": [
    {
     "name": "stdout",
     "output_type": "stream",
     "text": [
      "Wall time: 6min 36s\n"
     ]
    },
    {
     "data": {
      "text/html": [
       "<div>\n",
       "<style scoped>\n",
       "    .dataframe tbody tr th:only-of-type {\n",
       "        vertical-align: middle;\n",
       "    }\n",
       "\n",
       "    .dataframe tbody tr th {\n",
       "        vertical-align: top;\n",
       "    }\n",
       "\n",
       "    .dataframe thead th {\n",
       "        text-align: right;\n",
       "    }\n",
       "</style>\n",
       "<table border=\"1\" class=\"dataframe\">\n",
       "  <thead>\n",
       "    <tr style=\"text-align: right;\">\n",
       "      <th></th>\n",
       "      <th>train_MAE</th>\n",
       "      <th>test_MAE</th>\n",
       "      <th>best_parameters</th>\n",
       "    </tr>\n",
       "    <tr>\n",
       "      <th>estimator</th>\n",
       "      <th></th>\n",
       "      <th></th>\n",
       "      <th></th>\n",
       "    </tr>\n",
       "  </thead>\n",
       "  <tbody>\n",
       "    <tr>\n",
       "      <th>LinearRegression</th>\n",
       "      <td>7.666063</td>\n",
       "      <td>7.822405</td>\n",
       "      <td>{'fit_intercept': True, 'n_jobs': -1, 'normali...</td>\n",
       "    </tr>\n",
       "    <tr>\n",
       "      <th>RandomForest</th>\n",
       "      <td>3.149677</td>\n",
       "      <td>6.195767</td>\n",
       "      <td>{'criterion': 'mae', 'max_depth': 20, 'min_sam...</td>\n",
       "    </tr>\n",
       "    <tr>\n",
       "      <th>XGBRegressor</th>\n",
       "      <td>0.654693</td>\n",
       "      <td>6.479715</td>\n",
       "      <td>{'colsample_bytree': 1.0, 'eval_metric': 'mae'...</td>\n",
       "    </tr>\n",
       "    <tr>\n",
       "      <th>CatBoostRegressor</th>\n",
       "      <td>5.628781</td>\n",
       "      <td>5.978068</td>\n",
       "      <td>{'depth': 4, 'learning_rate': 0.09000000000000...</td>\n",
       "    </tr>\n",
       "  </tbody>\n",
       "</table>\n",
       "</div>"
      ],
      "text/plain": [
       "                   train_MAE  test_MAE  \\\n",
       "estimator                                \n",
       "LinearRegression    7.666063  7.822405   \n",
       "RandomForest        3.149677  6.195767   \n",
       "XGBRegressor        0.654693  6.479715   \n",
       "CatBoostRegressor   5.628781  5.978068   \n",
       "\n",
       "                                                     best_parameters  \n",
       "estimator                                                             \n",
       "LinearRegression   {'fit_intercept': True, 'n_jobs': -1, 'normali...  \n",
       "RandomForest       {'criterion': 'mae', 'max_depth': 20, 'min_sam...  \n",
       "XGBRegressor       {'colsample_bytree': 1.0, 'eval_metric': 'mae'...  \n",
       "CatBoostRegressor  {'depth': 4, 'learning_rate': 0.09000000000000...  "
      ]
     },
     "execution_count": 63,
     "metadata": {},
     "output_type": "execute_result"
    }
   ],
   "source": [
    "%%time\n",
    "\n",
    "results = fit_all_models(X_train, y_train, X_test, y_test, models, params)\n",
    "results"
   ]
  },
  {
   "cell_type": "code",
   "execution_count": 64,
   "metadata": {
    "scrolled": false
   },
   "outputs": [
    {
     "data": {
      "image/png": "[encoded data removed]",
      "text/plain": [
       "<Figure size 864x504 with 1 Axes>"
      ]
     },
     "metadata": {},
     "output_type": "display_data"
    }
   ],
   "source": [
    "plt.figure(figsize=(12, 7))\n",
    "plt.subplot(111)\n",
    "results.plot(kind='bar', ax=plt.gca(), fontsize=11,\n",
    "             colormap='PiYG').hlines(6, -1, 5, color='r')\n",
    "plt.legend(['Target_MAE', 'Train_MAE', 'Test_MAE'], fontsize=11)\n",
    "plt.xlabel('Модель', fontsize=15)\n",
    "plt.ylabel('Мean absolute error', fontsize=15)\n",
    "plt.title('Сравнение моделей', fontsize=15)\n",
    "plt.tight_layout()"
   ]
  },
  {
   "cell_type": "markdown",
   "metadata": {},
   "source": [
    "Как видно из графика и таблицы в соревновании по точности предсказания побеждает `CatBoost`. Линейная регрессия показала самые плохие результаты как на обучающей выборке, так и на тестовой. Случайный лес и XGBRegressor имеют сильную тенденцию к переобучению на обучающей выборке, но на тестовой все равно показывают результаты хуже чем CatBoost.\n",
    "\n",
    "Обучим нашу модель CatBoost с лучшими параметрами и взглянем на важность признаков."
   ]
  },
  {
   "cell_type": "code",
   "execution_count": 65,
   "metadata": {},
   "outputs": [],
   "source": [
    "#Сохраним лучшие параметры полученные при обучение нашей модели в отдельную переменную\n",
    "best_cb_params = results['best_parameters']['CatBoostRegressor']"
   ]
  },
  {
   "cell_type": "code",
   "execution_count": 66,
   "metadata": {
    "scrolled": true
   },
   "outputs": [
    {
     "data": {
      "text/plain": [
       "5.9780679575471884"
      ]
     },
     "execution_count": 66,
     "metadata": {},
     "output_type": "execute_result"
    }
   ],
   "source": [
    "#Создадим экземпляр модели и обучим ее\n",
    "best_model = CatBoostRegressor().set_params(**best_cb_params)\n",
    "best_model.fit(X_train, y_train)\n",
    "#Проверим, что наша модель выдает ожидаемый результат\n",
    "mean_absolute_error(y_test, best_model.predict(X_test))"
   ]
  },
  {
   "cell_type": "markdown",
   "metadata": {},
   "source": [
    "Давайте построим график важности признаков для нашей модели."
   ]
  },
  {
   "cell_type": "code",
   "execution_count": 67,
   "metadata": {},
   "outputs": [],
   "source": [
    "feature_importance = pd.DataFrame(data=best_model.feature_importances_,\n",
    "                                  index=X_test.columns)\n",
    "feature_importance.columns = ['feature_importance']\n",
    "feature_importance.sort_values(by='feature_importance',\n",
    "                               inplace=True,\n",
    "                               ascending=False)"
   ]
  },
  {
   "cell_type": "code",
   "execution_count": 68,
   "metadata": {},
   "outputs": [
    {
     "data": {
      "text/plain": [
       "<matplotlib.axes._subplots.AxesSubplot at 0x1b45f4c7760>"
      ]
     },
     "execution_count": 68,
     "metadata": {},
     "output_type": "execute_result"
    },
    {
     "data": {
      "image/png": "[encoded data removed]",
      "text/plain": [
       "<Figure size 1152x432 with 1 Axes>"
      ]
     },
     "metadata": {},
     "output_type": "display_data"
    }
   ],
   "source": [
    "sns.barplot(x=feature_importance['feature_importance'],\n",
    "            y=feature_importance.index)"
   ]
  },
  {
   "cell_type": "markdown",
   "metadata": {},
   "source": [
    "Как видно из полученного графика наибольшее влияние на предсказание конечной температуры сплава оказывают начальная температура плавления, добавка проволочного материала №1 и мощность нагрева."
   ]
  },
  {
   "cell_type": "markdown",
   "metadata": {},
   "source": [
    "## Вывод"
   ]
  },
  {
   "cell_type": "markdown",
   "metadata": {},
   "source": [
    "В ходе нашего исследования была проделана следущая работа:\n",
    "- Произведены загрузка, осмотр и предварительная обработка данных\n",
    "- Удалены выбросы, определены данные необходимые для построения модели\n",
    "- Все данные были агрегированы в одну таблицу, признаки проверены на корреляцию, выбраны релевантные признаки для модели\n",
    "- Масштабирование признаков и разбиение данных на обучающую и тестовую выборки\n",
    "- Исследованы несколько моделей\n",
    "- Полученные модели были сравнены по целевой метрики на тестовой выборки\n",
    "\n",
    "Как результат работы мы получили модель `CatBoostRegressor`, которая на тестовой выборке показала результат ключевой метрики абсолютной ошибки ниже шести. \n",
    "\n",
    "Перед нами стояла задача построить модель, которая сможет с высокой точностью предсказывать конечную температуру рассплавленного металла. Позже эту модель планируется использовать на производстве для оптимизации потребления электроэнергии. Дальнейшее улучшение модели можно получить разбив и стандартизировав процесс произведения замеров температуры на производстве. Можно построить модель, которая получая на вход данные о уже произведенных технологических процессах по этапам сможет предсказывать какую мощность необходимо применить, чтобы добиться нужной температуры металла. Для этого полезными могут оказаться такие данные как конкретные физические свойства добавляемых маттериалов и их количество. "
   ]
  },
  {
   "cell_type": "markdown",
   "metadata": {},
   "source": [
    "## Отчет"
   ]
  },
  {
   "cell_type": "markdown",
   "metadata": {},
   "source": [
    "После осмотра датасетов нами был составлен план работы. Давайте взглянем на него еще раз и прокоментируем проделанные шаги:\n",
    "- [x] Выделение из датасета температур последнего замера для каждой партии\n",
    "\n",
    "*Прежде всего мы проверили наш датасет и обнаружили, что для довольно большого количества партий в датасете был лишь один замер температуры. Было принято решение не использовать данные по таким партиям для обучения модели. Помимо последней температуры как целевого признака, мы выделил из датасета первую (начальную) температуру как дополнительный признак для нашей модели. После построения модели и проверки важности признаков, мы подтвердили нашу догадку о важности этого признака - начальная температура оказалась самым важным параметром для нашей модели.*\n",
    "\n",
    "- [x] Объединение датасетов по ключу партии\n",
    "\n",
    "*Этот пункт выполнен в соответствии с планом*\n",
    "\n",
    "- [x] Создание дополнительных признаков:\n",
    "    - Суммарная мощность\n",
    "    - Время нагрева\n",
    "    - ...\n",
    "    \n",
    "*В процессе осмотра признаков дополнительно в таблицу были введены следующие столбцы:*\n",
    "- *Суммарная мощность*\n",
    "- *Количество иттераций нагрева*\n",
    "- *Начальная температура для каждой партии*\n",
    "- *Суммарное время нагрева для каждой партии*\n",
    "\n",
    "\n",
    "- [x] Проверка признаков на корреляцию, разбиение финального датасета на обучающую и тестовую выборки\n",
    "\n",
    "*При проверке признаков на мультиколлениарность мы обнаружили практические прямые зависимости между всеми видами мощности и временем нагрева. После анализа корреляций было принято решение оставить в таблице только общую мощность.*\n",
    "\n",
    "- [x] Выбор модели МЛ:\n",
    "    - линейная регрессия\n",
    "    - случайный лес\n",
    "    - XGBoost\n",
    "    - CatBoost\n",
    "- [x] Подборка гиперпараметров модели\n",
    "\n",
    "*Все предвыбранные модели были проверены нами. Гиперпараметры моделей подбирались методом кроссвалидации. В результате обнаружено, что:\n",
    "- *Линейная регрессия не смогла дать хороший результат метрики*\n",
    "- *Случайный лес и XGBoost имеют сильную тенденцию к переобучению и так же показали не самые лучшие результаты на тестовой выборке*\n",
    "- *Наш выбор - CatBoostRegressor. Лучший результат метрики и очень близкие показатели на обучающей и тестовой выборках, что говорит, что модель не получилась сильно переобученной.*\n",
    "\n",
    "\n",
    "- [x] Проверка модели на тестовой выборке\n",
    "\n",
    "*Проверка делалась еще в ходе подборки гиперпарметров. В результате мы получили модель с лучшими параметрами и можем отдавать ее заказчику.*\n",
    "\n",
    "- [x] Написание отчета\n",
    "\n",
    "*Делаем прямо сейчас))*"
   ]
  },
  {
   "cell_type": "markdown",
   "metadata": {},
   "source": [
    "По ходу выполнения задачи основными трудностями были незнание предметной области и отсутствие четкого понимания взаимосвязей в предоставленных данных. Изначальная формулировка задачи потребовала уточнения у тимлида. Так же полезными оказались сведения по специфике производства полученные от коллег и из внешних источников. Некторые из предоставленных датасетов оказались бесполезны для решения поставленной задачи."
   ]
  },
  {
   "cell_type": "markdown",
   "metadata": {},
   "source": [
    "Ключевыми шагами при решении задачи стали:\n",
    "- Сбор сведений о технологии производства стали\n",
    "- Обработка полученных данных, поиск аномалий, пропусков значений, определение необходимых признаков\n",
    "- Анализ полученных признаков\n",
    "- Обучение моделей и подбор гиперпараметров\n",
    "- Анализ полученной модели, ее соответствия поставленной задаче и определение дальнейших шагов, по тому, как наша модель может положительно повлиять на основную проблему клиента."
   ]
  },
  {
   "cell_type": "markdown",
   "metadata": {},
   "source": [
    "Как уже говорилось выше финальной моделью мы выбрали `CatBoostRegressor`. Она позволяет нам делать предсказания с абсолютной ошибкой не более 6 градусов, при этом не имеет тенденции к переобучению. Модель может быть более точечно настроенна за счет увеличения обучающей выборки. Положительно может сказаться на качестве модели добавления сведений о партиях в которые добавлялись более редкие сыпучие или проволочные материалы. Так же следует дать рекомендацию бизнесу более четко следить за процессом сбора данных - после 2500 партии качество информации стало сильно хуже."
   ]
  }
 ],
 "metadata": {
  "ExecuteTimeLog": [
   {
    "duration": 1100,
    "start_time": "2021-07-01T07:23:25.216Z"
   },
   {
    "duration": 1261,
    "start_time": "2021-07-01T07:23:31.552Z"
   },
   {
    "duration": 171,
    "start_time": "2021-07-01T07:26:02.167Z"
   },
   {
    "duration": 3,
    "start_time": "2021-07-01T07:26:04.473Z"
   },
   {
    "duration": 48,
    "start_time": "2021-07-01T07:26:05.708Z"
   },
   {
    "duration": 5,
    "start_time": "2021-07-01T07:26:12.064Z"
   },
   {
    "duration": 4,
    "start_time": "2021-07-01T07:26:13.010Z"
   },
   {
    "duration": 3,
    "start_time": "2021-07-01T07:26:13.681Z"
   },
   {
    "duration": 3,
    "start_time": "2021-07-01T07:26:14.442Z"
   },
   {
    "duration": 4,
    "start_time": "2021-07-01T07:26:14.592Z"
   },
   {
    "duration": 3,
    "start_time": "2021-07-01T07:26:34.169Z"
   },
   {
    "duration": 6,
    "start_time": "2021-07-01T07:26:34.761Z"
   },
   {
    "duration": 39,
    "start_time": "2021-07-01T07:26:36.798Z"
   },
   {
    "duration": 11,
    "start_time": "2021-07-01T07:26:39.545Z"
   },
   {
    "duration": 766,
    "start_time": "2021-07-01T07:26:44.779Z"
   },
   {
    "duration": 760,
    "start_time": "2021-07-01T07:26:45.736Z"
   },
   {
    "duration": 10,
    "start_time": "2021-07-01T07:26:46.498Z"
   },
   {
    "duration": 5,
    "start_time": "2021-07-01T07:26:46.800Z"
   },
   {
    "duration": 738,
    "start_time": "2021-07-01T07:26:47.045Z"
   },
   {
    "duration": 1573,
    "start_time": "2021-07-01T12:19:55.307Z"
   },
   {
    "duration": 2855,
    "start_time": "2021-07-01T12:20:01.493Z"
   },
   {
    "duration": 187,
    "start_time": "2021-07-01T12:20:08.284Z"
   },
   {
    "duration": 3,
    "start_time": "2021-07-01T12:20:16.530Z"
   },
   {
    "duration": 102,
    "start_time": "2021-07-01T12:20:17.835Z"
   },
   {
    "duration": 7,
    "start_time": "2021-07-01T12:20:20.593Z"
   },
   {
    "duration": 7,
    "start_time": "2021-07-01T12:20:21.555Z"
   },
   {
    "duration": 5,
    "start_time": "2021-07-01T12:20:22.467Z"
   },
   {
    "duration": 3,
    "start_time": "2021-07-01T12:20:24.775Z"
   },
   {
    "duration": 7,
    "start_time": "2021-07-01T12:20:26.415Z"
   },
   {
    "duration": 5,
    "start_time": "2021-07-01T12:20:28.922Z"
   },
   {
    "duration": 8,
    "start_time": "2021-07-01T12:20:29.867Z"
   },
   {
    "duration": 66,
    "start_time": "2021-07-01T12:20:33.055Z"
   },
   {
    "duration": 16,
    "start_time": "2021-07-01T12:20:37.447Z"
   },
   {
    "duration": 1243,
    "start_time": "2021-07-01T12:20:55.854Z"
   },
   {
    "duration": 1254,
    "start_time": "2021-07-01T12:20:59.990Z"
   },
   {
    "duration": 15,
    "start_time": "2021-07-01T12:21:08.937Z"
   },
   {
    "duration": 7,
    "start_time": "2021-07-01T12:21:10.590Z"
   },
   {
    "duration": 1211,
    "start_time": "2021-07-01T12:21:29.343Z"
   },
   {
    "duration": 207,
    "start_time": "2021-07-01T12:21:35.360Z"
   },
   {
    "duration": 68,
    "start_time": "2021-07-01T12:21:38.098Z"
   },
   {
    "duration": 57,
    "start_time": "2021-07-01T12:21:40.091Z"
   },
   {
    "duration": 56,
    "start_time": "2021-07-01T12:21:41.222Z"
   },
   {
    "duration": 38,
    "start_time": "2021-07-01T12:21:44.726Z"
   },
   {
    "duration": 1203,
    "start_time": "2021-07-01T12:21:46.549Z"
   },
   {
    "duration": 53,
    "start_time": "2021-07-01T12:21:58.898Z"
   },
   {
    "duration": 11,
    "start_time": "2021-07-01T12:22:00.525Z"
   },
   {
    "duration": 1825,
    "start_time": "2021-07-01T12:22:01.826Z"
   },
   {
    "duration": 1528,
    "start_time": "2021-07-01T12:22:48.050Z"
   },
   {
    "duration": 187,
    "start_time": "2021-07-01T12:22:49.581Z"
   },
   {
    "duration": 3,
    "start_time": "2021-07-01T12:22:49.771Z"
   },
   {
    "duration": 93,
    "start_time": "2021-07-01T12:22:49.777Z"
   },
   {
    "duration": 6,
    "start_time": "2021-07-01T12:22:49.872Z"
   },
   {
    "duration": 36,
    "start_time": "2021-07-01T12:22:49.880Z"
   },
   {
    "duration": 13,
    "start_time": "2021-07-01T12:22:49.919Z"
   },
   {
    "duration": 7,
    "start_time": "2021-07-01T12:22:49.936Z"
   },
   {
    "duration": 11,
    "start_time": "2021-07-01T12:22:49.946Z"
   },
   {
    "duration": 6,
    "start_time": "2021-07-01T12:22:49.959Z"
   },
   {
    "duration": 18,
    "start_time": "2021-07-01T12:22:49.968Z"
   },
   {
    "duration": 82,
    "start_time": "2021-07-01T12:22:49.988Z"
   },
   {
    "duration": 41,
    "start_time": "2021-07-01T12:22:50.073Z"
   },
   {
    "duration": 1279,
    "start_time": "2021-07-01T12:22:50.117Z"
   },
   {
    "duration": 1187,
    "start_time": "2021-07-01T12:22:51.398Z"
   },
   {
    "duration": 31,
    "start_time": "2021-07-01T12:22:52.588Z"
   },
   {
    "duration": 10,
    "start_time": "2021-07-01T12:22:52.622Z"
   },
   {
    "duration": 1292,
    "start_time": "2021-07-01T12:22:52.634Z"
   },
   {
    "duration": 221,
    "start_time": "2021-07-01T12:22:53.928Z"
   },
   {
    "duration": 87,
    "start_time": "2021-07-01T12:22:54.152Z"
   },
   {
    "duration": 72,
    "start_time": "2021-07-01T12:22:54.242Z"
   },
   {
    "duration": 55,
    "start_time": "2021-07-01T12:22:54.318Z"
   },
   {
    "duration": 63,
    "start_time": "2021-07-01T12:22:54.378Z"
   },
   {
    "duration": 1136,
    "start_time": "2021-07-01T12:22:54.443Z"
   },
   {
    "duration": 57,
    "start_time": "2021-07-01T12:22:55.582Z"
   },
   {
    "duration": 11,
    "start_time": "2021-07-01T12:22:55.641Z"
   },
   {
    "duration": 1739,
    "start_time": "2021-07-01T12:22:55.654Z"
   },
   {
    "duration": -21546,
    "start_time": "2021-07-01T12:23:18.954Z"
   },
   {
    "duration": -21546,
    "start_time": "2021-07-01T12:23:18.956Z"
   },
   {
    "duration": -21548,
    "start_time": "2021-07-01T12:23:18.959Z"
   },
   {
    "duration": -21548,
    "start_time": "2021-07-01T12:23:18.961Z"
   },
   {
    "duration": 2063,
    "start_time": "2021-07-01T12:26:55.764Z"
   },
   {
    "duration": 1418,
    "start_time": "2021-07-01T12:27:06.592Z"
   },
   {
    "duration": 1425,
    "start_time": "2021-07-01T12:27:15.604Z"
   },
   {
    "duration": 4,
    "start_time": "2021-07-01T12:28:43.260Z"
   },
   {
    "duration": 4909,
    "start_time": "2021-07-01T12:29:13.891Z"
   },
   {
    "duration": 4,
    "start_time": "2021-07-01T12:29:20.628Z"
   },
   {
    "duration": 4,
    "start_time": "2021-07-01T12:29:36.352Z"
   },
   {
    "duration": 5,
    "start_time": "2021-07-01T12:29:37.235Z"
   },
   {
    "duration": 1486,
    "start_time": "2021-07-01T12:33:07.997Z"
   },
   {
    "duration": 5,
    "start_time": "2021-07-01T12:33:10.488Z"
   },
   {
    "duration": 1514,
    "start_time": "2021-07-01T12:33:22.070Z"
   },
   {
    "duration": 194,
    "start_time": "2021-07-01T12:33:23.586Z"
   },
   {
    "duration": 4,
    "start_time": "2021-07-01T12:33:23.783Z"
   },
   {
    "duration": 102,
    "start_time": "2021-07-01T12:33:23.790Z"
   },
   {
    "duration": 15,
    "start_time": "2021-07-01T12:33:23.909Z"
   },
   {
    "duration": 6,
    "start_time": "2021-07-01T12:33:23.930Z"
   },
   {
    "duration": 10,
    "start_time": "2021-07-01T12:33:23.938Z"
   },
   {
    "duration": 7,
    "start_time": "2021-07-01T12:33:23.952Z"
   },
   {
    "duration": 12,
    "start_time": "2021-07-01T12:33:23.962Z"
   },
   {
    "duration": 38,
    "start_time": "2021-07-01T12:33:23.977Z"
   },
   {
    "duration": 12,
    "start_time": "2021-07-01T12:33:24.017Z"
   },
   {
    "duration": 92,
    "start_time": "2021-07-01T12:33:24.032Z"
   },
   {
    "duration": 18,
    "start_time": "2021-07-01T12:33:24.126Z"
   },
   {
    "duration": 1623,
    "start_time": "2021-07-01T12:33:24.147Z"
   },
   {
    "duration": 1521,
    "start_time": "2021-07-01T12:33:25.773Z"
   },
   {
    "duration": 23,
    "start_time": "2021-07-01T12:33:27.308Z"
   },
   {
    "duration": 8,
    "start_time": "2021-07-01T12:33:27.334Z"
   },
   {
    "duration": 1580,
    "start_time": "2021-07-01T12:33:27.345Z"
   },
   {
    "duration": 147,
    "start_time": "2021-07-01T12:33:28.928Z"
   },
   {
    "duration": 78,
    "start_time": "2021-07-01T12:33:29.078Z"
   },
   {
    "duration": 90,
    "start_time": "2021-07-01T12:33:29.159Z"
   },
   {
    "duration": 78,
    "start_time": "2021-07-01T12:33:29.252Z"
   },
   {
    "duration": 35,
    "start_time": "2021-07-01T12:33:29.335Z"
   },
   {
    "duration": 1490,
    "start_time": "2021-07-01T12:33:29.373Z"
   },
   {
    "duration": 65,
    "start_time": "2021-07-01T12:33:30.865Z"
   },
   {
    "duration": 13,
    "start_time": "2021-07-01T12:33:30.933Z"
   },
   {
    "duration": 16,
    "start_time": "2021-07-01T12:33:30.949Z"
   },
   {
    "duration": 1509,
    "start_time": "2021-07-01T12:33:30.967Z"
   },
   {
    "duration": 14,
    "start_time": "2021-07-01T12:33:32.478Z"
   },
   {
    "duration": 120,
    "start_time": "2021-07-01T12:33:32.494Z"
   },
   {
    "duration": 52,
    "start_time": "2021-07-01T12:33:32.620Z"
   },
   {
    "duration": 61,
    "start_time": "2021-07-01T12:33:32.675Z"
   },
   {
    "duration": 6,
    "start_time": "2021-07-01T12:38:41.797Z"
   },
   {
    "duration": 1541,
    "start_time": "2021-07-01T12:39:20.087Z"
   },
   {
    "duration": 1433,
    "start_time": "2021-07-02T03:01:47.895Z"
   },
   {
    "duration": 209,
    "start_time": "2021-07-02T03:01:54.362Z"
   },
   {
    "duration": 4,
    "start_time": "2021-07-02T03:01:56.939Z"
   },
   {
    "duration": 81,
    "start_time": "2021-07-02T03:01:58.901Z"
   },
   {
    "duration": 6,
    "start_time": "2021-07-02T03:02:02.137Z"
   },
   {
    "duration": 6,
    "start_time": "2021-07-02T03:02:03.607Z"
   },
   {
    "duration": 6,
    "start_time": "2021-07-02T03:02:04.666Z"
   },
   {
    "duration": 4,
    "start_time": "2021-07-02T03:02:07.703Z"
   },
   {
    "duration": 6,
    "start_time": "2021-07-02T03:02:10.404Z"
   },
   {
    "duration": 5,
    "start_time": "2021-07-02T03:02:13.343Z"
   },
   {
    "duration": 8,
    "start_time": "2021-07-02T03:02:14.271Z"
   },
   {
    "duration": 60,
    "start_time": "2021-07-02T03:02:19.618Z"
   },
   {
    "duration": 17,
    "start_time": "2021-07-02T03:02:26.270Z"
   },
   {
    "duration": 1141,
    "start_time": "2021-07-02T03:02:30.175Z"
   },
   {
    "duration": 1115,
    "start_time": "2021-07-02T03:02:35.700Z"
   },
   {
    "duration": 6,
    "start_time": "2021-07-02T03:02:55.422Z"
   },
   {
    "duration": 2283,
    "start_time": "2021-07-02T03:03:27.162Z"
   },
   {
    "duration": 4849,
    "start_time": "2021-07-02T03:03:35.991Z"
   },
   {
    "duration": 3301,
    "start_time": "2021-07-02T03:08:39.085Z"
   },
   {
    "duration": 1468,
    "start_time": "2021-07-02T03:08:43.824Z"
   },
   {
    "duration": 202,
    "start_time": "2021-07-02T03:09:59.221Z"
   },
   {
    "duration": 4,
    "start_time": "2021-07-02T03:10:02.139Z"
   },
   {
    "duration": 82,
    "start_time": "2021-07-02T03:10:03.202Z"
   },
   {
    "duration": 7,
    "start_time": "2021-07-02T03:10:05.317Z"
   },
   {
    "duration": 7,
    "start_time": "2021-07-02T03:10:06.874Z"
   },
   {
    "duration": 6,
    "start_time": "2021-07-02T03:10:08.395Z"
   },
   {
    "duration": 4,
    "start_time": "2021-07-02T03:10:10.019Z"
   },
   {
    "duration": 6,
    "start_time": "2021-07-02T03:10:10.926Z"
   },
   {
    "duration": 5,
    "start_time": "2021-07-02T03:10:15.418Z"
   },
   {
    "duration": 8,
    "start_time": "2021-07-02T03:10:16.752Z"
   },
   {
    "duration": 59,
    "start_time": "2021-07-02T03:10:20.019Z"
   },
   {
    "duration": 16,
    "start_time": "2021-07-02T03:10:22.293Z"
   },
   {
    "duration": 1446,
    "start_time": "2021-07-02T03:10:26.815Z"
   },
   {
    "duration": 1365,
    "start_time": "2021-07-02T03:10:32.173Z"
   },
   {
    "duration": 6,
    "start_time": "2021-07-02T03:10:38.607Z"
   },
   {
    "duration": 15,
    "start_time": "2021-07-02T03:10:40.903Z"
   },
   {
    "duration": 7,
    "start_time": "2021-07-02T03:10:42.878Z"
   },
   {
    "duration": 1406,
    "start_time": "2021-07-02T03:10:45.373Z"
   },
   {
    "duration": 116,
    "start_time": "2021-07-02T03:10:55.256Z"
   },
   {
    "duration": 5,
    "start_time": "2021-07-02T03:12:39.954Z"
   },
   {
    "duration": 30,
    "start_time": "2021-07-02T03:12:52.642Z"
   },
   {
    "duration": 60,
    "start_time": "2021-07-02T03:13:01.931Z"
   },
   {
    "duration": 51,
    "start_time": "2021-07-02T03:13:03.997Z"
   },
   {
    "duration": 54,
    "start_time": "2021-07-02T03:13:05.527Z"
   },
   {
    "duration": 39,
    "start_time": "2021-07-02T03:13:12.030Z"
   },
   {
    "duration": 1395,
    "start_time": "2021-07-02T03:13:14.062Z"
   },
   {
    "duration": 44,
    "start_time": "2021-07-02T03:13:21.346Z"
   },
   {
    "duration": 10,
    "start_time": "2021-07-02T03:13:25.982Z"
   },
   {
    "duration": 1409,
    "start_time": "2021-07-02T03:13:27.213Z"
   },
   {
    "duration": 6,
    "start_time": "2021-07-02T03:14:18.102Z"
   },
   {
    "duration": 1376,
    "start_time": "2021-07-02T03:14:19.146Z"
   },
   {
    "duration": 416,
    "start_time": "2021-07-02T03:16:40.642Z"
   },
   {
    "duration": 8,
    "start_time": "2021-07-02T03:17:45.766Z"
   },
   {
    "duration": 1261,
    "start_time": "2021-07-02T03:17:56.397Z"
   },
   {
    "duration": 11,
    "start_time": "2021-07-02T03:18:11.222Z"
   },
   {
    "duration": 1199,
    "start_time": "2021-07-02T03:18:26.006Z"
   },
   {
    "duration": 6024,
    "start_time": "2021-07-02T03:20:05.266Z"
   },
   {
    "duration": 546,
    "start_time": "2021-07-02T03:20:17.970Z"
   },
   {
    "duration": 254,
    "start_time": "2021-07-02T03:20:36.530Z"
   },
   {
    "duration": 7,
    "start_time": "2021-07-02T03:20:45.553Z"
   },
   {
    "duration": 12,
    "start_time": "2021-07-02T03:21:05.486Z"
   },
   {
    "duration": 12,
    "start_time": "2021-07-02T03:21:51.666Z"
   },
   {
    "duration": 250,
    "start_time": "2021-07-02T03:22:04.446Z"
   },
   {
    "duration": 18,
    "start_time": "2021-07-02T03:23:57.846Z"
   },
   {
    "duration": 20,
    "start_time": "2021-07-02T03:24:13.985Z"
   },
   {
    "duration": 13,
    "start_time": "2021-07-02T03:24:28.049Z"
   },
   {
    "duration": 264,
    "start_time": "2021-07-02T03:24:38.714Z"
   },
   {
    "duration": 257,
    "start_time": "2021-07-02T03:24:52.344Z"
   },
   {
    "duration": 1080,
    "start_time": "2021-07-02T03:25:19.494Z"
   },
   {
    "duration": 403,
    "start_time": "2021-07-02T03:26:35.021Z"
   },
   {
    "duration": 247,
    "start_time": "2021-07-02T03:26:45.706Z"
   },
   {
    "duration": 1075,
    "start_time": "2021-07-02T03:35:11.428Z"
   },
   {
    "duration": 1067,
    "start_time": "2021-07-02T03:35:48.009Z"
   },
   {
    "duration": 1267,
    "start_time": "2021-07-02T03:36:01.908Z"
   },
   {
    "duration": 1148,
    "start_time": "2021-07-02T03:36:56.379Z"
   },
   {
    "duration": 9,
    "start_time": "2021-07-02T03:38:37.908Z"
   },
   {
    "duration": 11,
    "start_time": "2021-07-02T03:39:37.304Z"
   },
   {
    "duration": 10,
    "start_time": "2021-07-02T03:39:47.835Z"
   },
   {
    "duration": 10,
    "start_time": "2021-07-02T03:39:59.751Z"
   },
   {
    "duration": 28,
    "start_time": "2021-07-02T03:40:44.060Z"
   },
   {
    "duration": 8,
    "start_time": "2021-07-02T03:41:00.749Z"
   },
   {
    "duration": 1170,
    "start_time": "2021-07-02T03:41:31.784Z"
   },
   {
    "duration": 1246,
    "start_time": "2021-07-02T03:41:55.317Z"
   },
   {
    "duration": 7,
    "start_time": "2021-07-02T03:43:49.001Z"
   },
   {
    "duration": 9,
    "start_time": "2021-07-02T03:43:57.040Z"
   },
   {
    "duration": 51,
    "start_time": "2021-07-02T03:44:33.612Z"
   },
   {
    "duration": 51,
    "start_time": "2021-07-02T03:44:41.351Z"
   },
   {
    "duration": 89,
    "start_time": "2021-07-02T03:45:44.779Z"
   },
   {
    "duration": 548,
    "start_time": "2021-07-02T03:46:56.012Z"
   },
   {
    "duration": 85,
    "start_time": "2021-07-02T03:47:37.807Z"
   },
   {
    "duration": 1878,
    "start_time": "2021-07-02T03:47:56.771Z"
   },
   {
    "duration": 272,
    "start_time": "2021-07-02T03:48:40.100Z"
   },
   {
    "duration": 251,
    "start_time": "2021-07-02T03:49:03.104Z"
   },
   {
    "duration": 287,
    "start_time": "2021-07-02T03:49:11.415Z"
   },
   {
    "duration": 1116,
    "start_time": "2021-07-02T03:49:22.438Z"
   },
   {
    "duration": 551,
    "start_time": "2021-07-02T03:49:31.056Z"
   },
   {
    "duration": 1113,
    "start_time": "2021-07-02T03:49:38.104Z"
   },
   {
    "duration": 10,
    "start_time": "2021-07-02T03:51:21.269Z"
   },
   {
    "duration": 294,
    "start_time": "2021-07-02T03:51:30.980Z"
   },
   {
    "duration": 13,
    "start_time": "2021-07-02T03:52:37.047Z"
   },
   {
    "duration": 265,
    "start_time": "2021-07-02T03:53:19.611Z"
   },
   {
    "duration": 266,
    "start_time": "2021-07-02T03:54:06.335Z"
   },
   {
    "duration": 11,
    "start_time": "2021-07-02T03:54:48.891Z"
   },
   {
    "duration": 16,
    "start_time": "2021-07-02T03:55:29.906Z"
   },
   {
    "duration": 5,
    "start_time": "2021-07-02T03:55:57.028Z"
   },
   {
    "duration": 17,
    "start_time": "2021-07-02T03:55:59.131Z"
   },
   {
    "duration": 11,
    "start_time": "2021-07-02T03:56:10.415Z"
   },
   {
    "duration": 9,
    "start_time": "2021-07-02T03:56:19.575Z"
   },
   {
    "duration": 682,
    "start_time": "2021-07-02T03:56:46.960Z"
   },
   {
    "duration": 639,
    "start_time": "2021-07-02T03:57:11.015Z"
   },
   {
    "duration": 6097,
    "start_time": "2021-07-02T03:58:14.018Z"
   },
   {
    "duration": 1770,
    "start_time": "2021-07-02T03:58:30.487Z"
   },
   {
    "duration": 863,
    "start_time": "2021-07-02T04:00:58.433Z"
   },
   {
    "duration": 1006,
    "start_time": "2021-07-02T04:01:14.319Z"
   },
   {
    "duration": 743,
    "start_time": "2021-07-02T04:01:24.002Z"
   },
   {
    "duration": 685,
    "start_time": "2021-07-02T04:01:38.886Z"
   },
   {
    "duration": 1157,
    "start_time": "2021-07-02T04:02:11.337Z"
   },
   {
    "duration": 626,
    "start_time": "2021-07-02T04:02:52.141Z"
   },
   {
    "duration": 88,
    "start_time": "2021-07-02T04:04:12.034Z"
   },
   {
    "duration": 928,
    "start_time": "2021-07-02T04:04:22.818Z"
   },
   {
    "duration": 885,
    "start_time": "2021-07-02T04:04:46.011Z"
   },
   {
    "duration": 636,
    "start_time": "2021-07-02T04:05:02.202Z"
   },
   {
    "duration": 14,
    "start_time": "2021-07-02T04:14:58.289Z"
   },
   {
    "duration": 11,
    "start_time": "2021-07-02T04:15:02.529Z"
   },
   {
    "duration": 9,
    "start_time": "2021-07-02T04:15:44.485Z"
   },
   {
    "duration": 9,
    "start_time": "2021-07-02T04:16:05.734Z"
   },
   {
    "duration": 258,
    "start_time": "2021-07-02T04:16:31.846Z"
   },
   {
    "duration": 26,
    "start_time": "2021-07-02T04:16:40.132Z"
   },
   {
    "duration": 6,
    "start_time": "2021-07-02T04:17:00.601Z"
   },
   {
    "duration": 10,
    "start_time": "2021-07-02T04:17:55.685Z"
   },
   {
    "duration": 14,
    "start_time": "2021-07-02T04:18:00.257Z"
   },
   {
    "duration": 4,
    "start_time": "2021-07-02T04:23:48.069Z"
   },
   {
    "duration": 3661,
    "start_time": "2021-07-02T04:25:28.854Z"
   },
   {
    "duration": 1448,
    "start_time": "2021-07-02T04:25:32.518Z"
   },
   {
    "duration": 216,
    "start_time": "2021-07-02T04:25:33.969Z"
   },
   {
    "duration": 4,
    "start_time": "2021-07-02T04:25:34.189Z"
   },
   {
    "duration": 114,
    "start_time": "2021-07-02T04:25:34.196Z"
   },
   {
    "duration": 7,
    "start_time": "2021-07-02T04:25:34.313Z"
   },
   {
    "duration": 36,
    "start_time": "2021-07-02T04:25:34.322Z"
   },
   {
    "duration": 10,
    "start_time": "2021-07-02T04:25:34.362Z"
   },
   {
    "duration": 11,
    "start_time": "2021-07-02T04:25:34.375Z"
   },
   {
    "duration": 7,
    "start_time": "2021-07-02T04:25:34.389Z"
   },
   {
    "duration": 6,
    "start_time": "2021-07-02T04:25:34.399Z"
   },
   {
    "duration": 10,
    "start_time": "2021-07-02T04:25:34.408Z"
   },
   {
    "duration": 95,
    "start_time": "2021-07-02T04:25:34.420Z"
   },
   {
    "duration": 45,
    "start_time": "2021-07-02T04:25:34.518Z"
   },
   {
    "duration": 1454,
    "start_time": "2021-07-02T04:25:34.566Z"
   },
   {
    "duration": 1558,
    "start_time": "2021-07-02T04:25:36.022Z"
   },
   {
    "duration": 14,
    "start_time": "2021-07-02T04:25:37.582Z"
   },
   {
    "duration": 9,
    "start_time": "2021-07-02T04:25:37.599Z"
   },
   {
    "duration": 1476,
    "start_time": "2021-07-02T04:25:37.610Z"
   },
   {
    "duration": 144,
    "start_time": "2021-07-02T04:25:39.089Z"
   },
   {
    "duration": 19,
    "start_time": "2021-07-02T04:25:39.235Z"
   },
   {
    "duration": 36,
    "start_time": "2021-07-02T04:25:39.256Z"
   },
   {
    "duration": 77,
    "start_time": "2021-07-02T04:25:39.297Z"
   },
   {
    "duration": 80,
    "start_time": "2021-07-02T04:25:39.377Z"
   },
   {
    "duration": 61,
    "start_time": "2021-07-02T04:25:39.459Z"
   },
   {
    "duration": 60,
    "start_time": "2021-07-02T04:25:39.522Z"
   },
   {
    "duration": 1259,
    "start_time": "2021-07-02T04:25:39.584Z"
   },
   {
    "duration": 49,
    "start_time": "2021-07-02T04:25:40.846Z"
   },
   {
    "duration": 10,
    "start_time": "2021-07-02T04:25:40.897Z"
   },
   {
    "duration": 1447,
    "start_time": "2021-07-02T04:25:40.909Z"
   },
   {
    "duration": 13,
    "start_time": "2021-07-02T04:25:42.359Z"
   },
   {
    "duration": 15,
    "start_time": "2021-07-02T04:25:42.375Z"
   },
   {
    "duration": 1534,
    "start_time": "2021-07-02T04:25:42.393Z"
   },
   {
    "duration": 37,
    "start_time": "2021-07-02T04:25:43.930Z"
   },
   {
    "duration": 648,
    "start_time": "2021-07-02T04:25:43.969Z"
   },
   {
    "duration": 45,
    "start_time": "2021-07-02T04:25:44.620Z"
   },
   {
    "duration": 121,
    "start_time": "2021-07-02T04:25:44.667Z"
   },
   {
    "duration": 5,
    "start_time": "2021-07-02T04:25:44.791Z"
   },
   {
    "duration": 74,
    "start_time": "2021-07-02T04:25:44.798Z"
   },
   {
    "duration": 30,
    "start_time": "2021-07-02T04:25:44.875Z"
   },
   {
    "duration": 402,
    "start_time": "2021-07-02T04:40:58.487Z"
   },
   {
    "duration": 23,
    "start_time": "2021-07-02T04:41:26.758Z"
   },
   {
    "duration": 11,
    "start_time": "2021-07-02T04:41:49.823Z"
   },
   {
    "duration": 12,
    "start_time": "2021-07-02T04:42:00.454Z"
   },
   {
    "duration": 10,
    "start_time": "2021-07-02T04:42:43.078Z"
   },
   {
    "duration": 13,
    "start_time": "2021-07-02T04:42:43.946Z"
   },
   {
    "duration": 6165,
    "start_time": "2021-07-02T04:44:35.730Z"
   },
   {
    "duration": 7,
    "start_time": "2021-07-02T04:44:56.815Z"
   },
   {
    "duration": 1710,
    "start_time": "2021-07-02T04:45:41.046Z"
   },
   {
    "duration": 2090,
    "start_time": "2021-07-02T04:45:51.289Z"
   },
   {
    "duration": 704,
    "start_time": "2021-07-02T04:47:57.486Z"
   },
   {
    "duration": -21025,
    "start_time": "2021-07-02T04:48:41.719Z"
   },
   {
    "duration": 442,
    "start_time": "2021-07-02T04:48:23.541Z"
   },
   {
    "duration": 6170,
    "start_time": "2021-07-02T04:49:17.818Z"
   },
   {
    "duration": 269,
    "start_time": "2021-07-02T04:50:04.814Z"
   },
   {
    "duration": 275,
    "start_time": "2021-07-02T04:50:13.320Z"
   },
   {
    "duration": 596,
    "start_time": "2021-07-02T04:50:24.358Z"
   },
   {
    "duration": 263,
    "start_time": "2021-07-02T04:50:58.623Z"
   },
   {
    "duration": 7,
    "start_time": "2021-07-02T04:51:16.122Z"
   },
   {
    "duration": 8,
    "start_time": "2021-07-02T04:53:24.591Z"
   },
   {
    "duration": 893,
    "start_time": "2021-07-02T04:55:15.003Z"
   },
   {
    "duration": 1718,
    "start_time": "2021-07-02T04:55:27.430Z"
   },
   {
    "duration": 2246,
    "start_time": "2021-07-02T05:00:47.978Z"
   },
   {
    "duration": 1903,
    "start_time": "2021-07-02T05:02:11.587Z"
   },
   {
    "duration": 2964,
    "start_time": "2021-07-02T05:02:42.386Z"
   },
   {
    "duration": 3201,
    "start_time": "2021-07-02T05:03:06.346Z"
   },
   {
    "duration": 3684,
    "start_time": "2021-07-02T05:03:18.862Z"
   },
   {
    "duration": 3316,
    "start_time": "2021-07-02T05:03:36.917Z"
   },
   {
    "duration": 3349,
    "start_time": "2021-07-02T05:03:51.238Z"
   },
   {
    "duration": 89,
    "start_time": "2021-07-02T05:04:01.937Z"
   },
   {
    "duration": 1470,
    "start_time": "2021-07-02T05:05:42.300Z"
   },
   {
    "duration": 1635,
    "start_time": "2021-07-02T05:10:31.153Z"
   },
   {
    "duration": 23,
    "start_time": "2021-07-02T05:22:40.021Z"
   },
   {
    "duration": 3323,
    "start_time": "2021-07-02T05:23:13.325Z"
   },
   {
    "duration": 2090,
    "start_time": "2021-07-02T05:23:37.501Z"
   },
   {
    "duration": 258,
    "start_time": "2021-07-02T05:23:50.892Z"
   },
   {
    "duration": 2501,
    "start_time": "2021-07-02T05:24:42.510Z"
   },
   {
    "duration": 23,
    "start_time": "2021-07-02T05:25:03.245Z"
   },
   {
    "duration": 2104,
    "start_time": "2021-07-02T05:25:38.603Z"
   },
   {
    "duration": 25,
    "start_time": "2021-07-02T05:25:44.289Z"
   },
   {
    "duration": 1653,
    "start_time": "2021-07-02T05:25:53.053Z"
   },
   {
    "duration": 24,
    "start_time": "2021-07-02T05:25:57.914Z"
   },
   {
    "duration": 774,
    "start_time": "2021-07-02T05:29:13.432Z"
   },
   {
    "duration": 722,
    "start_time": "2021-07-02T05:29:31.797Z"
   },
   {
    "duration": 29,
    "start_time": "2021-07-02T05:29:35.169Z"
   },
   {
    "duration": 3738,
    "start_time": "2021-07-02T05:30:36.665Z"
   },
   {
    "duration": 1453,
    "start_time": "2021-07-02T05:30:40.406Z"
   },
   {
    "duration": 213,
    "start_time": "2021-07-02T05:30:41.862Z"
   },
   {
    "duration": 4,
    "start_time": "2021-07-02T05:30:42.078Z"
   },
   {
    "duration": 108,
    "start_time": "2021-07-02T05:30:42.085Z"
   },
   {
    "duration": 7,
    "start_time": "2021-07-02T05:30:42.195Z"
   },
   {
    "duration": 28,
    "start_time": "2021-07-02T05:30:42.205Z"
   },
   {
    "duration": 24,
    "start_time": "2021-07-02T05:30:42.236Z"
   },
   {
    "duration": 15,
    "start_time": "2021-07-02T05:30:42.266Z"
   },
   {
    "duration": 24,
    "start_time": "2021-07-02T05:30:42.285Z"
   },
   {
    "duration": 18,
    "start_time": "2021-07-02T05:30:42.312Z"
   },
   {
    "duration": 19,
    "start_time": "2021-07-02T05:30:42.333Z"
   },
   {
    "duration": 83,
    "start_time": "2021-07-02T05:30:42.355Z"
   },
   {
    "duration": 16,
    "start_time": "2021-07-02T05:30:42.440Z"
   },
   {
    "duration": 1584,
    "start_time": "2021-07-02T05:30:42.459Z"
   },
   {
    "duration": 1578,
    "start_time": "2021-07-02T05:30:44.054Z"
   },
   {
    "duration": 32,
    "start_time": "2021-07-02T05:30:45.635Z"
   },
   {
    "duration": 7,
    "start_time": "2021-07-02T05:30:45.670Z"
   },
   {
    "duration": 1536,
    "start_time": "2021-07-02T05:30:45.680Z"
   },
   {
    "duration": 145,
    "start_time": "2021-07-02T05:30:47.218Z"
   },
   {
    "duration": 5,
    "start_time": "2021-07-02T05:30:47.366Z"
   },
   {
    "duration": 33,
    "start_time": "2021-07-02T05:30:47.375Z"
   },
   {
    "duration": 118,
    "start_time": "2021-07-02T05:30:47.412Z"
   },
   {
    "duration": 72,
    "start_time": "2021-07-02T05:30:47.533Z"
   },
   {
    "duration": 79,
    "start_time": "2021-07-02T05:30:47.607Z"
   },
   {
    "duration": 34,
    "start_time": "2021-07-02T05:30:47.688Z"
   },
   {
    "duration": 1237,
    "start_time": "2021-07-02T05:30:47.761Z"
   },
   {
    "duration": 66,
    "start_time": "2021-07-02T05:30:49.001Z"
   },
   {
    "duration": 13,
    "start_time": "2021-07-02T05:30:49.071Z"
   },
   {
    "duration": 1519,
    "start_time": "2021-07-02T05:30:49.086Z"
   },
   {
    "duration": 14,
    "start_time": "2021-07-02T05:30:50.608Z"
   },
   {
    "duration": 33,
    "start_time": "2021-07-02T05:30:50.625Z"
   },
   {
    "duration": 1656,
    "start_time": "2021-07-02T05:30:50.661Z"
   },
   {
    "duration": 36,
    "start_time": "2021-07-02T05:30:52.319Z"
   },
   {
    "duration": 678,
    "start_time": "2021-07-02T05:30:52.359Z"
   },
   {
    "duration": 35,
    "start_time": "2021-07-02T05:30:53.040Z"
   },
   {
    "duration": 99,
    "start_time": "2021-07-02T05:30:53.078Z"
   },
   {
    "duration": 5,
    "start_time": "2021-07-02T05:30:53.180Z"
   },
   {
    "duration": 85,
    "start_time": "2021-07-02T05:30:53.188Z"
   },
   {
    "duration": 30,
    "start_time": "2021-07-02T05:30:53.276Z"
   },
   {
    "duration": 1498,
    "start_time": "2021-07-02T05:30:53.308Z"
   },
   {
    "duration": 591,
    "start_time": "2021-07-02T05:30:54.808Z"
   },
   {
    "duration": 24,
    "start_time": "2021-07-02T05:30:55.401Z"
   },
   {
    "duration": 28,
    "start_time": "2021-07-02T05:30:55.427Z"
   },
   {
    "duration": 31,
    "start_time": "2021-07-02T05:33:10.194Z"
   },
   {
    "duration": 19,
    "start_time": "2021-07-02T05:33:14.929Z"
   },
   {
    "duration": 551,
    "start_time": "2021-07-02T05:36:49.896Z"
   },
   {
    "duration": 6,
    "start_time": "2021-07-02T05:37:12.525Z"
   },
   {
    "duration": 20,
    "start_time": "2021-07-02T05:37:17.793Z"
   },
   {
    "duration": 11,
    "start_time": "2021-07-02T05:37:30.893Z"
   },
   {
    "duration": 20,
    "start_time": "2021-07-02T05:37:35.156Z"
   },
   {
    "duration": 10,
    "start_time": "2021-07-02T06:14:55.602Z"
   },
   {
    "duration": 24,
    "start_time": "2021-07-02T06:15:02.490Z"
   },
   {
    "duration": 14,
    "start_time": "2021-07-02T06:15:52.021Z"
   },
   {
    "duration": 23,
    "start_time": "2021-07-02T06:15:53.422Z"
   },
   {
    "duration": 31,
    "start_time": "2021-07-02T06:19:24.619Z"
   },
   {
    "duration": 52,
    "start_time": "2021-07-02T06:20:23.899Z"
   },
   {
    "duration": 272,
    "start_time": "2021-07-02T06:20:44.919Z"
   },
   {
    "duration": 3431,
    "start_time": "2021-07-02T06:20:59.677Z"
   },
   {
    "duration": 1395,
    "start_time": "2021-07-02T06:21:03.110Z"
   },
   {
    "duration": 206,
    "start_time": "2021-07-02T06:21:04.508Z"
   },
   {
    "duration": 4,
    "start_time": "2021-07-02T06:21:04.716Z"
   },
   {
    "duration": 104,
    "start_time": "2021-07-02T06:21:04.722Z"
   },
   {
    "duration": 28,
    "start_time": "2021-07-02T06:21:04.828Z"
   },
   {
    "duration": 12,
    "start_time": "2021-07-02T06:21:04.859Z"
   },
   {
    "duration": 23,
    "start_time": "2021-07-02T06:21:04.875Z"
   },
   {
    "duration": 14,
    "start_time": "2021-07-02T06:21:04.901Z"
   },
   {
    "duration": 31,
    "start_time": "2021-07-02T06:21:04.917Z"
   },
   {
    "duration": 10,
    "start_time": "2021-07-02T06:21:04.951Z"
   },
   {
    "duration": 24,
    "start_time": "2021-07-02T06:21:04.963Z"
   },
   {
    "duration": 82,
    "start_time": "2021-07-02T06:21:04.989Z"
   },
   {
    "duration": 17,
    "start_time": "2021-07-02T06:21:05.073Z"
   },
   {
    "duration": 1496,
    "start_time": "2021-07-02T06:21:05.092Z"
   },
   {
    "duration": 1575,
    "start_time": "2021-07-02T06:21:06.591Z"
   },
   {
    "duration": 14,
    "start_time": "2021-07-02T06:21:08.169Z"
   },
   {
    "duration": 12,
    "start_time": "2021-07-02T06:21:08.185Z"
   },
   {
    "duration": 1577,
    "start_time": "2021-07-02T06:21:08.200Z"
   },
   {
    "duration": 135,
    "start_time": "2021-07-02T06:21:09.779Z"
   },
   {
    "duration": 6,
    "start_time": "2021-07-02T06:21:09.918Z"
   },
   {
    "duration": 54,
    "start_time": "2021-07-02T06:21:09.926Z"
   },
   {
    "duration": 83,
    "start_time": "2021-07-02T06:21:09.985Z"
   },
   {
    "duration": 52,
    "start_time": "2021-07-02T06:21:10.071Z"
   },
   {
    "duration": 80,
    "start_time": "2021-07-02T06:21:10.125Z"
   },
   {
    "duration": 59,
    "start_time": "2021-07-02T06:21:10.207Z"
   },
   {
    "duration": 1357,
    "start_time": "2021-07-02T06:21:10.269Z"
   },
   {
    "duration": 56,
    "start_time": "2021-07-02T06:21:11.628Z"
   },
   {
    "duration": 10,
    "start_time": "2021-07-02T06:21:11.686Z"
   },
   {
    "duration": 1439,
    "start_time": "2021-07-02T06:21:11.699Z"
   },
   {
    "duration": 19,
    "start_time": "2021-07-02T06:21:13.141Z"
   },
   {
    "duration": 10,
    "start_time": "2021-07-02T06:21:13.162Z"
   },
   {
    "duration": 1568,
    "start_time": "2021-07-02T06:21:13.175Z"
   },
   {
    "duration": 25,
    "start_time": "2021-07-02T06:21:14.745Z"
   },
   {
    "duration": 656,
    "start_time": "2021-07-02T06:21:14.773Z"
   },
   {
    "duration": 36,
    "start_time": "2021-07-02T06:21:15.431Z"
   },
   {
    "duration": 91,
    "start_time": "2021-07-02T06:21:15.470Z"
   },
   {
    "duration": 5,
    "start_time": "2021-07-02T06:21:15.563Z"
   },
   {
    "duration": 53,
    "start_time": "2021-07-02T06:21:15.570Z"
   },
   {
    "duration": 55,
    "start_time": "2021-07-02T06:21:15.625Z"
   },
   {
    "duration": 1287,
    "start_time": "2021-07-02T06:21:15.682Z"
   },
   {
    "duration": 550,
    "start_time": "2021-07-02T06:21:16.972Z"
   },
   {
    "duration": 8,
    "start_time": "2021-07-02T06:21:17.524Z"
   },
   {
    "duration": 27,
    "start_time": "2021-07-02T06:21:17.535Z"
   },
   {
    "duration": 384,
    "start_time": "2021-07-02T06:21:17.565Z"
   },
   {
    "duration": -20848,
    "start_time": "2021-07-02T06:21:38.800Z"
   },
   {
    "duration": -20851,
    "start_time": "2021-07-02T06:21:38.804Z"
   },
   {
    "duration": -21027,
    "start_time": "2021-07-02T06:21:38.982Z"
   },
   {
    "duration": 19,
    "start_time": "2021-07-02T06:21:54.488Z"
   },
   {
    "duration": 3544,
    "start_time": "2021-07-02T06:22:55.589Z"
   },
   {
    "duration": 1467,
    "start_time": "2021-07-02T06:22:59.136Z"
   },
   {
    "duration": 212,
    "start_time": "2021-07-02T06:23:00.607Z"
   },
   {
    "duration": 5,
    "start_time": "2021-07-02T06:23:00.822Z"
   },
   {
    "duration": 124,
    "start_time": "2021-07-02T06:23:00.830Z"
   },
   {
    "duration": 7,
    "start_time": "2021-07-02T06:23:00.957Z"
   },
   {
    "duration": 25,
    "start_time": "2021-07-02T06:23:00.966Z"
   },
   {
    "duration": 23,
    "start_time": "2021-07-02T06:23:00.997Z"
   },
   {
    "duration": 16,
    "start_time": "2021-07-02T06:23:01.023Z"
   },
   {
    "duration": 16,
    "start_time": "2021-07-02T06:23:01.041Z"
   },
   {
    "duration": 35,
    "start_time": "2021-07-02T06:23:01.059Z"
   },
   {
    "duration": 42,
    "start_time": "2021-07-02T06:23:01.097Z"
   },
   {
    "duration": 88,
    "start_time": "2021-07-02T06:23:01.141Z"
   },
   {
    "duration": 16,
    "start_time": "2021-07-02T06:23:01.231Z"
   },
   {
    "duration": 1472,
    "start_time": "2021-07-02T06:23:01.250Z"
   },
   {
    "duration": 1423,
    "start_time": "2021-07-02T06:23:02.726Z"
   },
   {
    "duration": 16,
    "start_time": "2021-07-02T06:23:04.154Z"
   },
   {
    "duration": 10,
    "start_time": "2021-07-02T06:23:04.172Z"
   },
   {
    "duration": 1463,
    "start_time": "2021-07-02T06:23:04.184Z"
   },
   {
    "duration": 135,
    "start_time": "2021-07-02T06:23:05.650Z"
   },
   {
    "duration": 5,
    "start_time": "2021-07-02T06:23:05.787Z"
   },
   {
    "duration": 61,
    "start_time": "2021-07-02T06:23:05.794Z"
   },
   {
    "duration": 62,
    "start_time": "2021-07-02T06:23:05.860Z"
   },
   {
    "duration": 54,
    "start_time": "2021-07-02T06:23:05.954Z"
   },
   {
    "duration": 116,
    "start_time": "2021-07-02T06:23:06.011Z"
   },
   {
    "duration": 68,
    "start_time": "2021-07-02T06:23:06.131Z"
   },
   {
    "duration": 2018,
    "start_time": "2021-07-02T06:23:06.202Z"
   },
   {
    "duration": 59,
    "start_time": "2021-07-02T06:23:08.224Z"
   },
   {
    "duration": 9,
    "start_time": "2021-07-02T06:23:08.286Z"
   },
   {
    "duration": 1561,
    "start_time": "2021-07-02T06:23:08.297Z"
   },
   {
    "duration": 12,
    "start_time": "2021-07-02T06:23:09.861Z"
   },
   {
    "duration": 25,
    "start_time": "2021-07-02T06:23:09.876Z"
   },
   {
    "duration": 1442,
    "start_time": "2021-07-02T06:23:09.904Z"
   },
   {
    "duration": 20,
    "start_time": "2021-07-02T06:23:11.349Z"
   },
   {
    "duration": 657,
    "start_time": "2021-07-02T06:23:11.371Z"
   },
   {
    "duration": 35,
    "start_time": "2021-07-02T06:23:12.031Z"
   },
   {
    "duration": 106,
    "start_time": "2021-07-02T06:23:12.069Z"
   },
   {
    "duration": 4,
    "start_time": "2021-07-02T06:23:12.178Z"
   },
   {
    "duration": 73,
    "start_time": "2021-07-02T06:23:12.184Z"
   },
   {
    "duration": 31,
    "start_time": "2021-07-02T06:23:12.259Z"
   },
   {
    "duration": 1284,
    "start_time": "2021-07-02T06:23:12.293Z"
   },
   {
    "duration": 528,
    "start_time": "2021-07-02T06:23:13.580Z"
   },
   {
    "duration": 440,
    "start_time": "2021-07-02T06:23:14.111Z"
   },
   {
    "duration": -21029,
    "start_time": "2021-07-02T06:23:35.583Z"
   },
   {
    "duration": -21029,
    "start_time": "2021-07-02T06:23:35.586Z"
   },
   {
    "duration": -21030,
    "start_time": "2021-07-02T06:23:35.589Z"
   },
   {
    "duration": -21031,
    "start_time": "2021-07-02T06:23:35.592Z"
   },
   {
    "duration": 15,
    "start_time": "2021-07-02T06:23:32.309Z"
   },
   {
    "duration": 7,
    "start_time": "2021-07-02T06:23:34.831Z"
   },
   {
    "duration": 11,
    "start_time": "2021-07-02T06:23:36.456Z"
   },
   {
    "duration": 20,
    "start_time": "2021-07-02T06:23:37.600Z"
   },
   {
    "duration": 14,
    "start_time": "2021-07-02T06:23:45.309Z"
   },
   {
    "duration": 30,
    "start_time": "2021-07-02T06:23:53.349Z"
   },
   {
    "duration": 3725,
    "start_time": "2021-07-02T06:25:29.548Z"
   },
   {
    "duration": 1417,
    "start_time": "2021-07-02T06:25:33.276Z"
   },
   {
    "duration": 211,
    "start_time": "2021-07-02T06:25:34.696Z"
   },
   {
    "duration": 4,
    "start_time": "2021-07-02T06:25:34.910Z"
   },
   {
    "duration": 88,
    "start_time": "2021-07-02T06:25:34.916Z"
   },
   {
    "duration": 6,
    "start_time": "2021-07-02T06:25:35.006Z"
   },
   {
    "duration": 42,
    "start_time": "2021-07-02T06:25:35.014Z"
   },
   {
    "duration": 6,
    "start_time": "2021-07-02T06:25:35.058Z"
   },
   {
    "duration": 20,
    "start_time": "2021-07-02T06:25:35.068Z"
   },
   {
    "duration": 17,
    "start_time": "2021-07-02T06:25:35.091Z"
   },
   {
    "duration": 16,
    "start_time": "2021-07-02T06:25:35.111Z"
   },
   {
    "duration": 12,
    "start_time": "2021-07-02T06:25:35.129Z"
   },
   {
    "duration": 91,
    "start_time": "2021-07-02T06:25:35.144Z"
   },
   {
    "duration": 17,
    "start_time": "2021-07-02T06:25:35.237Z"
   },
   {
    "duration": 1483,
    "start_time": "2021-07-02T06:25:35.256Z"
   },
   {
    "duration": 1487,
    "start_time": "2021-07-02T06:25:36.742Z"
   },
   {
    "duration": 32,
    "start_time": "2021-07-02T06:25:38.231Z"
   },
   {
    "duration": 11,
    "start_time": "2021-07-02T06:25:38.265Z"
   },
   {
    "duration": 1541,
    "start_time": "2021-07-02T06:25:38.278Z"
   },
   {
    "duration": 140,
    "start_time": "2021-07-02T06:25:39.821Z"
   },
   {
    "duration": 5,
    "start_time": "2021-07-02T06:25:39.964Z"
   },
   {
    "duration": 43,
    "start_time": "2021-07-02T06:25:39.972Z"
   },
   {
    "duration": 83,
    "start_time": "2021-07-02T06:25:40.017Z"
   },
   {
    "duration": 70,
    "start_time": "2021-07-02T06:25:40.102Z"
   },
   {
    "duration": 55,
    "start_time": "2021-07-02T06:25:40.174Z"
   },
   {
    "duration": 53,
    "start_time": "2021-07-02T06:25:40.231Z"
   },
   {
    "duration": 1297,
    "start_time": "2021-07-02T06:25:40.290Z"
   },
   {
    "duration": 66,
    "start_time": "2021-07-02T06:25:41.591Z"
   },
   {
    "duration": 10,
    "start_time": "2021-07-02T06:25:41.659Z"
   },
   {
    "duration": 1614,
    "start_time": "2021-07-02T06:25:41.672Z"
   },
   {
    "duration": 13,
    "start_time": "2021-07-02T06:25:43.288Z"
   },
   {
    "duration": 29,
    "start_time": "2021-07-02T06:25:43.304Z"
   },
   {
    "duration": 1426,
    "start_time": "2021-07-02T06:25:43.336Z"
   },
   {
    "duration": 21,
    "start_time": "2021-07-02T06:25:44.765Z"
   },
   {
    "duration": 651,
    "start_time": "2021-07-02T06:25:44.788Z"
   },
   {
    "duration": 28,
    "start_time": "2021-07-02T06:25:45.442Z"
   },
   {
    "duration": 91,
    "start_time": "2021-07-02T06:25:45.473Z"
   },
   {
    "duration": 4,
    "start_time": "2021-07-02T06:25:45.566Z"
   },
   {
    "duration": 65,
    "start_time": "2021-07-02T06:25:45.573Z"
   },
   {
    "duration": 30,
    "start_time": "2021-07-02T06:25:45.655Z"
   },
   {
    "duration": 1284,
    "start_time": "2021-07-02T06:25:45.688Z"
   },
   {
    "duration": 516,
    "start_time": "2021-07-02T06:25:46.974Z"
   },
   {
    "duration": 12,
    "start_time": "2021-07-02T06:25:47.492Z"
   },
   {
    "duration": 8,
    "start_time": "2021-07-02T06:25:47.506Z"
   },
   {
    "duration": 42,
    "start_time": "2021-07-02T06:25:47.517Z"
   },
   {
    "duration": 19,
    "start_time": "2021-07-02T06:25:47.562Z"
   },
   {
    "duration": 17,
    "start_time": "2021-07-02T06:25:47.583Z"
   },
   {
    "duration": 20,
    "start_time": "2021-07-02T06:25:47.603Z"
   },
   {
    "duration": 14,
    "start_time": "2021-07-02T06:25:47.655Z"
   },
   {
    "duration": 24,
    "start_time": "2021-07-02T06:26:39.781Z"
   },
   {
    "duration": 10,
    "start_time": "2021-07-02T06:27:56.272Z"
   },
   {
    "duration": 26,
    "start_time": "2021-07-02T06:28:01.699Z"
   },
   {
    "duration": 22,
    "start_time": "2021-07-02T06:29:38.207Z"
   },
   {
    "duration": 46,
    "start_time": "2021-07-02T06:29:39.579Z"
   },
   {
    "duration": 28,
    "start_time": "2021-07-02T06:31:08.939Z"
   },
   {
    "duration": 52,
    "start_time": "2021-07-02T06:31:09.887Z"
   },
   {
    "duration": 38,
    "start_time": "2021-07-02T06:31:54.232Z"
   },
   {
    "duration": 189,
    "start_time": "2021-07-02T06:32:25.482Z"
   },
   {
    "duration": 32,
    "start_time": "2021-07-02T06:34:05.336Z"
   },
   {
    "duration": 191,
    "start_time": "2021-07-02T06:34:07.099Z"
   },
   {
    "duration": 8,
    "start_time": "2021-07-02T06:34:49.746Z"
   },
   {
    "duration": 191,
    "start_time": "2021-07-02T06:34:51.928Z"
   },
   {
    "duration": 3346,
    "start_time": "2021-07-02T09:40:17.450Z"
   },
   {
    "duration": 1393,
    "start_time": "2021-07-02T09:40:20.799Z"
   },
   {
    "duration": 201,
    "start_time": "2021-07-02T09:40:22.195Z"
   },
   {
    "duration": 4,
    "start_time": "2021-07-02T09:40:22.400Z"
   },
   {
    "duration": 88,
    "start_time": "2021-07-02T09:40:22.407Z"
   },
   {
    "duration": 6,
    "start_time": "2021-07-02T09:40:22.497Z"
   },
   {
    "duration": 7,
    "start_time": "2021-07-02T09:40:22.505Z"
   },
   {
    "duration": 40,
    "start_time": "2021-07-02T09:40:22.516Z"
   },
   {
    "duration": 4,
    "start_time": "2021-07-02T09:40:22.559Z"
   },
   {
    "duration": 9,
    "start_time": "2021-07-02T09:40:22.565Z"
   },
   {
    "duration": 7,
    "start_time": "2021-07-02T09:40:22.576Z"
   },
   {
    "duration": 8,
    "start_time": "2021-07-02T09:40:22.586Z"
   },
   {
    "duration": 98,
    "start_time": "2021-07-02T09:40:22.597Z"
   },
   {
    "duration": 16,
    "start_time": "2021-07-02T09:40:22.697Z"
   },
   {
    "duration": 1546,
    "start_time": "2021-07-02T09:40:22.716Z"
   },
   {
    "duration": 1492,
    "start_time": "2021-07-02T09:40:24.265Z"
   },
   {
    "duration": 15,
    "start_time": "2021-07-02T09:40:25.759Z"
   },
   {
    "duration": 6,
    "start_time": "2021-07-02T09:40:25.776Z"
   },
   {
    "duration": 1484,
    "start_time": "2021-07-02T09:40:25.785Z"
   },
   {
    "duration": 133,
    "start_time": "2021-07-02T09:40:27.271Z"
   },
   {
    "duration": 4,
    "start_time": "2021-07-02T09:40:27.407Z"
   },
   {
    "duration": 47,
    "start_time": "2021-07-02T09:40:27.414Z"
   },
   {
    "duration": 89,
    "start_time": "2021-07-02T09:40:27.467Z"
   },
   {
    "duration": 52,
    "start_time": "2021-07-02T09:40:27.559Z"
   },
   {
    "duration": 73,
    "start_time": "2021-07-02T09:40:27.613Z"
   },
   {
    "duration": 34,
    "start_time": "2021-07-02T09:40:27.688Z"
   },
   {
    "duration": 1248,
    "start_time": "2021-07-02T09:40:27.725Z"
   },
   {
    "duration": 43,
    "start_time": "2021-07-02T09:40:28.975Z"
   },
   {
    "duration": 41,
    "start_time": "2021-07-02T09:40:29.021Z"
   },
   {
    "duration": 1435,
    "start_time": "2021-07-02T09:40:29.064Z"
   },
   {
    "duration": 14,
    "start_time": "2021-07-02T09:40:30.502Z"
   },
   {
    "duration": 25,
    "start_time": "2021-07-02T09:40:30.519Z"
   },
   {
    "duration": 1415,
    "start_time": "2021-07-02T09:40:30.554Z"
   },
   {
    "duration": 21,
    "start_time": "2021-07-02T09:40:31.971Z"
   },
   {
    "duration": 650,
    "start_time": "2021-07-02T09:40:31.995Z"
   },
   {
    "duration": 15,
    "start_time": "2021-07-02T09:40:32.655Z"
   },
   {
    "duration": 109,
    "start_time": "2021-07-02T09:40:32.672Z"
   },
   {
    "duration": 6,
    "start_time": "2021-07-02T09:40:32.784Z"
   },
   {
    "duration": 86,
    "start_time": "2021-07-02T09:40:32.793Z"
   },
   {
    "duration": 34,
    "start_time": "2021-07-02T09:40:32.882Z"
   },
   {
    "duration": 1313,
    "start_time": "2021-07-02T09:40:32.918Z"
   },
   {
    "duration": 556,
    "start_time": "2021-07-02T09:40:34.234Z"
   },
   {
    "duration": 11,
    "start_time": "2021-07-02T09:40:34.793Z"
   },
   {
    "duration": 8,
    "start_time": "2021-07-02T09:40:34.806Z"
   },
   {
    "duration": 20,
    "start_time": "2021-07-02T09:40:34.816Z"
   },
   {
    "duration": 19,
    "start_time": "2021-07-02T09:40:34.855Z"
   },
   {
    "duration": 16,
    "start_time": "2021-07-02T09:40:34.876Z"
   },
   {
    "duration": 22,
    "start_time": "2021-07-02T09:40:34.894Z"
   },
   {
    "duration": 38,
    "start_time": "2021-07-02T09:40:34.919Z"
   },
   {
    "duration": 46,
    "start_time": "2021-07-02T09:40:34.959Z"
   },
   {
    "duration": 4,
    "start_time": "2021-07-02T09:40:35.007Z"
   },
   {
    "duration": 49,
    "start_time": "2021-07-02T09:40:35.013Z"
   },
   {
    "duration": 3,
    "start_time": "2021-07-02T09:40:35.065Z"
   },
   {
    "duration": 198,
    "start_time": "2021-07-02T09:41:30.803Z"
   },
   {
    "duration": 12,
    "start_time": "2021-07-02T09:41:37.937Z"
   },
   {
    "duration": 204,
    "start_time": "2021-07-02T09:41:40.454Z"
   },
   {
    "duration": 6,
    "start_time": "2021-07-02T09:47:24.805Z"
   },
   {
    "duration": 204,
    "start_time": "2021-07-02T09:47:37.212Z"
   },
   {
    "duration": 1295,
    "start_time": "2021-07-02T11:00:06.571Z"
   },
   {
    "duration": 6,
    "start_time": "2021-07-02T11:03:15.937Z"
   },
   {
    "duration": 55,
    "start_time": "2021-07-02T11:03:46.002Z"
   },
   {
    "duration": 60,
    "start_time": "2021-07-02T11:04:43.121Z"
   },
   {
    "duration": 390,
    "start_time": "2021-07-02T11:05:09.274Z"
   },
   {
    "duration": 6,
    "start_time": "2021-07-02T11:05:18.593Z"
   },
   {
    "duration": 57,
    "start_time": "2021-07-02T11:05:19.594Z"
   },
   {
    "duration": 13021,
    "start_time": "2021-07-02T11:10:18.192Z"
   },
   {
    "duration": 12682,
    "start_time": "2021-07-02T11:15:50.388Z"
   },
   {
    "duration": 26701,
    "start_time": "2021-07-02T11:18:43.340Z"
   },
   {
    "duration": 6,
    "start_time": "2021-07-02T11:22:55.792Z"
   },
   {
    "duration": 54,
    "start_time": "2021-07-02T11:23:06.365Z"
   },
   {
    "duration": 6,
    "start_time": "2021-07-02T11:23:55.801Z"
   },
   {
    "duration": 265,
    "start_time": "2021-07-02T11:31:13.759Z"
   },
   {
    "duration": 3394,
    "start_time": "2021-07-02T11:31:25.986Z"
   },
   {
    "duration": 1435,
    "start_time": "2021-07-02T11:31:29.383Z"
   },
   {
    "duration": 211,
    "start_time": "2021-07-02T11:31:30.821Z"
   },
   {
    "duration": 4,
    "start_time": "2021-07-02T11:31:31.035Z"
   },
   {
    "duration": 119,
    "start_time": "2021-07-02T11:31:31.042Z"
   },
   {
    "duration": 14,
    "start_time": "2021-07-02T11:31:31.165Z"
   },
   {
    "duration": 8,
    "start_time": "2021-07-02T11:31:31.181Z"
   },
   {
    "duration": 14,
    "start_time": "2021-07-02T11:31:31.192Z"
   },
   {
    "duration": 18,
    "start_time": "2021-07-02T11:31:31.209Z"
   },
   {
    "duration": 25,
    "start_time": "2021-07-02T11:31:31.229Z"
   },
   {
    "duration": 9,
    "start_time": "2021-07-02T11:31:31.258Z"
   },
   {
    "duration": 13,
    "start_time": "2021-07-02T11:31:31.269Z"
   },
   {
    "duration": 97,
    "start_time": "2021-07-02T11:31:31.285Z"
   },
   {
    "duration": 17,
    "start_time": "2021-07-02T11:31:31.385Z"
   },
   {
    "duration": 1502,
    "start_time": "2021-07-02T11:31:31.405Z"
   },
   {
    "duration": 1508,
    "start_time": "2021-07-02T11:31:32.910Z"
   },
   {
    "duration": 17,
    "start_time": "2021-07-02T11:31:34.420Z"
   },
   {
    "duration": 8,
    "start_time": "2021-07-02T11:31:34.455Z"
   },
   {
    "duration": 1412,
    "start_time": "2021-07-02T11:31:34.466Z"
   },
   {
    "duration": 145,
    "start_time": "2021-07-02T11:31:35.881Z"
   },
   {
    "duration": 6,
    "start_time": "2021-07-02T11:31:36.029Z"
   },
   {
    "duration": 51,
    "start_time": "2021-07-02T11:31:36.037Z"
   },
   {
    "duration": 86,
    "start_time": "2021-07-02T11:31:36.095Z"
   },
   {
    "duration": 72,
    "start_time": "2021-07-02T11:31:36.184Z"
   },
   {
    "duration": 56,
    "start_time": "2021-07-02T11:31:36.258Z"
   },
   {
    "duration": 58,
    "start_time": "2021-07-02T11:31:36.316Z"
   },
   {
    "duration": 1236,
    "start_time": "2021-07-02T11:31:36.377Z"
   },
   {
    "duration": 61,
    "start_time": "2021-07-02T11:31:37.615Z"
   },
   {
    "duration": 10,
    "start_time": "2021-07-02T11:31:37.678Z"
   },
   {
    "duration": 1545,
    "start_time": "2021-07-02T11:31:37.690Z"
   },
   {
    "duration": 20,
    "start_time": "2021-07-02T11:31:39.237Z"
   },
   {
    "duration": 15,
    "start_time": "2021-07-02T11:31:39.260Z"
   },
   {
    "duration": 1487,
    "start_time": "2021-07-02T11:31:39.277Z"
   },
   {
    "duration": 21,
    "start_time": "2021-07-02T11:31:40.766Z"
   },
   {
    "duration": 657,
    "start_time": "2021-07-02T11:31:40.790Z"
   },
   {
    "duration": 15,
    "start_time": "2021-07-02T11:31:41.454Z"
   },
   {
    "duration": 112,
    "start_time": "2021-07-02T11:31:41.471Z"
   },
   {
    "duration": 4,
    "start_time": "2021-07-02T11:31:41.585Z"
   },
   {
    "duration": 69,
    "start_time": "2021-07-02T11:31:41.591Z"
   },
   {
    "duration": 31,
    "start_time": "2021-07-02T11:31:41.662Z"
   },
   {
    "duration": 1519,
    "start_time": "2021-07-02T11:31:41.695Z"
   },
   {
    "duration": 537,
    "start_time": "2021-07-02T11:31:43.217Z"
   },
   {
    "duration": 11,
    "start_time": "2021-07-02T11:31:43.757Z"
   },
   {
    "duration": 12,
    "start_time": "2021-07-02T11:31:43.770Z"
   },
   {
    "duration": 16,
    "start_time": "2021-07-02T11:31:43.784Z"
   },
   {
    "duration": 23,
    "start_time": "2021-07-02T11:31:43.802Z"
   },
   {
    "duration": 34,
    "start_time": "2021-07-02T11:31:43.828Z"
   },
   {
    "duration": 25,
    "start_time": "2021-07-02T11:31:43.864Z"
   },
   {
    "duration": 31,
    "start_time": "2021-07-02T11:31:43.891Z"
   },
   {
    "duration": 30,
    "start_time": "2021-07-02T11:31:43.924Z"
   },
   {
    "duration": 207,
    "start_time": "2021-07-02T11:31:43.956Z"
   },
   {
    "duration": 4,
    "start_time": "2021-07-02T11:31:44.166Z"
   },
   {
    "duration": 12,
    "start_time": "2021-07-02T11:31:44.172Z"
   },
   {
    "duration": 76,
    "start_time": "2021-07-02T11:31:44.186Z"
   },
   {
    "duration": 26896,
    "start_time": "2021-07-02T11:31:44.264Z"
   },
   {
    "duration": 6,
    "start_time": "2021-07-02T11:32:11.162Z"
   },
   {
    "duration": 11,
    "start_time": "2021-07-02T11:32:11.171Z"
   },
   {
    "duration": 40,
    "start_time": "2021-07-02T11:33:16.462Z"
   },
   {
    "duration": 9,
    "start_time": "2021-07-02T11:36:01.032Z"
   },
   {
    "duration": 102,
    "start_time": "2021-07-02T11:37:01.403Z"
   },
   {
    "duration": 3372,
    "start_time": "2021-07-02T11:40:57.335Z"
   },
   {
    "duration": 1473,
    "start_time": "2021-07-02T11:41:00.710Z"
   },
   {
    "duration": 205,
    "start_time": "2021-07-02T11:41:02.187Z"
   },
   {
    "duration": 4,
    "start_time": "2021-07-02T11:41:02.395Z"
   },
   {
    "duration": 107,
    "start_time": "2021-07-02T11:41:02.401Z"
   },
   {
    "duration": 7,
    "start_time": "2021-07-02T11:41:02.510Z"
   },
   {
    "duration": 37,
    "start_time": "2021-07-02T11:41:02.519Z"
   },
   {
    "duration": 27,
    "start_time": "2021-07-02T11:41:02.560Z"
   },
   {
    "duration": 17,
    "start_time": "2021-07-02T11:41:02.591Z"
   },
   {
    "duration": 23,
    "start_time": "2021-07-02T11:41:02.611Z"
   },
   {
    "duration": 21,
    "start_time": "2021-07-02T11:41:02.637Z"
   },
   {
    "duration": 30,
    "start_time": "2021-07-02T11:41:02.660Z"
   },
   {
    "duration": 85,
    "start_time": "2021-07-02T11:41:02.692Z"
   },
   {
    "duration": 21,
    "start_time": "2021-07-02T11:41:02.780Z"
   },
   {
    "duration": 1489,
    "start_time": "2021-07-02T11:41:02.803Z"
   },
   {
    "duration": 1445,
    "start_time": "2021-07-02T11:41:04.296Z"
   },
   {
    "duration": 22,
    "start_time": "2021-07-02T11:41:05.744Z"
   },
   {
    "duration": 16,
    "start_time": "2021-07-02T11:41:05.768Z"
   },
   {
    "duration": 1508,
    "start_time": "2021-07-02T11:41:05.786Z"
   },
   {
    "duration": 129,
    "start_time": "2021-07-02T11:41:07.296Z"
   },
   {
    "duration": 4,
    "start_time": "2021-07-02T11:41:07.428Z"
   },
   {
    "duration": 50,
    "start_time": "2021-07-02T11:41:07.434Z"
   },
   {
    "duration": 81,
    "start_time": "2021-07-02T11:41:07.490Z"
   },
   {
    "duration": 50,
    "start_time": "2021-07-02T11:41:07.575Z"
   },
   {
    "duration": 70,
    "start_time": "2021-07-02T11:41:07.627Z"
   },
   {
    "duration": 70,
    "start_time": "2021-07-02T11:41:07.699Z"
   },
   {
    "duration": 1170,
    "start_time": "2021-07-02T11:41:07.771Z"
   },
   {
    "duration": 52,
    "start_time": "2021-07-02T11:41:08.943Z"
   },
   {
    "duration": 10,
    "start_time": "2021-07-02T11:41:08.997Z"
   },
   {
    "duration": 1389,
    "start_time": "2021-07-02T11:41:09.010Z"
   },
   {
    "duration": 13,
    "start_time": "2021-07-02T11:41:10.401Z"
   },
   {
    "duration": 10,
    "start_time": "2021-07-02T11:41:10.417Z"
   },
   {
    "duration": 1443,
    "start_time": "2021-07-02T11:41:10.430Z"
   },
   {
    "duration": 21,
    "start_time": "2021-07-02T11:41:11.876Z"
   },
   {
    "duration": 652,
    "start_time": "2021-07-02T11:41:11.899Z"
   },
   {
    "duration": 16,
    "start_time": "2021-07-02T11:41:12.555Z"
   },
   {
    "duration": 101,
    "start_time": "2021-07-02T11:41:12.573Z"
   },
   {
    "duration": 5,
    "start_time": "2021-07-02T11:41:12.676Z"
   },
   {
    "duration": 75,
    "start_time": "2021-07-02T11:41:12.684Z"
   },
   {
    "duration": 31,
    "start_time": "2021-07-02T11:41:12.762Z"
   },
   {
    "duration": 1341,
    "start_time": "2021-07-02T11:41:12.795Z"
   },
   {
    "duration": 682,
    "start_time": "2021-07-02T11:41:14.138Z"
   },
   {
    "duration": 12,
    "start_time": "2021-07-02T11:41:14.823Z"
   },
   {
    "duration": 10,
    "start_time": "2021-07-02T11:41:14.855Z"
   },
   {
    "duration": 12,
    "start_time": "2021-07-02T11:41:14.868Z"
   },
   {
    "duration": 27,
    "start_time": "2021-07-02T11:41:14.883Z"
   },
   {
    "duration": 45,
    "start_time": "2021-07-02T11:41:14.912Z"
   },
   {
    "duration": 20,
    "start_time": "2021-07-02T11:41:14.960Z"
   },
   {
    "duration": 30,
    "start_time": "2021-07-02T11:41:14.983Z"
   },
   {
    "duration": 15,
    "start_time": "2021-07-02T11:41:15.015Z"
   },
   {
    "duration": 206,
    "start_time": "2021-07-02T11:41:15.054Z"
   },
   {
    "duration": 4,
    "start_time": "2021-07-02T11:41:15.263Z"
   },
   {
    "duration": 23,
    "start_time": "2021-07-02T11:41:15.270Z"
   },
   {
    "duration": 76,
    "start_time": "2021-07-02T11:41:15.296Z"
   },
   {
    "duration": 26845,
    "start_time": "2021-07-02T11:41:15.376Z"
   },
   {
    "duration": 6,
    "start_time": "2021-07-02T11:41:42.223Z"
   },
   {
    "duration": 29,
    "start_time": "2021-07-02T11:41:42.232Z"
   },
   {
    "duration": 10,
    "start_time": "2021-07-02T11:42:23.558Z"
   },
   {
    "duration": 40,
    "start_time": "2021-07-02T11:42:28.151Z"
   },
   {
    "duration": 6,
    "start_time": "2021-07-02T11:44:29.123Z"
   },
   {
    "duration": 413,
    "start_time": "2021-07-02T11:46:03.100Z"
   },
   {
    "duration": 17,
    "start_time": "2021-07-02T11:46:22.171Z"
   },
   {
    "duration": 38,
    "start_time": "2021-07-02T11:46:27.999Z"
   },
   {
    "duration": 392,
    "start_time": "2021-07-02T11:52:16.683Z"
   },
   {
    "duration": 92,
    "start_time": "2021-07-02T11:55:27.346Z"
   },
   {
    "duration": 9,
    "start_time": "2021-07-02T11:55:37.835Z"
   },
   {
    "duration": 6,
    "start_time": "2021-07-02T11:56:45.207Z"
   },
   {
    "duration": 6,
    "start_time": "2021-07-02T11:57:25.080Z"
   },
   {
    "duration": 746,
    "start_time": "2021-07-02T11:57:33.722Z"
   },
   {
    "duration": 5,
    "start_time": "2021-07-02T11:59:57.427Z"
   },
   {
    "duration": 472198,
    "start_time": "2021-07-02T12:00:04.423Z"
   },
   {
    "duration": 11,
    "start_time": "2021-07-02T12:08:43.800Z"
   },
   {
    "duration": 3002764,
    "start_time": "2021-07-02T12:08:45.726Z"
   },
   {
    "duration": 8,
    "start_time": "2021-07-02T13:32:44.506Z"
   },
   {
    "duration": 1252277,
    "start_time": "2021-07-02T13:33:02.891Z"
   },
   {
    "duration": 112,
    "start_time": "2021-07-02T13:57:39.295Z"
   },
   {
    "duration": 10,
    "start_time": "2021-07-02T13:57:59.716Z"
   },
   {
    "duration": 6,
    "start_time": "2021-07-02T13:58:02.767Z"
   },
   {
    "duration": 419,
    "start_time": "2021-07-02T13:58:04.732Z"
   },
   {
    "duration": 6,
    "start_time": "2021-07-02T13:58:46.078Z"
   },
   {
    "duration": 423,
    "start_time": "2021-07-02T13:58:47.462Z"
   },
   {
    "duration": 10,
    "start_time": "2021-07-02T13:59:15.416Z"
   },
   {
    "duration": 6,
    "start_time": "2021-07-02T13:59:16.536Z"
   },
   {
    "duration": 1896,
    "start_time": "2021-07-02T13:59:17.218Z"
   },
   {
    "duration": 11,
    "start_time": "2021-07-02T13:59:37.139Z"
   },
   {
    "duration": 7,
    "start_time": "2021-07-02T13:59:39.166Z"
   },
   {
    "duration": 3554,
    "start_time": "2021-07-02T23:25:52.133Z"
   },
   {
    "duration": 1072,
    "start_time": "2021-07-02T23:25:55.689Z"
   },
   {
    "duration": 178,
    "start_time": "2021-07-02T23:25:56.763Z"
   },
   {
    "duration": 2,
    "start_time": "2021-07-02T23:25:56.943Z"
   },
   {
    "duration": 51,
    "start_time": "2021-07-02T23:25:56.947Z"
   },
   {
    "duration": 3,
    "start_time": "2021-07-02T23:25:57.000Z"
   },
   {
    "duration": 24,
    "start_time": "2021-07-02T23:25:57.005Z"
   },
   {
    "duration": 26,
    "start_time": "2021-07-02T23:25:57.031Z"
   },
   {
    "duration": 17,
    "start_time": "2021-07-02T23:25:57.059Z"
   },
   {
    "duration": 26,
    "start_time": "2021-07-02T23:25:57.077Z"
   },
   {
    "duration": 16,
    "start_time": "2021-07-02T23:25:57.104Z"
   },
   {
    "duration": 18,
    "start_time": "2021-07-02T23:25:57.121Z"
   },
   {
    "duration": 56,
    "start_time": "2021-07-02T23:25:57.140Z"
   },
   {
    "duration": 10,
    "start_time": "2021-07-02T23:25:57.198Z"
   },
   {
    "duration": 880,
    "start_time": "2021-07-02T23:25:57.209Z"
   },
   {
    "duration": 983,
    "start_time": "2021-07-02T23:25:58.091Z"
   },
   {
    "duration": 10,
    "start_time": "2021-07-02T23:25:59.075Z"
   },
   {
    "duration": 4,
    "start_time": "2021-07-02T23:25:59.086Z"
   },
   {
    "duration": 933,
    "start_time": "2021-07-02T23:25:59.091Z"
   },
   {
    "duration": 69,
    "start_time": "2021-07-02T23:26:00.026Z"
   },
   {
    "duration": 3,
    "start_time": "2021-07-02T23:26:00.097Z"
   },
   {
    "duration": 22,
    "start_time": "2021-07-02T23:26:00.101Z"
   },
   {
    "duration": 45,
    "start_time": "2021-07-02T23:26:00.126Z"
   },
   {
    "duration": 29,
    "start_time": "2021-07-02T23:26:00.174Z"
   },
   {
    "duration": 51,
    "start_time": "2021-07-02T23:26:00.204Z"
   },
   {
    "duration": 19,
    "start_time": "2021-07-02T23:26:00.256Z"
   },
   {
    "duration": 671,
    "start_time": "2021-07-02T23:26:00.276Z"
   },
   {
    "duration": 25,
    "start_time": "2021-07-02T23:26:00.949Z"
   },
   {
    "duration": 6,
    "start_time": "2021-07-02T23:26:00.976Z"
   },
   {
    "duration": 879,
    "start_time": "2021-07-02T23:26:00.983Z"
   },
   {
    "duration": 9,
    "start_time": "2021-07-02T23:26:01.863Z"
   },
   {
    "duration": 9,
    "start_time": "2021-07-02T23:26:01.873Z"
   },
   {
    "duration": 896,
    "start_time": "2021-07-02T23:26:01.883Z"
   },
   {
    "duration": 13,
    "start_time": "2021-07-02T23:26:02.781Z"
   },
   {
    "duration": 348,
    "start_time": "2021-07-02T23:26:02.795Z"
   },
   {
    "duration": 9,
    "start_time": "2021-07-02T23:26:03.144Z"
   },
   {
    "duration": 44,
    "start_time": "2021-07-02T23:26:03.155Z"
   },
   {
    "duration": 3,
    "start_time": "2021-07-02T23:26:03.201Z"
   },
   {
    "duration": 52,
    "start_time": "2021-07-02T23:26:03.205Z"
   },
   {
    "duration": 18,
    "start_time": "2021-07-02T23:26:03.258Z"
   },
   {
    "duration": 659,
    "start_time": "2021-07-02T23:26:03.277Z"
   },
   {
    "duration": 297,
    "start_time": "2021-07-02T23:26:03.941Z"
   },
   {
    "duration": 8,
    "start_time": "2021-07-02T23:26:04.239Z"
   },
   {
    "duration": 15,
    "start_time": "2021-07-02T23:26:04.248Z"
   },
   {
    "duration": 13,
    "start_time": "2021-07-02T23:26:04.265Z"
   },
   {
    "duration": 18,
    "start_time": "2021-07-02T23:26:04.280Z"
   },
   {
    "duration": 10,
    "start_time": "2021-07-02T23:26:04.300Z"
   },
   {
    "duration": 21,
    "start_time": "2021-07-02T23:26:04.312Z"
   },
   {
    "duration": 27,
    "start_time": "2021-07-02T23:26:04.335Z"
   },
   {
    "duration": 24,
    "start_time": "2021-07-02T23:26:04.364Z"
   },
   {
    "duration": 107,
    "start_time": "2021-07-02T23:26:04.390Z"
   },
   {
    "duration": 3,
    "start_time": "2021-07-02T23:26:04.499Z"
   },
   {
    "duration": 7,
    "start_time": "2021-07-02T23:26:04.504Z"
   },
   {
    "duration": 38,
    "start_time": "2021-07-02T23:26:04.513Z"
   },
   {
    "duration": 15564,
    "start_time": "2021-07-02T23:26:04.553Z"
   },
   {
    "duration": 4,
    "start_time": "2021-07-02T23:26:20.118Z"
   },
   {
    "duration": 19,
    "start_time": "2021-07-02T23:26:20.123Z"
   },
   {
    "duration": 15,
    "start_time": "2021-07-02T23:26:20.144Z"
   },
   {
    "duration": 8,
    "start_time": "2021-07-02T23:26:20.161Z"
   },
   {
    "duration": 17,
    "start_time": "2021-07-02T23:26:20.171Z"
   },
   {
    "duration": 57,
    "start_time": "2021-07-02T23:26:20.190Z"
   },
   {
    "duration": 7,
    "start_time": "2021-07-02T23:26:20.249Z"
   },
   {
    "duration": 18,
    "start_time": "2021-07-02T23:26:20.257Z"
   }
  ],
  "kernelspec": {
   "display_name": "Python 3",
   "language": "python",
   "name": "python3"
  },
  "language_info": {
   "codemirror_mode": {
    "name": "ipython",
    "version": 3
   },
   "file_extension": ".py",
   "mimetype": "text/x-python",
   "name": "python",
   "nbconvert_exporter": "python",
   "pygments_lexer": "ipython3",
   "version": "3.8.3"
  },
  "toc": {
   "base_numbering": 1,
   "nav_menu": {},
   "number_sections": true,
   "sideBar": true,
   "skip_h1_title": true,
   "title_cell": "Содержание",
   "title_sidebar": "Contents",
   "toc_cell": true,
   "toc_position": {
    "height": "calc(100% - 180px)",
    "left": "10px",
    "top": "150px",
    "width": "384px"
   },
   "toc_section_display": true,
   "toc_window_display": false
  }
 },
 "nbformat": 4,
 "nbformat_minor": 4
}
