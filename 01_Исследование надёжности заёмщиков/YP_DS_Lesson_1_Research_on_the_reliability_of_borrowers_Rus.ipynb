{
 "cells": [
  {
   "cell_type": "code",
   "execution_count": 1,
   "metadata": {},
   "outputs": [],
   "source": [
    "import pandas as pd \n",
    "\n",
    "from IPython.display import display\n",
    "\n",
    "import matplotlib.pyplot as plt\n",
    "\n",
    "import seaborn as sns\n",
    "\n",
    "from pymystem3 import Mystem"
   ]
  },
  {
   "cell_type": "markdown",
   "metadata": {},
   "source": [
    "# Исследование надёжности заёмщиков\n",
    "\n",
    "Заказчик — кредитный отдел банка. Нужно разобраться, влияет ли семейное положение и количество детей клиента на факт погашения кредита в срок. Входные данные от банка — статистика о платёжеспособности клиентов.\n",
    "\n",
    "Результаты исследования будут учтены при построении модели **кредитного скоринга** — специальной системы, которая оценивает способность потенциального заёмщика вернуть кредит банку."
   ]
  },
  {
   "cell_type": "markdown",
   "metadata": {
    "toc": true
   },
   "source": [
    "<h1>Содержание<span class=\"tocSkip\"></span></h1>\n",
    "<div class=\"toc\"><ul class=\"toc-item\"><li><span><a href=\"#Вспомогательные-функции\" data-toc-modified-id=\"Вспомогательные-функции-1\"><span class=\"toc-item-num\">1&nbsp;&nbsp;</span>Вспомогательные функции</a></span></li><li><span><a href=\"#Описание-данных\" data-toc-modified-id=\"Описание-данных-2\"><span class=\"toc-item-num\">2&nbsp;&nbsp;</span>Описание данных</a></span></li><li><span><a href=\"#Первичное-ознакомление-с-данными\" data-toc-modified-id=\"Первичное-ознакомление-с-данными-3\"><span class=\"toc-item-num\">3&nbsp;&nbsp;</span>Первичное ознакомление с данными</a></span><ul class=\"toc-item\"><li><span><a href=\"#Вывод\" data-toc-modified-id=\"Вывод-3.1\"><span class=\"toc-item-num\">3.1&nbsp;&nbsp;</span>Вывод</a></span></li></ul></li><li><span><a href=\"#Предобработка-данных\" data-toc-modified-id=\"Предобработка-данных-4\"><span class=\"toc-item-num\">4&nbsp;&nbsp;</span>Предобработка данных</a></span><ul class=\"toc-item\"><li><span><a href=\"#Обработка-пропусков-\" data-toc-modified-id=\"Обработка-пропусков--4.1\"><span class=\"toc-item-num\">4.1&nbsp;&nbsp;</span>Обработка пропусков <a class=\"anchor\" id=\"second-bullet\"></a></a></span><ul class=\"toc-item\"><li><span><a href=\"#Вывод\" data-toc-modified-id=\"Вывод-4.1.1\"><span class=\"toc-item-num\">4.1.1&nbsp;&nbsp;</span>Вывод</a></span></li></ul></li><li><span><a href=\"#Замена-типа-данных\" data-toc-modified-id=\"Замена-типа-данных-4.2\"><span class=\"toc-item-num\">4.2&nbsp;&nbsp;</span>Замена типа данных</a></span></li><li><span><a href=\"#Обработка-дубликатов-\" data-toc-modified-id=\"Обработка-дубликатов--4.3\"><span class=\"toc-item-num\">4.3&nbsp;&nbsp;</span>Обработка дубликатов <a class=\"anchor\" id=\"fourth-bullet\"></a></a></span><ul class=\"toc-item\"><li><span><a href=\"#Вывод\" data-toc-modified-id=\"Вывод-4.3.1\"><span class=\"toc-item-num\">4.3.1&nbsp;&nbsp;</span>Вывод</a></span></li></ul></li><li><span><a href=\"#Лемматизация-\" data-toc-modified-id=\"Лемматизация--4.4\"><span class=\"toc-item-num\">4.4&nbsp;&nbsp;</span>Лемматизация <a class=\"anchor\" id=\"fifth-bullet\"></a></a></span></li><li><span><a href=\"#Категоризация-данных-\" data-toc-modified-id=\"Категоризация-данных--4.5\"><span class=\"toc-item-num\">4.5&nbsp;&nbsp;</span>Категоризация данных <a class=\"anchor\" id=\"sixth-bullet\"></a></a></span><ul class=\"toc-item\"><li><span><a href=\"#Вывод\" data-toc-modified-id=\"Вывод-4.5.1\"><span class=\"toc-item-num\">4.5.1&nbsp;&nbsp;</span>Вывод</a></span></li></ul></li></ul></li><li><span><a href=\"#Анализ-полученных-данных-и-выводы-\" data-toc-modified-id=\"Анализ-полученных-данных-и-выводы--5\"><span class=\"toc-item-num\">5&nbsp;&nbsp;</span>Анализ полученных данных и выводы <a class=\"anchor\" id=\"seventh-bullet\"></a></a></span><ul class=\"toc-item\"><li><span><a href=\"#Есть-ли-зависимость-между-наличием-детей-и-возвратом-кредита-в-срок?\" data-toc-modified-id=\"Есть-ли-зависимость-между-наличием-детей-и-возвратом-кредита-в-срок?-5.1\"><span class=\"toc-item-num\">5.1&nbsp;&nbsp;</span>Есть ли зависимость между наличием детей и возвратом кредита в срок?</a></span></li><li><span><a href=\"#Есть-ли-зависимость-между-семейным-положением-и-возвратом-кредита-в-срок?\" data-toc-modified-id=\"Есть-ли-зависимость-между-семейным-положением-и-возвратом-кредита-в-срок?-5.2\"><span class=\"toc-item-num\">5.2&nbsp;&nbsp;</span>Есть ли зависимость между семейным положением и возвратом кредита в срок?</a></span></li><li><span><a href=\"#Есть-ли-зависимость-между-уровнем-дохода-и-возвратом-кредита-в-срок?\" data-toc-modified-id=\"Есть-ли-зависимость-между-уровнем-дохода-и-возвратом-кредита-в-срок?-5.3\"><span class=\"toc-item-num\">5.3&nbsp;&nbsp;</span>Есть ли зависимость между уровнем дохода и возвратом кредита в срок?</a></span></li><li><span><a href=\"#Как-разные-цели-кредита-влияют-на-его-возврат-в-срок?\" data-toc-modified-id=\"Как-разные-цели-кредита-влияют-на-его-возврат-в-срок?-5.4\"><span class=\"toc-item-num\">5.4&nbsp;&nbsp;</span>Как разные цели кредита влияют на его возврат в срок?</a></span></li></ul></li><li><span><a href=\"#Общий-вывод\" data-toc-modified-id=\"Общий-вывод-6\"><span class=\"toc-item-num\">6&nbsp;&nbsp;</span>Общий вывод</a></span></li></ul></div>"
   ]
  },
  {
   "cell_type": "markdown",
   "metadata": {},
   "source": [
    "## Вспомогательные функции"
   ]
  },
  {
   "cell_type": "code",
   "execution_count": 2,
   "metadata": {},
   "outputs": [],
   "source": [
    "def show_na(df):\n",
    "    '''\n",
    "    Функция возвращает таблицу с количеством пропущенных значений по столбцам в процентах и абсолютном значении.\n",
    "    '''\n",
    "    data_info = (df.isna() | df.isnull()).sum()\n",
    "    result_table = (pd.concat(\n",
    "        [(data_info / df.shape[0] * 100).round(2), data_info], \n",
    "        axis=1,  \n",
    "        keys=['missed percent', 'missed count']).sort_values('missed percent', ascending=False))\n",
    "    return result_table"
   ]
  },
  {
   "cell_type": "code",
   "execution_count": 3,
   "metadata": {},
   "outputs": [],
   "source": [
    "def correlation(dataframe):\n",
    "    \n",
    "    corr = dataframe.corr()\n",
    "\n",
    "    f, ax = plt.subplots(figsize=(16, 12))\n",
    "    \n",
    "    sns.heatmap(\n",
    "        corr, \n",
    "        xticklabels=corr.columns.values,\n",
    "        yticklabels=corr.columns.values,\n",
    "        annot=True,\n",
    "        fmt = '.2f',\n",
    "        annot_kws={'size':14},    \n",
    "    )\n",
    "    sns.set(font_scale=1.2)\n",
    "    display(corr)"
   ]
  },
  {
   "cell_type": "code",
   "execution_count": 4,
   "metadata": {},
   "outputs": [],
   "source": [
    "def histogram_boxplot(data,\n",
    "                      xlabel=None,\n",
    "                      title=None,\n",
    "                      font_scale=1,\n",
    "                      figsize=(16, 8),\n",
    "                      bins=None):\n",
    "    \"\"\" Диграмма размаха и гистограмма будут отрисованны вместе на одном кадре. \n",
    "    На графиках будут также нарисованны линия среднего и медианы.\n",
    "    data: 1-d data array\n",
    "    xlabel: xlabel \n",
    "    title: title\n",
    "    font_scale: the scale of the font (default 1)\n",
    "    figsize: size of fig (default (16, 8))\n",
    "    bins: number of bins (default None / auto)\n",
    "    \"\"\"\n",
    "    \n",
    "    sns.set(font_scale=font_scale)\n",
    "    \n",
    "    f2, (ax_box2, ax_hist2) = plt.subplots(\n",
    "        2,\n",
    "        sharex=True,\n",
    "        gridspec_kw={\"height_ratios\": (.15, .85)},\n",
    "        figsize=figsize\n",
    "    )\n",
    "    sns.boxplot(x=data, ax=ax_box2)\n",
    "    \n",
    "    if bins:\n",
    "        sns.histplot(x=data, ax=ax_hist2, bins=bins, kde=True)\n",
    "    else:\n",
    "        sns.histplot(data, ax=ax_hist2, kde=True)\n",
    "\n",
    "    plt.axvline(x=data.mean(), linewidth=2, color='r', label=\"mean\", alpha=0.8)\n",
    "    plt.axvline(x=data.median(),\n",
    "                linewidth=2,\n",
    "                color='y',\n",
    "                label=\"median\",\n",
    "                alpha=0.8)\n",
    "    ax_hist2.legend()\n",
    "\n",
    "    if xlabel:\n",
    "        ax_hist2.set(xlabel=xlabel)\n",
    "    if title:\n",
    "        ax_box2.set(title=title)\n",
    "    plt.show()\n",
    "    "
   ]
  },
  {
   "cell_type": "code",
   "execution_count": 5,
   "metadata": {},
   "outputs": [],
   "source": [
    "def info_row(row, data, bins=None):\n",
    "    \n",
    "    '''Функция смотри тип данных в столбце:\n",
    "    - если тип object, то смотрит уникальные значения\n",
    "    - в противном случае оценивается распределение'''\n",
    "    \n",
    "    if row.dtype == 'object':\n",
    "        \n",
    "        print(row.name)\n",
    "        print(row.unique())\n",
    "        print()\n",
    "        print(row.describe())\n",
    "        print()\n",
    "        \n",
    "    else:\n",
    "        bins=bins\n",
    "        print(row.name)\n",
    "        print(row.describe())\n",
    "        histogram_boxplot(row, xlabel=row.name, title = 'Распределение '+ row.name, bins=bins)\n",
    "        "
   ]
  },
  {
   "cell_type": "code",
   "execution_count": 6,
   "metadata": {},
   "outputs": [],
   "source": [
    "def several_hists(df, \n",
    "                  x, \n",
    "                  hue=None,\n",
    "                  xlabel=None,\n",
    "                  title=None,\n",
    "                  font_scale=1,\n",
    "                  figsize=(16, 8),\n",
    "                  bins=None,\n",
    "                  hue_order=None, \n",
    "                  stat='count'):\n",
    "    \n",
    "    \"\"\"Функция выводит график на котором отображается распределение величины из датасета по категориям.\"\"\"\n",
    "    \n",
    "    fig, ax = plt.subplots(sharex=True, figsize=figsize)\n",
    "    sns.histplot(df, x=x, hue=hue, bins=bins, hue_order=hue_order, stat=stat)\n",
    "    \n",
    "    plt.axvline(x=df[x].mean(), linewidth=2, color='r', label=\"mean\", alpha=0.8)\n",
    "    plt.axvline(x=df[x].median(), linewidth=2, color='y', label=\"median\", alpha=0.8)"
   ]
  },
  {
   "cell_type": "markdown",
   "metadata": {},
   "source": [
    "## Описание данных\n",
    "* `children` — количество детей в семье\n",
    "* `days_employed` — общий трудовой стаж в днях\n",
    "* `dob_years` — возраст клиента в годах\n",
    "* `education` — уровень образования клиента\n",
    "* `education_id` — идентификатор уровня образования\n",
    "* `family_status` — семейное положение\n",
    "* `family_status_id` — идентификатор семейного положения\n",
    "* `gender` — пол клиента\n",
    "* `income_type` — тип занятости\n",
    "* `debt` — имел ли задолженность по возврату кредитов\n",
    "* `total_income` — ежемесячный доход\n",
    "* `purpose` — цель получения кредита"
   ]
  },
  {
   "cell_type": "markdown",
   "metadata": {},
   "source": [
    "## Первичное ознакомление с данными"
   ]
  },
  {
   "cell_type": "markdown",
   "metadata": {},
   "source": [
    "\n",
    "Для начала просмотрим на нашу таблицу и выведем общие данные о ней."
   ]
  },
  {
   "cell_type": "code",
   "execution_count": 7,
   "metadata": {
    "scrolled": false
   },
   "outputs": [
    {
     "data": {
      "text/html": [
       "<div>\n",
       "<style scoped>\n",
       "    .dataframe tbody tr th:only-of-type {\n",
       "        vertical-align: middle;\n",
       "    }\n",
       "\n",
       "    .dataframe tbody tr th {\n",
       "        vertical-align: top;\n",
       "    }\n",
       "\n",
       "    .dataframe thead th {\n",
       "        text-align: right;\n",
       "    }\n",
       "</style>\n",
       "<table border=\"1\" class=\"dataframe\">\n",
       "  <thead>\n",
       "    <tr style=\"text-align: right;\">\n",
       "      <th></th>\n",
       "      <th>children</th>\n",
       "      <th>days_employed</th>\n",
       "      <th>dob_years</th>\n",
       "      <th>education</th>\n",
       "      <th>education_id</th>\n",
       "      <th>family_status</th>\n",
       "      <th>family_status_id</th>\n",
       "      <th>gender</th>\n",
       "      <th>income_type</th>\n",
       "      <th>debt</th>\n",
       "      <th>total_income</th>\n",
       "      <th>purpose</th>\n",
       "    </tr>\n",
       "  </thead>\n",
       "  <tbody>\n",
       "    <tr>\n",
       "      <th>0</th>\n",
       "      <td>1</td>\n",
       "      <td>-8437.673028</td>\n",
       "      <td>42</td>\n",
       "      <td>высшее</td>\n",
       "      <td>0</td>\n",
       "      <td>женат / замужем</td>\n",
       "      <td>0</td>\n",
       "      <td>F</td>\n",
       "      <td>сотрудник</td>\n",
       "      <td>0</td>\n",
       "      <td>253875.639453</td>\n",
       "      <td>покупка жилья</td>\n",
       "    </tr>\n",
       "    <tr>\n",
       "      <th>1</th>\n",
       "      <td>1</td>\n",
       "      <td>-4024.803754</td>\n",
       "      <td>36</td>\n",
       "      <td>среднее</td>\n",
       "      <td>1</td>\n",
       "      <td>женат / замужем</td>\n",
       "      <td>0</td>\n",
       "      <td>F</td>\n",
       "      <td>сотрудник</td>\n",
       "      <td>0</td>\n",
       "      <td>112080.014102</td>\n",
       "      <td>приобретение автомобиля</td>\n",
       "    </tr>\n",
       "    <tr>\n",
       "      <th>2</th>\n",
       "      <td>0</td>\n",
       "      <td>-5623.422610</td>\n",
       "      <td>33</td>\n",
       "      <td>Среднее</td>\n",
       "      <td>1</td>\n",
       "      <td>женат / замужем</td>\n",
       "      <td>0</td>\n",
       "      <td>M</td>\n",
       "      <td>сотрудник</td>\n",
       "      <td>0</td>\n",
       "      <td>145885.952297</td>\n",
       "      <td>покупка жилья</td>\n",
       "    </tr>\n",
       "    <tr>\n",
       "      <th>3</th>\n",
       "      <td>3</td>\n",
       "      <td>-4124.747207</td>\n",
       "      <td>32</td>\n",
       "      <td>среднее</td>\n",
       "      <td>1</td>\n",
       "      <td>женат / замужем</td>\n",
       "      <td>0</td>\n",
       "      <td>M</td>\n",
       "      <td>сотрудник</td>\n",
       "      <td>0</td>\n",
       "      <td>267628.550329</td>\n",
       "      <td>дополнительное образование</td>\n",
       "    </tr>\n",
       "    <tr>\n",
       "      <th>4</th>\n",
       "      <td>0</td>\n",
       "      <td>340266.072047</td>\n",
       "      <td>53</td>\n",
       "      <td>среднее</td>\n",
       "      <td>1</td>\n",
       "      <td>гражданский брак</td>\n",
       "      <td>1</td>\n",
       "      <td>F</td>\n",
       "      <td>пенсионер</td>\n",
       "      <td>0</td>\n",
       "      <td>158616.077870</td>\n",
       "      <td>сыграть свадьбу</td>\n",
       "    </tr>\n",
       "    <tr>\n",
       "      <th>...</th>\n",
       "      <td>...</td>\n",
       "      <td>...</td>\n",
       "      <td>...</td>\n",
       "      <td>...</td>\n",
       "      <td>...</td>\n",
       "      <td>...</td>\n",
       "      <td>...</td>\n",
       "      <td>...</td>\n",
       "      <td>...</td>\n",
       "      <td>...</td>\n",
       "      <td>...</td>\n",
       "      <td>...</td>\n",
       "    </tr>\n",
       "    <tr>\n",
       "      <th>21520</th>\n",
       "      <td>1</td>\n",
       "      <td>-4529.316663</td>\n",
       "      <td>43</td>\n",
       "      <td>среднее</td>\n",
       "      <td>1</td>\n",
       "      <td>гражданский брак</td>\n",
       "      <td>1</td>\n",
       "      <td>F</td>\n",
       "      <td>компаньон</td>\n",
       "      <td>0</td>\n",
       "      <td>224791.862382</td>\n",
       "      <td>операции с жильем</td>\n",
       "    </tr>\n",
       "    <tr>\n",
       "      <th>21521</th>\n",
       "      <td>0</td>\n",
       "      <td>343937.404131</td>\n",
       "      <td>67</td>\n",
       "      <td>среднее</td>\n",
       "      <td>1</td>\n",
       "      <td>женат / замужем</td>\n",
       "      <td>0</td>\n",
       "      <td>F</td>\n",
       "      <td>пенсионер</td>\n",
       "      <td>0</td>\n",
       "      <td>155999.806512</td>\n",
       "      <td>сделка с автомобилем</td>\n",
       "    </tr>\n",
       "    <tr>\n",
       "      <th>21522</th>\n",
       "      <td>1</td>\n",
       "      <td>-2113.346888</td>\n",
       "      <td>38</td>\n",
       "      <td>среднее</td>\n",
       "      <td>1</td>\n",
       "      <td>гражданский брак</td>\n",
       "      <td>1</td>\n",
       "      <td>M</td>\n",
       "      <td>сотрудник</td>\n",
       "      <td>1</td>\n",
       "      <td>89672.561153</td>\n",
       "      <td>недвижимость</td>\n",
       "    </tr>\n",
       "    <tr>\n",
       "      <th>21523</th>\n",
       "      <td>3</td>\n",
       "      <td>-3112.481705</td>\n",
       "      <td>38</td>\n",
       "      <td>среднее</td>\n",
       "      <td>1</td>\n",
       "      <td>женат / замужем</td>\n",
       "      <td>0</td>\n",
       "      <td>M</td>\n",
       "      <td>сотрудник</td>\n",
       "      <td>1</td>\n",
       "      <td>244093.050500</td>\n",
       "      <td>на покупку своего автомобиля</td>\n",
       "    </tr>\n",
       "    <tr>\n",
       "      <th>21524</th>\n",
       "      <td>2</td>\n",
       "      <td>-1984.507589</td>\n",
       "      <td>40</td>\n",
       "      <td>среднее</td>\n",
       "      <td>1</td>\n",
       "      <td>женат / замужем</td>\n",
       "      <td>0</td>\n",
       "      <td>F</td>\n",
       "      <td>сотрудник</td>\n",
       "      <td>0</td>\n",
       "      <td>82047.418899</td>\n",
       "      <td>на покупку автомобиля</td>\n",
       "    </tr>\n",
       "  </tbody>\n",
       "</table>\n",
       "<p>21525 rows × 12 columns</p>\n",
       "</div>"
      ],
      "text/plain": [
       "       children  days_employed  dob_years education  education_id  \\\n",
       "0             1   -8437.673028         42    высшее             0   \n",
       "1             1   -4024.803754         36   среднее             1   \n",
       "2             0   -5623.422610         33   Среднее             1   \n",
       "3             3   -4124.747207         32   среднее             1   \n",
       "4             0  340266.072047         53   среднее             1   \n",
       "...         ...            ...        ...       ...           ...   \n",
       "21520         1   -4529.316663         43   среднее             1   \n",
       "21521         0  343937.404131         67   среднее             1   \n",
       "21522         1   -2113.346888         38   среднее             1   \n",
       "21523         3   -3112.481705         38   среднее             1   \n",
       "21524         2   -1984.507589         40   среднее             1   \n",
       "\n",
       "          family_status  family_status_id gender income_type  debt  \\\n",
       "0       женат / замужем                 0      F   сотрудник     0   \n",
       "1       женат / замужем                 0      F   сотрудник     0   \n",
       "2       женат / замужем                 0      M   сотрудник     0   \n",
       "3       женат / замужем                 0      M   сотрудник     0   \n",
       "4      гражданский брак                 1      F   пенсионер     0   \n",
       "...                 ...               ...    ...         ...   ...   \n",
       "21520  гражданский брак                 1      F   компаньон     0   \n",
       "21521   женат / замужем                 0      F   пенсионер     0   \n",
       "21522  гражданский брак                 1      M   сотрудник     1   \n",
       "21523   женат / замужем                 0      M   сотрудник     1   \n",
       "21524   женат / замужем                 0      F   сотрудник     0   \n",
       "\n",
       "        total_income                       purpose  \n",
       "0      253875.639453                 покупка жилья  \n",
       "1      112080.014102       приобретение автомобиля  \n",
       "2      145885.952297                 покупка жилья  \n",
       "3      267628.550329    дополнительное образование  \n",
       "4      158616.077870               сыграть свадьбу  \n",
       "...              ...                           ...  \n",
       "21520  224791.862382             операции с жильем  \n",
       "21521  155999.806512          сделка с автомобилем  \n",
       "21522   89672.561153                  недвижимость  \n",
       "21523  244093.050500  на покупку своего автомобиля  \n",
       "21524   82047.418899         на покупку автомобиля  \n",
       "\n",
       "[21525 rows x 12 columns]"
      ]
     },
     "metadata": {},
     "output_type": "display_data"
    },
    {
     "name": "stdout",
     "output_type": "stream",
     "text": [
      "<class 'pandas.core.frame.DataFrame'>\n",
      "RangeIndex: 21525 entries, 0 to 21524\n",
      "Data columns (total 12 columns):\n",
      " #   Column            Non-Null Count  Dtype  \n",
      "---  ------            --------------  -----  \n",
      " 0   children          21525 non-null  int64  \n",
      " 1   days_employed     19351 non-null  float64\n",
      " 2   dob_years         21525 non-null  int64  \n",
      " 3   education         21525 non-null  object \n",
      " 4   education_id      21525 non-null  int64  \n",
      " 5   family_status     21525 non-null  object \n",
      " 6   family_status_id  21525 non-null  int64  \n",
      " 7   gender            21525 non-null  object \n",
      " 8   income_type       21525 non-null  object \n",
      " 9   debt              21525 non-null  int64  \n",
      " 10  total_income      19351 non-null  float64\n",
      " 11  purpose           21525 non-null  object \n",
      "dtypes: float64(2), int64(5), object(5)\n",
      "memory usage: 2.0+ MB\n",
      "None \n",
      "\n"
     ]
    }
   ],
   "source": [
    "start_data = pd.read_csv('data.csv') \n",
    "display(start_data) \n",
    "print(start_data.info(), '\\n') "
   ]
  },
  {
   "cell_type": "code",
   "execution_count": 8,
   "metadata": {},
   "outputs": [
    {
     "data": {
      "text/html": [
       "<div>\n",
       "<style scoped>\n",
       "    .dataframe tbody tr th:only-of-type {\n",
       "        vertical-align: middle;\n",
       "    }\n",
       "\n",
       "    .dataframe tbody tr th {\n",
       "        vertical-align: top;\n",
       "    }\n",
       "\n",
       "    .dataframe thead th {\n",
       "        text-align: right;\n",
       "    }\n",
       "</style>\n",
       "<table border=\"1\" class=\"dataframe\">\n",
       "  <thead>\n",
       "    <tr style=\"text-align: right;\">\n",
       "      <th></th>\n",
       "      <th>missed percent</th>\n",
       "      <th>missed count</th>\n",
       "    </tr>\n",
       "  </thead>\n",
       "  <tbody>\n",
       "    <tr>\n",
       "      <th>days_employed</th>\n",
       "      <td>10.1</td>\n",
       "      <td>2174</td>\n",
       "    </tr>\n",
       "    <tr>\n",
       "      <th>total_income</th>\n",
       "      <td>10.1</td>\n",
       "      <td>2174</td>\n",
       "    </tr>\n",
       "    <tr>\n",
       "      <th>children</th>\n",
       "      <td>0.0</td>\n",
       "      <td>0</td>\n",
       "    </tr>\n",
       "    <tr>\n",
       "      <th>dob_years</th>\n",
       "      <td>0.0</td>\n",
       "      <td>0</td>\n",
       "    </tr>\n",
       "    <tr>\n",
       "      <th>education</th>\n",
       "      <td>0.0</td>\n",
       "      <td>0</td>\n",
       "    </tr>\n",
       "    <tr>\n",
       "      <th>education_id</th>\n",
       "      <td>0.0</td>\n",
       "      <td>0</td>\n",
       "    </tr>\n",
       "    <tr>\n",
       "      <th>family_status</th>\n",
       "      <td>0.0</td>\n",
       "      <td>0</td>\n",
       "    </tr>\n",
       "    <tr>\n",
       "      <th>family_status_id</th>\n",
       "      <td>0.0</td>\n",
       "      <td>0</td>\n",
       "    </tr>\n",
       "    <tr>\n",
       "      <th>gender</th>\n",
       "      <td>0.0</td>\n",
       "      <td>0</td>\n",
       "    </tr>\n",
       "    <tr>\n",
       "      <th>income_type</th>\n",
       "      <td>0.0</td>\n",
       "      <td>0</td>\n",
       "    </tr>\n",
       "    <tr>\n",
       "      <th>debt</th>\n",
       "      <td>0.0</td>\n",
       "      <td>0</td>\n",
       "    </tr>\n",
       "    <tr>\n",
       "      <th>purpose</th>\n",
       "      <td>0.0</td>\n",
       "      <td>0</td>\n",
       "    </tr>\n",
       "  </tbody>\n",
       "</table>\n",
       "</div>"
      ],
      "text/plain": [
       "                  missed percent  missed count\n",
       "days_employed               10.1          2174\n",
       "total_income                10.1          2174\n",
       "children                     0.0             0\n",
       "dob_years                    0.0             0\n",
       "education                    0.0             0\n",
       "education_id                 0.0             0\n",
       "family_status                0.0             0\n",
       "family_status_id             0.0             0\n",
       "gender                       0.0             0\n",
       "income_type                  0.0             0\n",
       "debt                         0.0             0\n",
       "purpose                      0.0             0"
      ]
     },
     "execution_count": 8,
     "metadata": {},
     "output_type": "execute_result"
    }
   ],
   "source": [
    "show_na(start_data)"
   ]
  },
  {
   "cell_type": "markdown",
   "metadata": {},
   "source": [
    "В таблице 12 столбцов. Названия столбцов можно оставить без изменений. \n",
    "\n",
    "Сделаем проверку всеx столбцов на уникальные значения и аномалии. Каждый столбец будем осматривать отдельно и составлять план дальнейших действий. Столбцов не много и все они выглядят значимыми для нашего исследования."
   ]
  },
  {
   "cell_type": "code",
   "execution_count": 9,
   "metadata": {},
   "outputs": [
    {
     "name": "stdout",
     "output_type": "stream",
     "text": [
      "days_employed\n",
      "count     19351.000000\n",
      "mean      63046.497661\n",
      "std      140827.311974\n",
      "min      -18388.949901\n",
      "25%       -2747.423625\n",
      "50%       -1203.369529\n",
      "75%        -291.095954\n",
      "max      401755.400475\n",
      "Name: days_employed, dtype: float64\n"
     ]
    },
    {
     "data": {
      "image/png": "[encoded data removed]",
      "text/plain": [
       "<Figure size 1152x576 with 2 Axes>"
      ]
     },
     "metadata": {},
     "output_type": "display_data"
    }
   ],
   "source": [
    "info_row(start_data['days_employed'], start_data)"
   ]
  },
  {
   "cell_type": "code",
   "execution_count": 10,
   "metadata": {},
   "outputs": [
    {
     "name": "stdout",
     "output_type": "stream",
     "text": [
      "total_income\n",
      "count    1.935100e+04\n",
      "mean     1.674223e+05\n",
      "std      1.029716e+05\n",
      "min      2.066726e+04\n",
      "25%      1.030532e+05\n",
      "50%      1.450179e+05\n",
      "75%      2.034351e+05\n",
      "max      2.265604e+06\n",
      "Name: total_income, dtype: float64\n"
     ]
    },
    {
     "data": {
      "image/png": "[encoded data removed]",
      "text/plain": [
       "<Figure size 1152x576 with 2 Axes>"
      ]
     },
     "metadata": {},
     "output_type": "display_data"
    }
   ],
   "source": [
    "info_row(start_data['total_income'], start_data)"
   ]
  },
  {
   "cell_type": "markdown",
   "metadata": {},
   "source": [
    "`days_employed` и `total_income` содержат количественные данные и в обоих есть пропуски, причем одинаковое количество. В столбце `days_employed` данные записаны в формате `float64` и многие данные имеют отрицательные значения - необходимо привести данные к формату `int` для отбрасывания дробной части (количество дней не должно быть дробным). Так же надо разобраться почему некоторые значения отрицательные, а другие положительные.\n",
    "`total_income` для удобства тоже приведем к `int` - кому это надо - считать копейки?!"
   ]
  },
  {
   "cell_type": "code",
   "execution_count": 11,
   "metadata": {},
   "outputs": [
    {
     "name": "stdout",
     "output_type": "stream",
     "text": [
      "children\n",
      "count    21525.000000\n",
      "mean         0.538908\n",
      "std          1.381587\n",
      "min         -1.000000\n",
      "25%          0.000000\n",
      "50%          0.000000\n",
      "75%          1.000000\n",
      "max         20.000000\n",
      "Name: children, dtype: float64\n"
     ]
    },
    {
     "data": {
      "image/png": "[encoded data removed]",
      "text/plain": [
       "<Figure size 1152x576 with 2 Axes>"
      ]
     },
     "metadata": {},
     "output_type": "display_data"
    }
   ],
   "source": [
    "info_row(start_data['children'], start_data)"
   ]
  },
  {
   "cell_type": "code",
   "execution_count": 12,
   "metadata": {
    "scrolled": true
   },
   "outputs": [
    {
     "name": "stdout",
     "output_type": "stream",
     "text": [
      "В столбце \"children\": 76 строк со значением \"20\" и 47 строк с отрицательным значением\n"
     ]
    }
   ],
   "source": [
    "print('В столбце \"children\": {} строк со значением \"20\" и {} строк с отрицательным значением'\n",
    "      .format(start_data[start_data['children']==20]['children'].count(), \n",
    "              start_data[start_data['children']<0]['children'].count()))"
   ]
  },
  {
   "cell_type": "markdown",
   "metadata": {},
   "source": [
    "Кому-то очень повезло иметь двадцать детей, но нам такой максимум может в дальнейшем помешать, да и выглядит это откровенно подозрительно. И мы соболезнуем тем людям из нашей таблицы, у кого количество детей отрицательное, но пожалуй и эти данные мы позже обработаем отдельно."
   ]
  },
  {
   "cell_type": "code",
   "execution_count": 13,
   "metadata": {},
   "outputs": [
    {
     "name": "stdout",
     "output_type": "stream",
     "text": [
      "dob_years\n",
      "count    21525.000000\n",
      "mean        43.293380\n",
      "std         12.574584\n",
      "min          0.000000\n",
      "25%         33.000000\n",
      "50%         42.000000\n",
      "75%         53.000000\n",
      "max         75.000000\n",
      "Name: dob_years, dtype: float64\n"
     ]
    },
    {
     "data": {
      "image/png": "[encoded data removed]",
      "text/plain": [
       "<Figure size 1152x576 with 2 Axes>"
      ]
     },
     "metadata": {},
     "output_type": "display_data"
    }
   ],
   "source": [
    "info_row(start_data['dob_years'], start_data, 75)"
   ]
  },
  {
   "cell_type": "code",
   "execution_count": 14,
   "metadata": {},
   "outputs": [
    {
     "name": "stdout",
     "output_type": "stream",
     "text": [
      "В столбце \"dob_years\" 101 строка со значением меньше 18 и это 0.47% от общего количества строк\n"
     ]
    }
   ],
   "source": [
    "x = int(start_data[start_data['dob_years']<18]['dob_years'].count()) \n",
    "print('В столбце \"dob_years\" {} строка со значением меньше 18'\n",
    "      .format(start_data[start_data['dob_years']<18]['dob_years'].count()), end=' ')\n",
    "print('и это {:.2%} от общего количества строк'.format(x/len(start_data['dob_years'])))"
   ]
  },
  {
   "cell_type": "markdown",
   "metadata": {},
   "source": [
    "В столбце c возрастом есть нулевые значенияю. Меньше 1% от общего количества - можем их исключить."
   ]
  },
  {
   "cell_type": "code",
   "execution_count": 15,
   "metadata": {},
   "outputs": [
    {
     "name": "stdout",
     "output_type": "stream",
     "text": [
      "Уникальные значения в столбце \"education\":  ['высшее' 'среднее' 'Среднее' 'СРЕДНЕЕ' 'ВЫСШЕЕ' 'неоконченное высшее'\n",
      " 'начальное' 'Высшее' 'НЕОКОНЧЕННОЕ ВЫСШЕЕ' 'Неоконченное высшее'\n",
      " 'НАЧАЛЬНОЕ' 'Начальное' 'Ученая степень' 'УЧЕНАЯ СТЕПЕНЬ'\n",
      " 'ученая степень'] \n",
      "\n"
     ]
    }
   ],
   "source": [
    "print('Уникальные значения в столбце \"education\": ', start_data['education'].unique(), '\\n')"
   ]
  },
  {
   "cell_type": "markdown",
   "metadata": {},
   "source": [
    "Данные в столбец `education` вводились как попало, надо будет привести их к одинаковому виду."
   ]
  },
  {
   "cell_type": "code",
   "execution_count": 16,
   "metadata": {},
   "outputs": [
    {
     "name": "stdout",
     "output_type": "stream",
     "text": [
      "Уникальные значения в столбце \"education_id\":  [0 1 2 3 4] \n",
      "\n"
     ]
    }
   ],
   "source": [
    "print('Уникальные значения в столбце \"education_id\": ', start_data['education_id'].unique(), '\\n')"
   ]
  },
  {
   "cell_type": "markdown",
   "metadata": {},
   "source": [
    "После приведения данных из стоблца `education` к нормальному виду, надо будет сравнить количество уникальных элементов в `education` с тем что у нас есть в `education_id`. Пока явных аномалий не выявленно. "
   ]
  },
  {
   "cell_type": "code",
   "execution_count": 17,
   "metadata": {},
   "outputs": [
    {
     "name": "stdout",
     "output_type": "stream",
     "text": [
      "Уникальные значения в столбце \"family_status\":  ['женат / замужем' 'гражданский брак' 'вдовец / вдова' 'в разводе'\n",
      " 'Не женат / не замужем']\n",
      "Уникальные значения в столбце \"family_status_id\":  [0 1 2 3 4] \n",
      "\n"
     ]
    }
   ],
   "source": [
    "print('Уникальные значения в столбце \"family_status\": ', start_data['family_status'].unique())\n",
    "print('Уникальные значения в столбце \"family_status_id\": ', start_data['family_status_id'].unique(), '\\n')"
   ]
  },
  {
   "cell_type": "markdown",
   "metadata": {},
   "source": [
    "Данные в столбцах `family_status` и `family_status_id` не содержат явных искажений/артефактов."
   ]
  },
  {
   "cell_type": "code",
   "execution_count": 18,
   "metadata": {},
   "outputs": [
    {
     "name": "stdout",
     "output_type": "stream",
     "text": [
      "Уникальные значения в столбце \"gender\":  ['F' 'M' 'XNA'] \n",
      "\n",
      "Количество тех, кто не \"М\" и не \"Ж\": 1\n"
     ]
    }
   ],
   "source": [
    "print('Уникальные значения в столбце \"gender\": ', start_data['gender'].unique(), '\\n')\n",
    "print('Количество тех, кто не \"М\" и не \"Ж\": {}'\n",
    "      .format(start_data[start_data['gender']=='XNA']['gender'].count()))\n"
   ]
  },
  {
   "cell_type": "markdown",
   "metadata": {},
   "source": [
    "Как мы видим есть один человек, который не все решил для себя в этой жизни. Пожалуй позже придется исключить эту строку из таблицы - врядли нам удастся усреднить это значение."
   ]
  },
  {
   "cell_type": "code",
   "execution_count": 19,
   "metadata": {},
   "outputs": [
    {
     "name": "stdout",
     "output_type": "stream",
     "text": [
      "Уникальные значения в столбце \"income_type\":\n",
      " сотрудник\n",
      "пенсионер\n",
      "компаньон\n",
      "госслужащий\n",
      "безработный\n",
      "предприниматель\n",
      "студент\n",
      "в декрете\n"
     ]
    }
   ],
   "source": [
    "print('Уникальные значения в столбце \"income_type\":\\n', '\\n'.join(start_data['income_type'].unique()))"
   ]
  },
  {
   "cell_type": "markdown",
   "metadata": {},
   "source": [
    "В `income_type` с первого взгляда все нормально."
   ]
  },
  {
   "cell_type": "code",
   "execution_count": 20,
   "metadata": {},
   "outputs": [
    {
     "name": "stdout",
     "output_type": "stream",
     "text": [
      "Уникальные значения в столбце \"debt\":  [0 1] \n",
      "\n"
     ]
    }
   ],
   "source": [
    "print('Уникальные значения в столбце \"debt\": ', start_data['debt'].unique(), '\\n')"
   ]
  },
  {
   "cell_type": "markdown",
   "metadata": {},
   "source": [
    "`debt` - вероятно имеющиеся задолжности по кредитам. Пока без сюрпризов"
   ]
  },
  {
   "cell_type": "code",
   "execution_count": 21,
   "metadata": {},
   "outputs": [
    {
     "name": "stdout",
     "output_type": "stream",
     "text": [
      "Уникальные значения в столбце \"purpose\": \n",
      " ['покупка жилья' 'приобретение автомобиля' 'дополнительное образование'\n",
      " 'сыграть свадьбу' 'операции с жильем' 'образование'\n",
      " 'на проведение свадьбы' 'покупка жилья для семьи' 'покупка недвижимости'\n",
      " 'покупка коммерческой недвижимости' 'покупка жилой недвижимости'\n",
      " 'строительство собственной недвижимости' 'недвижимость'\n",
      " 'строительство недвижимости' 'на покупку подержанного автомобиля'\n",
      " 'на покупку своего автомобиля' 'операции с коммерческой недвижимостью'\n",
      " 'строительство жилой недвижимости' 'жилье'\n",
      " 'операции со своей недвижимостью' 'автомобили' 'заняться образованием'\n",
      " 'сделка с подержанным автомобилем' 'получение образования' 'автомобиль'\n",
      " 'свадьба' 'получение дополнительного образования' 'покупка своего жилья'\n",
      " 'операции с недвижимостью' 'получение высшего образования'\n",
      " 'свой автомобиль' 'сделка с автомобилем' 'профильное образование'\n",
      " 'высшее образование' 'покупка жилья для сдачи' 'на покупку автомобиля'\n",
      " 'ремонт жилью' 'заняться высшим образованием']\n"
     ]
    }
   ],
   "source": [
    "print('Уникальные значения в столбце \"purpose\": \\n', start_data['purpose'].unique())\n"
   ]
  },
  {
   "cell_type": "markdown",
   "metadata": {},
   "source": [
    "`purpose` - в дальнейшем будем использовать, чтобы узнать, на что именно потратили деньги, которые совсем не хочется возвращать."
   ]
  },
  {
   "cell_type": "markdown",
   "metadata": {},
   "source": [
    "### Вывод"
   ]
  },
  {
   "cell_type": "markdown",
   "metadata": {},
   "source": [
    "В нашей таблице нашлось довольно много интересных артефактов. Часть из них мы можем безболезненно удалить, а часть нам предстоить обработать. Есть несколько рабочих гипотез, которые нам предстоить проверить:\n",
    "1. Интересное начинается уже со строки №4. У нас имеется пенсионер 54 лет отроду трудовой стаж которого представлен положительным числом в отличии от других. \n",
    "    - У кого еще стаж положительное число? Гипотеза - у всех кто не работает.\n",
    "    - 340266 / 365 = 932. Если не учитывать колесо сансары, то такой стаж великоват для нашего пенсионера. А вот если предположить, что это стаж в часах, а не в днях и посчитать 340266 / 24 / 365 = ~38.8 - вот это уже выглядит более правдоподобно. Гипотеза: у всех у кого стаж положительное число, он записан в часах. Надо проверить есть ли аномально большие числа среди отрицательных значений этого столбца.\n",
    "2. Необходимо привести все строки с категориями образования к единому виду и сравнить количество категорий с количество education_id.\n",
    "3. Надо обработать аномальные значения в столбцах `gender`, `dob_years`, `children`"
   ]
  },
  {
   "cell_type": "markdown",
   "metadata": {},
   "source": [
    "## Предобработка данных"
   ]
  },
  {
   "cell_type": "markdown",
   "metadata": {},
   "source": [
    "### Обработка пропусков <a class=\"anchor\" id=\"second-bullet\"></a>"
   ]
  },
  {
   "cell_type": "markdown",
   "metadata": {},
   "source": [
    "Перед тем как обрабатывать пропуски нам сначала надо решить вопрос с теми, кто еще не успел пожить, то есть те у кого в графе возраст записан как 0. "
   ]
  },
  {
   "cell_type": "markdown",
   "metadata": {},
   "source": [
    "Судя по всему нули в данном случае это маркеры пропусков заполнения значений. Мы можем заменить их на медианные значения для групп сформированных по семейному статусу."
   ]
  },
  {
   "cell_type": "code",
   "execution_count": 22,
   "metadata": {},
   "outputs": [
    {
     "name": "stdout",
     "output_type": "stream",
     "text": [
      "Уникальные значения в столбце \"dob_years\" до обработки: \n",
      " 0 19 20 21 22 23 24 25 26 27 28 29 30 31 32 33 34 35 36 37 38 39 40 41 42 43 44 45 46 47 48 49 50 51 52 53 54 55 56 57 58 59 60 61 62 63 64 65 66 67 68 69 70 71 72 73 74 75\n",
      "\n",
      "Уникальные значения в столбце \"dob_years\" после обарботки: \n",
      " 19 20 21 22 23 24 25 26 27 28 29 30 31 32 33 34 35 36 37 38 39 40 41 42 43 44 45 46 47 48 49 50 51 52 53 54 55 56 57 58 59 60 61 62 63 64 65 66 67 68 69 70 71 72 73 74 75\n"
     ]
    }
   ],
   "source": [
    "my_lst_before = list(start_data['dob_years'].unique()) \n",
    "my_lst_before.sort() \n",
    "print('Уникальные значения в столбце \"dob_years\" до обработки: \\n', *my_lst_before)\n",
    "print()\n",
    "\n",
    "start_data['dob_years'] = start_data.groupby('family_status')['dob_years'].transform(lambda x: x.replace(0, int(x.median())))\n",
    "\n",
    "my_lst_after = list(start_data['dob_years'].unique()) \n",
    "my_lst_after.sort()\n",
    "print('Уникальные значения в столбце \"dob_years\" после обарботки: \\n', *my_lst_after)"
   ]
  },
  {
   "cell_type": "markdown",
   "metadata": {},
   "source": [
    "Как мы видим у нас не осталось нулей в столбце с возрастом, после замены на медианные значения."
   ]
  },
  {
   "cell_type": "markdown",
   "metadata": {},
   "source": [
    "Предлагаю сразу решить вопрос с артефактами в столбце `children`. Как мы помним у нас есть строки где значение столбца равно 20 и -1. Таких строк тоже не много и можно было бы их просто удалить, но давайте сделаем допущение, что такие данные это ошибка ввода и человек хотел записать просто 1 без минуса и 2 вместо 20. Такое допущение не сильно исказит нашу статистику, но посзволит обработать результаты более верно."
   ]
  },
  {
   "cell_type": "code",
   "execution_count": 23,
   "metadata": {},
   "outputs": [
    {
     "name": "stdout",
     "output_type": "stream",
     "text": [
      "Значения оставшиеся в столбце children:  1 0 3 2 4 5\n"
     ]
    }
   ],
   "source": [
    "start_data['children'] = start_data['children'].replace(20, 2)\n",
    "start_data['children'] = start_data['children'].replace(-1, 1)\n",
    "print('Значения оставшиеся в столбце children: ', *start_data['children'].unique())"
   ]
  },
  {
   "cell_type": "markdown",
   "metadata": {},
   "source": [
    "И последний артефакт, от которого нам следует избавиться - **'XNA'** в столбце `gender`. Как мы проверяли раньше, такое значение только одно и мы смело можем удалить эту строку из нашей таблицы."
   ]
  },
  {
   "cell_type": "code",
   "execution_count": 24,
   "metadata": {},
   "outputs": [
    {
     "name": "stdout",
     "output_type": "stream",
     "text": [
      "Значения оставшиеся в столбце gender:  F M\n"
     ]
    }
   ],
   "source": [
    "start_data = start_data.loc[start_data['gender'] != 'XNA']\n",
    "print('Значения оставшиеся в столбце gender: ', *start_data['gender'].unique())"
   ]
  },
  {
   "cell_type": "markdown",
   "metadata": {},
   "source": [
    "Посмотрим что стало с нашей таблицей после всех манипуляций."
   ]
  },
  {
   "cell_type": "code",
   "execution_count": 25,
   "metadata": {},
   "outputs": [
    {
     "name": "stdout",
     "output_type": "stream",
     "text": [
      "<class 'pandas.core.frame.DataFrame'>\n",
      "Int64Index: 21524 entries, 0 to 21524\n",
      "Data columns (total 12 columns):\n",
      " #   Column            Non-Null Count  Dtype  \n",
      "---  ------            --------------  -----  \n",
      " 0   children          21524 non-null  int64  \n",
      " 1   days_employed     19350 non-null  float64\n",
      " 2   dob_years         21524 non-null  int64  \n",
      " 3   education         21524 non-null  object \n",
      " 4   education_id      21524 non-null  int64  \n",
      " 5   family_status     21524 non-null  object \n",
      " 6   family_status_id  21524 non-null  int64  \n",
      " 7   gender            21524 non-null  object \n",
      " 8   income_type       21524 non-null  object \n",
      " 9   debt              21524 non-null  int64  \n",
      " 10  total_income      19350 non-null  float64\n",
      " 11  purpose           21524 non-null  object \n",
      "dtypes: float64(2), int64(5), object(5)\n",
      "memory usage: 2.1+ MB\n",
      "None\n"
     ]
    }
   ],
   "source": [
    "start_data.reset_index(drop=True)\n",
    "print(start_data.info())"
   ]
  },
  {
   "cell_type": "markdown",
   "metadata": {},
   "source": [
    "В процессе ознакомления с дата сетом мы узнали, что в столбцах `days_employed` и `total_income` допущенно довольно много пропусков. Для обрабоки количественных значений лучше всего подходит метод заполнения пропущенных значений с помощью медианы или среднего значения. Но перед тем, как приступить к заполнению пропусков следует разобраться с аномалиями в уже имеющихся значениях. Начнем с иследования столбца `days_employed`."
   ]
  },
  {
   "cell_type": "code",
   "execution_count": 26,
   "metadata": {},
   "outputs": [
    {
     "name": "stdout",
     "output_type": "stream",
     "text": [
      "0     -8437.673028\n",
      "1     -4024.803754\n",
      "2     -5623.422610\n",
      "3     -4124.747207\n",
      "4    340266.072047\n",
      "5      -926.185831\n",
      "6     -2879.202052\n",
      "7      -152.779569\n",
      "8     -6929.865299\n",
      "9     -2188.756445\n",
      "Name: days_employed, dtype: float64\n"
     ]
    }
   ],
   "source": [
    "print(start_data['days_employed'].head(10))"
   ]
  },
  {
   "cell_type": "markdown",
   "metadata": {},
   "source": [
    "Как мы видим в столбце есть как положительные так и отрицательные значения. Мы выдвинули гипотезу, что положительные значения содержаться в тех строках, в которых храняться данные о людях не имевших официальной работы на момент формирования дата сета. Чтобы проверить эту гипотезу выведем группы из столбца `income_type` для которых стаж храниться как положительное число."
   ]
  },
  {
   "cell_type": "code",
   "execution_count": 27,
   "metadata": {},
   "outputs": [
    {
     "name": "stdout",
     "output_type": "stream",
     "text": [
      "income_type\n",
      "безработный       2\n",
      "пенсионер      3443\n",
      "Name: days_employed, dtype: int64\n"
     ]
    }
   ],
   "source": [
    "days_emp_positive = start_data[start_data['days_employed']>0] \n",
    "print(days_emp_positive.groupby('income_type')['days_employed'].count())"
   ]
  },
  {
   "cell_type": "markdown",
   "metadata": {},
   "source": [
    "Все положительные значения приходятся на две группы: пенсионеры и безработные. Наша гипотеза оказалась правильной.\n",
    "Давайте теперь поймем почему положительные значения такие большие? Гипотеза: эти значения записаны в часах, а не в днях. \n",
    "Для начала посмотрим действительно ли все положительные значения такие большие?"
   ]
  },
  {
   "cell_type": "code",
   "execution_count": 28,
   "metadata": {},
   "outputs": [
    {
     "name": "stdout",
     "output_type": "stream",
     "text": [
      "Максимальное положительное значение в столбце `days_employed`: 401755.40047533\n",
      "Минимальное положительное значение в столбце `days_employed`: 328728.72060451825\n"
     ]
    }
   ],
   "source": [
    "print('Максимальное положительное значение в столбце `days_employed`:', days_emp_positive['days_employed'].max())\n",
    "print('Минимальное положительное значение в столбце `days_employed`:', days_emp_positive['days_employed'].min())"
   ]
  },
  {
   "cell_type": "markdown",
   "metadata": {},
   "source": [
    "328728 / 365 = **~900.62**. Триста тысяч дней это **больше девятиста лет!**. Сомнительное значение для стажа. Попробуем поделить это значение еще на 24 часа: 900 / 24 = ~37.5 - это значение выглядит куда более правдаподобно, учитывая, что почти все у кого стаж записан в таком формате - пенсионеры, а значит и стаж у них большой. \n",
    "Решено - положительные значения пересчитываем в днях."
   ]
  },
  {
   "cell_type": "code",
   "execution_count": 29,
   "metadata": {},
   "outputs": [
    {
     "data": {
      "text/html": [
       "<div>\n",
       "<style scoped>\n",
       "    .dataframe tbody tr th:only-of-type {\n",
       "        vertical-align: middle;\n",
       "    }\n",
       "\n",
       "    .dataframe tbody tr th {\n",
       "        vertical-align: top;\n",
       "    }\n",
       "\n",
       "    .dataframe thead th {\n",
       "        text-align: right;\n",
       "    }\n",
       "</style>\n",
       "<table border=\"1\" class=\"dataframe\">\n",
       "  <thead>\n",
       "    <tr style=\"text-align: right;\">\n",
       "      <th></th>\n",
       "      <th>children</th>\n",
       "      <th>days_employed</th>\n",
       "      <th>dob_years</th>\n",
       "      <th>education</th>\n",
       "      <th>education_id</th>\n",
       "      <th>family_status</th>\n",
       "      <th>family_status_id</th>\n",
       "      <th>gender</th>\n",
       "      <th>income_type</th>\n",
       "      <th>debt</th>\n",
       "      <th>total_income</th>\n",
       "      <th>purpose</th>\n",
       "    </tr>\n",
       "  </thead>\n",
       "  <tbody>\n",
       "    <tr>\n",
       "      <th>0</th>\n",
       "      <td>1</td>\n",
       "      <td>-8437.673028</td>\n",
       "      <td>42</td>\n",
       "      <td>высшее</td>\n",
       "      <td>0</td>\n",
       "      <td>женат / замужем</td>\n",
       "      <td>0</td>\n",
       "      <td>F</td>\n",
       "      <td>сотрудник</td>\n",
       "      <td>0</td>\n",
       "      <td>253875.639453</td>\n",
       "      <td>покупка жилья</td>\n",
       "    </tr>\n",
       "    <tr>\n",
       "      <th>1</th>\n",
       "      <td>1</td>\n",
       "      <td>-4024.803754</td>\n",
       "      <td>36</td>\n",
       "      <td>среднее</td>\n",
       "      <td>1</td>\n",
       "      <td>женат / замужем</td>\n",
       "      <td>0</td>\n",
       "      <td>F</td>\n",
       "      <td>сотрудник</td>\n",
       "      <td>0</td>\n",
       "      <td>112080.014102</td>\n",
       "      <td>приобретение автомобиля</td>\n",
       "    </tr>\n",
       "    <tr>\n",
       "      <th>2</th>\n",
       "      <td>0</td>\n",
       "      <td>-5623.422610</td>\n",
       "      <td>33</td>\n",
       "      <td>Среднее</td>\n",
       "      <td>1</td>\n",
       "      <td>женат / замужем</td>\n",
       "      <td>0</td>\n",
       "      <td>M</td>\n",
       "      <td>сотрудник</td>\n",
       "      <td>0</td>\n",
       "      <td>145885.952297</td>\n",
       "      <td>покупка жилья</td>\n",
       "    </tr>\n",
       "    <tr>\n",
       "      <th>3</th>\n",
       "      <td>3</td>\n",
       "      <td>-4124.747207</td>\n",
       "      <td>32</td>\n",
       "      <td>среднее</td>\n",
       "      <td>1</td>\n",
       "      <td>женат / замужем</td>\n",
       "      <td>0</td>\n",
       "      <td>M</td>\n",
       "      <td>сотрудник</td>\n",
       "      <td>0</td>\n",
       "      <td>267628.550329</td>\n",
       "      <td>дополнительное образование</td>\n",
       "    </tr>\n",
       "    <tr>\n",
       "      <th>4</th>\n",
       "      <td>0</td>\n",
       "      <td>14177.753002</td>\n",
       "      <td>53</td>\n",
       "      <td>среднее</td>\n",
       "      <td>1</td>\n",
       "      <td>гражданский брак</td>\n",
       "      <td>1</td>\n",
       "      <td>F</td>\n",
       "      <td>пенсионер</td>\n",
       "      <td>0</td>\n",
       "      <td>158616.077870</td>\n",
       "      <td>сыграть свадьбу</td>\n",
       "    </tr>\n",
       "    <tr>\n",
       "      <th>...</th>\n",
       "      <td>...</td>\n",
       "      <td>...</td>\n",
       "      <td>...</td>\n",
       "      <td>...</td>\n",
       "      <td>...</td>\n",
       "      <td>...</td>\n",
       "      <td>...</td>\n",
       "      <td>...</td>\n",
       "      <td>...</td>\n",
       "      <td>...</td>\n",
       "      <td>...</td>\n",
       "      <td>...</td>\n",
       "    </tr>\n",
       "    <tr>\n",
       "      <th>21520</th>\n",
       "      <td>1</td>\n",
       "      <td>-4529.316663</td>\n",
       "      <td>43</td>\n",
       "      <td>среднее</td>\n",
       "      <td>1</td>\n",
       "      <td>гражданский брак</td>\n",
       "      <td>1</td>\n",
       "      <td>F</td>\n",
       "      <td>компаньон</td>\n",
       "      <td>0</td>\n",
       "      <td>224791.862382</td>\n",
       "      <td>операции с жильем</td>\n",
       "    </tr>\n",
       "    <tr>\n",
       "      <th>21521</th>\n",
       "      <td>0</td>\n",
       "      <td>14330.725172</td>\n",
       "      <td>67</td>\n",
       "      <td>среднее</td>\n",
       "      <td>1</td>\n",
       "      <td>женат / замужем</td>\n",
       "      <td>0</td>\n",
       "      <td>F</td>\n",
       "      <td>пенсионер</td>\n",
       "      <td>0</td>\n",
       "      <td>155999.806512</td>\n",
       "      <td>сделка с автомобилем</td>\n",
       "    </tr>\n",
       "    <tr>\n",
       "      <th>21522</th>\n",
       "      <td>1</td>\n",
       "      <td>-2113.346888</td>\n",
       "      <td>38</td>\n",
       "      <td>среднее</td>\n",
       "      <td>1</td>\n",
       "      <td>гражданский брак</td>\n",
       "      <td>1</td>\n",
       "      <td>M</td>\n",
       "      <td>сотрудник</td>\n",
       "      <td>1</td>\n",
       "      <td>89672.561153</td>\n",
       "      <td>недвижимость</td>\n",
       "    </tr>\n",
       "    <tr>\n",
       "      <th>21523</th>\n",
       "      <td>3</td>\n",
       "      <td>-3112.481705</td>\n",
       "      <td>38</td>\n",
       "      <td>среднее</td>\n",
       "      <td>1</td>\n",
       "      <td>женат / замужем</td>\n",
       "      <td>0</td>\n",
       "      <td>M</td>\n",
       "      <td>сотрудник</td>\n",
       "      <td>1</td>\n",
       "      <td>244093.050500</td>\n",
       "      <td>на покупку своего автомобиля</td>\n",
       "    </tr>\n",
       "    <tr>\n",
       "      <th>21524</th>\n",
       "      <td>2</td>\n",
       "      <td>-1984.507589</td>\n",
       "      <td>40</td>\n",
       "      <td>среднее</td>\n",
       "      <td>1</td>\n",
       "      <td>женат / замужем</td>\n",
       "      <td>0</td>\n",
       "      <td>F</td>\n",
       "      <td>сотрудник</td>\n",
       "      <td>0</td>\n",
       "      <td>82047.418899</td>\n",
       "      <td>на покупку автомобиля</td>\n",
       "    </tr>\n",
       "  </tbody>\n",
       "</table>\n",
       "<p>21524 rows × 12 columns</p>\n",
       "</div>"
      ],
      "text/plain": [
       "       children  days_employed  dob_years education  education_id  \\\n",
       "0             1   -8437.673028         42    высшее             0   \n",
       "1             1   -4024.803754         36   среднее             1   \n",
       "2             0   -5623.422610         33   Среднее             1   \n",
       "3             3   -4124.747207         32   среднее             1   \n",
       "4             0   14177.753002         53   среднее             1   \n",
       "...         ...            ...        ...       ...           ...   \n",
       "21520         1   -4529.316663         43   среднее             1   \n",
       "21521         0   14330.725172         67   среднее             1   \n",
       "21522         1   -2113.346888         38   среднее             1   \n",
       "21523         3   -3112.481705         38   среднее             1   \n",
       "21524         2   -1984.507589         40   среднее             1   \n",
       "\n",
       "          family_status  family_status_id gender income_type  debt  \\\n",
       "0       женат / замужем                 0      F   сотрудник     0   \n",
       "1       женат / замужем                 0      F   сотрудник     0   \n",
       "2       женат / замужем                 0      M   сотрудник     0   \n",
       "3       женат / замужем                 0      M   сотрудник     0   \n",
       "4      гражданский брак                 1      F   пенсионер     0   \n",
       "...                 ...               ...    ...         ...   ...   \n",
       "21520  гражданский брак                 1      F   компаньон     0   \n",
       "21521   женат / замужем                 0      F   пенсионер     0   \n",
       "21522  гражданский брак                 1      M   сотрудник     1   \n",
       "21523   женат / замужем                 0      M   сотрудник     1   \n",
       "21524   женат / замужем                 0      F   сотрудник     0   \n",
       "\n",
       "        total_income                       purpose  \n",
       "0      253875.639453                 покупка жилья  \n",
       "1      112080.014102       приобретение автомобиля  \n",
       "2      145885.952297                 покупка жилья  \n",
       "3      267628.550329    дополнительное образование  \n",
       "4      158616.077870               сыграть свадьбу  \n",
       "...              ...                           ...  \n",
       "21520  224791.862382             операции с жильем  \n",
       "21521  155999.806512          сделка с автомобилем  \n",
       "21522   89672.561153                  недвижимость  \n",
       "21523  244093.050500  на покупку своего автомобиля  \n",
       "21524   82047.418899         на покупку автомобиля  \n",
       "\n",
       "[21524 rows x 12 columns]"
      ]
     },
     "metadata": {},
     "output_type": "display_data"
    }
   ],
   "source": [
    "def days_empl_to_days(row):\n",
    "    if row['days_employed'] > 0:\n",
    "        return row['days_employed'] / 24\n",
    "    return row['days_employed']\n",
    "\n",
    "start_data['days_employed'] = start_data.apply(days_empl_to_days, axis=1)\n",
    "display(start_data)"
   ]
  },
  {
   "cell_type": "markdown",
   "metadata": {},
   "source": [
    "Теперь можно заняться заполнением пропусков. Для количественных данных лучше всего подходит метод замены на характерные значения. Для нашей задачи лучше всего подойдет замена на медиану. Пропущенные значения у нас остались в столбцах `days_employed` и `total_income`. Начнем с первого. Для него медиану стоит счиать по группам, составленным на основании возраста.\n",
    "Но у нас в столбце `days_employed` остались отрицательные значения. Разберемся сначала с этой проблеммой применив метод `.abs()`, который возвращает модуль значения."
   ]
  },
  {
   "cell_type": "code",
   "execution_count": 30,
   "metadata": {},
   "outputs": [
    {
     "data": {
      "text/html": [
       "<div>\n",
       "<style scoped>\n",
       "    .dataframe tbody tr th:only-of-type {\n",
       "        vertical-align: middle;\n",
       "    }\n",
       "\n",
       "    .dataframe tbody tr th {\n",
       "        vertical-align: top;\n",
       "    }\n",
       "\n",
       "    .dataframe thead th {\n",
       "        text-align: right;\n",
       "    }\n",
       "</style>\n",
       "<table border=\"1\" class=\"dataframe\">\n",
       "  <thead>\n",
       "    <tr style=\"text-align: right;\">\n",
       "      <th></th>\n",
       "      <th>children</th>\n",
       "      <th>days_employed</th>\n",
       "      <th>dob_years</th>\n",
       "      <th>education</th>\n",
       "      <th>education_id</th>\n",
       "      <th>family_status</th>\n",
       "      <th>family_status_id</th>\n",
       "      <th>gender</th>\n",
       "      <th>income_type</th>\n",
       "      <th>debt</th>\n",
       "      <th>total_income</th>\n",
       "      <th>purpose</th>\n",
       "    </tr>\n",
       "  </thead>\n",
       "  <tbody>\n",
       "    <tr>\n",
       "      <th>0</th>\n",
       "      <td>1</td>\n",
       "      <td>8437.673028</td>\n",
       "      <td>42</td>\n",
       "      <td>высшее</td>\n",
       "      <td>0</td>\n",
       "      <td>женат / замужем</td>\n",
       "      <td>0</td>\n",
       "      <td>F</td>\n",
       "      <td>сотрудник</td>\n",
       "      <td>0</td>\n",
       "      <td>253875.639453</td>\n",
       "      <td>покупка жилья</td>\n",
       "    </tr>\n",
       "    <tr>\n",
       "      <th>1</th>\n",
       "      <td>1</td>\n",
       "      <td>4024.803754</td>\n",
       "      <td>36</td>\n",
       "      <td>среднее</td>\n",
       "      <td>1</td>\n",
       "      <td>женат / замужем</td>\n",
       "      <td>0</td>\n",
       "      <td>F</td>\n",
       "      <td>сотрудник</td>\n",
       "      <td>0</td>\n",
       "      <td>112080.014102</td>\n",
       "      <td>приобретение автомобиля</td>\n",
       "    </tr>\n",
       "    <tr>\n",
       "      <th>2</th>\n",
       "      <td>0</td>\n",
       "      <td>5623.422610</td>\n",
       "      <td>33</td>\n",
       "      <td>Среднее</td>\n",
       "      <td>1</td>\n",
       "      <td>женат / замужем</td>\n",
       "      <td>0</td>\n",
       "      <td>M</td>\n",
       "      <td>сотрудник</td>\n",
       "      <td>0</td>\n",
       "      <td>145885.952297</td>\n",
       "      <td>покупка жилья</td>\n",
       "    </tr>\n",
       "    <tr>\n",
       "      <th>3</th>\n",
       "      <td>3</td>\n",
       "      <td>4124.747207</td>\n",
       "      <td>32</td>\n",
       "      <td>среднее</td>\n",
       "      <td>1</td>\n",
       "      <td>женат / замужем</td>\n",
       "      <td>0</td>\n",
       "      <td>M</td>\n",
       "      <td>сотрудник</td>\n",
       "      <td>0</td>\n",
       "      <td>267628.550329</td>\n",
       "      <td>дополнительное образование</td>\n",
       "    </tr>\n",
       "    <tr>\n",
       "      <th>4</th>\n",
       "      <td>0</td>\n",
       "      <td>14177.753002</td>\n",
       "      <td>53</td>\n",
       "      <td>среднее</td>\n",
       "      <td>1</td>\n",
       "      <td>гражданский брак</td>\n",
       "      <td>1</td>\n",
       "      <td>F</td>\n",
       "      <td>пенсионер</td>\n",
       "      <td>0</td>\n",
       "      <td>158616.077870</td>\n",
       "      <td>сыграть свадьбу</td>\n",
       "    </tr>\n",
       "  </tbody>\n",
       "</table>\n",
       "</div>"
      ],
      "text/plain": [
       "   children  days_employed  dob_years education  education_id  \\\n",
       "0         1    8437.673028         42    высшее             0   \n",
       "1         1    4024.803754         36   среднее             1   \n",
       "2         0    5623.422610         33   Среднее             1   \n",
       "3         3    4124.747207         32   среднее             1   \n",
       "4         0   14177.753002         53   среднее             1   \n",
       "\n",
       "      family_status  family_status_id gender income_type  debt   total_income  \\\n",
       "0   женат / замужем                 0      F   сотрудник     0  253875.639453   \n",
       "1   женат / замужем                 0      F   сотрудник     0  112080.014102   \n",
       "2   женат / замужем                 0      M   сотрудник     0  145885.952297   \n",
       "3   женат / замужем                 0      M   сотрудник     0  267628.550329   \n",
       "4  гражданский брак                 1      F   пенсионер     0  158616.077870   \n",
       "\n",
       "                      purpose  \n",
       "0               покупка жилья  \n",
       "1     приобретение автомобиля  \n",
       "2               покупка жилья  \n",
       "3  дополнительное образование  \n",
       "4             сыграть свадьбу  "
      ]
     },
     "metadata": {},
     "output_type": "display_data"
    }
   ],
   "source": [
    "start_data['days_employed'] = start_data['days_employed'].abs()\n",
    "display(start_data.head())"
   ]
  },
  {
   "cell_type": "markdown",
   "metadata": {},
   "source": [
    "Теперь можно сформировать группы по возрасту и посчитать для них медиану. У нас будут следующие группы:\n",
    "- 18-25 лет - начинающие карьеру\n",
    "- 26-35 лет - рассвет\n",
    "- 36-45 лет - профессионалы\n",
    "- 46-55 лет - наставники\n",
    "- \\>56 лет - пенсионеры"
   ]
  },
  {
   "cell_type": "code",
   "execution_count": 31,
   "metadata": {},
   "outputs": [
    {
     "name": "stdout",
     "output_type": "stream",
     "text": [
      "{'профессионалы': 1907.9660088950259, 'рассвет': 1350.995299700644, 'наставники': 2885.1421882674586, 'пенсионеры': 14500.395455276399, 'начинающие карьеру': 797.2877345379686}\n",
      "<class 'pandas.core.frame.DataFrame'>\n",
      "Int64Index: 21524 entries, 0 to 21524\n",
      "Data columns (total 13 columns):\n",
      " #   Column            Non-Null Count  Dtype  \n",
      "---  ------            --------------  -----  \n",
      " 0   children          21524 non-null  int64  \n",
      " 1   days_employed     21524 non-null  object \n",
      " 2   dob_years         21524 non-null  int64  \n",
      " 3   education         21524 non-null  object \n",
      " 4   education_id      21524 non-null  int64  \n",
      " 5   family_status     21524 non-null  object \n",
      " 6   family_status_id  21524 non-null  int64  \n",
      " 7   gender            21524 non-null  object \n",
      " 8   income_type       21524 non-null  object \n",
      " 9   debt              21524 non-null  int64  \n",
      " 10  total_income      19350 non-null  float64\n",
      " 11  purpose           21524 non-null  object \n",
      " 12  experience        21524 non-null  object \n",
      "dtypes: float64(1), int64(5), object(7)\n",
      "memory usage: 2.3+ MB\n",
      "None\n",
      "<class 'pandas.core.frame.DataFrame'>\n",
      "Int64Index: 21524 entries, 0 to 21524\n",
      "Data columns (total 13 columns):\n",
      " #   Column            Non-Null Count  Dtype  \n",
      "---  ------            --------------  -----  \n",
      " 0   children          21524 non-null  int64  \n",
      " 1   days_employed     21524 non-null  float64\n",
      " 2   dob_years         21524 non-null  int64  \n",
      " 3   education         21524 non-null  object \n",
      " 4   education_id      21524 non-null  int64  \n",
      " 5   family_status     21524 non-null  object \n",
      " 6   family_status_id  21524 non-null  int64  \n",
      " 7   gender            21524 non-null  object \n",
      " 8   income_type       21524 non-null  object \n",
      " 9   debt              21524 non-null  int64  \n",
      " 10  total_income      19350 non-null  float64\n",
      " 11  purpose           21524 non-null  object \n",
      " 12  experience        21524 non-null  object \n",
      "dtypes: float64(2), int64(5), object(6)\n",
      "memory usage: 2.3+ MB\n",
      "None\n"
     ]
    }
   ],
   "source": [
    "def grouping_by_experience(row): #функция для группировки значений по возрасту\n",
    "    if row['dob_years'] <=25:\n",
    "        return 'начинающие карьеру'\n",
    "    elif row['dob_years'] <=35:\n",
    "        return 'рассвет'\n",
    "    elif row['dob_years'] <=45:\n",
    "        return 'профессионалы'\n",
    "    elif row['dob_years'] <=55:\n",
    "        return 'наставники'\n",
    "    return 'пенсионеры'\n",
    "\n",
    "def median_by_experience(row):\n",
    "    if row['days_employed'] == 'dummy_value':\n",
    "        mediana = medians_by_age[row['experience']]\n",
    "        return mediana\n",
    "    return row['days_employed']\n",
    "\n",
    "start_data['experience'] = start_data.apply(grouping_by_experience, axis=1) #создаем новый столбец со значениями группировки по возрасту\n",
    "\n",
    "#создадим словарь и запеишем в него значения вида (группа : медиана для этой группы)\n",
    "medians_by_age = {}\n",
    "for i in list(start_data['experience'].unique()):\n",
    "    medians_by_age[i] = start_data.loc[start_data.loc[:,'experience'] == i]['days_employed'].sort_values(ascending=False).median()\n",
    "print(medians_by_age)\n",
    "\n",
    "start_data['days_employed'].fillna('dummy_value', inplace=True) #заполним все пропущеные значения строкой 'dummy_value'\n",
    "print(start_data.info()) #Посмотрим, что теперь столбец `days_employed` содержит тип данных object, так как там есть и значения float и str\n",
    "\n",
    "start_data['days_employed'] = start_data.apply(median_by_experience, axis=1) #применим нашу функцию, чтобы заменить все 'dummy_value' на медианы согласно категориям\n",
    "print(start_data.info()) #Теперь мы увидим что все значения в столбце имеют тип float, значит наша замена удалась"
   ]
  },
  {
   "cell_type": "markdown",
   "metadata": {},
   "source": [
    "Наконец все пропущенные значения в столбце `days_employed` заменены на медианные значения согласно возврастным группам. \n",
    "\n",
    "Теперь нам необходимо обработать пропущенные значения в столбце `total_income`. Действовать будем аналогично предыдущему блоку кода, только группировать значения будем по столбцу `income_type`. "
   ]
  },
  {
   "cell_type": "code",
   "execution_count": 32,
   "metadata": {},
   "outputs": [
    {
     "data": {
      "text/plain": [
       "income_type\n",
       "безработный        131339.751676\n",
       "в декрете           53829.130729\n",
       "госслужащий        150447.935283\n",
       "компаньон          172319.266339\n",
       "пенсионер          118514.486412\n",
       "предприниматель    499163.144947\n",
       "сотрудник          142594.396847\n",
       "студент             98201.625314\n",
       "Name: total_income, dtype: float64"
      ]
     },
     "execution_count": 32,
     "metadata": {},
     "output_type": "execute_result"
    }
   ],
   "source": [
    "group_income = start_data.groupby('income_type')['total_income'].median()\n",
    "group_income"
   ]
  },
  {
   "cell_type": "code",
   "execution_count": 33,
   "metadata": {},
   "outputs": [],
   "source": [
    "for i in group_income.index:\n",
    "    start_data.loc[(start_data['income_type'] == i) & (start_data['total_income'].isnull()), 'total_income'] = group_income[i]"
   ]
  },
  {
   "cell_type": "markdown",
   "metadata": {},
   "source": [
    "Чтобы не оставлять на потом, давайте еще введем категории для уровня заработка. Для имеющихся данных лучше всего подойдет разбиение групп основываясь на квартилях:\n",
    "- все что до 1 квартиля (25%) — низкий доход\n",
    "- между 1 квартилью и мединой (2 квартиль) — средний доход\n",
    "- от медианы до 3 квартиля (25%) — выше среднего\n",
    "- все что дальше 3 квартиля — высокий доход.\n",
    "\n",
    "Посмотрим на квартили:"
   ]
  },
  {
   "cell_type": "code",
   "execution_count": 34,
   "metadata": {
    "scrolled": true
   },
   "outputs": [
    {
     "name": "stdout",
     "output_type": "stream",
     "text": [
      "0.25    107795.976532\n",
      "0.50    142594.396847\n",
      "0.75    195545.200922\n",
      "Name: total_income, dtype: float64\n"
     ]
    }
   ],
   "source": [
    "print(start_data['total_income'].quantile([0.25,0.5,0.75]))"
   ]
  },
  {
   "cell_type": "code",
   "execution_count": 35,
   "metadata": {},
   "outputs": [],
   "source": [
    "def total_income_change(total_income):        \n",
    "    if total_income < start_data['total_income'].quantile(0.25):\n",
    "        return 'низкий доход'\n",
    "    if start_data['total_income'].quantile(0.25) <= total_income < start_data['total_income'].quantile(0.5):\n",
    "        return 'средний доход'\n",
    "    if start_data['total_income'].quantile(0.5) <= total_income < start_data['total_income'].quantile(0.75) :\n",
    "        return 'выше среднего'\n",
    "    return 'высокий доход'\n",
    "\n",
    "start_data['total_income_new'] = start_data['total_income'].apply(total_income_change)"
   ]
  },
  {
   "cell_type": "code",
   "execution_count": 36,
   "metadata": {},
   "outputs": [
    {
     "name": "stdout",
     "output_type": "stream",
     "text": [
      "<class 'pandas.core.frame.DataFrame'>\n",
      "Int64Index: 21524 entries, 0 to 21524\n",
      "Data columns (total 14 columns):\n",
      " #   Column            Non-Null Count  Dtype  \n",
      "---  ------            --------------  -----  \n",
      " 0   children          21524 non-null  int64  \n",
      " 1   days_employed     21524 non-null  float64\n",
      " 2   dob_years         21524 non-null  int64  \n",
      " 3   education         21524 non-null  object \n",
      " 4   education_id      21524 non-null  int64  \n",
      " 5   family_status     21524 non-null  object \n",
      " 6   family_status_id  21524 non-null  int64  \n",
      " 7   gender            21524 non-null  object \n",
      " 8   income_type       21524 non-null  object \n",
      " 9   debt              21524 non-null  int64  \n",
      " 10  total_income      21524 non-null  float64\n",
      " 11  purpose           21524 non-null  object \n",
      " 12  experience        21524 non-null  object \n",
      " 13  total_income_new  21524 non-null  object \n",
      "dtypes: float64(2), int64(5), object(7)\n",
      "memory usage: 2.5+ MB\n"
     ]
    }
   ],
   "source": [
    "start_data.info()"
   ]
  },
  {
   "cell_type": "markdown",
   "metadata": {},
   "source": [
    "#### Вывод"
   ]
  },
  {
   "cell_type": "markdown",
   "metadata": {},
   "source": [
    "Все пропущенные значения относятся к столбцам с количественными переменными. \n",
    "Вероятнее всего во время сбора данных информация была не предоставлена или не внесена в базу.\n",
    "Для обработки таких пропусков хорошо подходит метод подстановки характерных значений на места пропусков. \n",
    "Чтобы снизить влияние такой подстановки на результат анализа заменим пропущенные значения на медиану \n",
    "имеющихся в колонке значений, и для ее поиска воспользуемся методом **.median()**. Чтобы расчет был более честным, медиану мы будем искать по группам.\n",
    "Но перед этим необходимо избывиться от отрицательных значений в столбце `days_employed` (которые тоже очевидно являются ошибкой ввода), чтобы правильно посчитать медиану. Метод **.abs()** - наш выбор!\n",
    "\n",
    "После обработки наших данных у нас не осталось пропущенных значений, мы заменили их на медианы посчитанные для групп с примерно одинаковыми признаками. Теперь мы можем продолжить работу с таблицей."
   ]
  },
  {
   "cell_type": "markdown",
   "metadata": {},
   "source": [
    "### Замена типа данных "
   ]
  },
  {
   "cell_type": "markdown",
   "metadata": {},
   "source": [
    "Количество дней из колонки `days_employed` и общий доход из `total_income` надо привести к типу int64, так как количество дней проработанных человеком врядли может быть дробным числом, а отбрасывание копеек в зарплате упростит нам работу с таблицей и не повлияет на результат. Для изменения типов используем метод **.astype()**. Передадим ему в качестве аргумента словарь, где ключи это названия столбцов, а значения - тип, к которому мы хотим привести данные."
   ]
  },
  {
   "cell_type": "code",
   "execution_count": 37,
   "metadata": {
    "scrolled": false
   },
   "outputs": [
    {
     "data": {
      "text/html": [
       "<div>\n",
       "<style scoped>\n",
       "    .dataframe tbody tr th:only-of-type {\n",
       "        vertical-align: middle;\n",
       "    }\n",
       "\n",
       "    .dataframe tbody tr th {\n",
       "        vertical-align: top;\n",
       "    }\n",
       "\n",
       "    .dataframe thead th {\n",
       "        text-align: right;\n",
       "    }\n",
       "</style>\n",
       "<table border=\"1\" class=\"dataframe\">\n",
       "  <thead>\n",
       "    <tr style=\"text-align: right;\">\n",
       "      <th></th>\n",
       "      <th>children</th>\n",
       "      <th>days_employed</th>\n",
       "      <th>dob_years</th>\n",
       "      <th>education</th>\n",
       "      <th>education_id</th>\n",
       "      <th>family_status</th>\n",
       "      <th>family_status_id</th>\n",
       "      <th>gender</th>\n",
       "      <th>income_type</th>\n",
       "      <th>debt</th>\n",
       "      <th>total_income</th>\n",
       "      <th>purpose</th>\n",
       "      <th>experience</th>\n",
       "      <th>total_income_new</th>\n",
       "    </tr>\n",
       "  </thead>\n",
       "  <tbody>\n",
       "    <tr>\n",
       "      <th>0</th>\n",
       "      <td>1</td>\n",
       "      <td>8437</td>\n",
       "      <td>42</td>\n",
       "      <td>высшее</td>\n",
       "      <td>0</td>\n",
       "      <td>женат / замужем</td>\n",
       "      <td>0</td>\n",
       "      <td>F</td>\n",
       "      <td>сотрудник</td>\n",
       "      <td>0</td>\n",
       "      <td>253875</td>\n",
       "      <td>покупка жилья</td>\n",
       "      <td>профессионалы</td>\n",
       "      <td>высокий доход</td>\n",
       "    </tr>\n",
       "    <tr>\n",
       "      <th>1</th>\n",
       "      <td>1</td>\n",
       "      <td>4024</td>\n",
       "      <td>36</td>\n",
       "      <td>среднее</td>\n",
       "      <td>1</td>\n",
       "      <td>женат / замужем</td>\n",
       "      <td>0</td>\n",
       "      <td>F</td>\n",
       "      <td>сотрудник</td>\n",
       "      <td>0</td>\n",
       "      <td>112080</td>\n",
       "      <td>приобретение автомобиля</td>\n",
       "      <td>профессионалы</td>\n",
       "      <td>средний доход</td>\n",
       "    </tr>\n",
       "    <tr>\n",
       "      <th>2</th>\n",
       "      <td>0</td>\n",
       "      <td>5623</td>\n",
       "      <td>33</td>\n",
       "      <td>Среднее</td>\n",
       "      <td>1</td>\n",
       "      <td>женат / замужем</td>\n",
       "      <td>0</td>\n",
       "      <td>M</td>\n",
       "      <td>сотрудник</td>\n",
       "      <td>0</td>\n",
       "      <td>145885</td>\n",
       "      <td>покупка жилья</td>\n",
       "      <td>рассвет</td>\n",
       "      <td>выше среднего</td>\n",
       "    </tr>\n",
       "    <tr>\n",
       "      <th>3</th>\n",
       "      <td>3</td>\n",
       "      <td>4124</td>\n",
       "      <td>32</td>\n",
       "      <td>среднее</td>\n",
       "      <td>1</td>\n",
       "      <td>женат / замужем</td>\n",
       "      <td>0</td>\n",
       "      <td>M</td>\n",
       "      <td>сотрудник</td>\n",
       "      <td>0</td>\n",
       "      <td>267628</td>\n",
       "      <td>дополнительное образование</td>\n",
       "      <td>рассвет</td>\n",
       "      <td>высокий доход</td>\n",
       "    </tr>\n",
       "    <tr>\n",
       "      <th>4</th>\n",
       "      <td>0</td>\n",
       "      <td>14177</td>\n",
       "      <td>53</td>\n",
       "      <td>среднее</td>\n",
       "      <td>1</td>\n",
       "      <td>гражданский брак</td>\n",
       "      <td>1</td>\n",
       "      <td>F</td>\n",
       "      <td>пенсионер</td>\n",
       "      <td>0</td>\n",
       "      <td>158616</td>\n",
       "      <td>сыграть свадьбу</td>\n",
       "      <td>наставники</td>\n",
       "      <td>выше среднего</td>\n",
       "    </tr>\n",
       "  </tbody>\n",
       "</table>\n",
       "</div>"
      ],
      "text/plain": [
       "   children  days_employed  dob_years education  education_id  \\\n",
       "0         1           8437         42    высшее             0   \n",
       "1         1           4024         36   среднее             1   \n",
       "2         0           5623         33   Среднее             1   \n",
       "3         3           4124         32   среднее             1   \n",
       "4         0          14177         53   среднее             1   \n",
       "\n",
       "      family_status  family_status_id gender income_type  debt  total_income  \\\n",
       "0   женат / замужем                 0      F   сотрудник     0        253875   \n",
       "1   женат / замужем                 0      F   сотрудник     0        112080   \n",
       "2   женат / замужем                 0      M   сотрудник     0        145885   \n",
       "3   женат / замужем                 0      M   сотрудник     0        267628   \n",
       "4  гражданский брак                 1      F   пенсионер     0        158616   \n",
       "\n",
       "                      purpose     experience total_income_new  \n",
       "0               покупка жилья  профессионалы    высокий доход  \n",
       "1     приобретение автомобиля  профессионалы    средний доход  \n",
       "2               покупка жилья        рассвет    выше среднего  \n",
       "3  дополнительное образование        рассвет    высокий доход  \n",
       "4             сыграть свадьбу     наставники    выше среднего  "
      ]
     },
     "metadata": {},
     "output_type": "display_data"
    },
    {
     "name": "stdout",
     "output_type": "stream",
     "text": [
      "<class 'pandas.core.frame.DataFrame'>\n",
      "Int64Index: 21524 entries, 0 to 21524\n",
      "Data columns (total 14 columns):\n",
      " #   Column            Non-Null Count  Dtype \n",
      "---  ------            --------------  ----- \n",
      " 0   children          21524 non-null  int64 \n",
      " 1   days_employed     21524 non-null  int32 \n",
      " 2   dob_years         21524 non-null  int64 \n",
      " 3   education         21524 non-null  object\n",
      " 4   education_id      21524 non-null  int64 \n",
      " 5   family_status     21524 non-null  object\n",
      " 6   family_status_id  21524 non-null  int64 \n",
      " 7   gender            21524 non-null  object\n",
      " 8   income_type       21524 non-null  object\n",
      " 9   debt              21524 non-null  int64 \n",
      " 10  total_income      21524 non-null  int32 \n",
      " 11  purpose           21524 non-null  object\n",
      " 12  experience        21524 non-null  object\n",
      " 13  total_income_new  21524 non-null  object\n",
      "dtypes: int32(2), int64(5), object(7)\n",
      "memory usage: 2.3+ MB\n",
      "None\n"
     ]
    }
   ],
   "source": [
    "start_data['days_employed'] = start_data['days_employed'].astype(int)\n",
    "start_data = start_data.astype({\"days_employed\": int, \"total_income\": int})\n",
    "display(start_data.head())\n",
    "print(start_data.info())"
   ]
  },
  {
   "cell_type": "markdown",
   "metadata": {},
   "source": [
    "### Обработка дубликатов <a class=\"anchor\" id=\"fourth-bullet\"></a>"
   ]
  },
  {
   "cell_type": "markdown",
   "metadata": {},
   "source": [
    "Перед обработкой дубликатов нам необходимо разобраться с данными в столбце `education`. Но перед этим посмотрим сколько дубликатов в наших данных на данный момент."
   ]
  },
  {
   "cell_type": "code",
   "execution_count": 38,
   "metadata": {},
   "outputs": [
    {
     "data": {
      "text/plain": [
       "55"
      ]
     },
     "execution_count": 38,
     "metadata": {},
     "output_type": "execute_result"
    }
   ],
   "source": [
    "start_data.duplicated().sum()"
   ]
  },
  {
   "cell_type": "code",
   "execution_count": 39,
   "metadata": {},
   "outputs": [
    {
     "name": "stdout",
     "output_type": "stream",
     "text": [
      "Уникальные значения в столбце \"education\":  ['высшее' 'среднее' 'Среднее' 'СРЕДНЕЕ' 'ВЫСШЕЕ' 'неоконченное высшее'\n",
      " 'начальное' 'Высшее' 'НЕОКОНЧЕННОЕ ВЫСШЕЕ' 'Неоконченное высшее'\n",
      " 'НАЧАЛЬНОЕ' 'Начальное' 'Ученая степень' 'УЧЕНАЯ СТЕПЕНЬ'\n",
      " 'ученая степень']\n"
     ]
    }
   ],
   "source": [
    "print('Уникальные значения в столбце \"education\": ', start_data['education'].unique())"
   ]
  },
  {
   "cell_type": "markdown",
   "metadata": {},
   "source": [
    "Как мы видим кто-то из заполнявших данные считает, что лишь ВЫСШЕЕ образование достойно заглавных букв, а кто-то наоборот делает упор на среднее. Исправим это неравноправие приведением всех значений к нижнему регистру."
   ]
  },
  {
   "cell_type": "code",
   "execution_count": 40,
   "metadata": {},
   "outputs": [],
   "source": [
    "start_data['education'] = start_data['education'].str.lower()"
   ]
  },
  {
   "cell_type": "markdown",
   "metadata": {},
   "source": [
    "Проверим сколько теперь уникальных значений содержится в этом столбце"
   ]
  },
  {
   "cell_type": "code",
   "execution_count": 41,
   "metadata": {},
   "outputs": [
    {
     "name": "stdout",
     "output_type": "stream",
     "text": [
      "Уникальные значения в столбце \"education\":  ['высшее' 'среднее' 'неоконченное высшее' 'начальное' 'ученая степень']\n"
     ]
    }
   ],
   "source": [
    "print('Уникальные значения в столбце \"education\": ', start_data['education'].unique())"
   ]
  },
  {
   "cell_type": "markdown",
   "metadata": {},
   "source": [
    "Теперь когда у нас любое образование ценится одинаково проверим сколько в таблице \"грубых повторов\""
   ]
  },
  {
   "cell_type": "code",
   "execution_count": 42,
   "metadata": {},
   "outputs": [
    {
     "name": "stdout",
     "output_type": "stream",
     "text": [
      "В таблице содержится 72 \"грубых\" повторов\n"
     ]
    }
   ],
   "source": [
    "print('В таблице содержится {} \"грубых\" повторов'.format(start_data.duplicated().sum()))"
   ]
  },
  {
   "cell_type": "markdown",
   "metadata": {},
   "source": [
    "Не так уж и много. Можно смело от них избавляться"
   ]
  },
  {
   "cell_type": "code",
   "execution_count": 43,
   "metadata": {},
   "outputs": [
    {
     "name": "stdout",
     "output_type": "stream",
     "text": [
      "После применения метода .drop_duplicates() осталось 0 \"грубых\" повторов\n"
     ]
    }
   ],
   "source": [
    "start_data = start_data.drop_duplicates().reset_index(drop=True)\n",
    "print('После применения метода .drop_duplicates() осталось {} \"грубых\" повторов'.format(start_data.duplicated().sum()))"
   ]
  },
  {
   "cell_type": "markdown",
   "metadata": {},
   "source": [
    "#### Вывод"
   ]
  },
  {
   "cell_type": "markdown",
   "metadata": {},
   "source": [
    "Перед тем как удалять повторы мы убедились, что во всех столбцах у нас нет разночтения регистров, которое могло возникнуть при введении данных, их загрузки в систему или в результате того, что человек несколько раз подавал заявку на кредит.\n",
    "\n",
    "Связкой методов **.duplicated().sum()** проверим наличие в таблице грубых повторов. При имеющихся данных в таблице мы можем предположить, что она не должна содержать полностью повторяющихся строк (нет двух человек для которых все данные были бы одинаковы). Поэтому мы можем смело избавиться от повторных строк методом **.drop_duplicates()**. Чтобы индексация в таблице не \"поехала\" к предыдущему методу добавляем метод **reset_index(drop=True)**"
   ]
  },
  {
   "cell_type": "markdown",
   "metadata": {},
   "source": [
    "### Лемматизация <a class=\"anchor\" id=\"fifth-bullet\"></a>"
   ]
  },
  {
   "cell_type": "markdown",
   "metadata": {},
   "source": [
    "Из всех столбцов нам надо лемматизировать только `purpose`, ведь именно в нем содержаться данные, которые будет очень сложно стандартизировать без предварительной обработки. В данном случае лемматизация упростит разбивку категорий на группы."
   ]
  },
  {
   "cell_type": "code",
   "execution_count": 44,
   "metadata": {},
   "outputs": [
    {
     "name": "stdout",
     "output_type": "stream",
     "text": [
      "['покупка жилья' 'приобретение автомобиля' 'дополнительное образование'\n",
      " 'сыграть свадьбу' 'операции с жильем' 'образование'\n",
      " 'на проведение свадьбы' 'покупка жилья для семьи' 'покупка недвижимости'\n",
      " 'покупка коммерческой недвижимости' 'покупка жилой недвижимости'\n",
      " 'строительство собственной недвижимости' 'недвижимость'\n",
      " 'строительство недвижимости' 'на покупку подержанного автомобиля'\n",
      " 'на покупку своего автомобиля' 'операции с коммерческой недвижимостью'\n",
      " 'строительство жилой недвижимости' 'жилье'\n",
      " 'операции со своей недвижимостью' 'автомобили' 'заняться образованием'\n",
      " 'сделка с подержанным автомобилем' 'получение образования' 'автомобиль'\n",
      " 'свадьба' 'получение дополнительного образования' 'покупка своего жилья'\n",
      " 'операции с недвижимостью' 'получение высшего образования'\n",
      " 'свой автомобиль' 'сделка с автомобилем' 'профильное образование'\n",
      " 'высшее образование' 'покупка жилья для сдачи' 'на покупку автомобиля'\n",
      " 'ремонт жилью' 'заняться высшим образованием']\n",
      "['покупка жилье' 'приобретение автомобиль' 'дополнительный образование'\n",
      " 'сыграть свадьба' 'операция с жилье' 'образование'\n",
      " 'на проведение свадьба' 'покупка жилье для семья' 'покупка недвижимость'\n",
      " 'покупка коммерческий недвижимость' 'покупка жилой недвижимость'\n",
      " 'строительство собственный недвижимость' 'недвижимость'\n",
      " 'строительство недвижимость' 'на покупка подержать автомобиль'\n",
      " 'на покупка свой автомобиль' 'операция с коммерческий недвижимость'\n",
      " 'строительство жилой недвижимость' 'жилье'\n",
      " 'операция со свой недвижимость' 'автомобиль' 'заниматься образование'\n",
      " 'сделка с подержать автомобиль' 'получение образование' 'свадьба'\n",
      " 'получение дополнительный образование' 'покупка свой жилье'\n",
      " 'операция с недвижимость' 'получение высокий образование'\n",
      " 'свой автомобиль' 'сделка с автомобиль' 'профильный образование'\n",
      " 'высокий образование' 'покупка жилье для сдача' 'на покупка автомобиль'\n",
      " 'ремонт жилье' 'заниматься высокий образование']\n",
      "\n",
      "После применения метода лемматизации в столбце осталось 37 уникальных категорий\n"
     ]
    }
   ],
   "source": [
    "def lemmatization(clmn : pd.Series):\n",
    "    '''Эта функция принимает на вход столбец в котором содежаться значения, которые мы хочем лемматизировать.\n",
    "    После этого она собирает из всех значений одну большую строку вставляя между ними наш разделитель <br>. Далее мы производим\n",
    "    лемматизицию во время которой снова собираем все значения в одну строку. Далее мы разбиваем эту строку по нашему разделителю\n",
    "    и получаем массив со всеми проллематизированными значениями. Функция возвращает Series с новыми значениями'''\n",
    "    m = Mystem()\n",
    "    result = str()\n",
    "    for i in clmn:\n",
    "        result += i + '<br>'\n",
    "    result = ''.join(m.lemmatize(result)) \n",
    "    return pd.Series(result.split('<br>'))\n",
    "\n",
    "print(start_data['purpose'].unique())\n",
    "start_data['purpose'] = lemmatization(start_data.loc[:, ('purpose')])\n",
    "\n",
    "print(start_data['purpose'].unique()) #посмотрим, что получилось\n",
    "\n",
    "print('\\nПосле применения метода лемматизации в столбце осталось {} уникальных категорий'.format(\n",
    "    start_data['purpose'].value_counts().count()))"
   ]
  },
  {
   "cell_type": "markdown",
   "metadata": {},
   "source": [
    "Лемматизация позволила нам подготовить список уникальных категорий для дальнейшей разбивки на более крупные группы. Ведь желания \"купить автомобиль\", \"автомобиль\" и \"свой автомобиль\" по-сути одно и то же."
   ]
  },
  {
   "cell_type": "markdown",
   "metadata": {},
   "source": [
    "### Категоризация данных <a class=\"anchor\" id=\"sixth-bullet\"></a>"
   ]
  },
  {
   "cell_type": "markdown",
   "metadata": {},
   "source": [
    "Ранее мы уже выделили некоторые категории перед тем, как заполнять пропуски. Теперь нам надо добавить категории по целям кредита. Для начала соберем словарь где ключами будут начальные формы слов из уникальных значений столбца `purpose`, а значениями - количество их повторений."
   ]
  },
  {
   "cell_type": "code",
   "execution_count": 45,
   "metadata": {},
   "outputs": [
    {
     "name": "stdout",
     "output_type": "stream",
     "text": [
      "['автомобил', 'автомобил', 'автомобил', 'автомобил', 'автомобил', 'автомобил', 'автомобил', 'автомобил', 'высок', 'высок', 'высок', 'для', 'для', 'дополнительн', 'дополнительн', 'жил', 'жил', 'жил', 'жил', 'жил', 'жил', 'жил', 'жил', 'жил', 'занима', 'занима', 'коммерческ', 'коммерческ', 'на', 'на', 'на', 'на', 'недвижим', 'недвижим', 'недвижим', 'недвижим', 'недвижим', 'недвижим', 'недвижим', 'недвижим', 'недвижим', 'недвижим', 'образован', 'образован', 'образован', 'образован', 'образован', 'образован', 'образован', 'образован', 'образован', 'операц', 'операц', 'операц', 'операц', 'подержа', 'подержа', 'покупк', 'покупк', 'покупк', 'покупк', 'покупк', 'покупк', 'покупк', 'покупк', 'покупк', 'покупк', 'получен', 'получен', 'получен', 'приобретен', 'проведен', 'профильн', 'ремонт', 'с', 'с', 'с', 'с', 'с', 'свадьб', 'свадьб', 'свадьб', 'сво', 'сво', 'сво', 'сво', 'сдач', 'сделк', 'сделк', 'сем', 'со', 'собствен', 'строительств', 'строительств', 'строительств', 'сыгра']\n",
      "\n",
      " {'автомобил': 8, 'высок': 3, 'для': 2, 'дополнительн': 2, 'жил': 9, 'занима': 2, 'коммерческ': 2, 'на': 4, 'недвижим': 10, 'образован': 9, 'операц': 4, 'подержа': 2, 'покупк': 10, 'получен': 3, 'приобретен': 1, 'проведен': 1, 'профильн': 1, 'ремонт': 1, 'с': 5, 'свадьб': 3, 'сво': 4, 'сдач': 1, 'сделк': 2, 'сем': 1, 'со': 1, 'собствен': 1, 'строительств': 3, 'сыгра': 1}\n"
     ]
    }
   ],
   "source": [
    "'''произведем стемминг значений из столбца `purpose` и соберем полученные значения в list'''\n",
    "\n",
    "from nltk.stem import SnowballStemmer\n",
    "russian_stemmer = SnowballStemmer('russian')\n",
    "\n",
    "stemmed_words = []\n",
    "for query in start_data['purpose'].unique():\n",
    "    for word in query.split():\n",
    "        stemmed_word = russian_stemmer.stem(word)\n",
    "        stemmed_words.append(stemmed_word)\n",
    "stemmed_words.sort()\n",
    "print(stemmed_words)\n",
    "\n",
    "stemmed_words_counts = {}\n",
    "for word in stemmed_words:\n",
    "    stemmed_words_counts[word] = stemmed_words.count(word)\n",
    "\n",
    "print('\\n', stemmed_words_counts)"
   ]
  },
  {
   "cell_type": "markdown",
   "metadata": {},
   "source": [
    "Методом осмотра значений выделим следующие категории:\n",
    "- автомобиль\n",
    "- жилье\n",
    "- коммерческая недвижимость\n",
    "- образование\n",
    "- свадьба\n",
    "\n",
    "Теперь нам надо создать новый столбец, в который мы запишем выделеные категории для каждой строки."
   ]
  },
  {
   "cell_type": "code",
   "execution_count": 46,
   "metadata": {},
   "outputs": [
    {
     "data": {
      "text/html": [
       "<div>\n",
       "<style scoped>\n",
       "    .dataframe tbody tr th:only-of-type {\n",
       "        vertical-align: middle;\n",
       "    }\n",
       "\n",
       "    .dataframe tbody tr th {\n",
       "        vertical-align: top;\n",
       "    }\n",
       "\n",
       "    .dataframe thead th {\n",
       "        text-align: right;\n",
       "    }\n",
       "</style>\n",
       "<table border=\"1\" class=\"dataframe\">\n",
       "  <thead>\n",
       "    <tr style=\"text-align: right;\">\n",
       "      <th></th>\n",
       "      <th>children</th>\n",
       "      <th>days_employed</th>\n",
       "      <th>dob_years</th>\n",
       "      <th>education</th>\n",
       "      <th>education_id</th>\n",
       "      <th>family_status</th>\n",
       "      <th>family_status_id</th>\n",
       "      <th>gender</th>\n",
       "      <th>income_type</th>\n",
       "      <th>debt</th>\n",
       "      <th>total_income</th>\n",
       "      <th>purpose</th>\n",
       "      <th>experience</th>\n",
       "      <th>total_income_new</th>\n",
       "      <th>purpose_cattegory</th>\n",
       "    </tr>\n",
       "  </thead>\n",
       "  <tbody>\n",
       "    <tr>\n",
       "      <th>0</th>\n",
       "      <td>1</td>\n",
       "      <td>8437</td>\n",
       "      <td>42</td>\n",
       "      <td>высшее</td>\n",
       "      <td>0</td>\n",
       "      <td>женат / замужем</td>\n",
       "      <td>0</td>\n",
       "      <td>F</td>\n",
       "      <td>сотрудник</td>\n",
       "      <td>0</td>\n",
       "      <td>253875</td>\n",
       "      <td>покупка жилье</td>\n",
       "      <td>профессионалы</td>\n",
       "      <td>высокий доход</td>\n",
       "      <td>жилье</td>\n",
       "    </tr>\n",
       "    <tr>\n",
       "      <th>1</th>\n",
       "      <td>1</td>\n",
       "      <td>4024</td>\n",
       "      <td>36</td>\n",
       "      <td>среднее</td>\n",
       "      <td>1</td>\n",
       "      <td>женат / замужем</td>\n",
       "      <td>0</td>\n",
       "      <td>F</td>\n",
       "      <td>сотрудник</td>\n",
       "      <td>0</td>\n",
       "      <td>112080</td>\n",
       "      <td>приобретение автомобиль</td>\n",
       "      <td>профессионалы</td>\n",
       "      <td>средний доход</td>\n",
       "      <td>автомобиль</td>\n",
       "    </tr>\n",
       "    <tr>\n",
       "      <th>2</th>\n",
       "      <td>0</td>\n",
       "      <td>5623</td>\n",
       "      <td>33</td>\n",
       "      <td>среднее</td>\n",
       "      <td>1</td>\n",
       "      <td>женат / замужем</td>\n",
       "      <td>0</td>\n",
       "      <td>M</td>\n",
       "      <td>сотрудник</td>\n",
       "      <td>0</td>\n",
       "      <td>145885</td>\n",
       "      <td>покупка жилье</td>\n",
       "      <td>рассвет</td>\n",
       "      <td>выше среднего</td>\n",
       "      <td>жилье</td>\n",
       "    </tr>\n",
       "    <tr>\n",
       "      <th>3</th>\n",
       "      <td>3</td>\n",
       "      <td>4124</td>\n",
       "      <td>32</td>\n",
       "      <td>среднее</td>\n",
       "      <td>1</td>\n",
       "      <td>женат / замужем</td>\n",
       "      <td>0</td>\n",
       "      <td>M</td>\n",
       "      <td>сотрудник</td>\n",
       "      <td>0</td>\n",
       "      <td>267628</td>\n",
       "      <td>дополнительный образование</td>\n",
       "      <td>рассвет</td>\n",
       "      <td>высокий доход</td>\n",
       "      <td>образование</td>\n",
       "    </tr>\n",
       "    <tr>\n",
       "      <th>4</th>\n",
       "      <td>0</td>\n",
       "      <td>14177</td>\n",
       "      <td>53</td>\n",
       "      <td>среднее</td>\n",
       "      <td>1</td>\n",
       "      <td>гражданский брак</td>\n",
       "      <td>1</td>\n",
       "      <td>F</td>\n",
       "      <td>пенсионер</td>\n",
       "      <td>0</td>\n",
       "      <td>158616</td>\n",
       "      <td>сыграть свадьба</td>\n",
       "      <td>наставники</td>\n",
       "      <td>выше среднего</td>\n",
       "      <td>свадьба</td>\n",
       "    </tr>\n",
       "  </tbody>\n",
       "</table>\n",
       "</div>"
      ],
      "text/plain": [
       "   children  days_employed  dob_years education  education_id  \\\n",
       "0         1           8437         42    высшее             0   \n",
       "1         1           4024         36   среднее             1   \n",
       "2         0           5623         33   среднее             1   \n",
       "3         3           4124         32   среднее             1   \n",
       "4         0          14177         53   среднее             1   \n",
       "\n",
       "      family_status  family_status_id gender income_type  debt  total_income  \\\n",
       "0   женат / замужем                 0      F   сотрудник     0        253875   \n",
       "1   женат / замужем                 0      F   сотрудник     0        112080   \n",
       "2   женат / замужем                 0      M   сотрудник     0        145885   \n",
       "3   женат / замужем                 0      M   сотрудник     0        267628   \n",
       "4  гражданский брак                 1      F   пенсионер     0        158616   \n",
       "\n",
       "                      purpose     experience total_income_new  \\\n",
       "0               покупка жилье  профессионалы    высокий доход   \n",
       "1     приобретение автомобиль  профессионалы    средний доход   \n",
       "2               покупка жилье        рассвет    выше среднего   \n",
       "3  дополнительный образование        рассвет    высокий доход   \n",
       "4             сыграть свадьба     наставники    выше среднего   \n",
       "\n",
       "  purpose_cattegory  \n",
       "0             жилье  \n",
       "1        автомобиль  \n",
       "2             жилье  \n",
       "3       образование  \n",
       "4           свадьба  "
      ]
     },
     "metadata": {},
     "output_type": "display_data"
    }
   ],
   "source": [
    "def grouping_by_purpose(row):\n",
    "    if 'автомобил' in row['purpose']:\n",
    "        return 'автомобиль'\n",
    "    if 'коммерческ' in row['purpose']:\n",
    "        return 'коммерческая недвижимость'\n",
    "    elif 'образован' in row['purpose']:\n",
    "        return 'образование'\n",
    "    elif 'свадьб' in row['purpose']:\n",
    "        return 'свадьба'\n",
    "    elif 'жил' or 'недвижим' in row['purpose']:\n",
    "        return 'жилье'\n",
    "    else:\n",
    "        return 'unknown'\n",
    "    \n",
    "start_data['purpose_cattegory'] = start_data.apply(grouping_by_purpose, axis=1)\n",
    "display(start_data.head())"
   ]
  },
  {
   "cell_type": "markdown",
   "metadata": {},
   "source": [
    "Интересно посмотреть сколько значений приходится на каждую категорию."
   ]
  },
  {
   "cell_type": "code",
   "execution_count": 47,
   "metadata": {},
   "outputs": [
    {
     "name": "stdout",
     "output_type": "stream",
     "text": [
      "purpose_cattegory\n",
      "автомобиль                   4306\n",
      "жилье                        9499\n",
      "коммерческая недвижимость    1311\n",
      "образование                  4013\n",
      "свадьба                      2323\n",
      "Name: purpose, dtype: int64\n"
     ]
    }
   ],
   "source": [
    "print(start_data.groupby('purpose_cattegory')['purpose'].count())"
   ]
  },
  {
   "cell_type": "markdown",
   "metadata": {},
   "source": [
    "#### Вывод"
   ]
  },
  {
   "cell_type": "markdown",
   "metadata": {},
   "source": [
    "Мы собрали цели кредитования по пяти основным категориям. Интересно, что выделение коммерческой недвижимости в отдельную категорию имело большой смысл, так как таких заявок оказалось довольно много. И согласитесь, что покупка коммерческой недвижимости это не тоже самое, что купить себе место, которое можно называть домом. Можно было бы немного перераспределить категории за счет того, что покупка жилья для сдачи это тоже скорее коммерческая недвижимость. Но в этот раз мы так углубляться не будем."
   ]
  },
  {
   "cell_type": "markdown",
   "metadata": {},
   "source": [
    "## Анализ полученных данных и выводы <a class=\"anchor\" id=\"seventh-bullet\"></a>"
   ]
  },
  {
   "cell_type": "markdown",
   "metadata": {},
   "source": [
    "Для анализа полученных результатов напишем функцию, которой будем передовать название столбца с категориальными данными. Эта функция будет выводить график с количеством невозвращенных кредитов по категориям столбца и таблицу с численными значениями."
   ]
  },
  {
   "cell_type": "code",
   "execution_count": 48,
   "metadata": {},
   "outputs": [],
   "source": [
    "def pivot(data, index):\n",
    "    \n",
    "    pivot = data.pivot_table(index = index, values = 'debt', aggfunc = ['count', 'sum', 'mean']).reset_index()\n",
    "    pivot.columns = [index, 'Кол-во клиентов', 'Кол-во должников', '% невозврата']\n",
    "    pivot['% невозврата'] = (pivot['% невозврата'] * 100).round(2)\n",
    "    \n",
    "    \n",
    "    display(pivot.sort_values('% невозврата', ascending = True))\n",
    "    plt.subplots(figsize=(10, 6))\n",
    "    \n",
    "    fig = sns.barplot(x=index, y='% невозврата', data=pivot)\n",
    "    for p in fig.patches:\n",
    "        fig.annotate('{:.2f}'.format(p.get_height()), (p.get_x()+0.3, p.get_height()),\n",
    "                    ha='center', va='bottom', color= 'black')    "
   ]
  },
  {
   "cell_type": "markdown",
   "metadata": {},
   "source": [
    "### Есть ли зависимость между наличием детей и возвратом кредита в срок?"
   ]
  },
  {
   "cell_type": "markdown",
   "metadata": {},
   "source": [
    "Для анализа зависимости возврата кредита от количества детей введем дополнительную классификацию:\n",
    "* 0 детей - бездетные\n",
    "* 1-2 ребенка - малодетные\n",
    "* 3 и больше - многодетные"
   ]
  },
  {
   "cell_type": "code",
   "execution_count": 49,
   "metadata": {},
   "outputs": [],
   "source": [
    "def family_child_classifier(row):\n",
    "    if row['children'] == 0:\n",
    "        return 'бездетные'\n",
    "    elif row['children'] < 3:\n",
    "        return 'малодетные'\n",
    "    return 'многодетные'\n",
    "\n",
    "start_data['fam_stat_by_children'] = start_data.apply(family_child_classifier, axis=1)"
   ]
  },
  {
   "cell_type": "code",
   "execution_count": 50,
   "metadata": {},
   "outputs": [
    {
     "data": {
      "text/html": [
       "<div>\n",
       "<style scoped>\n",
       "    .dataframe tbody tr th:only-of-type {\n",
       "        vertical-align: middle;\n",
       "    }\n",
       "\n",
       "    .dataframe tbody tr th {\n",
       "        vertical-align: top;\n",
       "    }\n",
       "\n",
       "    .dataframe thead th {\n",
       "        text-align: right;\n",
       "    }\n",
       "</style>\n",
       "<table border=\"1\" class=\"dataframe\">\n",
       "  <thead>\n",
       "    <tr style=\"text-align: right;\">\n",
       "      <th></th>\n",
       "      <th>fam_stat_by_children</th>\n",
       "      <th>Кол-во клиентов</th>\n",
       "      <th>Кол-во должников</th>\n",
       "      <th>% невозврата</th>\n",
       "    </tr>\n",
       "  </thead>\n",
       "  <tbody>\n",
       "    <tr>\n",
       "      <th>0</th>\n",
       "      <td>бездетные</td>\n",
       "      <td>14089</td>\n",
       "      <td>1063</td>\n",
       "      <td>7.54</td>\n",
       "    </tr>\n",
       "    <tr>\n",
       "      <th>2</th>\n",
       "      <td>многодетные</td>\n",
       "      <td>380</td>\n",
       "      <td>31</td>\n",
       "      <td>8.16</td>\n",
       "    </tr>\n",
       "    <tr>\n",
       "      <th>1</th>\n",
       "      <td>малодетные</td>\n",
       "      <td>6983</td>\n",
       "      <td>647</td>\n",
       "      <td>9.27</td>\n",
       "    </tr>\n",
       "  </tbody>\n",
       "</table>\n",
       "</div>"
      ],
      "text/plain": [
       "  fam_stat_by_children  Кол-во клиентов  Кол-во должников  % невозврата\n",
       "0            бездетные            14089              1063          7.54\n",
       "2          многодетные              380                31          8.16\n",
       "1           малодетные             6983               647          9.27"
      ]
     },
     "metadata": {},
     "output_type": "display_data"
    },
    {
     "data": {
      "image/png": "[encoded data removed]",
      "text/plain": [
       "<Figure size 720x432 with 1 Axes>"
      ]
     },
     "metadata": {},
     "output_type": "display_data"
    }
   ],
   "source": [
    "pivot(start_data, 'fam_stat_by_children')"
   ]
  },
  {
   "cell_type": "code",
   "execution_count": 51,
   "metadata": {},
   "outputs": [
    {
     "data": {
      "text/html": [
       "<div>\n",
       "<style scoped>\n",
       "    .dataframe tbody tr th:only-of-type {\n",
       "        vertical-align: middle;\n",
       "    }\n",
       "\n",
       "    .dataframe tbody tr th {\n",
       "        vertical-align: top;\n",
       "    }\n",
       "\n",
       "    .dataframe thead th {\n",
       "        text-align: right;\n",
       "    }\n",
       "</style>\n",
       "<table border=\"1\" class=\"dataframe\">\n",
       "  <thead>\n",
       "    <tr style=\"text-align: right;\">\n",
       "      <th></th>\n",
       "      <th>children</th>\n",
       "      <th>Кол-во клиентов</th>\n",
       "      <th>Кол-во должников</th>\n",
       "      <th>% невозврата</th>\n",
       "    </tr>\n",
       "  </thead>\n",
       "  <tbody>\n",
       "    <tr>\n",
       "      <th>5</th>\n",
       "      <td>5</td>\n",
       "      <td>9</td>\n",
       "      <td>0</td>\n",
       "      <td>0.00</td>\n",
       "    </tr>\n",
       "    <tr>\n",
       "      <th>0</th>\n",
       "      <td>0</td>\n",
       "      <td>14089</td>\n",
       "      <td>1063</td>\n",
       "      <td>7.54</td>\n",
       "    </tr>\n",
       "    <tr>\n",
       "      <th>3</th>\n",
       "      <td>3</td>\n",
       "      <td>330</td>\n",
       "      <td>27</td>\n",
       "      <td>8.18</td>\n",
       "    </tr>\n",
       "    <tr>\n",
       "      <th>1</th>\n",
       "      <td>1</td>\n",
       "      <td>4855</td>\n",
       "      <td>445</td>\n",
       "      <td>9.17</td>\n",
       "    </tr>\n",
       "    <tr>\n",
       "      <th>2</th>\n",
       "      <td>2</td>\n",
       "      <td>2128</td>\n",
       "      <td>202</td>\n",
       "      <td>9.49</td>\n",
       "    </tr>\n",
       "    <tr>\n",
       "      <th>4</th>\n",
       "      <td>4</td>\n",
       "      <td>41</td>\n",
       "      <td>4</td>\n",
       "      <td>9.76</td>\n",
       "    </tr>\n",
       "  </tbody>\n",
       "</table>\n",
       "</div>"
      ],
      "text/plain": [
       "   children  Кол-во клиентов  Кол-во должников  % невозврата\n",
       "5         5                9                 0          0.00\n",
       "0         0            14089              1063          7.54\n",
       "3         3              330                27          8.18\n",
       "1         1             4855               445          9.17\n",
       "2         2             2128               202          9.49\n",
       "4         4               41                 4          9.76"
      ]
     },
     "metadata": {},
     "output_type": "display_data"
    },
    {
     "data": {
      "image/png": "[encoded data removed]",
      "text/plain": [
       "<Figure size 720x432 with 1 Axes>"
      ]
     },
     "metadata": {},
     "output_type": "display_data"
    }
   ],
   "source": [
    "pivot(start_data, 'children')"
   ]
  },
  {
   "cell_type": "markdown",
   "metadata": {},
   "source": [
    "**Вывод**"
   ]
  },
  {
   "cell_type": "markdown",
   "metadata": {},
   "source": [
    "Как видно из графиков, наличие детей ощутимо (почти на 2%) увеличивает возможность просрочки по кредиту. Среди тех, у кого есть дети самая безопасная группа - семьи с тремя детьми."
   ]
  },
  {
   "cell_type": "markdown",
   "metadata": {},
   "source": [
    "### Есть ли зависимость между семейным положением и возвратом кредита в срок?"
   ]
  },
  {
   "cell_type": "code",
   "execution_count": 52,
   "metadata": {},
   "outputs": [
    {
     "data": {
      "text/html": [
       "<div>\n",
       "<style scoped>\n",
       "    .dataframe tbody tr th:only-of-type {\n",
       "        vertical-align: middle;\n",
       "    }\n",
       "\n",
       "    .dataframe tbody tr th {\n",
       "        vertical-align: top;\n",
       "    }\n",
       "\n",
       "    .dataframe thead th {\n",
       "        text-align: right;\n",
       "    }\n",
       "</style>\n",
       "<table border=\"1\" class=\"dataframe\">\n",
       "  <thead>\n",
       "    <tr style=\"text-align: right;\">\n",
       "      <th></th>\n",
       "      <th>family_status</th>\n",
       "      <th>Кол-во клиентов</th>\n",
       "      <th>Кол-во должников</th>\n",
       "      <th>% невозврата</th>\n",
       "    </tr>\n",
       "  </thead>\n",
       "  <tbody>\n",
       "    <tr>\n",
       "      <th>2</th>\n",
       "      <td>вдовец / вдова</td>\n",
       "      <td>959</td>\n",
       "      <td>63</td>\n",
       "      <td>6.57</td>\n",
       "    </tr>\n",
       "    <tr>\n",
       "      <th>1</th>\n",
       "      <td>в разводе</td>\n",
       "      <td>1195</td>\n",
       "      <td>85</td>\n",
       "      <td>7.11</td>\n",
       "    </tr>\n",
       "    <tr>\n",
       "      <th>4</th>\n",
       "      <td>женат / замужем</td>\n",
       "      <td>12339</td>\n",
       "      <td>931</td>\n",
       "      <td>7.55</td>\n",
       "    </tr>\n",
       "    <tr>\n",
       "      <th>3</th>\n",
       "      <td>гражданский брак</td>\n",
       "      <td>4149</td>\n",
       "      <td>388</td>\n",
       "      <td>9.35</td>\n",
       "    </tr>\n",
       "    <tr>\n",
       "      <th>0</th>\n",
       "      <td>Не женат / не замужем</td>\n",
       "      <td>2810</td>\n",
       "      <td>274</td>\n",
       "      <td>9.75</td>\n",
       "    </tr>\n",
       "  </tbody>\n",
       "</table>\n",
       "</div>"
      ],
      "text/plain": [
       "           family_status  Кол-во клиентов  Кол-во должников  % невозврата\n",
       "2         вдовец / вдова              959                63          6.57\n",
       "1              в разводе             1195                85          7.11\n",
       "4        женат / замужем            12339               931          7.55\n",
       "3       гражданский брак             4149               388          9.35\n",
       "0  Не женат / не замужем             2810               274          9.75"
      ]
     },
     "metadata": {},
     "output_type": "display_data"
    },
    {
     "data": {
      "image/png": "[encoded data removed]",
      "text/plain": [
       "<Figure size 720x432 with 1 Axes>"
      ]
     },
     "metadata": {},
     "output_type": "display_data"
    }
   ],
   "source": [
    "pivot(start_data, 'family_status')"
   ]
  },
  {
   "cell_type": "markdown",
   "metadata": {},
   "source": [
    "**Вывод**"
   ]
  },
  {
   "cell_type": "markdown",
   "metadata": {},
   "source": [
    "Если смотреть отдельно на столбец `debt` может показаться, что одинокие люди более ответсвенны. Но настоящий результат мы получаем, только когда сравним количество заявок с количеством просрочек. Люди, которые не состоят в официальных отношениях и никогда не состояли хуже возвращают кредиты, в отличии от семей, которые имеют официальный статус, пусть даже когда-то в прошлом."
   ]
  },
  {
   "cell_type": "markdown",
   "metadata": {},
   "source": [
    "### Есть ли зависимость между уровнем дохода и возвратом кредита в срок?"
   ]
  },
  {
   "cell_type": "code",
   "execution_count": 53,
   "metadata": {
    "scrolled": false
   },
   "outputs": [
    {
     "data": {
      "text/html": [
       "<div>\n",
       "<style scoped>\n",
       "    .dataframe tbody tr th:only-of-type {\n",
       "        vertical-align: middle;\n",
       "    }\n",
       "\n",
       "    .dataframe tbody tr th {\n",
       "        vertical-align: top;\n",
       "    }\n",
       "\n",
       "    .dataframe thead th {\n",
       "        text-align: right;\n",
       "    }\n",
       "</style>\n",
       "<table border=\"1\" class=\"dataframe\">\n",
       "  <thead>\n",
       "    <tr style=\"text-align: right;\">\n",
       "      <th></th>\n",
       "      <th>total_income_new</th>\n",
       "      <th>Кол-во клиентов</th>\n",
       "      <th>Кол-во должников</th>\n",
       "      <th>% невозврата</th>\n",
       "    </tr>\n",
       "  </thead>\n",
       "  <tbody>\n",
       "    <tr>\n",
       "      <th>0</th>\n",
       "      <td>высокий доход</td>\n",
       "      <td>5381</td>\n",
       "      <td>386</td>\n",
       "      <td>7.17</td>\n",
       "    </tr>\n",
       "    <tr>\n",
       "      <th>2</th>\n",
       "      <td>низкий доход</td>\n",
       "      <td>5381</td>\n",
       "      <td>427</td>\n",
       "      <td>7.94</td>\n",
       "    </tr>\n",
       "    <tr>\n",
       "      <th>1</th>\n",
       "      <td>выше среднего</td>\n",
       "      <td>6298</td>\n",
       "      <td>543</td>\n",
       "      <td>8.62</td>\n",
       "    </tr>\n",
       "    <tr>\n",
       "      <th>3</th>\n",
       "      <td>средний доход</td>\n",
       "      <td>4392</td>\n",
       "      <td>385</td>\n",
       "      <td>8.77</td>\n",
       "    </tr>\n",
       "  </tbody>\n",
       "</table>\n",
       "</div>"
      ],
      "text/plain": [
       "  total_income_new  Кол-во клиентов  Кол-во должников  % невозврата\n",
       "0    высокий доход             5381               386          7.17\n",
       "2     низкий доход             5381               427          7.94\n",
       "1    выше среднего             6298               543          8.62\n",
       "3    средний доход             4392               385          8.77"
      ]
     },
     "metadata": {},
     "output_type": "display_data"
    },
    {
     "data": {
      "image/png": "[encoded data removed]",
      "text/plain": [
       "<Figure size 720x432 with 1 Axes>"
      ]
     },
     "metadata": {},
     "output_type": "display_data"
    }
   ],
   "source": [
    "pivot(start_data, 'total_income_new')"
   ]
  },
  {
   "cell_type": "markdown",
   "metadata": {},
   "source": [
    "**Вывод**"
   ]
  },
  {
   "cell_type": "markdown",
   "metadata": {},
   "source": [
    "Контринтуитивно, но люди с самым низким доход возвращают заемные средства почти так же хорошо как и те у кого самые большие зарплаты. А вот те кто имеют средний доход и выше среднего не так ответственны и чаще допускают просрочки."
   ]
  },
  {
   "cell_type": "markdown",
   "metadata": {},
   "source": [
    "### Как разные цели кредита влияют на его возврат в срок?"
   ]
  },
  {
   "cell_type": "code",
   "execution_count": 54,
   "metadata": {},
   "outputs": [
    {
     "data": {
      "text/html": [
       "<div>\n",
       "<style scoped>\n",
       "    .dataframe tbody tr th:only-of-type {\n",
       "        vertical-align: middle;\n",
       "    }\n",
       "\n",
       "    .dataframe tbody tr th {\n",
       "        vertical-align: top;\n",
       "    }\n",
       "\n",
       "    .dataframe thead th {\n",
       "        text-align: right;\n",
       "    }\n",
       "</style>\n",
       "<table border=\"1\" class=\"dataframe\">\n",
       "  <thead>\n",
       "    <tr style=\"text-align: right;\">\n",
       "      <th></th>\n",
       "      <th>purpose_cattegory</th>\n",
       "      <th>Кол-во клиентов</th>\n",
       "      <th>Кол-во должников</th>\n",
       "      <th>% невозврата</th>\n",
       "    </tr>\n",
       "  </thead>\n",
       "  <tbody>\n",
       "    <tr>\n",
       "      <th>1</th>\n",
       "      <td>жилье</td>\n",
       "      <td>9499</td>\n",
       "      <td>683</td>\n",
       "      <td>7.19</td>\n",
       "    </tr>\n",
       "    <tr>\n",
       "      <th>2</th>\n",
       "      <td>коммерческая недвижимость</td>\n",
       "      <td>1311</td>\n",
       "      <td>99</td>\n",
       "      <td>7.55</td>\n",
       "    </tr>\n",
       "    <tr>\n",
       "      <th>4</th>\n",
       "      <td>свадьба</td>\n",
       "      <td>2323</td>\n",
       "      <td>186</td>\n",
       "      <td>8.01</td>\n",
       "    </tr>\n",
       "    <tr>\n",
       "      <th>3</th>\n",
       "      <td>образование</td>\n",
       "      <td>4013</td>\n",
       "      <td>370</td>\n",
       "      <td>9.22</td>\n",
       "    </tr>\n",
       "    <tr>\n",
       "      <th>0</th>\n",
       "      <td>автомобиль</td>\n",
       "      <td>4306</td>\n",
       "      <td>403</td>\n",
       "      <td>9.36</td>\n",
       "    </tr>\n",
       "  </tbody>\n",
       "</table>\n",
       "</div>"
      ],
      "text/plain": [
       "           purpose_cattegory  Кол-во клиентов  Кол-во должников  % невозврата\n",
       "1                      жилье             9499               683          7.19\n",
       "2  коммерческая недвижимость             1311                99          7.55\n",
       "4                    свадьба             2323               186          8.01\n",
       "3                образование             4013               370          9.22\n",
       "0                 автомобиль             4306               403          9.36"
      ]
     },
     "metadata": {},
     "output_type": "display_data"
    },
    {
     "data": {
      "image/png": "[encoded data removed]",
      "text/plain": [
       "<Figure size 720x432 with 1 Axes>"
      ]
     },
     "metadata": {},
     "output_type": "display_data"
    }
   ],
   "source": [
    "pivot(start_data, 'purpose_cattegory')"
   ]
  },
  {
   "cell_type": "markdown",
   "metadata": {},
   "source": [
    "**Вывод**"
   ]
  },
  {
   "cell_type": "markdown",
   "metadata": {},
   "source": [
    "Самое ответственное отношение к долгам у тех, кто взял деньги на жилье. Оно и понятно, ведь никто не хочет чтобы банк выгнал его из дома. А вот к заемным средствам на автомобиль относятся более легкомысленно. Еще важно отметить, что образование не гарантирует хороший и стабильный доход с самого начала.\n",
    "\n",
    "Личный инсайт - те кто брал денбги на свадьбу не самые плохие должники."
   ]
  },
  {
   "cell_type": "markdown",
   "metadata": {},
   "source": [
    "## Общий вывод"
   ]
  },
  {
   "cell_type": "markdown",
   "metadata": {},
   "source": [
    "Посмотрим сколько всего просрочек допущенно для всех категорий."
   ]
  },
  {
   "cell_type": "code",
   "execution_count": 55,
   "metadata": {},
   "outputs": [
    {
     "name": "stdout",
     "output_type": "stream",
     "text": [
      "От общего количества кредитов не вернули в срок 8.12%\n"
     ]
    }
   ],
   "source": [
    "print('От общего количества кредитов не вернули в срок {:.2%}'.format(start_data['debt'].sum() / start_data.shape[0]))"
   ]
  },
  {
   "cell_type": "markdown",
   "metadata": {},
   "source": [
    "В среднем просрочки допускаются в 8 случаях из 100. \n",
    "\n",
    "Как видно из изученых данных % невозврата между разными категориями не очень велик, но для банка даже небольшое отклонение может быть существенно, поэтому каждый из факторов значим. Их можно классифицировать по степени отклонения от среднего % невозврата на «низкий \\ средний \\ высокий риск», но опять же чтобы понять диапазоны отклонений нужна консультация специалиста банка. Однако к примеру, если говорить о детях, то семьи без детей имеют низкий риск, малодетные высокий, а многодетные средний.\n",
    "\n",
    "P.s. Стоит отметить, что для составления более объективного портрета нужно изучать совокупность признаков. Ты конечно можешь провести дополнительную группировку например статус-пол, цель-доход и тд, но все же все наборы не переберем, и тут вступает в игру машинное обучение и модели классификации, которые как раз таки решают задачи кредитного скоринга."
   ]
  }
 ],
 "metadata": {
  "kernelspec": {
   "display_name": "Python 3",
   "language": "python",
   "name": "python3"
  },
  "language_info": {
   "codemirror_mode": {
    "name": "ipython",
    "version": 3
   },
   "file_extension": ".py",
   "mimetype": "text/x-python",
   "name": "python",
   "nbconvert_exporter": "python",
   "pygments_lexer": "ipython3",
   "version": "3.8.3"
  },
  "toc": {
   "base_numbering": 1,
   "nav_menu": {},
   "number_sections": true,
   "sideBar": true,
   "skip_h1_title": true,
   "title_cell": "Содержание",
   "title_sidebar": "Contents",
   "toc_cell": true,
   "toc_position": {},
   "toc_section_display": true,
   "toc_window_display": true
  }
 },
 "nbformat": 4,
 "nbformat_minor": 2
}
