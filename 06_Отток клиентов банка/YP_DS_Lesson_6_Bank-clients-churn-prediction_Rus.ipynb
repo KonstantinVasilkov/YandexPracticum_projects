{
 "cells": [
  {
   "cell_type": "code",
   "execution_count": 2,
   "metadata": {},
   "outputs": [],
   "source": [
    "import pandas as pd\n",
    "\n",
    "import numpy as np\n",
    "\n",
    "import seaborn as sns\n",
    "\n",
    "import plotly.express as px\n",
    "\n",
    "from sklearn.dummy import DummyClassifier\n",
    "\n",
    "from sklearn.ensemble import RandomForestClassifier\n",
    "\n",
    "from sklearn.linear_model import LogisticRegression\n",
    "\n",
    "from sklearn.model_selection import StratifiedKFold\n",
    "\n",
    "from sklearn.model_selection import RandomizedSearchCV\n",
    "\n",
    "from sklearn.preprocessing import StandardScaler\n",
    "\n",
    "from sklearn.metrics import *\n",
    "\n",
    "from sklearn.utils import shuffle\n",
    "\n",
    "import matplotlib.pyplot as plt"
   ]
  },
  {
   "cell_type": "markdown",
   "metadata": {},
   "source": [
    "# Отток клиентов"
   ]
  },
  {
   "cell_type": "markdown",
   "metadata": {
    "toc": true
   },
   "source": [
    "<h1>Оглавление<span class=\"tocSkip\"></span></h1>\n",
    "<div class=\"toc\"><ul class=\"toc-item\"><li><span><a href=\"#Подготовка-данных\" data-toc-modified-id=\"Подготовка-данных-1\"><span class=\"toc-item-num\">1&nbsp;&nbsp;</span>Подготовка данных</a></span></li><li><span><a href=\"#Исследование-задачи\" data-toc-modified-id=\"Исследование-задачи-2\"><span class=\"toc-item-num\">2&nbsp;&nbsp;</span>Исследование задачи</a></span><ul class=\"toc-item\"><li><span><a href=\"#Разбиение-выборок-и-масштабирование-признаков\" data-toc-modified-id=\"Разбиение-выборок-и-масштабирование-признаков-2.1\"><span class=\"toc-item-num\">2.1&nbsp;&nbsp;</span>Разбиение выборок и масштабирование признаков</a></span></li><li><span><a href=\"#Обучение-модели-без-учета-дисбаланса\" data-toc-modified-id=\"Обучение-модели-без-учета-дисбаланса-2.2\"><span class=\"toc-item-num\">2.2&nbsp;&nbsp;</span>Обучение модели без учета дисбаланса</a></span></li></ul></li><li><span><a href=\"#Борьба-с-дисбалансом\" data-toc-modified-id=\"Борьба-с-дисбалансом-3\"><span class=\"toc-item-num\">3&nbsp;&nbsp;</span>Борьба с дисбалансом</a></span><ul class=\"toc-item\"><li><span><a href=\"#Up-sampling\" data-toc-modified-id=\"Up-sampling-3.1\"><span class=\"toc-item-num\">3.1&nbsp;&nbsp;</span>Up-sampling</a></span></li><li><span><a href=\"#Down-sampling\" data-toc-modified-id=\"Down-sampling-3.2\"><span class=\"toc-item-num\">3.2&nbsp;&nbsp;</span>Down-sampling</a></span></li><li><span><a href=\"#class_weight-=-'balanced'\" data-toc-modified-id=\"class_weight-=-'balanced'-3.3\"><span class=\"toc-item-num\">3.3&nbsp;&nbsp;</span>class_weight = 'balanced'</a></span></li></ul></li><li><span><a href=\"#Тестирование-модели\" data-toc-modified-id=\"Тестирование-модели-4\"><span class=\"toc-item-num\">4&nbsp;&nbsp;</span>Тестирование модели</a></span></li><li><span><a href=\"#Общий-вывод:\" data-toc-modified-id=\"Общий-вывод:-5\"><span class=\"toc-item-num\">5&nbsp;&nbsp;</span>Общий вывод:</a></span></li></ul></div>"
   ]
  },
  {
   "cell_type": "markdown",
   "metadata": {},
   "source": [
    "Из «Бета-Банка» стали уходить клиенты. Каждый месяц. Немного, но заметно. Банковские маркетологи посчитали: сохранять текущих клиентов дешевле, чем привлекать новых.\n",
    "\n",
    "Нужно спрогнозировать, уйдёт клиент из банка в ближайшее время или нет. Вам предоставлены исторические данные о поведении клиентов и расторжении договоров с банком. \n",
    "\n",
    "Постройте модель с предельно большим значением *F1*-меры. Чтобы сдать проект успешно, нужно довести метрику до 0.59. Проверьте *F1*-меру на тестовой выборке самостоятельно.\n",
    "\n",
    "Дополнительно измеряйте *AUC-ROC*, сравнивайте её значение с *F1*-мерой.\n",
    "\n",
    "Источник данных: [https://www.kaggle.com/barelydedicated/bank-customer-churn-modeling](https://www.kaggle.com/barelydedicated/bank-customer-churn-modeling)"
   ]
  },
  {
   "cell_type": "markdown",
   "metadata": {},
   "source": [
    "## Подготовка данных"
   ]
  },
  {
   "cell_type": "markdown",
   "metadata": {},
   "source": [
    "Загрузим данные и посмотрим на их характеристики."
   ]
  },
  {
   "cell_type": "code",
   "execution_count": 3,
   "metadata": {},
   "outputs": [],
   "source": [
    "start_data = pd.read_csv('Churn.csv')"
   ]
  },
  {
   "cell_type": "code",
   "execution_count": 4,
   "metadata": {
    "scrolled": false
   },
   "outputs": [
    {
     "name": "stdout",
     "output_type": "stream",
     "text": [
      "<class 'pandas.core.frame.DataFrame'>\n",
      "RangeIndex: 10000 entries, 0 to 9999\n",
      "Data columns (total 14 columns):\n",
      " #   Column           Non-Null Count  Dtype  \n",
      "---  ------           --------------  -----  \n",
      " 0   RowNumber        10000 non-null  int64  \n",
      " 1   CustomerId       10000 non-null  int64  \n",
      " 2   Surname          10000 non-null  object \n",
      " 3   CreditScore      10000 non-null  int64  \n",
      " 4   Geography        10000 non-null  object \n",
      " 5   Gender           10000 non-null  object \n",
      " 6   Age              10000 non-null  int64  \n",
      " 7   Tenure           9091 non-null   float64\n",
      " 8   Balance          10000 non-null  float64\n",
      " 9   NumOfProducts    10000 non-null  int64  \n",
      " 10  HasCrCard        10000 non-null  int64  \n",
      " 11  IsActiveMember   10000 non-null  int64  \n",
      " 12  EstimatedSalary  10000 non-null  float64\n",
      " 13  Exited           10000 non-null  int64  \n",
      "dtypes: float64(3), int64(8), object(3)\n",
      "memory usage: 1.1+ MB\n"
     ]
    }
   ],
   "source": [
    "start_data.info()"
   ]
  },
  {
   "cell_type": "code",
   "execution_count": 5,
   "metadata": {},
   "outputs": [
    {
     "name": "stdout",
     "output_type": "stream",
     "text": [
      "0\n"
     ]
    }
   ],
   "source": [
    "print(start_data.duplicated().sum())"
   ]
  },
  {
   "cell_type": "code",
   "execution_count": 6,
   "metadata": {
    "scrolled": false
   },
   "outputs": [
    {
     "data": {
      "text/html": [
       "<div>\n",
       "<style scoped>\n",
       "    .dataframe tbody tr th:only-of-type {\n",
       "        vertical-align: middle;\n",
       "    }\n",
       "\n",
       "    .dataframe tbody tr th {\n",
       "        vertical-align: top;\n",
       "    }\n",
       "\n",
       "    .dataframe thead th {\n",
       "        text-align: right;\n",
       "    }\n",
       "</style>\n",
       "<table border=\"1\" class=\"dataframe\">\n",
       "  <thead>\n",
       "    <tr style=\"text-align: right;\">\n",
       "      <th></th>\n",
       "      <th>RowNumber</th>\n",
       "      <th>CustomerId</th>\n",
       "      <th>Surname</th>\n",
       "      <th>CreditScore</th>\n",
       "      <th>Geography</th>\n",
       "      <th>Gender</th>\n",
       "      <th>Age</th>\n",
       "      <th>Tenure</th>\n",
       "      <th>Balance</th>\n",
       "      <th>NumOfProducts</th>\n",
       "      <th>HasCrCard</th>\n",
       "      <th>IsActiveMember</th>\n",
       "      <th>EstimatedSalary</th>\n",
       "      <th>Exited</th>\n",
       "    </tr>\n",
       "  </thead>\n",
       "  <tbody>\n",
       "    <tr>\n",
       "      <th>0</th>\n",
       "      <td>1</td>\n",
       "      <td>15634602</td>\n",
       "      <td>Hargrave</td>\n",
       "      <td>619</td>\n",
       "      <td>France</td>\n",
       "      <td>Female</td>\n",
       "      <td>42</td>\n",
       "      <td>2.0</td>\n",
       "      <td>0.00</td>\n",
       "      <td>1</td>\n",
       "      <td>1</td>\n",
       "      <td>1</td>\n",
       "      <td>101348.88</td>\n",
       "      <td>1</td>\n",
       "    </tr>\n",
       "    <tr>\n",
       "      <th>1</th>\n",
       "      <td>2</td>\n",
       "      <td>15647311</td>\n",
       "      <td>Hill</td>\n",
       "      <td>608</td>\n",
       "      <td>Spain</td>\n",
       "      <td>Female</td>\n",
       "      <td>41</td>\n",
       "      <td>1.0</td>\n",
       "      <td>83807.86</td>\n",
       "      <td>1</td>\n",
       "      <td>0</td>\n",
       "      <td>1</td>\n",
       "      <td>112542.58</td>\n",
       "      <td>0</td>\n",
       "    </tr>\n",
       "    <tr>\n",
       "      <th>2</th>\n",
       "      <td>3</td>\n",
       "      <td>15619304</td>\n",
       "      <td>Onio</td>\n",
       "      <td>502</td>\n",
       "      <td>France</td>\n",
       "      <td>Female</td>\n",
       "      <td>42</td>\n",
       "      <td>8.0</td>\n",
       "      <td>159660.80</td>\n",
       "      <td>3</td>\n",
       "      <td>1</td>\n",
       "      <td>0</td>\n",
       "      <td>113931.57</td>\n",
       "      <td>1</td>\n",
       "    </tr>\n",
       "    <tr>\n",
       "      <th>3</th>\n",
       "      <td>4</td>\n",
       "      <td>15701354</td>\n",
       "      <td>Boni</td>\n",
       "      <td>699</td>\n",
       "      <td>France</td>\n",
       "      <td>Female</td>\n",
       "      <td>39</td>\n",
       "      <td>1.0</td>\n",
       "      <td>0.00</td>\n",
       "      <td>2</td>\n",
       "      <td>0</td>\n",
       "      <td>0</td>\n",
       "      <td>93826.63</td>\n",
       "      <td>0</td>\n",
       "    </tr>\n",
       "    <tr>\n",
       "      <th>4</th>\n",
       "      <td>5</td>\n",
       "      <td>15737888</td>\n",
       "      <td>Mitchell</td>\n",
       "      <td>850</td>\n",
       "      <td>Spain</td>\n",
       "      <td>Female</td>\n",
       "      <td>43</td>\n",
       "      <td>2.0</td>\n",
       "      <td>125510.82</td>\n",
       "      <td>1</td>\n",
       "      <td>1</td>\n",
       "      <td>1</td>\n",
       "      <td>79084.10</td>\n",
       "      <td>0</td>\n",
       "    </tr>\n",
       "  </tbody>\n",
       "</table>\n",
       "</div>"
      ],
      "text/plain": [
       "   RowNumber  CustomerId   Surname  CreditScore Geography  Gender  Age  \\\n",
       "0          1    15634602  Hargrave          619    France  Female   42   \n",
       "1          2    15647311      Hill          608     Spain  Female   41   \n",
       "2          3    15619304      Onio          502    France  Female   42   \n",
       "3          4    15701354      Boni          699    France  Female   39   \n",
       "4          5    15737888  Mitchell          850     Spain  Female   43   \n",
       "\n",
       "   Tenure    Balance  NumOfProducts  HasCrCard  IsActiveMember  \\\n",
       "0     2.0       0.00              1          1               1   \n",
       "1     1.0   83807.86              1          0               1   \n",
       "2     8.0  159660.80              3          1               0   \n",
       "3     1.0       0.00              2          0               0   \n",
       "4     2.0  125510.82              1          1               1   \n",
       "\n",
       "   EstimatedSalary  Exited  \n",
       "0        101348.88       1  \n",
       "1        112542.58       0  \n",
       "2        113931.57       1  \n",
       "3         93826.63       0  \n",
       "4         79084.10       0  "
      ]
     },
     "execution_count": 6,
     "metadata": {},
     "output_type": "execute_result"
    }
   ],
   "source": [
    "start_data.head(5)"
   ]
  },
  {
   "cell_type": "markdown",
   "metadata": {},
   "source": [
    "В нашем датасете 14 колонок:\n",
    "\n",
    "Признаки:\n",
    "- `RowNumber` — индекс строки в данных\n",
    "- `CustomerId` — уникальный идентификатор клиента\n",
    "- `Surname` — фамилия\n",
    "- `CreditScore` — кредитный рейтинг\n",
    "- `Geography` — страна проживания\n",
    "- `Gender` — пол\n",
    "- `Age` — возраст\n",
    "- `Tenure` — количество недвижимости у клиента\n",
    "- `Balance` — баланс на счёте\n",
    "- `NumOfProducts` — количество продуктов банка, используемых клиентом\n",
    "- `HasCrCard` — наличие кредитной карты\n",
    "- `IsActiveMember` — активность клиента\n",
    "- `EstimatedSalary` — предполагаемая зарплата\n",
    "\n",
    "Целевой признак:\n",
    "- `Exited` — факт ухода клиента\n",
    "\n",
    "`RowNumber`, `CustomerId` и `Surname` можно убрать из таблицы - они не несут в себе информации полезной для нашего исследования. Врядли факт ухода клиента из банка коррелируется с его фамилией или порядковым номером в системе банка.\n",
    "\n",
    "Столбец `Tenure` имеет пропуски и записан в формате чисел с плавающей точкой. Пропуски скорее всего возникли в результате того, что некоторые операторы, заполнявшие анкеты, пропускали этот пункт, если у человека нет недвижимости. Логично заполнить пропуски нулями и привести столбец к целочисленному формату.\n",
    "\n",
    "Так же у нас имеется несколько столбцов с категориальными данными, которые нам надо подменить на числовые значения. "
   ]
  },
  {
   "cell_type": "code",
   "execution_count": 7,
   "metadata": {},
   "outputs": [
    {
     "name": "stdout",
     "output_type": "stream",
     "text": [
      "<class 'pandas.core.frame.DataFrame'>\n",
      "RangeIndex: 10000 entries, 0 to 9999\n",
      "Data columns (total 11 columns):\n",
      " #   Column           Non-Null Count  Dtype  \n",
      "---  ------           --------------  -----  \n",
      " 0   creditscore      10000 non-null  int64  \n",
      " 1   geography        10000 non-null  object \n",
      " 2   gender           10000 non-null  object \n",
      " 3   age              10000 non-null  int64  \n",
      " 4   tenure           9091 non-null   float64\n",
      " 5   balance          10000 non-null  float64\n",
      " 6   numofproducts    10000 non-null  int64  \n",
      " 7   hascrcard        10000 non-null  int64  \n",
      " 8   isactivemember   10000 non-null  int64  \n",
      " 9   estimatedsalary  10000 non-null  float64\n",
      " 10  exited           10000 non-null  int64  \n",
      "dtypes: float64(3), int64(6), object(2)\n",
      "memory usage: 859.5+ KB\n",
      "None\n"
     ]
    }
   ],
   "source": [
    "start_data.drop(['RowNumber', 'Surname', 'CustomerId'], axis=1, inplace=True)\n",
    "\n",
    "start_data.columns = map(str.lower, start_data.columns)\n",
    "print(start_data.info())"
   ]
  },
  {
   "cell_type": "code",
   "execution_count": 8,
   "metadata": {},
   "outputs": [
    {
     "name": "stdout",
     "output_type": "stream",
     "text": [
      "<class 'pandas.core.frame.DataFrame'>\n",
      "RangeIndex: 10000 entries, 0 to 9999\n",
      "Data columns (total 11 columns):\n",
      " #   Column           Non-Null Count  Dtype  \n",
      "---  ------           --------------  -----  \n",
      " 0   creditscore      10000 non-null  int64  \n",
      " 1   geography        10000 non-null  object \n",
      " 2   gender           10000 non-null  object \n",
      " 3   age              10000 non-null  int64  \n",
      " 4   tenure           10000 non-null  int32  \n",
      " 5   balance          10000 non-null  float64\n",
      " 6   numofproducts    10000 non-null  int64  \n",
      " 7   hascrcard        10000 non-null  int64  \n",
      " 8   isactivemember   10000 non-null  int64  \n",
      " 9   estimatedsalary  10000 non-null  float64\n",
      " 10  exited           10000 non-null  int64  \n",
      "dtypes: float64(2), int32(1), int64(6), object(2)\n",
      "memory usage: 820.4+ KB\n",
      "None\n"
     ]
    }
   ],
   "source": [
    "start_data['tenure'].fillna(0, inplace=True)\n",
    "\n",
    "start_data = start_data.astype({'tenure':'int'})\n",
    "\n",
    "print(start_data.info())"
   ]
  },
  {
   "cell_type": "code",
   "execution_count": 9,
   "metadata": {},
   "outputs": [
    {
     "data": {
      "text/plain": [
       "array(['France', 'Spain', 'Germany'], dtype=object)"
      ]
     },
     "execution_count": 9,
     "metadata": {},
     "output_type": "execute_result"
    }
   ],
   "source": [
    "start_data['geography'].unique()"
   ]
  },
  {
   "cell_type": "markdown",
   "metadata": {},
   "source": [
    "В столбце с геграфией клиента всего три вида Уникальных значений. Используем для этого столбца и для столбца с полом клиента технику прямого кодирования. Чтобы избежать дамми-ловушку будем передовать аргументом функции `drop_first=True`."
   ]
  },
  {
   "cell_type": "code",
   "execution_count": 11,
   "metadata": {},
   "outputs": [],
   "source": [
    "start_data_ohe = pd.get_dummies(start_data, drop_first=True)"
   ]
  },
  {
   "cell_type": "code",
   "execution_count": 12,
   "metadata": {},
   "outputs": [
    {
     "data": {
      "text/html": [
       "<div>\n",
       "<style scoped>\n",
       "    .dataframe tbody tr th:only-of-type {\n",
       "        vertical-align: middle;\n",
       "    }\n",
       "\n",
       "    .dataframe tbody tr th {\n",
       "        vertical-align: top;\n",
       "    }\n",
       "\n",
       "    .dataframe thead th {\n",
       "        text-align: right;\n",
       "    }\n",
       "</style>\n",
       "<table border=\"1\" class=\"dataframe\">\n",
       "  <thead>\n",
       "    <tr style=\"text-align: right;\">\n",
       "      <th></th>\n",
       "      <th>creditscore</th>\n",
       "      <th>age</th>\n",
       "      <th>tenure</th>\n",
       "      <th>balance</th>\n",
       "      <th>numofproducts</th>\n",
       "      <th>hascrcard</th>\n",
       "      <th>isactivemember</th>\n",
       "      <th>estimatedsalary</th>\n",
       "      <th>exited</th>\n",
       "      <th>geography_Germany</th>\n",
       "      <th>geography_Spain</th>\n",
       "      <th>gender_Male</th>\n",
       "    </tr>\n",
       "  </thead>\n",
       "  <tbody>\n",
       "    <tr>\n",
       "      <th>0</th>\n",
       "      <td>619</td>\n",
       "      <td>42</td>\n",
       "      <td>2</td>\n",
       "      <td>0.00</td>\n",
       "      <td>1</td>\n",
       "      <td>1</td>\n",
       "      <td>1</td>\n",
       "      <td>101348.88</td>\n",
       "      <td>1</td>\n",
       "      <td>0</td>\n",
       "      <td>0</td>\n",
       "      <td>0</td>\n",
       "    </tr>\n",
       "    <tr>\n",
       "      <th>1</th>\n",
       "      <td>608</td>\n",
       "      <td>41</td>\n",
       "      <td>1</td>\n",
       "      <td>83807.86</td>\n",
       "      <td>1</td>\n",
       "      <td>0</td>\n",
       "      <td>1</td>\n",
       "      <td>112542.58</td>\n",
       "      <td>0</td>\n",
       "      <td>0</td>\n",
       "      <td>1</td>\n",
       "      <td>0</td>\n",
       "    </tr>\n",
       "    <tr>\n",
       "      <th>2</th>\n",
       "      <td>502</td>\n",
       "      <td>42</td>\n",
       "      <td>8</td>\n",
       "      <td>159660.80</td>\n",
       "      <td>3</td>\n",
       "      <td>1</td>\n",
       "      <td>0</td>\n",
       "      <td>113931.57</td>\n",
       "      <td>1</td>\n",
       "      <td>0</td>\n",
       "      <td>0</td>\n",
       "      <td>0</td>\n",
       "    </tr>\n",
       "    <tr>\n",
       "      <th>3</th>\n",
       "      <td>699</td>\n",
       "      <td>39</td>\n",
       "      <td>1</td>\n",
       "      <td>0.00</td>\n",
       "      <td>2</td>\n",
       "      <td>0</td>\n",
       "      <td>0</td>\n",
       "      <td>93826.63</td>\n",
       "      <td>0</td>\n",
       "      <td>0</td>\n",
       "      <td>0</td>\n",
       "      <td>0</td>\n",
       "    </tr>\n",
       "    <tr>\n",
       "      <th>4</th>\n",
       "      <td>850</td>\n",
       "      <td>43</td>\n",
       "      <td>2</td>\n",
       "      <td>125510.82</td>\n",
       "      <td>1</td>\n",
       "      <td>1</td>\n",
       "      <td>1</td>\n",
       "      <td>79084.10</td>\n",
       "      <td>0</td>\n",
       "      <td>0</td>\n",
       "      <td>1</td>\n",
       "      <td>0</td>\n",
       "    </tr>\n",
       "  </tbody>\n",
       "</table>\n",
       "</div>"
      ],
      "text/plain": [
       "   creditscore  age  tenure    balance  numofproducts  hascrcard  \\\n",
       "0          619   42       2       0.00              1          1   \n",
       "1          608   41       1   83807.86              1          0   \n",
       "2          502   42       8  159660.80              3          1   \n",
       "3          699   39       1       0.00              2          0   \n",
       "4          850   43       2  125510.82              1          1   \n",
       "\n",
       "   isactivemember  estimatedsalary  exited  geography_Germany  \\\n",
       "0               1        101348.88       1                  0   \n",
       "1               1        112542.58       0                  0   \n",
       "2               0        113931.57       1                  0   \n",
       "3               0         93826.63       0                  0   \n",
       "4               1         79084.10       0                  0   \n",
       "\n",
       "   geography_Spain  gender_Male  \n",
       "0                0            0  \n",
       "1                1            0  \n",
       "2                0            0  \n",
       "3                0            0  \n",
       "4                1            0  "
      ]
     },
     "execution_count": 12,
     "metadata": {},
     "output_type": "execute_result"
    }
   ],
   "source": [
    "start_data_ohe.head(5)"
   ]
  },
  {
   "cell_type": "markdown",
   "metadata": {},
   "source": [
    "Посмотрим, что у нас находится в столбцах с количественными признаками. Напишем функцию, которая нарисует нам распределение этих признаков, чтобы оценить нет ли у нас выбросов или каких-либо еще артефактов, которые могут повлиять на качество нашей модели."
   ]
  },
  {
   "cell_type": "code",
   "execution_count": 13,
   "metadata": {},
   "outputs": [],
   "source": [
    "def histogram_boxplot(data,\n",
    "                      xlabel=None,\n",
    "                      title=None,\n",
    "                      font_scale=1,\n",
    "                      figsize=(16, 8),\n",
    "                      bins=None):\n",
    "    \"\"\" Диграмма размаха и гистограмма будут отрисованны вместе на одном кадре. \n",
    "    На графиках будут также нарисованны линия среднего и медианы.\n",
    "    data: 1-d data array\n",
    "    xlabel: xlabel \n",
    "    title: title\n",
    "    font_scale: the scale of the font (default 1)\n",
    "    figsize: size of fig (default (16, 8))\n",
    "    bins: number of bins (default None / auto)\n",
    "    \"\"\"\n",
    "    \n",
    "    sns.set(font_scale=font_scale)\n",
    "    \n",
    "    f2, (ax_box2, ax_hist2) = plt.subplots(\n",
    "        2,\n",
    "        sharex=True,\n",
    "        gridspec_kw={\"height_ratios\": (.15, .85)},\n",
    "        figsize=figsize\n",
    "    )\n",
    "    sns.boxplot(x=data, ax=ax_box2)\n",
    "    \n",
    "    if bins:\n",
    "        sns.histplot(x=data, ax=ax_hist2, bins=bins, kde=True)\n",
    "    else:\n",
    "        sns.histplot(data, ax=ax_hist2, kde=True)\n",
    "\n",
    "    plt.axvline(x=data.mean(), linewidth=2, color='r', label=\"mean\", alpha=0.8)\n",
    "    plt.axvline(x=data.median(),\n",
    "                linewidth=2,\n",
    "                color='y',\n",
    "                label=\"median\",\n",
    "                alpha=0.8)\n",
    "    ax_hist2.legend()\n",
    "\n",
    "    if xlabel:\n",
    "        ax_hist2.set(xlabel=xlabel)\n",
    "    if title:\n",
    "        ax_box2.set(title=title)\n",
    "    plt.show()    "
   ]
  },
  {
   "cell_type": "code",
   "execution_count": 14,
   "metadata": {},
   "outputs": [],
   "source": [
    "def info_column(column_name, data, bins=None):\n",
    "    \n",
    "    '''Функция смотри тип данных в столбце:\n",
    "    - если тип object, то смотрит уникальные значения\n",
    "    - в противном случае оценивается распределение'''\n",
    "    \n",
    "    if column_name.dtype == 'object':\n",
    "        \n",
    "        print(column_name.name)\n",
    "        print(column_name.unique())\n",
    "        print()\n",
    "        print(column_name.describe())\n",
    "        print()\n",
    "        \n",
    "    else:\n",
    "        bins=bins\n",
    "        print(column_name.name)\n",
    "        print(column_name.describe())\n",
    "        histogram_boxplot(column_name, xlabel=column_name.name, title = 'Распределение '+ column_name.name)        "
   ]
  },
  {
   "cell_type": "code",
   "execution_count": 15,
   "metadata": {
    "scrolled": false
   },
   "outputs": [
    {
     "name": "stdout",
     "output_type": "stream",
     "text": [
      "creditscore\n",
      "count    10000.000000\n",
      "mean       650.528800\n",
      "std         96.653299\n",
      "min        350.000000\n",
      "25%        584.000000\n",
      "50%        652.000000\n",
      "75%        718.000000\n",
      "max        850.000000\n",
      "Name: creditscore, dtype: float64\n"
     ]
    },
    {
     "data": {
      "image/png": "[encoded data removed]",
      "text/plain": [
       "<Figure size 1152x576 with 2 Axes>"
      ]
     },
     "metadata": {},
     "output_type": "display_data"
    },
    {
     "name": "stdout",
     "output_type": "stream",
     "text": [
      "age\n",
      "count    10000.000000\n",
      "mean        38.921800\n",
      "std         10.487806\n",
      "min         18.000000\n",
      "25%         32.000000\n",
      "50%         37.000000\n",
      "75%         44.000000\n",
      "max         92.000000\n",
      "Name: age, dtype: float64\n"
     ]
    },
    {
     "data": {
      "image/png": "[encoded data removed]",
      "text/plain": [
       "<Figure size 1152x576 with 2 Axes>"
      ]
     },
     "metadata": {},
     "output_type": "display_data"
    },
    {
     "name": "stdout",
     "output_type": "stream",
     "text": [
      "balance\n",
      "count     10000.000000\n",
      "mean      76485.889288\n",
      "std       62397.405202\n",
      "min           0.000000\n",
      "25%           0.000000\n",
      "50%       97198.540000\n",
      "75%      127644.240000\n",
      "max      250898.090000\n",
      "Name: balance, dtype: float64\n"
     ]
    },
    {
     "data": {
      "image/png": "[encoded data removed]",
      "text/plain": [
       "<Figure size 1152x576 with 2 Axes>"
      ]
     },
     "metadata": {},
     "output_type": "display_data"
    },
    {
     "name": "stdout",
     "output_type": "stream",
     "text": [
      "estimatedsalary\n",
      "count     10000.000000\n",
      "mean     100090.239881\n",
      "std       57510.492818\n",
      "min          11.580000\n",
      "25%       51002.110000\n",
      "50%      100193.915000\n",
      "75%      149388.247500\n",
      "max      199992.480000\n",
      "Name: estimatedsalary, dtype: float64\n"
     ]
    },
    {
     "data": {
      "image/png": "[encoded data removed]",
      "text/plain": [
       "<Figure size 1152x576 with 2 Axes>"
      ]
     },
     "metadata": {},
     "output_type": "display_data"
    },
    {
     "name": "stdout",
     "output_type": "stream",
     "text": [
      "numofproducts\n",
      "count    10000.000000\n",
      "mean         1.530200\n",
      "std          0.581654\n",
      "min          1.000000\n",
      "25%          1.000000\n",
      "50%          1.000000\n",
      "75%          2.000000\n",
      "max          4.000000\n",
      "Name: numofproducts, dtype: float64\n"
     ]
    },
    {
     "data": {
      "image/png": "[encoded data removed]",
      "text/plain": [
       "<Figure size 1152x576 with 2 Axes>"
      ]
     },
     "metadata": {},
     "output_type": "display_data"
    },
    {
     "name": "stdout",
     "output_type": "stream",
     "text": [
      "tenure\n",
      "count    10000.000000\n",
      "mean         4.543400\n",
      "std          3.111573\n",
      "min          0.000000\n",
      "25%          2.000000\n",
      "50%          4.000000\n",
      "75%          7.000000\n",
      "max         10.000000\n",
      "Name: tenure, dtype: float64\n"
     ]
    },
    {
     "data": {
      "image/png": "[encoded data removed]",
      "text/plain": [
       "<Figure size 1152x576 with 2 Axes>"
      ]
     },
     "metadata": {},
     "output_type": "display_data"
    }
   ],
   "source": [
    "numeric = ['creditscore', 'age', 'balance', 'estimatedsalary', 'numofproducts', 'tenure']\n",
    "\n",
    "for column in numeric:\n",
    "    info_column(start_data[column], start_data)"
   ]
  },
  {
   "cell_type": "markdown",
   "metadata": {},
   "source": [
    "Из осмотра количественных данных можно сделать следующие наблюдения:\n",
    "- 233 человека вызывают повышенную симпатию со стороны банка и имеют максимальный кредитный рейтинг. Совсем немного, и скорее всего они лояльные клинеты. Есть небольшой выброс с очень маленьким рейтингом, но они не должны повлиять на нашу выборку.\n",
    "- 3617 человек не держат деньги на счету в этом банке. Вероятно они либо пользуются исключительно кредитными продуктами банка, либо счет у них остался, потому что они слишком ленивы, чтобы закрывать его. Интуиция подсказывает, что как раз они должны быть из группы риска. Но это только интуиция. Тем не менее, мы не будем ничего предпринимать, чтобы отдельно обработать эти данные."
   ]
  },
  {
   "cell_type": "markdown",
   "metadata": {},
   "source": [
    "**Вывод по шагу 1:**"
   ]
  },
  {
   "cell_type": "markdown",
   "metadata": {},
   "source": [
    "Мы проверили нашу таблицу и предобработали данные:\n",
    "- стандартизировали названия столбцов\n",
    "- исключили бесполезные данные из нашего набора\n",
    "- заполнили пропуски и привели данные к нужному типу\n",
    "- заменили категориальные данные на числовые методом прямого кодирования\n",
    "\n",
    "Теперь нам надо разделить данные и подготовить их к обучению модели."
   ]
  },
  {
   "cell_type": "markdown",
   "metadata": {},
   "source": [
    "##  Исследование задачи"
   ]
  },
  {
   "cell_type": "markdown",
   "metadata": {},
   "source": [
    "### Разбиение выборок и масштабирование признаков"
   ]
  },
  {
   "cell_type": "markdown",
   "metadata": {},
   "source": [
    "Для начала разобьем нашу таблицу и выделим признаки и целевой признак, а так же сразу разделим данные на обучающие и тестовые. Напишем для этого отдельную функцию."
   ]
  },
  {
   "cell_type": "code",
   "execution_count": 17,
   "metadata": {},
   "outputs": [],
   "source": [
    "def split_df_classification(df, target_column_name:str, valid_test_flag:bool):\n",
    "    \n",
    "    '''\n",
    "    This function takes dataframe, target column name and a flag, which means should it return train-valid-test df's \n",
    "    (features_train, features_valid, features_test and target_train, target_valid, target_test) or only train-test.\n",
    "    In case if flag = False, than the function will split the df in proportion 75/25, if True - 60/20/20.\n",
    "    All splits will be stratified by a target column.\n",
    "    '''\n",
    "    \n",
    "    from sklearn.model_selection import train_test_split\n",
    "    \n",
    "    if valid_test_flag:\n",
    "        df_train, df_valid = train_test_split(df, test_size=0.2, \n",
    "                                              random_state=12345, \n",
    "                                              stratify = df[target_column_name])\n",
    "        df_train, df_test = train_test_split(df_train, test_size=0.25, \n",
    "                                             random_state=12345, \n",
    "                                             stratify = df_train[target_column_name])\n",
    "        \n",
    "        features_train = df_train.drop([target_column_name], axis=1)\n",
    "        target_train = df_train[target_column_name]\n",
    "        \n",
    "        features_valid = df_valid.drop([target_column_name], axis=1)\n",
    "        target_valid = df_valid[target_column_name]\n",
    "        \n",
    "        features_test = df_test.drop([target_column_name], axis=1)\n",
    "        target_test = df_test[target_column_name]\n",
    "        \n",
    "        return features_train, features_valid, features_test, target_train, target_valid, target_test\n",
    "    \n",
    "    df_train, df_test = train_test_split(df, test_size=0.25, random_state=12345, stratify = df[target_column_name])\n",
    "    \n",
    "    features_train = df_train.drop([target_column_name], axis=1)\n",
    "    target_train = df_train[target_column_name]\n",
    "    \n",
    "    features_test = df_test.drop([target_column_name], axis=1)\n",
    "    target_test = df_test[target_column_name]\n",
    "    \n",
    "    return features_train, features_test, target_train, target_test\n"
   ]
  },
  {
   "cell_type": "markdown",
   "metadata": {},
   "source": [
    "Разделим первоначальную выборку на тренировочную, валидационную и тестовую."
   ]
  },
  {
   "cell_type": "code",
   "execution_count": 18,
   "metadata": {},
   "outputs": [],
   "source": [
    "features_train, features_valid, features_test, target_train, target_valid, target_test = split_df_classification(\n",
    "    start_data_ohe, 'exited', True)"
   ]
  },
  {
   "cell_type": "code",
   "execution_count": 19,
   "metadata": {
    "scrolled": true
   },
   "outputs": [
    {
     "name": "stdout",
     "output_type": "stream",
     "text": [
      "Размер первоначального набора данных: 10000 строк\n",
      "Размер обучающей выборки: 60.00%\n",
      "Размер валидационной выборки: 20.00%\n",
      "Размер тестовой выборки: 20.00%\n"
     ]
    }
   ],
   "source": [
    "print('Размер первоначального набора данных:', start_data_ohe.shape[0], 'строк')\n",
    "print('Размер обучающей выборки: {:.2%}'.format(features_train.shape[0]/start_data_ohe.shape[0]))\n",
    "print('Размер валидационной выборки: {:.2%}'.format(features_valid.shape[0]/start_data_ohe.shape[0]))\n",
    "print('Размер тестовой выборки: {:.2%}'.format(features_test.shape[0]/start_data_ohe.shape[0]))"
   ]
  },
  {
   "cell_type": "markdown",
   "metadata": {},
   "source": [
    "Посмотрим на баланс классов в наших выборках. Нас интересует как само соотношение классов целевого признака, так и сохранение этого соотношения в разделенных выборках."
   ]
  },
  {
   "cell_type": "code",
   "execution_count": 20,
   "metadata": {},
   "outputs": [
    {
     "name": "stdout",
     "output_type": "stream",
     "text": [
      "\n",
      "Количество элементов целевого признака составляет 20.38% от всей выборки\n",
      "\n",
      "Количество элементов целевого признака составляет 20.35% от всей выборки\n",
      "\n",
      "Количество элементов целевого признака составляет 20.35% от всей выборки\n"
     ]
    }
   ],
   "source": [
    "dfs = [target_train, target_valid, target_test]\n",
    "\n",
    "for df in dfs:\n",
    "    print()\n",
    "    print('Количество элементов целевого признака составляет {:.2%} от всей выборки'.format(df.mean()))"
   ]
  },
  {
   "cell_type": "markdown",
   "metadata": {},
   "source": [
    "Отлично, нам удалось сохранить соотношение целевого признака для всех выборок. "
   ]
  },
  {
   "cell_type": "markdown",
   "metadata": {},
   "source": [
    "Сделаем масштабирование признаков."
   ]
  },
  {
   "cell_type": "code",
   "execution_count": 21,
   "metadata": {},
   "outputs": [
    {
     "data": {
      "text/html": [
       "<div>\n",
       "<style scoped>\n",
       "    .dataframe tbody tr th:only-of-type {\n",
       "        vertical-align: middle;\n",
       "    }\n",
       "\n",
       "    .dataframe tbody tr th {\n",
       "        vertical-align: top;\n",
       "    }\n",
       "\n",
       "    .dataframe thead th {\n",
       "        text-align: right;\n",
       "    }\n",
       "</style>\n",
       "<table border=\"1\" class=\"dataframe\">\n",
       "  <thead>\n",
       "    <tr style=\"text-align: right;\">\n",
       "      <th></th>\n",
       "      <th>creditscore</th>\n",
       "      <th>age</th>\n",
       "      <th>tenure</th>\n",
       "      <th>balance</th>\n",
       "      <th>numofproducts</th>\n",
       "      <th>hascrcard</th>\n",
       "      <th>isactivemember</th>\n",
       "      <th>estimatedsalary</th>\n",
       "      <th>geography_Germany</th>\n",
       "      <th>geography_Spain</th>\n",
       "      <th>gender_Male</th>\n",
       "    </tr>\n",
       "  </thead>\n",
       "  <tbody>\n",
       "    <tr>\n",
       "      <th>5536</th>\n",
       "      <td>636</td>\n",
       "      <td>45</td>\n",
       "      <td>0</td>\n",
       "      <td>0.00</td>\n",
       "      <td>2</td>\n",
       "      <td>1</td>\n",
       "      <td>1</td>\n",
       "      <td>159463.80</td>\n",
       "      <td>0</td>\n",
       "      <td>1</td>\n",
       "      <td>1</td>\n",
       "    </tr>\n",
       "    <tr>\n",
       "      <th>8530</th>\n",
       "      <td>808</td>\n",
       "      <td>33</td>\n",
       "      <td>2</td>\n",
       "      <td>103516.87</td>\n",
       "      <td>1</td>\n",
       "      <td>1</td>\n",
       "      <td>0</td>\n",
       "      <td>113907.80</td>\n",
       "      <td>0</td>\n",
       "      <td>0</td>\n",
       "      <td>0</td>\n",
       "    </tr>\n",
       "    <tr>\n",
       "      <th>1762</th>\n",
       "      <td>758</td>\n",
       "      <td>34</td>\n",
       "      <td>1</td>\n",
       "      <td>154139.45</td>\n",
       "      <td>1</td>\n",
       "      <td>1</td>\n",
       "      <td>1</td>\n",
       "      <td>60728.89</td>\n",
       "      <td>0</td>\n",
       "      <td>0</td>\n",
       "      <td>0</td>\n",
       "    </tr>\n",
       "    <tr>\n",
       "      <th>9090</th>\n",
       "      <td>809</td>\n",
       "      <td>39</td>\n",
       "      <td>5</td>\n",
       "      <td>0.00</td>\n",
       "      <td>1</td>\n",
       "      <td>1</td>\n",
       "      <td>0</td>\n",
       "      <td>77705.75</td>\n",
       "      <td>0</td>\n",
       "      <td>0</td>\n",
       "      <td>0</td>\n",
       "    </tr>\n",
       "    <tr>\n",
       "      <th>8777</th>\n",
       "      <td>603</td>\n",
       "      <td>24</td>\n",
       "      <td>1</td>\n",
       "      <td>165149.13</td>\n",
       "      <td>2</td>\n",
       "      <td>1</td>\n",
       "      <td>0</td>\n",
       "      <td>21858.28</td>\n",
       "      <td>0</td>\n",
       "      <td>1</td>\n",
       "      <td>1</td>\n",
       "    </tr>\n",
       "  </tbody>\n",
       "</table>\n",
       "</div>"
      ],
      "text/plain": [
       "      creditscore  age  tenure    balance  numofproducts  hascrcard  \\\n",
       "5536          636   45       0       0.00              2          1   \n",
       "8530          808   33       2  103516.87              1          1   \n",
       "1762          758   34       1  154139.45              1          1   \n",
       "9090          809   39       5       0.00              1          1   \n",
       "8777          603   24       1  165149.13              2          1   \n",
       "\n",
       "      isactivemember  estimatedsalary  geography_Germany  geography_Spain  \\\n",
       "5536               1        159463.80                  0                1   \n",
       "8530               0        113907.80                  0                0   \n",
       "1762               1         60728.89                  0                0   \n",
       "9090               0         77705.75                  0                0   \n",
       "8777               0         21858.28                  0                1   \n",
       "\n",
       "      gender_Male  \n",
       "5536            1  \n",
       "8530            0  \n",
       "1762            0  \n",
       "9090            0  \n",
       "8777            1  "
      ]
     },
     "execution_count": 21,
     "metadata": {},
     "output_type": "execute_result"
    }
   ],
   "source": [
    "features_train.head(5)"
   ]
  },
  {
   "cell_type": "code",
   "execution_count": 22,
   "metadata": {},
   "outputs": [
    {
     "data": {
      "text/html": [
       "<div>\n",
       "<style scoped>\n",
       "    .dataframe tbody tr th:only-of-type {\n",
       "        vertical-align: middle;\n",
       "    }\n",
       "\n",
       "    .dataframe tbody tr th {\n",
       "        vertical-align: top;\n",
       "    }\n",
       "\n",
       "    .dataframe thead th {\n",
       "        text-align: right;\n",
       "    }\n",
       "</style>\n",
       "<table border=\"1\" class=\"dataframe\">\n",
       "  <thead>\n",
       "    <tr style=\"text-align: right;\">\n",
       "      <th></th>\n",
       "      <th>creditscore</th>\n",
       "      <th>age</th>\n",
       "      <th>tenure</th>\n",
       "      <th>balance</th>\n",
       "      <th>numofproducts</th>\n",
       "      <th>hascrcard</th>\n",
       "      <th>isactivemember</th>\n",
       "      <th>estimatedsalary</th>\n",
       "      <th>geography_Germany</th>\n",
       "      <th>geography_Spain</th>\n",
       "      <th>gender_Male</th>\n",
       "    </tr>\n",
       "  </thead>\n",
       "  <tbody>\n",
       "    <tr>\n",
       "      <th>5536</th>\n",
       "      <td>-0.143332</td>\n",
       "      <td>0.577533</td>\n",
       "      <td>-1.456283</td>\n",
       "      <td>-1.220573</td>\n",
       "      <td>0.797767</td>\n",
       "      <td>1</td>\n",
       "      <td>1</td>\n",
       "      <td>1.029613</td>\n",
       "      <td>0</td>\n",
       "      <td>1</td>\n",
       "      <td>1</td>\n",
       "    </tr>\n",
       "    <tr>\n",
       "      <th>8530</th>\n",
       "      <td>1.632702</td>\n",
       "      <td>-0.564119</td>\n",
       "      <td>-0.813711</td>\n",
       "      <td>0.435807</td>\n",
       "      <td>-0.916018</td>\n",
       "      <td>1</td>\n",
       "      <td>0</td>\n",
       "      <td>0.237986</td>\n",
       "      <td>0</td>\n",
       "      <td>0</td>\n",
       "      <td>0</td>\n",
       "    </tr>\n",
       "    <tr>\n",
       "      <th>1762</th>\n",
       "      <td>1.116413</td>\n",
       "      <td>-0.468981</td>\n",
       "      <td>-1.134997</td>\n",
       "      <td>1.245822</td>\n",
       "      <td>-0.916018</td>\n",
       "      <td>1</td>\n",
       "      <td>1</td>\n",
       "      <td>-0.686104</td>\n",
       "      <td>0</td>\n",
       "      <td>0</td>\n",
       "      <td>0</td>\n",
       "    </tr>\n",
       "    <tr>\n",
       "      <th>9090</th>\n",
       "      <td>1.643028</td>\n",
       "      <td>0.006707</td>\n",
       "      <td>0.150148</td>\n",
       "      <td>-1.220573</td>\n",
       "      <td>-0.916018</td>\n",
       "      <td>1</td>\n",
       "      <td>0</td>\n",
       "      <td>-0.391097</td>\n",
       "      <td>0</td>\n",
       "      <td>0</td>\n",
       "      <td>0</td>\n",
       "    </tr>\n",
       "    <tr>\n",
       "      <th>8777</th>\n",
       "      <td>-0.484083</td>\n",
       "      <td>-1.420358</td>\n",
       "      <td>-1.134997</td>\n",
       "      <td>1.421989</td>\n",
       "      <td>0.797767</td>\n",
       "      <td>1</td>\n",
       "      <td>0</td>\n",
       "      <td>-1.361559</td>\n",
       "      <td>0</td>\n",
       "      <td>1</td>\n",
       "      <td>1</td>\n",
       "    </tr>\n",
       "  </tbody>\n",
       "</table>\n",
       "</div>"
      ],
      "text/plain": [
       "      creditscore       age    tenure   balance  numofproducts  hascrcard  \\\n",
       "5536    -0.143332  0.577533 -1.456283 -1.220573       0.797767          1   \n",
       "8530     1.632702 -0.564119 -0.813711  0.435807      -0.916018          1   \n",
       "1762     1.116413 -0.468981 -1.134997  1.245822      -0.916018          1   \n",
       "9090     1.643028  0.006707  0.150148 -1.220573      -0.916018          1   \n",
       "8777    -0.484083 -1.420358 -1.134997  1.421989       0.797767          1   \n",
       "\n",
       "      isactivemember  estimatedsalary  geography_Germany  geography_Spain  \\\n",
       "5536               1         1.029613                  0                1   \n",
       "8530               0         0.237986                  0                0   \n",
       "1762               1        -0.686104                  0                0   \n",
       "9090               0        -0.391097                  0                0   \n",
       "8777               0        -1.361559                  0                1   \n",
       "\n",
       "      gender_Male  \n",
       "5536            1  \n",
       "8530            0  \n",
       "1762            0  \n",
       "9090            0  \n",
       "8777            1  "
      ]
     },
     "metadata": {},
     "output_type": "display_data"
    },
    {
     "data": {
      "text/html": [
       "<div>\n",
       "<style scoped>\n",
       "    .dataframe tbody tr th:only-of-type {\n",
       "        vertical-align: middle;\n",
       "    }\n",
       "\n",
       "    .dataframe tbody tr th {\n",
       "        vertical-align: top;\n",
       "    }\n",
       "\n",
       "    .dataframe thead th {\n",
       "        text-align: right;\n",
       "    }\n",
       "</style>\n",
       "<table border=\"1\" class=\"dataframe\">\n",
       "  <thead>\n",
       "    <tr style=\"text-align: right;\">\n",
       "      <th></th>\n",
       "      <th>creditscore</th>\n",
       "      <th>age</th>\n",
       "      <th>tenure</th>\n",
       "      <th>balance</th>\n",
       "      <th>numofproducts</th>\n",
       "      <th>hascrcard</th>\n",
       "      <th>isactivemember</th>\n",
       "      <th>estimatedsalary</th>\n",
       "      <th>geography_Germany</th>\n",
       "      <th>geography_Spain</th>\n",
       "      <th>gender_Male</th>\n",
       "    </tr>\n",
       "  </thead>\n",
       "  <tbody>\n",
       "    <tr>\n",
       "      <th>7837</th>\n",
       "      <td>2.066384</td>\n",
       "      <td>0.862946</td>\n",
       "      <td>-0.813711</td>\n",
       "      <td>-1.220573</td>\n",
       "      <td>-0.916018</td>\n",
       "      <td>1</td>\n",
       "      <td>0</td>\n",
       "      <td>1.202714</td>\n",
       "      <td>0</td>\n",
       "      <td>1</td>\n",
       "      <td>1</td>\n",
       "    </tr>\n",
       "    <tr>\n",
       "      <th>9505</th>\n",
       "      <td>0.011555</td>\n",
       "      <td>-1.039807</td>\n",
       "      <td>1.756578</td>\n",
       "      <td>0.052520</td>\n",
       "      <td>-0.916018</td>\n",
       "      <td>1</td>\n",
       "      <td>1</td>\n",
       "      <td>-0.443548</td>\n",
       "      <td>0</td>\n",
       "      <td>0</td>\n",
       "      <td>1</td>\n",
       "    </tr>\n",
       "    <tr>\n",
       "      <th>6208</th>\n",
       "      <td>0.662079</td>\n",
       "      <td>-0.468981</td>\n",
       "      <td>1.756578</td>\n",
       "      <td>-1.220573</td>\n",
       "      <td>0.797767</td>\n",
       "      <td>1</td>\n",
       "      <td>1</td>\n",
       "      <td>-0.347161</td>\n",
       "      <td>0</td>\n",
       "      <td>0</td>\n",
       "      <td>1</td>\n",
       "    </tr>\n",
       "    <tr>\n",
       "      <th>5642</th>\n",
       "      <td>1.364231</td>\n",
       "      <td>0.196983</td>\n",
       "      <td>-0.171138</td>\n",
       "      <td>-1.220573</td>\n",
       "      <td>-0.916018</td>\n",
       "      <td>1</td>\n",
       "      <td>0</td>\n",
       "      <td>0.568776</td>\n",
       "      <td>0</td>\n",
       "      <td>1</td>\n",
       "      <td>0</td>\n",
       "    </tr>\n",
       "    <tr>\n",
       "      <th>9643</th>\n",
       "      <td>-1.330797</td>\n",
       "      <td>0.196983</td>\n",
       "      <td>-0.813711</td>\n",
       "      <td>-1.220573</td>\n",
       "      <td>0.797767</td>\n",
       "      <td>1</td>\n",
       "      <td>1</td>\n",
       "      <td>0.223765</td>\n",
       "      <td>0</td>\n",
       "      <td>0</td>\n",
       "      <td>0</td>\n",
       "    </tr>\n",
       "  </tbody>\n",
       "</table>\n",
       "</div>"
      ],
      "text/plain": [
       "      creditscore       age    tenure   balance  numofproducts  hascrcard  \\\n",
       "7837     2.066384  0.862946 -0.813711 -1.220573      -0.916018          1   \n",
       "9505     0.011555 -1.039807  1.756578  0.052520      -0.916018          1   \n",
       "6208     0.662079 -0.468981  1.756578 -1.220573       0.797767          1   \n",
       "5642     1.364231  0.196983 -0.171138 -1.220573      -0.916018          1   \n",
       "9643    -1.330797  0.196983 -0.813711 -1.220573       0.797767          1   \n",
       "\n",
       "      isactivemember  estimatedsalary  geography_Germany  geography_Spain  \\\n",
       "7837               0         1.202714                  0                1   \n",
       "9505               1        -0.443548                  0                0   \n",
       "6208               1        -0.347161                  0                0   \n",
       "5642               0         0.568776                  0                1   \n",
       "9643               1         0.223765                  0                0   \n",
       "\n",
       "      gender_Male  \n",
       "7837            1  \n",
       "9505            1  \n",
       "6208            1  \n",
       "5642            0  \n",
       "9643            0  "
      ]
     },
     "metadata": {},
     "output_type": "display_data"
    },
    {
     "data": {
      "text/html": [
       "<div>\n",
       "<style scoped>\n",
       "    .dataframe tbody tr th:only-of-type {\n",
       "        vertical-align: middle;\n",
       "    }\n",
       "\n",
       "    .dataframe tbody tr th {\n",
       "        vertical-align: top;\n",
       "    }\n",
       "\n",
       "    .dataframe thead th {\n",
       "        text-align: right;\n",
       "    }\n",
       "</style>\n",
       "<table border=\"1\" class=\"dataframe\">\n",
       "  <thead>\n",
       "    <tr style=\"text-align: right;\">\n",
       "      <th></th>\n",
       "      <th>creditscore</th>\n",
       "      <th>age</th>\n",
       "      <th>tenure</th>\n",
       "      <th>balance</th>\n",
       "      <th>numofproducts</th>\n",
       "      <th>hascrcard</th>\n",
       "      <th>isactivemember</th>\n",
       "      <th>estimatedsalary</th>\n",
       "      <th>geography_Germany</th>\n",
       "      <th>geography_Spain</th>\n",
       "      <th>gender_Male</th>\n",
       "    </tr>\n",
       "  </thead>\n",
       "  <tbody>\n",
       "    <tr>\n",
       "      <th>9375</th>\n",
       "      <td>0.094161</td>\n",
       "      <td>0.862946</td>\n",
       "      <td>-0.171138</td>\n",
       "      <td>0.757050</td>\n",
       "      <td>0.797767</td>\n",
       "      <td>1</td>\n",
       "      <td>0</td>\n",
       "      <td>-0.308325</td>\n",
       "      <td>1</td>\n",
       "      <td>0</td>\n",
       "      <td>1</td>\n",
       "    </tr>\n",
       "    <tr>\n",
       "      <th>9536</th>\n",
       "      <td>-1.031349</td>\n",
       "      <td>0.292120</td>\n",
       "      <td>1.756578</td>\n",
       "      <td>0.838881</td>\n",
       "      <td>-0.916018</td>\n",
       "      <td>1</td>\n",
       "      <td>0</td>\n",
       "      <td>-0.645029</td>\n",
       "      <td>1</td>\n",
       "      <td>0</td>\n",
       "      <td>0</td>\n",
       "    </tr>\n",
       "    <tr>\n",
       "      <th>6344</th>\n",
       "      <td>2.066384</td>\n",
       "      <td>0.196983</td>\n",
       "      <td>-0.492424</td>\n",
       "      <td>-1.220573</td>\n",
       "      <td>0.797767</td>\n",
       "      <td>1</td>\n",
       "      <td>0</td>\n",
       "      <td>0.498373</td>\n",
       "      <td>0</td>\n",
       "      <td>0</td>\n",
       "      <td>1</td>\n",
       "    </tr>\n",
       "    <tr>\n",
       "      <th>4357</th>\n",
       "      <td>1.085435</td>\n",
       "      <td>-0.278706</td>\n",
       "      <td>1.114006</td>\n",
       "      <td>-1.220573</td>\n",
       "      <td>0.797767</td>\n",
       "      <td>1</td>\n",
       "      <td>0</td>\n",
       "      <td>1.331035</td>\n",
       "      <td>0</td>\n",
       "      <td>0</td>\n",
       "      <td>1</td>\n",
       "    </tr>\n",
       "    <tr>\n",
       "      <th>9120</th>\n",
       "      <td>0.548495</td>\n",
       "      <td>1.814323</td>\n",
       "      <td>-0.171138</td>\n",
       "      <td>0.266421</td>\n",
       "      <td>-0.916018</td>\n",
       "      <td>0</td>\n",
       "      <td>1</td>\n",
       "      <td>-0.261760</td>\n",
       "      <td>0</td>\n",
       "      <td>1</td>\n",
       "      <td>1</td>\n",
       "    </tr>\n",
       "  </tbody>\n",
       "</table>\n",
       "</div>"
      ],
      "text/plain": [
       "      creditscore       age    tenure   balance  numofproducts  hascrcard  \\\n",
       "9375     0.094161  0.862946 -0.171138  0.757050       0.797767          1   \n",
       "9536    -1.031349  0.292120  1.756578  0.838881      -0.916018          1   \n",
       "6344     2.066384  0.196983 -0.492424 -1.220573       0.797767          1   \n",
       "4357     1.085435 -0.278706  1.114006 -1.220573       0.797767          1   \n",
       "9120     0.548495  1.814323 -0.171138  0.266421      -0.916018          0   \n",
       "\n",
       "      isactivemember  estimatedsalary  geography_Germany  geography_Spain  \\\n",
       "9375               0        -0.308325                  1                0   \n",
       "9536               0        -0.645029                  1                0   \n",
       "6344               0         0.498373                  0                0   \n",
       "4357               0         1.331035                  0                0   \n",
       "9120               1        -0.261760                  0                1   \n",
       "\n",
       "      gender_Male  \n",
       "9375            1  \n",
       "9536            0  \n",
       "6344            1  \n",
       "4357            1  \n",
       "9120            1  "
      ]
     },
     "metadata": {},
     "output_type": "display_data"
    }
   ],
   "source": [
    "numeric = ['creditscore', 'age', 'balance', 'estimatedsalary', 'numofproducts', 'tenure']\n",
    "\n",
    "dfs = [features_train, features_valid, features_test]\n",
    "\n",
    "scaler = StandardScaler() \n",
    "scaler.fit(features_train[numeric])\n",
    "\n",
    "for df in dfs:\n",
    "    df[numeric] = scaler.transform(df[numeric])\n",
    "    display(df.head(5))"
   ]
  },
  {
   "cell_type": "markdown",
   "metadata": {},
   "source": [
    "### Обучение модели без учета дисбаланса"
   ]
  },
  {
   "cell_type": "markdown",
   "metadata": {},
   "source": [
    "Теперь, когда наши данные подготовлены можно приступать к обучению моделей. Для решения нашей задачи попробуем использовать два варианта: случайный лес и логистическую регрессию. Посмотрим какие значения метрик мы получим на стандартных моделях."
   ]
  },
  {
   "cell_type": "code",
   "execution_count": 23,
   "metadata": {},
   "outputs": [],
   "source": [
    "rf_clsfr = RandomForestClassifier(random_state = 42, n_estimators = 10)\n",
    "lr_clsfr = LogisticRegression(random_state = 42, solver='liblinear')"
   ]
  },
  {
   "cell_type": "code",
   "execution_count": 24,
   "metadata": {},
   "outputs": [
    {
     "data": {
      "text/plain": [
       "LogisticRegression(random_state=42, solver='liblinear')"
      ]
     },
     "execution_count": 24,
     "metadata": {},
     "output_type": "execute_result"
    }
   ],
   "source": [
    "lr_clsfr.fit(features_train, target_train)"
   ]
  },
  {
   "cell_type": "code",
   "execution_count": 25,
   "metadata": {
    "scrolled": false
   },
   "outputs": [
    {
     "data": {
      "text/plain": [
       "RandomForestClassifier(n_estimators=10, random_state=42)"
      ]
     },
     "execution_count": 25,
     "metadata": {},
     "output_type": "execute_result"
    }
   ],
   "source": [
    "rf_clsfr.fit(features_train, target_train)"
   ]
  },
  {
   "cell_type": "code",
   "execution_count": 26,
   "metadata": {},
   "outputs": [],
   "source": [
    "def show_metrics(clsfr, features, target, model_name=None):\n",
    "    predicted = clsfr.predict(features)\n",
    "    \n",
    "    probabilities_valid = clsfr.predict_proba(features)\n",
    "    probabilities_one_valid = probabilities_valid[:, 1]\n",
    "    \n",
    "    print('='*40)\n",
    "    if model_name:\n",
    "        print(model_name)\n",
    "    print(\"Precision:\", precision_score(target, predicted))\n",
    "    print(\"Recall:\", recall_score(target, predicted))\n",
    "    print(\"F1:\", f1_score(target, predicted))\n",
    "    print(\"ROC-AUC:\", roc_auc_score(target, probabilities_one_valid))\n",
    "    print('='*40)"
   ]
  },
  {
   "cell_type": "code",
   "execution_count": 27,
   "metadata": {},
   "outputs": [],
   "source": [
    "def show_roc_curve(clsfr, features, target):\n",
    "    probabilities_valid = clsfr.predict_proba(features)\n",
    "    probabilities_one_valid = probabilities_valid[:, 1]\n",
    "    \n",
    "    fpr, tpr, thresholds = roc_curve(target, probabilities_one_valid)\n",
    "    \n",
    "    auc_roc = roc_auc_score(target, probabilities_one_valid)\n",
    "    \n",
    "    plt.figure(figsize=(10,10))\n",
    "    lw = 2\n",
    "    plt.plot(fpr, tpr, color='darkorange',\n",
    "             lw=lw, label='ROC curve (area = %0.2f)' % auc_roc)\n",
    "    plt.plot([0, 1], [0, 1], color='navy', lw=lw, linestyle='--')\n",
    "    plt.xlim([0.0, 1.0])\n",
    "    plt.ylim([0.0, 1.01])\n",
    "    plt.xlabel('False Positive Rate')\n",
    "    plt.ylabel('True Positive Rate')\n",
    "    plt.title('Receiver operating characteristic')\n",
    "    plt.legend(loc=\"lower right\")\n",
    "    plt.show()"
   ]
  },
  {
   "cell_type": "code",
   "execution_count": 28,
   "metadata": {},
   "outputs": [
    {
     "name": "stdout",
     "output_type": "stream",
     "text": [
      "========================================\n",
      "Случайный лес:\n",
      "Precision: 0.7291666666666666\n",
      "Recall: 0.42997542997543\n",
      "F1: 0.5409582689335394\n",
      "ROC-AUC: 0.8114262182058791\n",
      "========================================\n"
     ]
    },
    {
     "data": {
      "image/png": "[encoded data removed]",
      "text/plain": [
       "<Figure size 720x720 with 1 Axes>"
      ]
     },
     "metadata": {},
     "output_type": "display_data"
    }
   ],
   "source": [
    "show_metrics(rf_clsfr, features_valid, target_valid,\"Случайный лес:\" )\n",
    "show_roc_curve(rf_clsfr, features_valid, target_valid)"
   ]
  },
  {
   "cell_type": "code",
   "execution_count": 29,
   "metadata": {},
   "outputs": [
    {
     "name": "stdout",
     "output_type": "stream",
     "text": [
      "========================================\n",
      "Логистическая регрессия:\n",
      "Precision: 0.625\n",
      "Recall: 0.19656019656019655\n",
      "F1: 0.29906542056074764\n",
      "ROC-AUC: 0.7745927745927746\n",
      "========================================\n"
     ]
    },
    {
     "data": {
      "image/png": "[encoded data removed]",
      "text/plain": [
       "<Figure size 720x720 with 1 Axes>"
      ]
     },
     "metadata": {},
     "output_type": "display_data"
    }
   ],
   "source": [
    "show_metrics(lr_clsfr, features_valid, target_valid, 'Логистическая регрессия:')\n",
    "show_roc_curve(lr_clsfr, features_valid, target_valid)"
   ]
  },
  {
   "cell_type": "markdown",
   "metadata": {},
   "source": [
    "Логистическая регрессия показывает `ROC-AUC` ниже, чем случайный лес. Продолжим с одной, \"деревянной\" моделью и попробуем для начала найти лучшие гиперпараметры методом `RandomizedSearchCV`."
   ]
  },
  {
   "cell_type": "code",
   "execution_count": 30,
   "metadata": {},
   "outputs": [
    {
     "name": "stdout",
     "output_type": "stream",
     "text": [
      "Wall time: 16.9 s\n"
     ]
    },
    {
     "data": {
      "text/plain": [
       "RandomizedSearchCV(cv=10,\n",
       "                   estimator=RandomForestClassifier(n_estimators=10,\n",
       "                                                    random_state=42),\n",
       "                   param_distributions={'max_depth': range(1, 13),\n",
       "                                        'min_samples_leaf': range(1, 8),\n",
       "                                        'min_samples_split': range(2, 10),\n",
       "                                        'n_estimators': range(10, 101, 10)},\n",
       "                   random_state=42, scoring='roc_auc')"
      ]
     },
     "execution_count": 30,
     "metadata": {},
     "output_type": "execute_result"
    }
   ],
   "source": [
    "%%time\n",
    "\n",
    "parametrs = { 'n_estimators': range (10, 101, 10),\n",
    "              'max_depth': range (1,13, 1),\n",
    "              'min_samples_leaf': range (1,8),\n",
    "              'min_samples_split': range (2,10,1) }\n",
    "\n",
    "randomized_rf_clsfr = RandomizedSearchCV(rf_clsfr, \n",
    "                                         parametrs, \n",
    "                                         scoring='roc_auc', \n",
    "                                         cv=10,\n",
    "                                         random_state=42)\n",
    "randomized_rf_clsfr.fit(features_train, target_train)"
   ]
  },
  {
   "cell_type": "code",
   "execution_count": 31,
   "metadata": {},
   "outputs": [
    {
     "data": {
      "text/plain": [
       "{'n_estimators': 70,\n",
       " 'min_samples_split': 4,\n",
       " 'min_samples_leaf': 3,\n",
       " 'max_depth': 10}"
      ]
     },
     "execution_count": 31,
     "metadata": {},
     "output_type": "execute_result"
    }
   ],
   "source": [
    "randomized_rf_clsfr.best_params_"
   ]
  },
  {
   "cell_type": "code",
   "execution_count": 32,
   "metadata": {},
   "outputs": [
    {
     "name": "stdout",
     "output_type": "stream",
     "text": [
      "========================================\n",
      "Случайный лес:\n",
      "Precision: 0.7990654205607477\n",
      "Recall: 0.4201474201474201\n",
      "F1: 0.5507246376811594\n",
      "ROC-AUC: 0.8714029900470579\n",
      "========================================\n"
     ]
    }
   ],
   "source": [
    "show_metrics(randomized_rf_clsfr, features_valid, target_valid,\"Случайный лес:\" )"
   ]
  },
  {
   "cell_type": "markdown",
   "metadata": {},
   "source": [
    "**Вывод по шагу 2:**"
   ]
  },
  {
   "cell_type": "markdown",
   "metadata": {},
   "source": [
    "Подбор гиперпараметров помог поднять метрику `ROC-AUC`, но не дал нам ощутимого прироста в F1. Необходимо воспользоваться другими способами повышения качества модели. При проверке балансов классов в нашей выборке мы увидели, что искомый класс составляет всего 20%. Изменим баланс классов вручную и проверим поможет ли это нашей модели стать лучше."
   ]
  },
  {
   "cell_type": "markdown",
   "metadata": {},
   "source": [
    "## Борьба с дисбалансом"
   ]
  },
  {
   "cell_type": "markdown",
   "metadata": {},
   "source": [
    "### Up-sampling"
   ]
  },
  {
   "cell_type": "markdown",
   "metadata": {},
   "source": [
    "Первым методом, который мы попробуем будет увеличение искомого класса - `upsampling`. Мы возьмем наши выборки, отделим строки, где целевой признак равен 1 и продублируем их 4 раза, после чего перемешаем выборки и обучим на них нашу модель."
   ]
  },
  {
   "cell_type": "code",
   "execution_count": 33,
   "metadata": {},
   "outputs": [
    {
     "name": "stdout",
     "output_type": "stream",
     "text": [
      "0.5059468404178302\n"
     ]
    }
   ],
   "source": [
    "def upsample(features, target, repeat):\n",
    "    features_zeros = features[target == 0]\n",
    "    features_ones = features[target == 1]\n",
    "    target_zeros = target[target == 0]\n",
    "    target_ones = target[target == 1]\n",
    "\n",
    "    features_upsampled = pd.concat([features_zeros] + [features_ones] * repeat)\n",
    "    target_upsampled = pd.concat([target_zeros] + [target_ones] * repeat)\n",
    "    \n",
    "    features_upsampled, target_upsampled = shuffle(\n",
    "        features_upsampled, \n",
    "        target_upsampled, \n",
    "        random_state=12345)\n",
    "    \n",
    "    return features_upsampled, target_upsampled\n",
    "\n",
    "\n",
    "features_upsampled, target_upsampled = upsample(features_train, target_train, 4)\n",
    "\n",
    "print(target_upsampled.mean())"
   ]
  },
  {
   "cell_type": "code",
   "execution_count": 34,
   "metadata": {},
   "outputs": [
    {
     "name": "stdout",
     "output_type": "stream",
     "text": [
      "========================================\n",
      "Случайный лес - тренировочная выборка:\n",
      "Precision: 0.8315935977731385\n",
      "Recall: 0.9771054783319706\n",
      "F1: 0.8984962406015037\n",
      "ROC-AUC: 0.9945608479990058\n",
      "========================================\n",
      "========================================\n",
      "Случайный лес - валидационная выборка:\n",
      "Precision: 0.579175704989154\n",
      "Recall: 0.6560196560196561\n",
      "F1: 0.6152073732718895\n",
      "ROC-AUC: 0.8572116029743149\n",
      "========================================\n"
     ]
    }
   ],
   "source": [
    "rndmzd_upsampled_rf_clsfr = randomized_rf_clsfr\n",
    "rndmzd_upsampled_rf_clsfr.fit(features_upsampled, target_upsampled)\n",
    "\n",
    "show_metrics(rndmzd_upsampled_rf_clsfr, features_train, target_train, \"Случайный лес - тренировочная выборка:\" )\n",
    "show_metrics(rndmzd_upsampled_rf_clsfr, features_valid, target_valid, \"Случайный лес - валидационная выборка:\" )"
   ]
  },
  {
   "cell_type": "markdown",
   "metadata": {},
   "source": [
    "Судя по просадке метрик для валидационной выборки по сравнению с тренировочной, имеется довольно сильный эффект переобучения. Но даже так модель показывает неплохие результаты. "
   ]
  },
  {
   "cell_type": "markdown",
   "metadata": {},
   "source": [
    "### Down-sampling"
   ]
  },
  {
   "cell_type": "markdown",
   "metadata": {},
   "source": [
    "Посмотрим как себя будет вести модель, если мы сравняем баланс классов путем отрезания части нецелевого класса. Сделаем `downsampling`."
   ]
  },
  {
   "cell_type": "code",
   "execution_count": 35,
   "metadata": {},
   "outputs": [
    {
     "name": "stdout",
     "output_type": "stream",
     "text": [
      "0.5059468404178302\n"
     ]
    }
   ],
   "source": [
    "def downsample(features, target, fraction):\n",
    "    features_zeros = features[target == 0]\n",
    "    features_ones = features[target == 1]\n",
    "    target_zeros = target[target == 0]\n",
    "    target_ones = target[target == 1]\n",
    "\n",
    "    features_downsampled = pd.concat(\n",
    "        [features_zeros.sample(frac=fraction, random_state=12345)] + [features_ones])\n",
    "    target_downsampled = pd.concat(\n",
    "        [target_zeros.sample(frac=fraction, random_state=12345)] + [target_ones])\n",
    "    \n",
    "    features_downsampled, target_downsampled = shuffle(\n",
    "        features_downsampled, target_downsampled, random_state=12345)\n",
    "    \n",
    "    return features_downsampled, target_downsampled\n",
    "\n",
    "features_downsampled, target_downsampled = downsample(features_train, target_train, 0.25)\n",
    "print(target_upsampled.mean())"
   ]
  },
  {
   "cell_type": "code",
   "execution_count": 36,
   "metadata": {
    "scrolled": true
   },
   "outputs": [
    {
     "name": "stdout",
     "output_type": "stream",
     "text": [
      "========================================\n",
      "Случайный лес - тренировочная выборка:\n",
      "Precision: 0.569206008583691\n",
      "Recall: 0.8675388389206868\n",
      "F1: 0.687398769031422\n",
      "ROC-AUC: 0.9334346181476346\n",
      "========================================\n",
      "========================================\n",
      "Случайный лес - валидационная выборка:\n",
      "Precision: 0.4944\n",
      "Recall: 0.7592137592137592\n",
      "F1: 0.5988372093023255\n",
      "ROC-AUC: 0.8643188643188644\n",
      "========================================\n"
     ]
    }
   ],
   "source": [
    "rndmzd_downsampled_rf_clsfr = randomized_rf_clsfr\n",
    "rndmzd_downsampled_rf_clsfr.fit(features_downsampled, target_downsampled)\n",
    "\n",
    "show_metrics(rndmzd_downsampled_rf_clsfr, features_train, target_train, \"Случайный лес - тренировочная выборка:\" )\n",
    "show_metrics(rndmzd_downsampled_rf_clsfr, features_valid, target_valid, \"Случайный лес - валидационная выборка:\" )"
   ]
  },
  {
   "cell_type": "markdown",
   "metadata": {},
   "source": [
    "Так же имеет место переобучение, хоть и не такое сильное, как при увеличенной выборке. Последнее, что нам осталось проверить - как себя покажет модель, которая автоматически подберет веса для классов. Воспользуемся параметром модели `class_weight = 'Balanced'`"
   ]
  },
  {
   "cell_type": "markdown",
   "metadata": {},
   "source": [
    "### class_weight = 'balanced'"
   ]
  },
  {
   "cell_type": "code",
   "execution_count": 37,
   "metadata": {},
   "outputs": [
    {
     "data": {
      "text/plain": [
       "{'n_estimators': 70,\n",
       " 'min_samples_split': 4,\n",
       " 'min_samples_leaf': 3,\n",
       " 'max_depth': 10}"
      ]
     },
     "execution_count": 37,
     "metadata": {},
     "output_type": "execute_result"
    }
   ],
   "source": [
    "randomized_rf_clsfr.best_params_"
   ]
  },
  {
   "cell_type": "code",
   "execution_count": 38,
   "metadata": {},
   "outputs": [],
   "source": [
    "rf_clsfr_balanced = RandomForestClassifier(random_state = 42,\n",
    "                                           n_estimators = 70,\n",
    "                                           min_samples_leaf = 3,\n",
    "                                           min_samples_split = 4,\n",
    "                                           max_depth = 10,\n",
    "                                           class_weight='balanced')\n"
   ]
  },
  {
   "cell_type": "code",
   "execution_count": 39,
   "metadata": {
    "scrolled": true
   },
   "outputs": [
    {
     "name": "stdout",
     "output_type": "stream",
     "text": [
      "========================================\n",
      "Случайный лес - тренировочная выборка:\n",
      "Precision: 0.7367256637168141\n",
      "Recall: 0.8168438266557645\n",
      "F1: 0.7747188832880961\n",
      "ROC-AUC: 0.9588204655347211\n",
      "========================================\n",
      "========================================\n",
      "Случайный лес - валидационная выборка:\n",
      "Precision: 0.6013363028953229\n",
      "Recall: 0.6633906633906634\n",
      "F1: 0.6308411214953271\n",
      "ROC-AUC: 0.8647862037692546\n",
      "========================================\n"
     ]
    }
   ],
   "source": [
    "rf_clsfr_balanced.fit(features_train, target_train)\n",
    "\n",
    "show_metrics(rf_clsfr_balanced, features_train, target_train, \"Случайный лес - тренировочная выборка:\" )\n",
    "show_metrics(rf_clsfr_balanced, features_valid, target_valid, \"Случайный лес - валидационная выборка:\" )"
   ]
  },
  {
   "cell_type": "markdown",
   "metadata": {},
   "source": [
    "**Вывод по шагу 3:**"
   ]
  },
  {
   "cell_type": "markdown",
   "metadata": {},
   "source": [
    "||Up-sampled|||Down-sampled|||Balanced|||\n",
    "|:--|:-:|:-:|:-:|:-:|:-:|:-:|:-:|:-:|:-:|\n",
    "||Train|Valid|Delta|Train|Valid|Delta|Train|Valid|Delta|\n",
    "|F1-score|0.898|0.615|0.283|0.687|0.598|0.088|0.770|0.636|0.133|\n",
    "|AUC|0.994|0.857|0.137|0.933|0.864|0.069|0.958|0.863|0.094|\n",
    "\n",
    "\n",
    "Как видно из таблице наименьшее изменение метрик (=наименьшее переобучение) имеет модель обученная на `down-sample` выборке. При этом ее показатели AUC-ROC и F1-score не сильно хуже, чем у других моделей. Но на валидационной выборке обе метрики выше у модели, для которой балансировка классов делалась встроенным методом. \n",
    "\n",
    "Давайте посмотрим какая из этих двух моделей покажет максимальный F1-score на тестовой выборке при подборе порога."
   ]
  },
  {
   "cell_type": "markdown",
   "metadata": {},
   "source": [
    "## Тестирование модели"
   ]
  },
  {
   "cell_type": "markdown",
   "metadata": {},
   "source": [
    "Напишем функцию, которая будет подбирать наилучший порог для наших моделей. Для начала функция переберет пороги от 0 до 0.9 с шагом 0.1, чтобы нащупать диапазон в котором F1-score максимален. Получив это грубое приближение, функция пройдется частым шагом по диапозону \"грубый порог\" +- 0.1."
   ]
  },
  {
   "cell_type": "code",
   "execution_count": 40,
   "metadata": {},
   "outputs": [],
   "source": [
    "def best_treshhold_choice(model, features, target, model_name):\n",
    "    probabilities = model.predict_proba(features)\n",
    "    probabilities_one = probabilities[:, 1]\n",
    "    \n",
    "    #Stage1 - choising best treshhold in range 0-1 with step 0.1\n",
    "    stage1_best_trhld = 0\n",
    "    stage1_best_f1 = 0\n",
    "    for threshold in np.arange(0, 1, 0.1):\n",
    "        predicted = probabilities_one > threshold\n",
    "        f_score = f1_score(target, predicted)\n",
    "        if f_score > stage1_best_f1:\n",
    "            stage1_best_trhld = threshold\n",
    "            stage1_best_f1 = f_score\n",
    "            \n",
    "    #Stage2 - choising best treshhold in range stage1_best_trhld +- 0.1 with step 0.005\n",
    "    best_recall = 0\n",
    "    best_precision = 0\n",
    "    best_threshold = 0\n",
    "    best_f1_score = 0\n",
    "    for threshold in np.arange(stage1_best_trhld - 0.1, stage1_best_trhld + 0.1, 0.005):\n",
    "        predicted = probabilities_one > threshold \n",
    "        precision = precision_score(target, predicted) \n",
    "        recall = recall_score(target, predicted)\n",
    "        f_score = f1_score(target, predicted)\n",
    "        if f_score > best_f1_score:\n",
    "            best_recall = recall\n",
    "            best_precision = precision\n",
    "            best_threshold = threshold\n",
    "            best_f1_score = f_score\n",
    "            \n",
    "    print(f'Для модели \"{model_name}\"')\n",
    "    print(\"Лучший порог = {:.4f}  Точность = {:.3f}, Полнота = {:.3f}, F1-мера = {:.3f}\".format(\n",
    "            best_threshold, best_precision, best_recall, best_f1_score))"
   ]
  },
  {
   "cell_type": "markdown",
   "metadata": {},
   "source": [
    "Запустим функцию для наших моделей."
   ]
  },
  {
   "cell_type": "code",
   "execution_count": 41,
   "metadata": {},
   "outputs": [
    {
     "name": "stdout",
     "output_type": "stream",
     "text": [
      "Для модели \"Сбалансированный через внутренний метод случайный лес\"\n",
      "Лучший порог = 0.4950  Точность = 0.609, Полнота = 0.671, F1-мера = 0.639\n"
     ]
    }
   ],
   "source": [
    "best_treshhold_choice(rf_clsfr_balanced, \n",
    "                      features_test, \n",
    "                      target_test, \n",
    "                      'Сбалансированный через внутренний метод случайный лес')"
   ]
  },
  {
   "cell_type": "code",
   "execution_count": 42,
   "metadata": {},
   "outputs": [
    {
     "name": "stdout",
     "output_type": "stream",
     "text": [
      "Для модели \"Сбалансированный через уменьшение выборки метод случайный лес\"\n",
      "Лучший порог = 0.5800  Точность = 0.598, Полнота = 0.695, F1-мера = 0.643\n"
     ]
    }
   ],
   "source": [
    "best_treshhold_choice(rndmzd_downsampled_rf_clsfr, \n",
    "                      features_test, \n",
    "                      target_test, \n",
    "                      'Сбалансированный через уменьшение выборки метод случайный лес')"
   ]
  },
  {
   "cell_type": "code",
   "execution_count": 43,
   "metadata": {
    "scrolled": false
   },
   "outputs": [
    {
     "name": "stdout",
     "output_type": "stream",
     "text": [
      "========================================\n",
      "Сбалансированный через внутренний метод случайный лес\n",
      "Precision: 0.6099773242630385\n",
      "Recall: 0.6609336609336609\n",
      "F1: 0.6344339622641508\n",
      "ROC-AUC: 0.8690770894160724\n",
      "========================================\n"
     ]
    },
    {
     "data": {
      "image/png": "[encoded data removed]",
      "text/plain": [
       "<Figure size 720x720 with 1 Axes>"
      ]
     },
     "metadata": {},
     "output_type": "display_data"
    },
    {
     "name": "stdout",
     "output_type": "stream",
     "text": [
      "========================================\n",
      "Сбалансированный через уменьшение выборки метод случайный лес\n",
      "Precision: 0.4945054945054945\n",
      "Recall: 0.773955773955774\n",
      "F1: 0.603448275862069\n",
      "ROC-AUC: 0.871659024201397\n",
      "========================================\n"
     ]
    },
    {
     "data": {
      "image/png": "[encoded data removed]",
      "text/plain": [
       "<Figure size 720x720 with 1 Axes>"
      ]
     },
     "metadata": {},
     "output_type": "display_data"
    }
   ],
   "source": [
    "show_metrics(rf_clsfr_balanced, \n",
    "             features_test, \n",
    "             target_test, \n",
    "             \"Сбалансированный через внутренний метод случайный лес\" )\n",
    "show_roc_curve(rf_clsfr_balanced, features_test, target_test)\n",
    "\n",
    "show_metrics(rndmzd_downsampled_rf_clsfr,\n",
    "             features_test, \n",
    "             target_test,\n",
    "             \"Сбалансированный через уменьшение выборки метод случайный лес\" )\n",
    "show_roc_curve(rndmzd_downsampled_rf_clsfr, features_test, target_test)"
   ]
  },
  {
   "cell_type": "markdown",
   "metadata": {},
   "source": [
    "## Общий вывод:"
   ]
  },
  {
   "cell_type": "markdown",
   "metadata": {},
   "source": [
    "Обе модели, вошедшие в финал нашего соревнования, показали практически идентичный результат по метрике `ROC-AUC`. Но, при подгонке порога, в лидеры выходит модель обученная на данных, сбалансированных по методу `Down-sampling`. Балансировка порога помогла поднять `ROC-AUC` на 6 пунктов по сравнению с простой моделью. А конечный результат по метрике `F1-score` улучшился на 10 пунктов."
   ]
  }
 ],
 "metadata": {
  "kernelspec": {
   "display_name": "Python 3",
   "language": "python",
   "name": "python3"
  },
  "language_info": {
   "codemirror_mode": {
    "name": "ipython",
    "version": 3
   },
   "file_extension": ".py",
   "mimetype": "text/x-python",
   "name": "python",
   "nbconvert_exporter": "python",
   "pygments_lexer": "ipython3",
   "version": "3.8.3"
  },
  "toc": {
   "base_numbering": 1,
   "nav_menu": {},
   "number_sections": true,
   "sideBar": true,
   "skip_h1_title": true,
   "title_cell": "Оглавление",
   "title_sidebar": "Contents",
   "toc_cell": true,
   "toc_position": {
    "height": "calc(100% - 180px)",
    "left": "10px",
    "top": "150px",
    "width": "259.391px"
   },
   "toc_section_display": true,
   "toc_window_display": true
  }
 },
 "nbformat": 4,
 "nbformat_minor": 2
}
