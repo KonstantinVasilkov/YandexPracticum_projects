{
 "cells": [
  {
   "cell_type": "code",
   "execution_count": 1,
   "metadata": {},
   "outputs": [],
   "source": [
    "import os\n",
    "\n",
    "import pandas as pd\n",
    "import numpy as np\n",
    "import re\n",
    "\n",
    "from sklearn.model_selection import train_test_split, GridSearchCV, StratifiedKFold, KFold\n",
    "from sklearn.metrics import *\n",
    "from sklearn.linear_model import LogisticRegression\n",
    "from sklearn.svm import LinearSVC\n",
    "from sklearn.pipeline import Pipeline\n",
    "from sklearn.pipeline import make_pipeline\n",
    "from sklearn.feature_extraction.text import TfidfVectorizer, CountVectorizer\n",
    "\n",
    "import nltk\n",
    "from nltk.stem import WordNetLemmatizer\n",
    "from nltk.corpus import wordnet\n",
    "from nltk.corpus import stopwords as nltk_stopwords\n",
    "\n",
    "from tqdm import tqdm, tqdm_notebook, notebook\n",
    "\n",
    "import matplotlib.pyplot as plt\n",
    "import seaborn as sns\n",
    "\n",
    "SEED = 42"
   ]
  },
  {
   "cell_type": "markdown",
   "metadata": {},
   "source": [
    "# Проект для «Викишоп» с BERT (но он не тут, а в colabe)"
   ]
  },
  {
   "cell_type": "markdown",
   "metadata": {
    "toc": true
   },
   "source": [
    "<h1>Содержание<span class=\"tocSkip\"></span></h1>\n",
    "<div class=\"toc\"><ul class=\"toc-item\"><li><span><a href=\"#Подготовка\" data-toc-modified-id=\"Подготовка-1\"><span class=\"toc-item-num\">1&nbsp;&nbsp;</span>Подготовка</a></span><ul class=\"toc-item\"><li><span><a href=\"#Очистка-текстов\" data-toc-modified-id=\"Очистка-текстов-1.1\"><span class=\"toc-item-num\">1.1&nbsp;&nbsp;</span>Очистка текстов</a></span></li><li><span><a href=\"#Лемматизация\" data-toc-modified-id=\"Лемматизация-1.2\"><span class=\"toc-item-num\">1.2&nbsp;&nbsp;</span>Лемматизация</a></span></li></ul></li><li><span><a href=\"#Обучение\" data-toc-modified-id=\"Обучение-2\"><span class=\"toc-item-num\">2&nbsp;&nbsp;</span>Обучение</a></span><ul class=\"toc-item\"><li><span><a href=\"#Подготовка-признаков-методом-TF-IDF\" data-toc-modified-id=\"Подготовка-признаков-методом-TF-IDF-2.1\"><span class=\"toc-item-num\">2.1&nbsp;&nbsp;</span>Подготовка признаков методом TF-IDF</a></span></li><li><span><a href=\"#Логистическая-регрессия\" data-toc-modified-id=\"Логистическая-регрессия-2.2\"><span class=\"toc-item-num\">2.2&nbsp;&nbsp;</span>Логистическая регрессия</a></span><ul class=\"toc-item\"><li><span><a href=\"#Подбор-гиперпараметров-Логистической-Регрессии\" data-toc-modified-id=\"Подбор-гиперпараметров-Логистической-Регрессии-2.2.1\"><span class=\"toc-item-num\">2.2.1&nbsp;&nbsp;</span>Подбор гиперпараметров Логистической Регрессии</a></span></li><li><span><a href=\"#Логистическая-регрессия-на-признаках-через-CountVectorizer\" data-toc-modified-id=\"Логистическая-регрессия-на-признаках-через-CountVectorizer-2.2.2\"><span class=\"toc-item-num\">2.2.2&nbsp;&nbsp;</span>Логистическая регрессия на признаках через CountVectorizer</a></span></li></ul></li><li><span><a href=\"#LinearSVC\" data-toc-modified-id=\"LinearSVC-2.3\"><span class=\"toc-item-num\">2.3&nbsp;&nbsp;</span>LinearSVC</a></span></li></ul></li><li><span><a href=\"#BERT\" data-toc-modified-id=\"BERT-3\"><span class=\"toc-item-num\">3&nbsp;&nbsp;</span>BERT</a></span></li><li><span><a href=\"#Выводы\" data-toc-modified-id=\"Выводы-4\"><span class=\"toc-item-num\">4&nbsp;&nbsp;</span>Выводы</a></span></li></ul></div>"
   ]
  },
  {
   "cell_type": "markdown",
   "metadata": {},
   "source": [
    "Интернет-магазин «Викишоп» запускает новый сервис. Теперь пользователи могут редактировать и дополнять описания товаров, как в вики-сообществах. То есть клиенты предлагают свои правки и комментируют изменения других. Магазину нужен инструмент, который будет искать токсичные комментарии и отправлять их на модерацию. \n",
    "\n",
    "Обучите модель классифицировать комментарии на позитивные и негативные. В вашем распоряжении набор данных с разметкой о токсичности правок.\n",
    "\n",
    "Наша задача - построить модель со значением метрики качества *F1* не меньше 0.75. \n",
    "\n",
    "**Инструкция по выполнению проекта**\n",
    "\n",
    "1. Загрузите и подготовьте данные.\n",
    "2. Обучите разные модели. \n",
    "3. Сделайте выводы.\n",
    "\n",
    "Для выполнения проекта применять *BERT* необязательно, но вы можете попробовать.\n",
    "\n",
    "**Описание данных**\n",
    "\n",
    "Данные находятся в файле `toxic_comments.csv`. Столбец *text* в нём содержит текст комментария, а *toxic* — целевой признак."
   ]
  },
  {
   "cell_type": "markdown",
   "metadata": {},
   "source": [
    "## Подготовка"
   ]
  },
  {
   "cell_type": "markdown",
   "metadata": {},
   "source": [
    "Для начала загрузим наши данные."
   ]
  },
  {
   "cell_type": "code",
   "execution_count": 2,
   "metadata": {},
   "outputs": [],
   "source": [
    "tweets_df = pd.read_csv('toxic_comments.csv')"
   ]
  },
  {
   "cell_type": "markdown",
   "metadata": {},
   "source": [
    "Посмотрим какое количество коментариев от общего числа помечены как токсичные. Проверим токсичность интернета!"
   ]
  },
  {
   "cell_type": "code",
   "execution_count": 3,
   "metadata": {
    "scrolled": true
   },
   "outputs": [
    {
     "name": "stdout",
     "output_type": "stream",
     "text": [
      "В твиттере 10.17% токсичных комментариев\n"
     ]
    }
   ],
   "source": [
    "print(f\"В твиттере {tweets_df.toxic.mean():.2%} токсичных комментариев\")"
   ]
  },
  {
   "cell_type": "markdown",
   "metadata": {},
   "source": [
    "Ну не так уж и много) Посмотрим, что там народ пишет:"
   ]
  },
  {
   "cell_type": "code",
   "execution_count": 4,
   "metadata": {},
   "outputs": [
    {
     "data": {
      "text/html": [
       "<div>\n",
       "<style scoped>\n",
       "    .dataframe tbody tr th:only-of-type {\n",
       "        vertical-align: middle;\n",
       "    }\n",
       "\n",
       "    .dataframe tbody tr th {\n",
       "        vertical-align: top;\n",
       "    }\n",
       "\n",
       "    .dataframe thead th {\n",
       "        text-align: right;\n",
       "    }\n",
       "</style>\n",
       "<table border=\"1\" class=\"dataframe\">\n",
       "  <thead>\n",
       "    <tr style=\"text-align: right;\">\n",
       "      <th></th>\n",
       "      <th>text</th>\n",
       "      <th>toxic</th>\n",
       "    </tr>\n",
       "  </thead>\n",
       "  <tbody>\n",
       "    <tr>\n",
       "      <th>119105</th>\n",
       "      <td>Geez, are you forgetful!  We've already discus...</td>\n",
       "      <td>0</td>\n",
       "    </tr>\n",
       "    <tr>\n",
       "      <th>131631</th>\n",
       "      <td>Carioca RFA \\n\\nThanks for your support on my ...</td>\n",
       "      <td>0</td>\n",
       "    </tr>\n",
       "    <tr>\n",
       "      <th>125326</th>\n",
       "      <td>\"\\n\\n Birthday \\n\\nNo worries, It's what I do ...</td>\n",
       "      <td>0</td>\n",
       "    </tr>\n",
       "    <tr>\n",
       "      <th>111256</th>\n",
       "      <td>Pseudoscience category? \\n\\nI'm assuming that ...</td>\n",
       "      <td>0</td>\n",
       "    </tr>\n",
       "    <tr>\n",
       "      <th>83590</th>\n",
       "      <td>(and if such phrase exists, it would be provid...</td>\n",
       "      <td>0</td>\n",
       "    </tr>\n",
       "  </tbody>\n",
       "</table>\n",
       "</div>"
      ],
      "text/plain": [
       "                                                     text  toxic\n",
       "119105  Geez, are you forgetful!  We've already discus...      0\n",
       "131631  Carioca RFA \\n\\nThanks for your support on my ...      0\n",
       "125326  \"\\n\\n Birthday \\n\\nNo worries, It's what I do ...      0\n",
       "111256  Pseudoscience category? \\n\\nI'm assuming that ...      0\n",
       "83590   (and if such phrase exists, it would be provid...      0"
      ]
     },
     "execution_count": 4,
     "metadata": {},
     "output_type": "execute_result"
    }
   ],
   "source": [
    "tweets_df.sample(5, random_state=SEED)"
   ]
  },
  {
   "cell_type": "markdown",
   "metadata": {},
   "source": [
    "Имеем тексты на английском, в которых куча лишних знаков.\n",
    "\n",
    "Надо подготовить наши данные для обучения. \n",
    "- Очистим тексты от всего, что не слова и приведем все к нижнему регистру\n",
    "- Лемматизируем тексты "
   ]
  },
  {
   "cell_type": "markdown",
   "metadata": {},
   "source": [
    "### Очистка текстов"
   ]
  },
  {
   "cell_type": "markdown",
   "metadata": {},
   "source": [
    "Подготовим функцию, которая приведет все слова в текстах к нижнему регистру и уберет все лишние знаки с помощью регулярных выражений. Так же попробуем учесть некоторые сокращения, чтобы как можно меньше терять смысл например на отрицаниях."
   ]
  },
  {
   "cell_type": "code",
   "execution_count": 5,
   "metadata": {},
   "outputs": [],
   "source": [
    "def cleaner(row):\n",
    "    text = row['text'].lower()\n",
    "    text = re.sub(r\"can't\", \"can not\", text)\n",
    "    text = re.sub(r\"won't\", \"will not\", text)\n",
    "    text = re.sub(r\"shan't\", \"shall not\", text)\n",
    "    text = re.sub(r\"n't\", \" not\", text)\n",
    "    text = re.sub(r\"'s\", \" is\", text)\n",
    "    text = re.sub(r\"'m\", \" am\", text)\n",
    "    text = re.sub(r\"'re\", \" are\", text)\n",
    "    text = re.sub(r\"'ve\", \" have\", text)\n",
    "    text = re.sub(r\"(?:\\n|\\r)\", \" \", text)\n",
    "    text = re.sub(r\"[^a-zA-Z ]+\", \"\", text).strip()\n",
    "\n",
    "    return text"
   ]
  },
  {
   "cell_type": "code",
   "execution_count": 6,
   "metadata": {},
   "outputs": [],
   "source": [
    "tweets_df['cleaned_text'] = tweets_df.apply(cleaner, axis=1)"
   ]
  },
  {
   "cell_type": "code",
   "execution_count": 7,
   "metadata": {},
   "outputs": [
    {
     "data": {
      "text/html": [
       "<div>\n",
       "<style scoped>\n",
       "    .dataframe tbody tr th:only-of-type {\n",
       "        vertical-align: middle;\n",
       "    }\n",
       "\n",
       "    .dataframe tbody tr th {\n",
       "        vertical-align: top;\n",
       "    }\n",
       "\n",
       "    .dataframe thead th {\n",
       "        text-align: right;\n",
       "    }\n",
       "</style>\n",
       "<table border=\"1\" class=\"dataframe\">\n",
       "  <thead>\n",
       "    <tr style=\"text-align: right;\">\n",
       "      <th></th>\n",
       "      <th>text</th>\n",
       "      <th>toxic</th>\n",
       "      <th>cleaned_text</th>\n",
       "    </tr>\n",
       "  </thead>\n",
       "  <tbody>\n",
       "    <tr>\n",
       "      <th>119105</th>\n",
       "      <td>Geez, are you forgetful!  We've already discus...</td>\n",
       "      <td>0</td>\n",
       "      <td>geez are you forgetful  we have already discus...</td>\n",
       "    </tr>\n",
       "    <tr>\n",
       "      <th>131631</th>\n",
       "      <td>Carioca RFA \\n\\nThanks for your support on my ...</td>\n",
       "      <td>0</td>\n",
       "      <td>carioca rfa   thanks for your support on my re...</td>\n",
       "    </tr>\n",
       "    <tr>\n",
       "      <th>125326</th>\n",
       "      <td>\"\\n\\n Birthday \\n\\nNo worries, It's what I do ...</td>\n",
       "      <td>0</td>\n",
       "      <td>birthday   no worries it is what i do enjoy ur...</td>\n",
       "    </tr>\n",
       "    <tr>\n",
       "      <th>111256</th>\n",
       "      <td>Pseudoscience category? \\n\\nI'm assuming that ...</td>\n",
       "      <td>0</td>\n",
       "      <td>pseudoscience category   i am assuming that th...</td>\n",
       "    </tr>\n",
       "    <tr>\n",
       "      <th>83590</th>\n",
       "      <td>(and if such phrase exists, it would be provid...</td>\n",
       "      <td>0</td>\n",
       "      <td>and if such phrase exists it would be provided...</td>\n",
       "    </tr>\n",
       "    <tr>\n",
       "      <th>37546</th>\n",
       "      <td>, 9 October 2007 (UTC)\\n\\nP.s, the delta funct...</td>\n",
       "      <td>0</td>\n",
       "      <td>october  utc  ps the delta function i use in t...</td>\n",
       "    </tr>\n",
       "    <tr>\n",
       "      <th>98371</th>\n",
       "      <td>]]- 10 September 1910, [[[Couvet]] )</td>\n",
       "      <td>0</td>\n",
       "      <td>september  couvet</td>\n",
       "    </tr>\n",
       "    <tr>\n",
       "      <th>67118</th>\n",
       "      <td>Negro league baseball task-force talk].</td>\n",
       "      <td>0</td>\n",
       "      <td>negro league baseball taskforce talk</td>\n",
       "    </tr>\n",
       "    <tr>\n",
       "      <th>129625</th>\n",
       "      <td>List of My Three Sons episodes \\n\\nI saw you r...</td>\n",
       "      <td>0</td>\n",
       "      <td>list of my three sons episodes   i saw you red...</td>\n",
       "    </tr>\n",
       "    <tr>\n",
       "      <th>48941</th>\n",
       "      <td>Quoting Loremaster: In order to make sure you ...</td>\n",
       "      <td>0</td>\n",
       "      <td>quoting loremaster in order to make sure you u...</td>\n",
       "    </tr>\n",
       "  </tbody>\n",
       "</table>\n",
       "</div>"
      ],
      "text/plain": [
       "                                                     text  toxic  \\\n",
       "119105  Geez, are you forgetful!  We've already discus...      0   \n",
       "131631  Carioca RFA \\n\\nThanks for your support on my ...      0   \n",
       "125326  \"\\n\\n Birthday \\n\\nNo worries, It's what I do ...      0   \n",
       "111256  Pseudoscience category? \\n\\nI'm assuming that ...      0   \n",
       "83590   (and if such phrase exists, it would be provid...      0   \n",
       "37546   , 9 October 2007 (UTC)\\n\\nP.s, the delta funct...      0   \n",
       "98371                ]]- 10 September 1910, [[[Couvet]] )      0   \n",
       "67118             Negro league baseball task-force talk].      0   \n",
       "129625  List of My Three Sons episodes \\n\\nI saw you r...      0   \n",
       "48941   Quoting Loremaster: In order to make sure you ...      0   \n",
       "\n",
       "                                             cleaned_text  \n",
       "119105  geez are you forgetful  we have already discus...  \n",
       "131631  carioca rfa   thanks for your support on my re...  \n",
       "125326  birthday   no worries it is what i do enjoy ur...  \n",
       "111256  pseudoscience category   i am assuming that th...  \n",
       "83590   and if such phrase exists it would be provided...  \n",
       "37546   october  utc  ps the delta function i use in t...  \n",
       "98371                                   september  couvet  \n",
       "67118                negro league baseball taskforce talk  \n",
       "129625  list of my three sons episodes   i saw you red...  \n",
       "48941   quoting loremaster in order to make sure you u...  "
      ]
     },
     "execution_count": 7,
     "metadata": {},
     "output_type": "execute_result"
    }
   ],
   "source": [
    "tweets_df.sample(10, random_state=SEED)"
   ]
  },
  {
   "cell_type": "markdown",
   "metadata": {},
   "source": [
    "### Лемматизация"
   ]
  },
  {
   "cell_type": "markdown",
   "metadata": {},
   "source": [
    "Следующие две функции работают в связке. Функция `lemmatization` принимает на вход столбец, потом каждая запись в строке разбивается на отдельные слова и для каждого слова вызывается функция `pos_tag_wordnet`, которая возвращает само слово и тэг части речи, к которой это слово пренадлежит. Эти данные подаются на вход `wordnet_lemmatizer`'у, который в свою очередь возвращает лемму этого слова. Все леммы собираются обратно во фразу и фразы в Series. Функция возвращает этот Series."
   ]
  },
  {
   "cell_type": "code",
   "execution_count": 8,
   "metadata": {},
   "outputs": [],
   "source": [
    "def pos_tag_wordnet(text):\n",
    "    \"\"\"\n",
    "        Create pos_tag with wordnet format\n",
    "    \"\"\"\n",
    "    wordnet_map = {\n",
    "        \"N\": wordnet.NOUN,\n",
    "        \"V\": wordnet.VERB,\n",
    "        \"J\": wordnet.ADJ,\n",
    "        \"R\": wordnet.ADV\n",
    "    }\n",
    "\n",
    "    pos_tagged_text = nltk.pos_tag(text)\n",
    "\n",
    "    pos_tagged_text = [\n",
    "        (word,\n",
    "         wordnet_map.get(pos_tag[0])) if pos_tag[0] in wordnet_map.keys() else\n",
    "        (word, wordnet.NOUN) for (word, pos_tag) in pos_tagged_text\n",
    "    ]\n",
    "\n",
    "    return pos_tagged_text\n",
    "\n",
    "\n",
    "def lemmatization(clmn: pd.Series):\n",
    "\n",
    "    wordnet_lemmatizer = WordNetLemmatizer()\n",
    "\n",
    "    new_result = []\n",
    "\n",
    "    for phrase in clmn:\n",
    "        pos_tag = pos_tag_wordnet([i for i in phrase.split()])\n",
    "        new_phrase = str()\n",
    "        for word in pos_tag:\n",
    "            new_phrase += \" \" + (wordnet_lemmatizer.lemmatize(word[0],\n",
    "                                                              pos=word[1]))\n",
    "        new_result.append(new_phrase)\n",
    "\n",
    "    return pd.Series(new_result)"
   ]
  },
  {
   "cell_type": "code",
   "execution_count": 9,
   "metadata": {
    "scrolled": false
   },
   "outputs": [
    {
     "name": "stdout",
     "output_type": "stream",
     "text": [
      "Wall time: 9min 55s\n"
     ]
    }
   ],
   "source": [
    "%%time\n",
    "tweets_df['lemmas'] = lemmatization(tweets_df['cleaned_text'])"
   ]
  },
  {
   "cell_type": "code",
   "execution_count": 10,
   "metadata": {},
   "outputs": [
    {
     "data": {
      "text/html": [
       "<div>\n",
       "<style scoped>\n",
       "    .dataframe tbody tr th:only-of-type {\n",
       "        vertical-align: middle;\n",
       "    }\n",
       "\n",
       "    .dataframe tbody tr th {\n",
       "        vertical-align: top;\n",
       "    }\n",
       "\n",
       "    .dataframe thead th {\n",
       "        text-align: right;\n",
       "    }\n",
       "</style>\n",
       "<table border=\"1\" class=\"dataframe\">\n",
       "  <thead>\n",
       "    <tr style=\"text-align: right;\">\n",
       "      <th></th>\n",
       "      <th>text</th>\n",
       "      <th>toxic</th>\n",
       "      <th>cleaned_text</th>\n",
       "      <th>lemmas</th>\n",
       "    </tr>\n",
       "  </thead>\n",
       "  <tbody>\n",
       "    <tr>\n",
       "      <th>119105</th>\n",
       "      <td>Geez, are you forgetful!  We've already discus...</td>\n",
       "      <td>0</td>\n",
       "      <td>geez are you forgetful  we have already discus...</td>\n",
       "      <td>geez be you forgetful we have already discuss...</td>\n",
       "    </tr>\n",
       "    <tr>\n",
       "      <th>131631</th>\n",
       "      <td>Carioca RFA \\n\\nThanks for your support on my ...</td>\n",
       "      <td>0</td>\n",
       "      <td>carioca rfa   thanks for your support on my re...</td>\n",
       "      <td>carioca rfa thanks for your support on my req...</td>\n",
       "    </tr>\n",
       "    <tr>\n",
       "      <th>125326</th>\n",
       "      <td>\"\\n\\n Birthday \\n\\nNo worries, It's what I do ...</td>\n",
       "      <td>0</td>\n",
       "      <td>birthday   no worries it is what i do enjoy ur...</td>\n",
       "      <td>birthday no worry it be what i do enjoy ur da...</td>\n",
       "    </tr>\n",
       "    <tr>\n",
       "      <th>111256</th>\n",
       "      <td>Pseudoscience category? \\n\\nI'm assuming that ...</td>\n",
       "      <td>0</td>\n",
       "      <td>pseudoscience category   i am assuming that th...</td>\n",
       "      <td>pseudoscience category i be assume that this ...</td>\n",
       "    </tr>\n",
       "    <tr>\n",
       "      <th>83590</th>\n",
       "      <td>(and if such phrase exists, it would be provid...</td>\n",
       "      <td>0</td>\n",
       "      <td>and if such phrase exists it would be provided...</td>\n",
       "      <td>and if such phrase exist it would be provide ...</td>\n",
       "    </tr>\n",
       "    <tr>\n",
       "      <th>37546</th>\n",
       "      <td>, 9 October 2007 (UTC)\\n\\nP.s, the delta funct...</td>\n",
       "      <td>0</td>\n",
       "      <td>october  utc  ps the delta function i use in t...</td>\n",
       "      <td>october utc ps the delta function i use in th...</td>\n",
       "    </tr>\n",
       "    <tr>\n",
       "      <th>98371</th>\n",
       "      <td>]]- 10 September 1910, [[[Couvet]] )</td>\n",
       "      <td>0</td>\n",
       "      <td>september  couvet</td>\n",
       "      <td>september couvet</td>\n",
       "    </tr>\n",
       "    <tr>\n",
       "      <th>67118</th>\n",
       "      <td>Negro league baseball task-force talk].</td>\n",
       "      <td>0</td>\n",
       "      <td>negro league baseball taskforce talk</td>\n",
       "      <td>negro league baseball taskforce talk</td>\n",
       "    </tr>\n",
       "    <tr>\n",
       "      <th>129625</th>\n",
       "      <td>List of My Three Sons episodes \\n\\nI saw you r...</td>\n",
       "      <td>0</td>\n",
       "      <td>list of my three sons episodes   i saw you red...</td>\n",
       "      <td>list of my three son episodes i saw you redir...</td>\n",
       "    </tr>\n",
       "    <tr>\n",
       "      <th>48941</th>\n",
       "      <td>Quoting Loremaster: In order to make sure you ...</td>\n",
       "      <td>0</td>\n",
       "      <td>quoting loremaster in order to make sure you u...</td>\n",
       "      <td>quote loremaster in order to make sure you un...</td>\n",
       "    </tr>\n",
       "  </tbody>\n",
       "</table>\n",
       "</div>"
      ],
      "text/plain": [
       "                                                     text  toxic  \\\n",
       "119105  Geez, are you forgetful!  We've already discus...      0   \n",
       "131631  Carioca RFA \\n\\nThanks for your support on my ...      0   \n",
       "125326  \"\\n\\n Birthday \\n\\nNo worries, It's what I do ...      0   \n",
       "111256  Pseudoscience category? \\n\\nI'm assuming that ...      0   \n",
       "83590   (and if such phrase exists, it would be provid...      0   \n",
       "37546   , 9 October 2007 (UTC)\\n\\nP.s, the delta funct...      0   \n",
       "98371                ]]- 10 September 1910, [[[Couvet]] )      0   \n",
       "67118             Negro league baseball task-force talk].      0   \n",
       "129625  List of My Three Sons episodes \\n\\nI saw you r...      0   \n",
       "48941   Quoting Loremaster: In order to make sure you ...      0   \n",
       "\n",
       "                                             cleaned_text  \\\n",
       "119105  geez are you forgetful  we have already discus...   \n",
       "131631  carioca rfa   thanks for your support on my re...   \n",
       "125326  birthday   no worries it is what i do enjoy ur...   \n",
       "111256  pseudoscience category   i am assuming that th...   \n",
       "83590   and if such phrase exists it would be provided...   \n",
       "37546   october  utc  ps the delta function i use in t...   \n",
       "98371                                   september  couvet   \n",
       "67118                negro league baseball taskforce talk   \n",
       "129625  list of my three sons episodes   i saw you red...   \n",
       "48941   quoting loremaster in order to make sure you u...   \n",
       "\n",
       "                                                   lemmas  \n",
       "119105   geez be you forgetful we have already discuss...  \n",
       "131631   carioca rfa thanks for your support on my req...  \n",
       "125326   birthday no worry it be what i do enjoy ur da...  \n",
       "111256   pseudoscience category i be assume that this ...  \n",
       "83590    and if such phrase exist it would be provide ...  \n",
       "37546    october utc ps the delta function i use in th...  \n",
       "98371                                    september couvet  \n",
       "67118                negro league baseball taskforce talk  \n",
       "129625   list of my three son episodes i saw you redir...  \n",
       "48941    quote loremaster in order to make sure you un...  "
      ]
     },
     "execution_count": 10,
     "metadata": {},
     "output_type": "execute_result"
    }
   ],
   "source": [
    "tweets_df.sample(10, random_state=SEED)"
   ]
  },
  {
   "cell_type": "code",
   "execution_count": 11,
   "metadata": {},
   "outputs": [],
   "source": [
    "lemm_tweets_df = tweets_df.drop(columns=['text', 'cleaned_text'])\n",
    "del (tweets_df)"
   ]
  },
  {
   "cell_type": "code",
   "execution_count": 12,
   "metadata": {
    "scrolled": false
   },
   "outputs": [
    {
     "data": {
      "text/html": [
       "<div>\n",
       "<style scoped>\n",
       "    .dataframe tbody tr th:only-of-type {\n",
       "        vertical-align: middle;\n",
       "    }\n",
       "\n",
       "    .dataframe tbody tr th {\n",
       "        vertical-align: top;\n",
       "    }\n",
       "\n",
       "    .dataframe thead th {\n",
       "        text-align: right;\n",
       "    }\n",
       "</style>\n",
       "<table border=\"1\" class=\"dataframe\">\n",
       "  <thead>\n",
       "    <tr style=\"text-align: right;\">\n",
       "      <th></th>\n",
       "      <th>toxic</th>\n",
       "      <th>lemmas</th>\n",
       "    </tr>\n",
       "  </thead>\n",
       "  <tbody>\n",
       "    <tr>\n",
       "      <th>0</th>\n",
       "      <td>0</td>\n",
       "      <td>explanation why the edits make under my usern...</td>\n",
       "    </tr>\n",
       "    <tr>\n",
       "      <th>1</th>\n",
       "      <td>0</td>\n",
       "      <td>daww he match this background colour i be see...</td>\n",
       "    </tr>\n",
       "    <tr>\n",
       "      <th>2</th>\n",
       "      <td>0</td>\n",
       "      <td>hey man i be really not try to edit war it be...</td>\n",
       "    </tr>\n",
       "    <tr>\n",
       "      <th>3</th>\n",
       "      <td>0</td>\n",
       "      <td>more i can not make any real suggestion on im...</td>\n",
       "    </tr>\n",
       "    <tr>\n",
       "      <th>4</th>\n",
       "      <td>0</td>\n",
       "      <td>you sir be my hero any chance you remember wh...</td>\n",
       "    </tr>\n",
       "    <tr>\n",
       "      <th>...</th>\n",
       "      <td>...</td>\n",
       "      <td>...</td>\n",
       "    </tr>\n",
       "    <tr>\n",
       "      <th>159566</th>\n",
       "      <td>0</td>\n",
       "      <td>and for the second time of ask when your view...</td>\n",
       "    </tr>\n",
       "    <tr>\n",
       "      <th>159567</th>\n",
       "      <td>0</td>\n",
       "      <td>you should be ashamed of yourself that be a h...</td>\n",
       "    </tr>\n",
       "    <tr>\n",
       "      <th>159568</th>\n",
       "      <td>0</td>\n",
       "      <td>spitzer umm theres no actual article for pros...</td>\n",
       "    </tr>\n",
       "    <tr>\n",
       "      <th>159569</th>\n",
       "      <td>0</td>\n",
       "      <td>and it look like it be actually you who put o...</td>\n",
       "    </tr>\n",
       "    <tr>\n",
       "      <th>159570</th>\n",
       "      <td>0</td>\n",
       "      <td>and i really do not think you understand i co...</td>\n",
       "    </tr>\n",
       "  </tbody>\n",
       "</table>\n",
       "<p>159571 rows × 2 columns</p>\n",
       "</div>"
      ],
      "text/plain": [
       "        toxic                                             lemmas\n",
       "0           0   explanation why the edits make under my usern...\n",
       "1           0   daww he match this background colour i be see...\n",
       "2           0   hey man i be really not try to edit war it be...\n",
       "3           0   more i can not make any real suggestion on im...\n",
       "4           0   you sir be my hero any chance you remember wh...\n",
       "...       ...                                                ...\n",
       "159566      0   and for the second time of ask when your view...\n",
       "159567      0   you should be ashamed of yourself that be a h...\n",
       "159568      0   spitzer umm theres no actual article for pros...\n",
       "159569      0   and it look like it be actually you who put o...\n",
       "159570      0   and i really do not think you understand i co...\n",
       "\n",
       "[159571 rows x 2 columns]"
      ]
     },
     "execution_count": 12,
     "metadata": {},
     "output_type": "execute_result"
    }
   ],
   "source": [
    "lemm_tweets_df"
   ]
  },
  {
   "cell_type": "raw",
   "metadata": {},
   "source": [
    "lemm_tweets_df.to_csv('lemmatized_toxic_tweets.csv', index=False)"
   ]
  },
  {
   "cell_type": "markdown",
   "metadata": {},
   "source": [
    "В результате проделанных манипуляций мы получили наш датасет с очищенными и лемматизироваными текстами. Можно приступать к подготовке признаков и обучению моделей."
   ]
  },
  {
   "cell_type": "markdown",
   "metadata": {},
   "source": [
    "## Обучение"
   ]
  },
  {
   "cell_type": "markdown",
   "metadata": {},
   "source": [
    "### Подготовка признаков методом TF-IDF"
   ]
  },
  {
   "cell_type": "markdown",
   "metadata": {},
   "source": [
    "Разделим наш датасет на обучающую и тестовую выборки. В исходном датасете всего 10,5% токсичных комментариев. В смысле это хорошо, но будет плохо если они все попадут в одну часть нашей выборки. Поэтому разделение будет со стратификацией."
   ]
  },
  {
   "cell_type": "code",
   "execution_count": 13,
   "metadata": {},
   "outputs": [],
   "source": [
    "train, test = train_test_split(lemm_tweets_df,\n",
    "                               test_size=0.25,\n",
    "                               random_state=SEED,\n",
    "                               stratify=lemm_tweets_df['toxic'])"
   ]
  },
  {
   "cell_type": "markdown",
   "metadata": {},
   "source": [
    "Теперь подготовим инструменты, которые очистят наши тексты от ненужных стоп-слов и потом преобразуют их по методу TF-IDF. \n",
    "\n",
    "TF-IDF — статистическая мера, используемая для оценки важности слова в контексте документа, являющегося частью коллекции документов или корпуса. Вес некоторого слова пропорционален частоте употребления этого слова в документе и обратно пропорционален частоте употребления слова во всех документах коллекции"
   ]
  },
  {
   "cell_type": "code",
   "execution_count": 43,
   "metadata": {},
   "outputs": [
    {
     "name": "stderr",
     "output_type": "stream",
     "text": [
      "[nltk_data] Downloading package stopwords to\n",
      "[nltk_data]     C:\\Users\\kvasilkov\\AppData\\Roaming\\nltk_data...\n",
      "[nltk_data]   Package stopwords is already up-to-date!\n"
     ]
    }
   ],
   "source": [
    "nltk.download('stopwords')\n",
    "stopwords = set(nltk_stopwords.words('english'))\n",
    "count_tf_idf = TfidfVectorizer(stop_words=stopwords)"
   ]
  },
  {
   "cell_type": "markdown",
   "metadata": {},
   "source": [
    "Теперь получим матрицы TF-IDF для наших наборов. Для трейна используем метод fit_transform, а вот для теста только transform, чтобы данные не утекли раньше времени."
   ]
  },
  {
   "cell_type": "code",
   "execution_count": 44,
   "metadata": {},
   "outputs": [],
   "source": [
    "tf_idf_train = count_tf_idf.fit_transform(train['lemmas'])\n",
    "tf_idf_test = count_tf_idf.transform(test['lemmas'])"
   ]
  },
  {
   "cell_type": "code",
   "execution_count": 45,
   "metadata": {},
   "outputs": [
    {
     "name": "stdout",
     "output_type": "stream",
     "text": [
      "Размер матрицы признаков обучающей выборки: (119678, 172255)\n",
      "Размер матрицы признаков тестовой выборки: (39893, 172255)\n"
     ]
    }
   ],
   "source": [
    "print(\"Размер матрицы признаков обучающей выборки:\", tf_idf_train.shape)\n",
    "print(\"Размер матрицы признаков тестовой выборки:\", tf_idf_test.shape)"
   ]
  },
  {
   "cell_type": "markdown",
   "metadata": {},
   "source": [
    "### Логистическая регрессия"
   ]
  },
  {
   "cell_type": "markdown",
   "metadata": {},
   "source": [
    "Обучим на этих признаках логистическую регрессию."
   ]
  },
  {
   "cell_type": "code",
   "execution_count": 46,
   "metadata": {
    "scrolled": false
   },
   "outputs": [
    {
     "data": {
      "text/plain": [
       "LogisticRegression(max_iter=110, random_state=42)"
      ]
     },
     "execution_count": 46,
     "metadata": {},
     "output_type": "execute_result"
    }
   ],
   "source": [
    "model_log_reg = LogisticRegression(random_state=SEED, max_iter=110)\n",
    "\n",
    "model_log_reg.fit(tf_idf_train, train.toxic)"
   ]
  },
  {
   "cell_type": "code",
   "execution_count": 47,
   "metadata": {},
   "outputs": [
    {
     "data": {
      "text/plain": [
       "0.7328584149599288"
      ]
     },
     "execution_count": 47,
     "metadata": {},
     "output_type": "execute_result"
    }
   ],
   "source": [
    "f1_score(test['toxic'], model_log_reg.predict(tf_idf_test))"
   ]
  },
  {
   "cell_type": "markdown",
   "metadata": {},
   "source": [
    "В лоб построить модель, которая будет делать предсказания с достаточной точностью не получилось. Попробуем затюнить нашу логистическую регрессию через подбор гиперпарамметров."
   ]
  },
  {
   "cell_type": "markdown",
   "metadata": {},
   "source": [
    "#### Подбор гиперпараметров Логистической Регрессии"
   ]
  },
  {
   "cell_type": "code",
   "execution_count": 48,
   "metadata": {},
   "outputs": [],
   "source": [
    "log_reg_tf_idf = LogisticRegression(random_state=SEED,\n",
    "                                    solver='liblinear',\n",
    "                                    max_iter=500,\n",
    "                                    verbose=True)\n",
    "\n",
    "params = [{\n",
    "    'penalty': ['l1', 'l2', 'elasticnet', 'none'],\n",
    "    'solver': ['lbfgs', 'liblinear'],\n",
    "    'C': [0.001, 0.01, 0.1, 1, 10, 50, 100, 200]\n",
    "}]\n",
    "\n",
    "cv = StratifiedKFold(n_splits=3, shuffle=True, random_state=SEED)\n",
    "\n",
    "grid_log_reg_tf_idf = GridSearchCV(log_reg_tf_idf,\n",
    "                                   param_grid=params,\n",
    "                                   scoring='f1',\n",
    "                                   cv=cv,\n",
    "                                   verbose=True,\n",
    "                                   n_jobs=-1)"
   ]
  },
  {
   "cell_type": "code",
   "execution_count": 49,
   "metadata": {
    "scrolled": true
   },
   "outputs": [
    {
     "name": "stdout",
     "output_type": "stream",
     "text": [
      "Fitting 3 folds for each of 64 candidates, totalling 192 fits\n"
     ]
    },
    {
     "name": "stderr",
     "output_type": "stream",
     "text": [
      "[Parallel(n_jobs=-1)]: Using backend LokyBackend with 8 concurrent workers.\n",
      "[Parallel(n_jobs=-1)]: Done  34 tasks      | elapsed:   15.2s\n",
      "[Parallel(n_jobs=-1)]: Done 192 out of 192 | elapsed:  9.1min finished\n"
     ]
    },
    {
     "name": "stdout",
     "output_type": "stream",
     "text": [
      "[LibLinear]Wall time: 9min 8s\n"
     ]
    },
    {
     "data": {
      "text/plain": [
       "GridSearchCV(cv=StratifiedKFold(n_splits=3, random_state=42, shuffle=True),\n",
       "             estimator=LogisticRegression(max_iter=500, random_state=42,\n",
       "                                          solver='liblinear', verbose=True),\n",
       "             n_jobs=-1,\n",
       "             param_grid=[{'C': [0.001, 0.01, 0.1, 1, 10, 50, 100, 200],\n",
       "                          'penalty': ['l1', 'l2', 'elasticnet', 'none'],\n",
       "                          'solver': ['lbfgs', 'liblinear']}],\n",
       "             scoring='f1', verbose=True)"
      ]
     },
     "execution_count": 49,
     "metadata": {},
     "output_type": "execute_result"
    }
   ],
   "source": [
    "%%time\n",
    "grid_log_reg_tf_idf.fit(tf_idf_train, train.toxic)"
   ]
  },
  {
   "cell_type": "code",
   "execution_count": 50,
   "metadata": {},
   "outputs": [],
   "source": [
    "best_log_reg_tf_idf = grid_log_reg_tf_idf.best_estimator_"
   ]
  },
  {
   "cell_type": "code",
   "execution_count": 51,
   "metadata": {},
   "outputs": [
    {
     "data": {
      "text/plain": [
       "LogisticRegression(C=10, max_iter=500, penalty='l1', random_state=42,\n",
       "                   solver='liblinear', verbose=True)"
      ]
     },
     "execution_count": 51,
     "metadata": {},
     "output_type": "execute_result"
    }
   ],
   "source": [
    "best_log_reg_tf_idf"
   ]
  },
  {
   "cell_type": "code",
   "execution_count": 52,
   "metadata": {},
   "outputs": [
    {
     "data": {
      "text/plain": [
       "0.7731796752226296"
      ]
     },
     "execution_count": 52,
     "metadata": {},
     "output_type": "execute_result"
    }
   ],
   "source": [
    "f1_score(test['toxic'], best_log_reg_tf_idf.predict(tf_idf_test))"
   ]
  },
  {
   "cell_type": "markdown",
   "metadata": {},
   "source": [
    "Как видно из результатов, нам удалось неплохо увеличить метрику F1 на подборе гиперпарамметров нашей логгистической регрессии и признаках, сформированных по методу TF-IDF.\n",
    "\n",
    "Давайте теперь попробуем подобрать порог для нашей модели."
   ]
  },
  {
   "cell_type": "code",
   "execution_count": 53,
   "metadata": {},
   "outputs": [],
   "source": [
    "def best_treshhold_choice(model, features, target, model_name):\n",
    "    probabilities = model.predict_proba(features)\n",
    "    probabilities_one = probabilities[:, 1]\n",
    "\n",
    "    # Stage1 - choising best treshhold in range 0-1 with step 0.1\n",
    "    stage1_best_trhld = 0\n",
    "    stage1_best_f1 = 0\n",
    "    for threshold in np.arange(0, 1, 0.1):\n",
    "        predicted = probabilities_one > threshold\n",
    "        f_score = f1_score(target, predicted)\n",
    "        if f_score > stage1_best_f1:\n",
    "            stage1_best_trhld = threshold\n",
    "            stage1_best_f1 = f_score\n",
    "\n",
    "    # Stage2 - choising best treshhold in range stage1_best_trhld +- 0.1 with step 0.005\n",
    "    best_recall = 0\n",
    "    best_precision = 0\n",
    "    best_threshold = 0\n",
    "    best_f1_score = 0\n",
    "    for threshold in np.arange(stage1_best_trhld - 0.1,\n",
    "                               stage1_best_trhld + 0.1, 0.005):\n",
    "        predicted = probabilities_one > threshold\n",
    "        precision = precision_score(target, predicted)\n",
    "        recall = recall_score(target, predicted)\n",
    "        f_score = f1_score(target, predicted)\n",
    "        if f_score > best_f1_score:\n",
    "            best_recall = recall\n",
    "            best_precision = precision\n",
    "            best_threshold = threshold\n",
    "            best_f1_score = f_score\n",
    "\n",
    "    print(f'Для модели \"{model_name}\"')\n",
    "    print(\n",
    "        \"Лучший порог = {:.4f}  Точность = {:.3f}, Полнота = {:.3f}, F1-мера = {:.3f}\"\n",
    "        .format(best_threshold, best_precision, best_recall, best_f1_score))\n",
    "    return model_name, best_threshold, best_precision, best_recall, best_f1_score"
   ]
  },
  {
   "cell_type": "code",
   "execution_count": 54,
   "metadata": {},
   "outputs": [],
   "source": [
    "result_table = []"
   ]
  },
  {
   "cell_type": "code",
   "execution_count": 55,
   "metadata": {
    "scrolled": true
   },
   "outputs": [
    {
     "name": "stdout",
     "output_type": "stream",
     "text": [
      "Для модели \"Best_LogReg_TF-IDF\"\n",
      "Лучший порог = 0.4150  Точность = 0.805, Полнота = 0.747, F1-мера = 0.775\n"
     ]
    }
   ],
   "source": [
    "result_table.append(\n",
    "    best_treshhold_choice(best_log_reg_tf_idf, tf_idf_test, test['toxic'],\n",
    "                          \"Best_LogReg_TF-IDF\"))"
   ]
  },
  {
   "cell_type": "code",
   "execution_count": 56,
   "metadata": {},
   "outputs": [
    {
     "data": {
      "text/plain": [
       "[('Best_LogReg_TF-IDF',\n",
       "  0.41500000000000015,\n",
       "  0.8054743555673665,\n",
       "  0.7472879684418146,\n",
       "  0.7752909579230081)]"
      ]
     },
     "execution_count": 56,
     "metadata": {},
     "output_type": "execute_result"
    }
   ],
   "source": [
    "result_table"
   ]
  },
  {
   "cell_type": "markdown",
   "metadata": {},
   "source": [
    "#### Логистическая регрессия на признаках через CountVectorizer"
   ]
  },
  {
   "cell_type": "markdown",
   "metadata": {},
   "source": [
    "Следующим шагом проверим не улучшится ли качество модели логистическо регрессии если вместо TF-IDF мы будем использовать встроенную в sklearn.feature_extraction.text CountVectorizer. "
   ]
  },
  {
   "cell_type": "code",
   "execution_count": 57,
   "metadata": {},
   "outputs": [],
   "source": [
    "pipe = Pipeline([('vectorizer', CountVectorizer(ngram_range=(1, 1))),\n",
    "                 ('model',\n",
    "                  LogisticRegression(random_state=SEED,\n",
    "                                     solver='liblinear',\n",
    "                                     max_iter=500))])\n",
    "\n",
    "params = [{\n",
    "    'vectorizer__ngram_range': [(1, 1), (1, 2), (2, 2)],\n",
    "    'model': [LogisticRegression(random_state=SEED, solver='liblinear')],\n",
    "    'model__C': [1, 10, 50, 100, 200]\n",
    "}]\n",
    "\n",
    "cv = StratifiedKFold(n_splits=3, shuffle=True, random_state=SEED)\n",
    "\n",
    "grid_log_reg_cntvec = GridSearchCV(pipe,\n",
    "                                   param_grid=params,\n",
    "                                   scoring='f1',\n",
    "                                   cv=cv,\n",
    "                                   verbose=True,\n",
    "                                   n_jobs=-1)"
   ]
  },
  {
   "cell_type": "code",
   "execution_count": 58,
   "metadata": {},
   "outputs": [
    {
     "name": "stdout",
     "output_type": "stream",
     "text": [
      "Fitting 3 folds for each of 15 candidates, totalling 45 fits\n"
     ]
    },
    {
     "name": "stderr",
     "output_type": "stream",
     "text": [
      "[Parallel(n_jobs=-1)]: Using backend LokyBackend with 8 concurrent workers.\n",
      "[Parallel(n_jobs=-1)]: Done  45 out of  45 | elapsed: 20.8min finished\n"
     ]
    },
    {
     "name": "stdout",
     "output_type": "stream",
     "text": [
      "Wall time: 22min 34s\n"
     ]
    },
    {
     "name": "stderr",
     "output_type": "stream",
     "text": [
      "C:\\Users\\kvasilkov\\Anaconda3\\lib\\site-packages\\sklearn\\svm\\_base.py:976: ConvergenceWarning: Liblinear failed to converge, increase the number of iterations.\n",
      "  warnings.warn(\"Liblinear failed to converge, increase \"\n"
     ]
    },
    {
     "data": {
      "text/plain": [
       "GridSearchCV(cv=StratifiedKFold(n_splits=3, random_state=42, shuffle=True),\n",
       "             estimator=Pipeline(steps=[('vectorizer', CountVectorizer()),\n",
       "                                       ('model',\n",
       "                                        LogisticRegression(max_iter=500,\n",
       "                                                           random_state=42,\n",
       "                                                           solver='liblinear'))]),\n",
       "             n_jobs=-1,\n",
       "             param_grid=[{'model': [LogisticRegression(C=10, random_state=42,\n",
       "                                                       solver='liblinear')],\n",
       "                          'model__C': [1, 10, 50, 100, 200],\n",
       "                          'vectorizer__ngram_range': [(1, 1), (1, 2), (2, 2)]}],\n",
       "             scoring='f1', verbose=True)"
      ]
     },
     "execution_count": 58,
     "metadata": {},
     "output_type": "execute_result"
    }
   ],
   "source": [
    "%%time\n",
    "grid_log_reg_cntvec.fit(train.lemmas, train.toxic)"
   ]
  },
  {
   "cell_type": "code",
   "execution_count": 59,
   "metadata": {},
   "outputs": [
    {
     "data": {
      "text/plain": [
       "({'model': LogisticRegression(C=10, random_state=42, solver='liblinear'),\n",
       "  'model__C': 10,\n",
       "  'vectorizer__ngram_range': (1, 2)},\n",
       " 0.7401999311500435)"
      ]
     },
     "execution_count": 59,
     "metadata": {},
     "output_type": "execute_result"
    }
   ],
   "source": [
    "grid_log_reg_cntvec.best_params_, grid_log_reg_cntvec.best_score_"
   ]
  },
  {
   "cell_type": "code",
   "execution_count": 60,
   "metadata": {
    "scrolled": true
   },
   "outputs": [
    {
     "name": "stdout",
     "output_type": "stream",
     "text": [
      "Wall time: 1min 35s\n"
     ]
    },
    {
     "name": "stderr",
     "output_type": "stream",
     "text": [
      "C:\\Users\\kvasilkov\\Anaconda3\\lib\\site-packages\\sklearn\\svm\\_base.py:976: ConvergenceWarning: Liblinear failed to converge, increase the number of iterations.\n",
      "  warnings.warn(\"Liblinear failed to converge, increase \"\n"
     ]
    },
    {
     "data": {
      "text/plain": [
       "Pipeline(steps=[('vectorizer', CountVectorizer(ngram_range=(1, 2))),\n",
       "                ('model',\n",
       "                 LogisticRegression(C=10, random_state=42,\n",
       "                                    solver='liblinear'))])"
      ]
     },
     "execution_count": 60,
     "metadata": {},
     "output_type": "execute_result"
    }
   ],
   "source": [
    "%%time\n",
    "best_grid_log_reg_cntvec = grid_log_reg_cntvec.best_estimator_\n",
    "\n",
    "best_grid_log_reg_cntvec.fit(train.lemmas, train.toxic)"
   ]
  },
  {
   "cell_type": "code",
   "execution_count": 61,
   "metadata": {
    "scrolled": true
   },
   "outputs": [
    {
     "name": "stdout",
     "output_type": "stream",
     "text": [
      "Для модели \"Best_LogReg_CntVec\"\n",
      "Лучший порог = 0.2200  Точность = 0.752, Полнота = 0.789, F1-мера = 0.770\n"
     ]
    }
   ],
   "source": [
    "result_table.append(\n",
    "    best_treshhold_choice(best_grid_log_reg_cntvec, test.lemmas, test.toxic,\n",
    "                          \"Best_LogReg_CntVec\"))"
   ]
  },
  {
   "cell_type": "markdown",
   "metadata": {},
   "source": [
    "Только после сильного снижения порога, эта модель показывает результат примерно на уровне предыдущей. Запишем ее результаты и пойдем дальше."
   ]
  },
  {
   "cell_type": "markdown",
   "metadata": {},
   "source": [
    "### LinearSVC"
   ]
  },
  {
   "cell_type": "markdown",
   "metadata": {},
   "source": [
    "Следующей попробуем обучить модель LinearSVC. Ее будем обучать на признаках полученных методом TF-IDF."
   ]
  },
  {
   "cell_type": "code",
   "execution_count": 62,
   "metadata": {
    "scrolled": true
   },
   "outputs": [
    {
     "name": "stdout",
     "output_type": "stream",
     "text": [
      "[Pipeline] ......... (step 1 of 1) Processing linearsvc, total=   1.0s\n",
      "Wall time: 1.04 s\n"
     ]
    },
    {
     "data": {
      "text/plain": [
       "Pipeline(steps=[('linearsvc', LinearSVC(max_iter=20000, random_state=42))],\n",
       "         verbose=True)"
      ]
     },
     "execution_count": 62,
     "metadata": {},
     "output_type": "execute_result"
    }
   ],
   "source": [
    "%%time\n",
    "\n",
    "svc_pipe = make_pipeline(LinearSVC(\n",
    "    random_state=SEED,\n",
    "    max_iter=20000,\n",
    "),\n",
    "                         verbose=True)\n",
    "svc_pipe.fit(tf_idf_train, train.toxic)"
   ]
  },
  {
   "cell_type": "code",
   "execution_count": 63,
   "metadata": {},
   "outputs": [],
   "source": [
    "svc = LinearSVC(random_state=SEED, max_iter=20000, verbose=True)\n",
    "\n",
    "params = [{\n",
    "    'penalty': ['l1', 'l2'],\n",
    "    'C': [0.001, 0.01, 0.1, 1, 10, 50, 100, 200]\n",
    "}]\n",
    "\n",
    "cv = StratifiedKFold(n_splits=3, shuffle=True, random_state=SEED)\n",
    "\n",
    "grid_svc_tf_idf = GridSearchCV(svc,\n",
    "                               param_grid=params,\n",
    "                               scoring='f1',\n",
    "                               cv=cv,\n",
    "                               verbose=True,\n",
    "                               n_jobs=-1)"
   ]
  },
  {
   "cell_type": "code",
   "execution_count": 64,
   "metadata": {},
   "outputs": [
    {
     "name": "stdout",
     "output_type": "stream",
     "text": [
      "Fitting 3 folds for each of 16 candidates, totalling 48 fits\n"
     ]
    },
    {
     "name": "stderr",
     "output_type": "stream",
     "text": [
      "[Parallel(n_jobs=-1)]: Using backend LokyBackend with 8 concurrent workers.\n",
      "[Parallel(n_jobs=-1)]: Done  48 out of  48 | elapsed:  1.8min finished\n"
     ]
    },
    {
     "name": "stdout",
     "output_type": "stream",
     "text": [
      "[LibLinear]Wall time: 1min 52s\n"
     ]
    },
    {
     "data": {
      "text/plain": [
       "GridSearchCV(cv=StratifiedKFold(n_splits=3, random_state=42, shuffle=True),\n",
       "             estimator=LinearSVC(max_iter=20000, random_state=42, verbose=True),\n",
       "             n_jobs=-1,\n",
       "             param_grid=[{'C': [0.001, 0.01, 0.1, 1, 10, 50, 100, 200],\n",
       "                          'penalty': ['l1', 'l2']}],\n",
       "             scoring='f1', verbose=True)"
      ]
     },
     "execution_count": 64,
     "metadata": {},
     "output_type": "execute_result"
    }
   ],
   "source": [
    "%%time\n",
    "grid_svc_tf_idf.fit(tf_idf_train, train.toxic)"
   ]
  },
  {
   "cell_type": "code",
   "execution_count": 65,
   "metadata": {},
   "outputs": [],
   "source": [
    "best_grid_svc_tf_idf = grid_svc_tf_idf.best_estimator_"
   ]
  },
  {
   "cell_type": "code",
   "execution_count": 66,
   "metadata": {},
   "outputs": [],
   "source": [
    "result_table.append((\"Best_SVC_TF-IDF\", 'N/A',\n",
    "                     precision_score(test['toxic'],\n",
    "                                     best_log_reg_tf_idf.predict(tf_idf_test)),\n",
    "                     recall_score(test['toxic'],\n",
    "                                  best_log_reg_tf_idf.predict(tf_idf_test)),\n",
    "                     f1_score(test['toxic'],\n",
    "                              best_log_reg_tf_idf.predict(tf_idf_test))))"
   ]
  },
  {
   "cell_type": "code",
   "execution_count": 67,
   "metadata": {},
   "outputs": [],
   "source": [
    "final_table = pd.DataFrame(\n",
    "    data=result_table,\n",
    "    columns=['Model', 'threshold', 'Precision', 'Recall', 'F1'],\n",
    ")\n",
    "final_table.set_index('Model', drop=True, inplace=True)"
   ]
  },
  {
   "cell_type": "code",
   "execution_count": 68,
   "metadata": {},
   "outputs": [
    {
     "data": {
      "text/html": [
       "<div>\n",
       "<style scoped>\n",
       "    .dataframe tbody tr th:only-of-type {\n",
       "        vertical-align: middle;\n",
       "    }\n",
       "\n",
       "    .dataframe tbody tr th {\n",
       "        vertical-align: top;\n",
       "    }\n",
       "\n",
       "    .dataframe thead th {\n",
       "        text-align: right;\n",
       "    }\n",
       "</style>\n",
       "<table border=\"1\" class=\"dataframe\">\n",
       "  <thead>\n",
       "    <tr style=\"text-align: right;\">\n",
       "      <th></th>\n",
       "      <th>threshold</th>\n",
       "      <th>Precision</th>\n",
       "      <th>Recall</th>\n",
       "      <th>F1</th>\n",
       "    </tr>\n",
       "    <tr>\n",
       "      <th>Model</th>\n",
       "      <th></th>\n",
       "      <th></th>\n",
       "      <th></th>\n",
       "      <th></th>\n",
       "    </tr>\n",
       "  </thead>\n",
       "  <tbody>\n",
       "    <tr>\n",
       "      <th>Best_LogReg_TF-IDF</th>\n",
       "      <td>0.415</td>\n",
       "      <td>0.805474</td>\n",
       "      <td>0.747288</td>\n",
       "      <td>0.775291</td>\n",
       "    </tr>\n",
       "    <tr>\n",
       "      <th>Best_LogReg_CntVec</th>\n",
       "      <td>0.22</td>\n",
       "      <td>0.751820</td>\n",
       "      <td>0.789448</td>\n",
       "      <td>0.770174</td>\n",
       "    </tr>\n",
       "    <tr>\n",
       "      <th>Best_SVC_TF-IDF</th>\n",
       "      <td>N/A</td>\n",
       "      <td>0.824581</td>\n",
       "      <td>0.727811</td>\n",
       "      <td>0.773180</td>\n",
       "    </tr>\n",
       "  </tbody>\n",
       "</table>\n",
       "</div>"
      ],
      "text/plain": [
       "                   threshold  Precision    Recall        F1\n",
       "Model                                                      \n",
       "Best_LogReg_TF-IDF     0.415   0.805474  0.747288  0.775291\n",
       "Best_LogReg_CntVec      0.22   0.751820  0.789448  0.770174\n",
       "Best_SVC_TF-IDF          N/A   0.824581  0.727811  0.773180"
      ]
     },
     "execution_count": 68,
     "metadata": {},
     "output_type": "execute_result"
    }
   ],
   "source": [
    "final_table"
   ]
  },
  {
   "cell_type": "code",
   "execution_count": 69,
   "metadata": {},
   "outputs": [],
   "source": [
    "def show_roc_curve(clsfr, features, target):\n",
    "    probabilities_valid = clsfr.predict_proba(features)\n",
    "    probabilities_one_valid = probabilities_valid[:, 1]\n",
    "\n",
    "    fpr, tpr, thresholds = roc_curve(target, probabilities_one_valid)\n",
    "\n",
    "    auc_roc = roc_auc_score(target, probabilities_one_valid)\n",
    "\n",
    "    plt.figure(figsize=(10, 10))\n",
    "    lw = 2\n",
    "    plt.plot(fpr,\n",
    "             tpr,\n",
    "             color='darkorange',\n",
    "             lw=lw,\n",
    "             label='ROC curve (area = %0.2f)' % auc_roc)\n",
    "    plt.plot([0, 1], [0, 1], color='navy', lw=lw, linestyle='--')\n",
    "    plt.xlim([-0.01, 1.0])\n",
    "    plt.ylim([0.0, 1.01])\n",
    "    plt.xlabel('False Positive Rate')\n",
    "    plt.ylabel('True Positive Rate')\n",
    "    plt.title('Receiver operating characteristic')\n",
    "    plt.legend(loc=\"lower right\")\n",
    "    plt.show()"
   ]
  },
  {
   "cell_type": "code",
   "execution_count": 70,
   "metadata": {},
   "outputs": [
    {
     "data": {
      "image/png": "[encoded data removed]",
      "text/plain": [
       "<Figure size 720x720 with 1 Axes>"
      ]
     },
     "metadata": {
      "needs_background": "light"
     },
     "output_type": "display_data"
    }
   ],
   "source": [
    "show_roc_curve(best_log_reg_tf_idf, tf_idf_test, test['toxic'])"
   ]
  },
  {
   "cell_type": "markdown",
   "metadata": {},
   "source": [
    "## BERT"
   ]
  },
  {
   "cell_type": "markdown",
   "metadata": {},
   "source": [
    "[Вот тут лежит моя тетрадка с BERT](https://colab.research.google.com/drive/18eQ1ELXt8sLB2CWvtz494gjQzkvMQOjt?usp=sharing)\n",
    "\n",
    "Внутри есть дополнительный дисклеймер, но в общих чертах BERT показал себя лучше чем простые модели и с ним получилось улучшить метрику до ~0.83."
   ]
  },
  {
   "cell_type": "markdown",
   "metadata": {},
   "source": [
    "## Выводы"
   ]
  },
  {
   "cell_type": "markdown",
   "metadata": {},
   "source": [
    "По результатам работы можно сказать, что даже с использованием простых, но подогнанных под задачу моделей, вполне можно достичь приличного результата. Нейронная сеть показывает результаты лучше, но даже просто, чтобы донастроить ее, требуются значительне ресурсы как со стороны железа, так и время."
   ]
  }
 ],
 "metadata": {
  "kernelspec": {
   "display_name": "Python 3",
   "language": "python",
   "name": "python3"
  },
  "language_info": {
   "codemirror_mode": {
    "name": "ipython",
    "version": 3
   },
   "file_extension": ".py",
   "mimetype": "text/x-python",
   "name": "python",
   "nbconvert_exporter": "python",
   "pygments_lexer": "ipython3",
   "version": "3.8.3"
  },
  "toc": {
   "base_numbering": 1,
   "nav_menu": {},
   "number_sections": true,
   "sideBar": true,
   "skip_h1_title": true,
   "title_cell": "Содержание",
   "title_sidebar": "Contents",
   "toc_cell": true,
   "toc_position": {
    "height": "calc(100% - 180px)",
    "left": "10px",
    "top": "150px",
    "width": "302.391px"
   },
   "toc_section_display": true,
   "toc_window_display": false
  }
 },
 "nbformat": 4,
 "nbformat_minor": 2
}
